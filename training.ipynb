{
 "cells": [
  {
   "cell_type": "markdown",
   "metadata": {},
   "source": [
    "### IMPORTS"
   ]
  },
  {
   "cell_type": "code",
   "execution_count": 1,
   "metadata": {},
   "outputs": [],
   "source": [
    "import numpy as np"
   ]
  },
  {
   "cell_type": "code",
   "execution_count": 2,
   "metadata": {},
   "outputs": [],
   "source": [
    "from sklearn.linear_model import LinearRegression"
   ]
  },
  {
   "cell_type": "code",
   "execution_count": 3,
   "metadata": {},
   "outputs": [],
   "source": [
    "import tensorflow as tf\n",
    "from tensorflow.python.keras import Sequential, Input, Model\n",
    "from tensorflow.python.keras.layers import Dense, LSTM, Dropout"
   ]
  },
  {
   "cell_type": "code",
   "execution_count": 4,
   "metadata": {},
   "outputs": [],
   "source": [
    "import ipynb.fs.full.splitting as splitting"
   ]
  },
  {
   "cell_type": "code",
   "execution_count": 5,
   "metadata": {},
   "outputs": [],
   "source": [
    "from tcn import TCN, tcn_full_summary"
   ]
  },
  {
   "cell_type": "markdown",
   "metadata": {},
   "source": [
    "### LINEAR REGRESSION"
   ]
  },
  {
   "cell_type": "code",
   "execution_count": 6,
   "metadata": {},
   "outputs": [],
   "source": [
    "def linear_regression(data, settings):\n",
    "    \n",
    "    # INSTANTIATE MODEL\n",
    "    linear = LinearRegression()\n",
    "    \n",
    "    # TRAIN WITH TRAIN DATA\n",
    "    model = linear.fit(data['train']['features'], data['train']['labels'])\n",
    "    \n",
    "    # PREDICT USING TEST DATA\n",
    "    predictions = model.predict(data['test']['features'])\n",
    "    \n",
    "    return np.ndarray.flatten(predictions)"
   ]
  },
  {
   "cell_type": "markdown",
   "metadata": {},
   "source": [
    "### LONG-SHORT TERM MEMORY"
   ]
  },
  {
   "cell_type": "code",
   "execution_count": 7,
   "metadata": {},
   "outputs": [],
   "source": [
    "def add_lstm_layer(name, settings, model, index, shape):\n",
    "    \n",
    "    # AVAILABLE LSTM LAYERS\n",
    "    available = {\n",
    "        'lstm': LSTM,\n",
    "        'dropout': Dropout,\n",
    "        'dense': Dense\n",
    "    }\n",
    "\n",
    "    # SELECT THE CORRECT FUNCTION\n",
    "    func = available[name]\n",
    "\n",
    "    # INJECT INPUT LAYER DIMENSIONS TO SETTINGS\n",
    "    if index == 0:\n",
    "        settings['input_shape'] = (shape[1], shape[2])\n",
    "        model.add(func(**settings))\n",
    "\n",
    "    # OTHERWISE, DEFAULT TO BASE SETTINGS\n",
    "    else:\n",
    "        model.add(func(**settings))"
   ]
  },
  {
   "cell_type": "code",
   "execution_count": 31,
   "metadata": {},
   "outputs": [],
   "source": [
    "def long_short_term(data, settings):\n",
    "    \n",
    "    # INSTANTIATE MODEL\n",
    "    model = Sequential()\n",
    "    \n",
    "    # TRAIN DATA GENERATOR\n",
    "    train_generator = splitting.generator(\n",
    "        data['train'],\n",
    "        settings['morph'],\n",
    "        shuffle=True\n",
    "    )\n",
    "    \n",
    "    # LOOP THROUGH LAYERS\n",
    "    for index, layer in enumerate(settings['layers']):\n",
    "        \n",
    "        # LAYER PROPS\n",
    "        name = list(layer)[0]\n",
    "        params = layer[name]\n",
    "        \n",
    "        # ADD LAYER\n",
    "        add_lstm_layer(\n",
    "            name,\n",
    "            params,\n",
    "            model,\n",
    "            index,\n",
    "            train_generator[0][0].shape\n",
    "        )\n",
    "    \n",
    "    # COMPILE THE MODEL\n",
    "    model.compile(\n",
    "        loss=settings['loss'],\n",
    "        optimizer=settings['optimizer']\n",
    "    )\n",
    "    \n",
    "    # FIT USING THE TRAIN GENERATOR\n",
    "    model.fit_generator(\n",
    "        train_generator,\n",
    "        steps_per_epoch=len(train_generator),\n",
    "        epochs=settings['epochs'],\n",
    "        verbose=0\n",
    "    )\n",
    "    \n",
    "    # TEST DATA GENERATOR\n",
    "    test_generator = splitting.generator(\n",
    "        data['test'],\n",
    "        settings['morph'],\n",
    "        shuffle=False\n",
    "    )\n",
    "    \n",
    "    # PREDICT USING TEST DATA\n",
    "    predictions = model.predict(test_generator)\n",
    "    \n",
    "    return np.ndarray.flatten(predictions)"
   ]
  },
  {
   "cell_type": "markdown",
   "metadata": {},
   "source": [
    "### TEMPORAL CONVOLUTIONAL NETWORK"
   ]
  },
  {
   "cell_type": "code",
   "execution_count": 53,
   "metadata": {},
   "outputs": [],
   "source": [
    "def add_tcn_layers(name, settings, index, model_input, old_output):\n",
    "    \n",
    "    # NEW OUTPUT PLACEHOLDER\n",
    "    new_output = []\n",
    "    \n",
    "    # AVAILABLE TNC LAYERS\n",
    "    available = {\n",
    "        'tcn': TCN,\n",
    "        'dense': Dense,\n",
    "        'dropout': Dropout\n",
    "    }\n",
    "\n",
    "    # SELECT THE CORRECT FUNCTION\n",
    "    func = available[name]\n",
    "\n",
    "    # INJECT WITH INPUT LAYER\n",
    "    if index == 0:\n",
    "        new_output = func(**settings)(model_input)\n",
    "\n",
    "    # OTHERWISE, INJECT WITH OUTPUT LAYER\n",
    "    else:\n",
    "        new_output = func(**settings)(old_output)\n",
    "        \n",
    "    return new_output"
   ]
  },
  {
   "cell_type": "code",
   "execution_count": 54,
   "metadata": {},
   "outputs": [],
   "source": [
    "def temporal_convolutional_network(data, settings):\n",
    "\n",
    "    # TRAIN DATA GENERATOR\n",
    "    train_generator = splitting.generator(\n",
    "        data['train'],\n",
    "        settings['morph'],\n",
    "        shuffle=True\n",
    "    )\n",
    "\n",
    "    # INPUT & OUTPUT LAYER\n",
    "    model_input = Input(batch_shape=train_generator[0][0].shape)\n",
    "    model_output = []\n",
    "    \n",
    "    # LOOP THROUGH REQUESTED MODEL LAYERS\n",
    "    for index, layer in enumerate(settings['layers']):\n",
    "\n",
    "        # LAYER PROPS\n",
    "        name = list(layer)[0]\n",
    "        params = layer[name]\n",
    "        \n",
    "        # CHURN MODEL LAYERS\n",
    "        model_output = add_tcn_layers(\n",
    "            name,\n",
    "            params,\n",
    "            index,\n",
    "            model_input,\n",
    "            model_output\n",
    "        )\n",
    "\n",
    "    #  INSTANTIATE MODEL AND ASSIGN INPUT AND OUTPUT\n",
    "    model = Model(inputs=[model_input], outputs=[model_output])\n",
    "\n",
    "    # COMPILE THE MODEL\n",
    "    model.compile(\n",
    "        optimizer=settings['optimizer'],\n",
    "        loss=settings['loss']\n",
    "    )\n",
    "\n",
    "    #  PRINT MODEL STATS\n",
    "    tcn_full_summary(model, expand_residual_blocks=False)\n",
    "\n",
    "    # FIT THE MODEL WITH THE TRAIN GENERATOR\n",
    "    model.fit_generator(\n",
    "        train_generator,\n",
    "        steps_per_epoch=len(train_generator),\n",
    "        epochs=settings['epochs'],\n",
    "        verbose=0\n",
    "    )\n",
    "    \n",
    "    # TEST DATA GENERATOR\n",
    "    test_generator = splitting.generator(\n",
    "        data['test'],\n",
    "        settings['morph'],\n",
    "        shuffle=False\n",
    "    )\n",
    "\n",
    "    #  PREDICT USING TEST GENERATOR\n",
    "    predictions = model.predict(test_generator)\n",
    "\n",
    "    return np.ndarray.flatten(predictions)"
   ]
  },
  {
   "cell_type": "markdown",
   "metadata": {},
   "source": [
    "### START TRAINING A MODEL"
   ]
  },
  {
   "cell_type": "code",
   "execution_count": 12,
   "metadata": {},
   "outputs": [],
   "source": [
    "def start(dataset, name, settings):\n",
    "    \n",
    "    # AVAILABLE MODELS\n",
    "    available = {\n",
    "        'linreg': linear_regression,\n",
    "        'lstm': long_short_term,\n",
    "        'tcn': temporal_convolutional_network\n",
    "    }\n",
    "    \n",
    "    # SELECT THE CORRECT FUNCTION & START\n",
    "    return available[name](dataset, settings)"
   ]
  },
  {
   "cell_type": "code",
   "execution_count": null,
   "metadata": {},
   "outputs": [],
   "source": []
  }
 ],
 "metadata": {
  "kernelspec": {
   "display_name": "Python 3",
   "language": "python",
   "name": "python3"
  },
  "language_info": {
   "codemirror_mode": {
    "name": "ipython",
    "version": 3
   },
   "file_extension": ".py",
   "mimetype": "text/x-python",
   "name": "python",
   "nbconvert_exporter": "python",
   "pygments_lexer": "ipython3",
   "version": "3.7.9"
  }
 },
 "nbformat": 4,
 "nbformat_minor": 4
}
