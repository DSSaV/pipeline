{
 "cells": [
  {
   "cell_type": "markdown",
   "metadata": {},
   "source": [
    "### IMPORTS"
   ]
  },
  {
   "cell_type": "code",
   "execution_count": 1,
   "metadata": {},
   "outputs": [],
   "source": [
    "import numpy as np"
   ]
  },
  {
   "cell_type": "code",
   "execution_count": 2,
   "metadata": {},
   "outputs": [],
   "source": [
    "from sklearn.linear_model import LinearRegression"
   ]
  },
  {
   "cell_type": "code",
   "execution_count": 15,
   "metadata": {},
   "outputs": [],
   "source": [
    "import tensorflow as tf\n",
    "from tensorflow.python.keras import Sequential, Input, Model\n",
    "from tensorflow.python.keras.layers import Dense, LSTM, Dropout"
   ]
  },
  {
   "cell_type": "code",
   "execution_count": 16,
   "metadata": {},
   "outputs": [],
   "source": [
    "import ipynb.fs.full.splitting as splitting"
   ]
  },
  {
   "cell_type": "code",
   "execution_count": 17,
   "metadata": {},
   "outputs": [],
   "source": [
    "# from tcn import TCN, tcn_full_summary"
   ]
  },
  {
   "cell_type": "markdown",
   "metadata": {},
   "source": [
    "### LINEAR REGRESSION"
   ]
  },
  {
   "cell_type": "code",
   "execution_count": 6,
   "metadata": {},
   "outputs": [],
   "source": [
    "def linear_regression(data, settings):\n",
    "    \n",
    "    # INSTANTIATE MODEL\n",
    "    linear = LinearRegression()\n",
    "    \n",
    "    # TRAIN WITH TRAIN DATA\n",
    "    model = linear.fit(data['train']['features'], data['train']['labels'])\n",
    "    \n",
    "    # PREDICT USING TEST DATA\n",
    "    predictions = model.predict(data['test']['features'])\n",
    "    \n",
    "    return np.ndarray.flatten(predictions)"
   ]
  },
  {
   "cell_type": "markdown",
   "metadata": {},
   "source": [
    "### LONG-SHORT TERM MEMORY"
   ]
  },
  {
   "cell_type": "code",
   "execution_count": 7,
   "metadata": {},
   "outputs": [],
   "source": [
    "def add_lstm_layer(model, data, index, name, settings, shape):\n",
    "    \n",
    "    # AVAILABLE LSTM LAYERS\n",
    "    available = {\n",
    "        'lstm': LSTM,\n",
    "        'dropout': Dropout,\n",
    "        'dense': Dense\n",
    "    }\n",
    "    \n",
    "    # SELECT THE CORRECT FUNCTION\n",
    "    func = available[name]\n",
    "    \n",
    "    # IF AN ACTIVATION IS FOUND & THIS IS THE FIRST LAYER\n",
    "    if 'activation' in settings and index == 0:\n",
    "        model.add(func(\n",
    "            settings['value'],\n",
    "            input_shape=(shape[1], shape[2])\n",
    "        ))\n",
    "    \n",
    "    # JUST AN ACTIVATION FUNCTION\n",
    "    elif 'activation' in settings:\n",
    "        model.add(func(\n",
    "            settings['value'],\n",
    "            activation=settings['activation']\n",
    "        ))\n",
    "        \n",
    "    # OTHERWISE, DEFAULT TO JUST USING THE VALUE\n",
    "    else:\n",
    "        model.add(func(\n",
    "            settings['value']\n",
    "        ))"
   ]
  },
  {
   "cell_type": "code",
   "execution_count": 8,
   "metadata": {},
   "outputs": [],
   "source": [
    "def long_short_term(data, settings):\n",
    "    \n",
    "    # INSTANTIATE MODEL\n",
    "    model = Sequential()\n",
    "    \n",
    "    # TRAIN DATA GENERATOR\n",
    "    train_generator = splitting.generator(\n",
    "        data['train'],\n",
    "        settings['morph'],\n",
    "        shuffle=True\n",
    "    )\n",
    "    \n",
    "    # LOOP THROUGH REQUESTED MODEL LAYERS\n",
    "    for index, layer in enumerate(settings['layers']):\n",
    "        \n",
    "        # LAYER PROPS\n",
    "        name = list(layer)[0]\n",
    "        params = layer[name]\n",
    "        \n",
    "        # GENERATE & ADD THE LAYER\n",
    "        add_lstm_layer(model, data, index, name, params, train_generator[0][0].shape)\n",
    "    \n",
    "    # COMPILE THE MODEL\n",
    "    model.compile(\n",
    "        loss=settings['loss'],\n",
    "        optimizer=settings['optimizer']\n",
    "    )\n",
    "    \n",
    "    # FIT USING THE TRAIN GENERATOR\n",
    "    model.fit_generator(\n",
    "        train_generator,\n",
    "        steps_per_epoch=len(train_generator),\n",
    "        epochs=settings['epochs'],\n",
    "        verbose=0\n",
    "    )\n",
    "    \n",
    "    # TEST DATA GENERATOR\n",
    "    test_generator = splitting.generator(\n",
    "        data['test'],\n",
    "        settings['morph'],\n",
    "        shuffle=False\n",
    "    )\n",
    "    \n",
    "    # PREDICT USING TEST DATA\n",
    "    predictions = model.predict(test_generator)\n",
    "    \n",
    "    return np.ndarray.flatten(predictions)"
   ]
  },
  {
   "cell_type": "markdown",
   "metadata": {},
   "source": [
    "### TEMPORAL CONVOLUTIONAL NETWORK"
   ]
  },
  {
   "cell_type": "code",
   "execution_count": 9,
   "metadata": {},
   "outputs": [],
   "source": [
    "def add_base_layer_to_tcn(name, model_output, settings, index):\n",
    "    \"\"\"Support function that adds Keras Layers to TCN model.\"\"\"\n",
    "    # AVAILABLE LAYERS\n",
    "    available = {\n",
    "        'dropout': Dropout,\n",
    "        'dense': Dense\n",
    "    }\n",
    "\n",
    "    # SELECT THE CORRECT FUNCTION\n",
    "    func = available[name]\n",
    "\n",
    "    if name == 'dropout':\n",
    "        return func(settings['value'])(model_output)\n",
    "\n",
    "    else:\n",
    "        return func(settings['value'])(model_output)"
   ]
  },
  {
   "cell_type": "code",
   "execution_count": 10,
   "metadata": {},
   "outputs": [],
   "source": [
    "def add_tcn_layer(model_input, settings):\n",
    "    \"\"\"Support function that adds TCN Layer and requested Keras Layers to the TCN model\"\"\"\n",
    "\n",
    "    # STARTING LAYER (TCN)\n",
    "    tcn_string = ''\n",
    "    try:\n",
    "        for index, stats in enumerate(settings['layers'][0]['tcn']):\n",
    "            # LAYER PROPS\n",
    "            value = settings['layers'][0]['tcn'][stats]\n",
    "            if list(settings['layers'][0]['tcn'])[-1]:\n",
    "                tcn_string += str(stats) + '=' + str(value)\n",
    "            else:\n",
    "                tcn_string += str(stats) + '=' + str(value) + ','\n",
    "        model_output = TCN(tcn_string)(model_input)\n",
    "\n",
    "    except ValueError:\n",
    "        model_output = TCN(return_sequences=False)(model_input)\n",
    "\n",
    "    for index, layer in enumerate(settings['layers']):\n",
    "\n",
    "        # LAYER PROPS\n",
    "        name = list(layer)[0]\n",
    "        params = layer[name]\n",
    "\n",
    "        if index == 0:\n",
    "            continue\n",
    "        else:\n",
    "            model_output = add_base_layer_to_tcn(name, model_output, params, index)\n",
    "\n",
    "    return model_output"
   ]
  },
  {
   "cell_type": "code",
   "execution_count": 11,
   "metadata": {},
   "outputs": [],
   "source": [
    "def temporal_convolutional_network(data, settings):\n",
    "\n",
    "    # DECONSTRUCT VARS\n",
    "    x_train = data['train']['features']\n",
    "    y_train = data['train']['labels']\n",
    "    x_validation = data['validation']['features']\n",
    "    y_validation = data['validation']['labels']\n",
    "    x_test = data['test']['features']\n",
    "    scaler = data['scaler']\n",
    "    timesteps = x_train.shape[0]\n",
    "    input_dim_x = x_train.shape[1]\n",
    "    input_dim_y = x_train.shape[2]\n",
    "    batch_size = settings['batch']\n",
    "\n",
    "    # INSTANTIATE KERAS TENSOR WITH Input()\n",
    "    model_input = Input(shape=(input_dim_x, input_dim_y))\n",
    "\n",
    "    #  INSTANTIATE MODEL LAYERS\n",
    "    model_output = add_tcn_layer(model_input, settings)\n",
    "\n",
    "    #  INSTANTIATE MODEL AND ASSIGN INPUT AND OUTPUT\n",
    "    model = Model(inputs=[model_input], outputs=[model_output])\n",
    "\n",
    "    # COMPILE THE MODEL\n",
    "    model.compile(\n",
    "        optimizer=settings['optimizer'],\n",
    "        loss=settings['loss']\n",
    "    )\n",
    "\n",
    "    #  PRINT MODEL STATS\n",
    "    tcn_full_summary(model, expand_residual_blocks=False)\n",
    "\n",
    "    #  TRAIN THE MODEL WITH VALIDATION\n",
    "    model.fit(x_train, y_train, epochs=settings['epochs'], validation_data=(x_validation, y_validation))\n",
    "\n",
    "    # PREDICT USING TEST DATA\n",
    "    predictions = model.predict(x_test)\n",
    "\n",
    "    return {\n",
    "        'model': model,\n",
    "        'predictions': predictions\n",
    "    }"
   ]
  },
  {
   "cell_type": "markdown",
   "metadata": {},
   "source": [
    "### START TRAINING A MODEL"
   ]
  },
  {
   "cell_type": "code",
   "execution_count": 12,
   "metadata": {},
   "outputs": [],
   "source": [
    "def start(dataset, name, settings):\n",
    "    \n",
    "    # AVAILABLE MODELS\n",
    "    available = {\n",
    "        'linreg': linear_regression,\n",
    "        'lstm': long_short_term\n",
    "    }\n",
    "    \n",
    "    # SELECT THE CORRECT FUNCTION & START\n",
    "    return available[name](dataset, settings)"
   ]
  },
  {
   "cell_type": "code",
   "execution_count": null,
   "metadata": {},
   "outputs": [],
   "source": []
  }
 ],
 "metadata": {
  "kernelspec": {
   "display_name": "Python 3",
   "language": "python",
   "name": "python3"
  },
  "language_info": {
   "codemirror_mode": {
    "name": "ipython",
    "version": 3
   },
   "file_extension": ".py",
   "mimetype": "text/x-python",
   "name": "python",
   "nbconvert_exporter": "python",
   "pygments_lexer": "ipython3",
   "version": "3.7.9"
  }
 },
 "nbformat": 4,
 "nbformat_minor": 4
}
