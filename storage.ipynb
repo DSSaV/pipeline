{
 "cells": [
  {
   "cell_type": "markdown",
   "metadata": {},
   "source": [
    "### IMPORTS"
   ]
  },
  {
   "cell_type": "code",
   "execution_count": 1,
   "metadata": {},
   "outputs": [],
   "source": [
    "import pickle\n",
    "import time\n",
    "import os\n",
    "import yaml"
   ]
  },
  {
   "cell_type": "markdown",
   "metadata": {},
   "source": [
    "### SAVE ENSEMBLE RELATED DATA TO DIR"
   ]
  },
  {
   "cell_type": "code",
   "execution_count": 2,
   "metadata": {},
   "outputs": [],
   "source": [
    "def save_ensemble(params):\n",
    "    \n",
    "    # DECONSTRUCT PARAMS\n",
    "    config = params['config']\n",
    "    ensemble = params['ensemble']\n",
    "    predictions = params['predictions']\n",
    "    \n",
    "    # USE TIMESTAMP AS NAMING CONVENTION\n",
    "    now = int(time.time())\n",
    "    \n",
    "    # DIR PATH\n",
    "    dir_path = 'storage/ENSEMBLE-' + str(now)\n",
    "    \n",
    "    # CREATE NEW DIR\n",
    "    os.mkdir(dir_path)\n",
    "    \n",
    "    # SERIALIZE & SAVE THE YAML CONFIG\n",
    "    save_yaml(config, dir_path + '/config.yaml')\n",
    "    \n",
    "    # SAVE THE PREDICTIONS AS A CSV\n",
    "    predictions.to_csv(dir_path + '/predictions.csv')\n",
    "    \n",
    "    # LOOP THROUGH ENSEMBLE MODELS\n",
    "    for index, item in enumerate(ensemble):\n",
    "        \n",
    "        # SUB DIR PATH\n",
    "        sub_path = dir_path + '/' + item['name'].upper() + '_' + str(index)\n",
    "        \n",
    "        # CREATE SUB DIR\n",
    "        os.mkdir(sub_path)\n",
    "        \n",
    "        # IF TYPE IS LSTM, SAVE VIA KERAS\n",
    "        if (item['name'] == 'lstm'):\n",
    "            item['result']['model'].save(sub_path + '/model.model')\n",
    "            save_pickle(item['scaler'], sub_path + '/scaler.pickle')\n",
    "\n",
    "        # OTHERWISE, SAVE AS PICKLE\n",
    "        else:\n",
    "            save_pickle(item['result']['model'], sub_path + '/model.pickle')\n",
    "            save_pickle(item['scaler'], sub_path + '/scaler.pickle')"
   ]
  },
  {
   "cell_type": "markdown",
   "metadata": {},
   "source": [
    "### SAVE/LOAD PICKLE DATA"
   ]
  },
  {
   "cell_type": "code",
   "execution_count": 3,
   "metadata": {},
   "outputs": [],
   "source": [
    "def save_pickle(data, path):\n",
    "    pickle.dump(data, open(path, 'wb'))"
   ]
  },
  {
   "cell_type": "markdown",
   "metadata": {},
   "source": [
    "### SAVE/LOAD YAML DATA"
   ]
  },
  {
   "cell_type": "code",
   "execution_count": 4,
   "metadata": {},
   "outputs": [],
   "source": [
    "def load_yaml(path):\n",
    "    with open(path, mode='r') as file:\n",
    "        return yaml.load(file, Loader=yaml.FullLoader)"
   ]
  },
  {
   "cell_type": "code",
   "execution_count": 5,
   "metadata": {},
   "outputs": [],
   "source": [
    "def save_yaml(data, path):\n",
    "    with open(path, 'w') as file:\n",
    "        yaml.dump(data, file)"
   ]
  },
  {
   "cell_type": "code",
   "execution_count": null,
   "metadata": {},
   "outputs": [],
   "source": []
  }
 ],
 "metadata": {
  "kernelspec": {
   "display_name": "Python 3",
   "language": "python",
   "name": "python3"
  },
  "language_info": {
   "codemirror_mode": {
    "name": "ipython",
    "version": 3
   },
   "file_extension": ".py",
   "mimetype": "text/x-python",
   "name": "python",
   "nbconvert_exporter": "python",
   "pygments_lexer": "ipython3",
   "version": "3.7.9"
  }
 },
 "nbformat": 4,
 "nbformat_minor": 4
}
