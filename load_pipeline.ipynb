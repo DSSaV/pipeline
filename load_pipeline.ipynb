{
 "cells": [
  {
   "cell_type": "code",
   "execution_count": 1,
   "metadata": {},
   "outputs": [
    {
     "name": "stdout",
     "output_type": "stream",
     "text": [
      "WARNING:tensorflow:From C:\\Users\\35840\\Desktop\\coding\\python\\pipeline\\training.ipynb:24: The name tf.keras.backend.set_session is deprecated. Please use tf.compat.v1.keras.backend.set_session instead.\n",
      "\n"
     ]
    }
   ],
   "source": [
    "import ipynb.fs.full.storage as storage"
   ]
  },
  {
   "cell_type": "code",
   "execution_count": 2,
   "metadata": {
    "scrolled": false
   },
   "outputs": [
    {
     "name": "stdout",
     "output_type": "stream",
     "text": [
      "SERIALIZING REGRESSOR LINREG_0\n",
      "\tFOLD 0\n",
      "\tFOLD 1\n",
      "\tFOLD 2\n",
      "\tFOLD 3\n",
      "\tFOLD 4\n",
      "\n",
      "SERIALIZING REGRESSOR LSTM_1\n",
      "\tFOLD 0\n",
      "\tFOLD 1\n",
      "\tFOLD 2\n",
      "\tFOLD 3\n",
      "\tFOLD 4\n",
      "\n",
      "SERIALIZING REGRESSOR TCN_2\n",
      "\tFOLD 0\n",
      "\tFOLD 1\n",
      "\tFOLD 2\n",
      "\tFOLD 3\n",
      "\tFOLD 4\n",
      "\n",
      "SERIALIZED CLASSIFIER LOGREG_1\n",
      "SERIALIZED CLASSIFIER RANDFOREST_0\n",
      "SERIALIZED CLASSIFIER SVC_2\n"
     ]
    }
   ],
   "source": [
    "regression_ensemble, classifier_ensemble, config = storage.load_pipeline('PIPELINE-1603466504')"
   ]
  },
  {
   "cell_type": "code",
   "execution_count": 3,
   "metadata": {},
   "outputs": [],
   "source": [
    "dataset = storage.load_pickle('extra/testset.pickle')"
   ]
  },
  {
   "cell_type": "code",
   "execution_count": 14,
   "metadata": {},
   "outputs": [
    {
     "data": {
      "text/plain": [
       "array([1.20108000e+00, 1.20889000e+00, 1.20044000e+00, 1.20664000e+00,\n",
       "       2.10213430e+05, 9.28000000e+01, 8.87674708e+01, 9.04921736e+01,\n",
       "       2.82700000e-02, 2.39907669e+00, 7.20000000e+00, 1.00306579e+02,\n",
       "       1.00918490e+02, 2.09015417e-01, 1.03432454e+02, 6.92720341e+01,\n",
       "       3.31488484e+06, 1.20295200e+00, 4.31978027e-03, 6.67000000e+01,\n",
       "       2.11617501e-01, 1.41077212e-01, 1.54504575e-01, 2.07229837e-02,\n",
       "       4.62681132e-01])"
      ]
     },
     "execution_count": 14,
     "metadata": {},
     "output_type": "execute_result"
    }
   ],
   "source": [
    "dataset['features'][0]"
   ]
  },
  {
   "cell_type": "code",
   "execution_count": 4,
   "metadata": {},
   "outputs": [],
   "source": [
    "reg_dataset = regression_ensemble.predict(dataset)"
   ]
  },
  {
   "cell_type": "code",
   "execution_count": 5,
   "metadata": {},
   "outputs": [
    {
     "data": {
      "text/html": [
       "<div>\n",
       "<style scoped>\n",
       "    .dataframe tbody tr th:only-of-type {\n",
       "        vertical-align: middle;\n",
       "    }\n",
       "\n",
       "    .dataframe tbody tr th {\n",
       "        vertical-align: top;\n",
       "    }\n",
       "\n",
       "    .dataframe thead th {\n",
       "        text-align: right;\n",
       "    }\n",
       "</style>\n",
       "<table border=\"1\" class=\"dataframe\">\n",
       "  <thead>\n",
       "    <tr style=\"text-align: right;\">\n",
       "      <th></th>\n",
       "      <th>linreg_0</th>\n",
       "      <th>lstm_1</th>\n",
       "      <th>tcn_2</th>\n",
       "    </tr>\n",
       "  </thead>\n",
       "  <tbody>\n",
       "    <tr>\n",
       "      <th>0</th>\n",
       "      <td>1.196712</td>\n",
       "      <td>1.172365</td>\n",
       "      <td>1.029409</td>\n",
       "    </tr>\n",
       "    <tr>\n",
       "      <th>1</th>\n",
       "      <td>1.200233</td>\n",
       "      <td>1.167527</td>\n",
       "      <td>1.067541</td>\n",
       "    </tr>\n",
       "    <tr>\n",
       "      <th>2</th>\n",
       "      <td>1.208943</td>\n",
       "      <td>1.171286</td>\n",
       "      <td>1.104700</td>\n",
       "    </tr>\n",
       "    <tr>\n",
       "      <th>3</th>\n",
       "      <td>1.220007</td>\n",
       "      <td>1.180508</td>\n",
       "      <td>1.102198</td>\n",
       "    </tr>\n",
       "    <tr>\n",
       "      <th>4</th>\n",
       "      <td>1.218342</td>\n",
       "      <td>1.214916</td>\n",
       "      <td>1.201696</td>\n",
       "    </tr>\n",
       "    <tr>\n",
       "      <th>5</th>\n",
       "      <td>1.225797</td>\n",
       "      <td>1.218495</td>\n",
       "      <td>1.150581</td>\n",
       "    </tr>\n",
       "    <tr>\n",
       "      <th>6</th>\n",
       "      <td>1.227251</td>\n",
       "      <td>1.241728</td>\n",
       "      <td>1.243631</td>\n",
       "    </tr>\n",
       "    <tr>\n",
       "      <th>7</th>\n",
       "      <td>1.218455</td>\n",
       "      <td>1.252777</td>\n",
       "      <td>1.204427</td>\n",
       "    </tr>\n",
       "    <tr>\n",
       "      <th>8</th>\n",
       "      <td>1.224784</td>\n",
       "      <td>1.244066</td>\n",
       "      <td>1.198357</td>\n",
       "    </tr>\n",
       "    <tr>\n",
       "      <th>9</th>\n",
       "      <td>1.223785</td>\n",
       "      <td>1.240229</td>\n",
       "      <td>1.163549</td>\n",
       "    </tr>\n",
       "  </tbody>\n",
       "</table>\n",
       "</div>"
      ],
      "text/plain": [
       "   linreg_0    lstm_1     tcn_2\n",
       "0  1.196712  1.172365  1.029409\n",
       "1  1.200233  1.167527  1.067541\n",
       "2  1.208943  1.171286  1.104700\n",
       "3  1.220007  1.180508  1.102198\n",
       "4  1.218342  1.214916  1.201696\n",
       "5  1.225797  1.218495  1.150581\n",
       "6  1.227251  1.241728  1.243631\n",
       "7  1.218455  1.252777  1.204427\n",
       "8  1.224784  1.244066  1.198357\n",
       "9  1.223785  1.240229  1.163549"
      ]
     },
     "execution_count": 5,
     "metadata": {},
     "output_type": "execute_result"
    }
   ],
   "source": [
    "reg_dataset.head(10)"
   ]
  },
  {
   "cell_type": "code",
   "execution_count": 6,
   "metadata": {},
   "outputs": [],
   "source": [
    "mash_dataset = {\n",
    "    'features': reg_dataset.to_numpy(),\n",
    "    'labels': []\n",
    "}"
   ]
  },
  {
   "cell_type": "code",
   "execution_count": 7,
   "metadata": {},
   "outputs": [],
   "source": [
    "cls_dataset = classifier_ensemble.predict(mash_dataset, show_mean=True)"
   ]
  },
  {
   "cell_type": "code",
   "execution_count": 8,
   "metadata": {},
   "outputs": [
    {
     "data": {
      "text/html": [
       "<div>\n",
       "<style scoped>\n",
       "    .dataframe tbody tr th:only-of-type {\n",
       "        vertical-align: middle;\n",
       "    }\n",
       "\n",
       "    .dataframe tbody tr th {\n",
       "        vertical-align: top;\n",
       "    }\n",
       "\n",
       "    .dataframe thead th {\n",
       "        text-align: right;\n",
       "    }\n",
       "</style>\n",
       "<table border=\"1\" class=\"dataframe\">\n",
       "  <thead>\n",
       "    <tr style=\"text-align: right;\">\n",
       "      <th></th>\n",
       "      <th>logreg_1</th>\n",
       "      <th>randforest_0</th>\n",
       "      <th>svc_2</th>\n",
       "      <th>mean</th>\n",
       "    </tr>\n",
       "  </thead>\n",
       "  <tbody>\n",
       "    <tr>\n",
       "      <th>0</th>\n",
       "      <td>1</td>\n",
       "      <td>1</td>\n",
       "      <td>2</td>\n",
       "      <td>1.333333</td>\n",
       "    </tr>\n",
       "    <tr>\n",
       "      <th>1</th>\n",
       "      <td>1</td>\n",
       "      <td>1</td>\n",
       "      <td>2</td>\n",
       "      <td>1.333333</td>\n",
       "    </tr>\n",
       "    <tr>\n",
       "      <th>2</th>\n",
       "      <td>1</td>\n",
       "      <td>0</td>\n",
       "      <td>2</td>\n",
       "      <td>1.000000</td>\n",
       "    </tr>\n",
       "    <tr>\n",
       "      <th>3</th>\n",
       "      <td>1</td>\n",
       "      <td>0</td>\n",
       "      <td>2</td>\n",
       "      <td>1.000000</td>\n",
       "    </tr>\n",
       "    <tr>\n",
       "      <th>4</th>\n",
       "      <td>0</td>\n",
       "      <td>2</td>\n",
       "      <td>2</td>\n",
       "      <td>1.333333</td>\n",
       "    </tr>\n",
       "    <tr>\n",
       "      <th>5</th>\n",
       "      <td>2</td>\n",
       "      <td>0</td>\n",
       "      <td>2</td>\n",
       "      <td>1.333333</td>\n",
       "    </tr>\n",
       "    <tr>\n",
       "      <th>6</th>\n",
       "      <td>2</td>\n",
       "      <td>2</td>\n",
       "      <td>2</td>\n",
       "      <td>2.000000</td>\n",
       "    </tr>\n",
       "    <tr>\n",
       "      <th>7</th>\n",
       "      <td>2</td>\n",
       "      <td>2</td>\n",
       "      <td>2</td>\n",
       "      <td>2.000000</td>\n",
       "    </tr>\n",
       "    <tr>\n",
       "      <th>8</th>\n",
       "      <td>2</td>\n",
       "      <td>2</td>\n",
       "      <td>2</td>\n",
       "      <td>2.000000</td>\n",
       "    </tr>\n",
       "    <tr>\n",
       "      <th>9</th>\n",
       "      <td>2</td>\n",
       "      <td>0</td>\n",
       "      <td>2</td>\n",
       "      <td>1.333333</td>\n",
       "    </tr>\n",
       "  </tbody>\n",
       "</table>\n",
       "</div>"
      ],
      "text/plain": [
       "   logreg_1  randforest_0  svc_2      mean\n",
       "0         1             1      2  1.333333\n",
       "1         1             1      2  1.333333\n",
       "2         1             0      2  1.000000\n",
       "3         1             0      2  1.000000\n",
       "4         0             2      2  1.333333\n",
       "5         2             0      2  1.333333\n",
       "6         2             2      2  2.000000\n",
       "7         2             2      2  2.000000\n",
       "8         2             2      2  2.000000\n",
       "9         2             0      2  1.333333"
      ]
     },
     "execution_count": 8,
     "metadata": {},
     "output_type": "execute_result"
    }
   ],
   "source": [
    "cls_dataset.head(10)"
   ]
  },
  {
   "cell_type": "code",
   "execution_count": 9,
   "metadata": {},
   "outputs": [
    {
     "data": {
      "text/plain": [
       "1.333333    0.355987\n",
       "1.666667    0.266990\n",
       "0.666667    0.137540\n",
       "1.000000    0.127832\n",
       "2.000000    0.111650\n",
       "Name: mean, dtype: float64"
      ]
     },
     "execution_count": 9,
     "metadata": {},
     "output_type": "execute_result"
    }
   ],
   "source": [
    "cls_dataset['mean'].value_counts(normalize=True)"
   ]
  },
  {
   "cell_type": "code",
   "execution_count": null,
   "metadata": {},
   "outputs": [],
   "source": []
  }
 ],
 "metadata": {
  "kernelspec": {
   "display_name": "Python 3",
   "language": "python",
   "name": "python3"
  },
  "language_info": {
   "codemirror_mode": {
    "name": "ipython",
    "version": 3
   },
   "file_extension": ".py",
   "mimetype": "text/x-python",
   "name": "python",
   "nbconvert_exporter": "python",
   "pygments_lexer": "ipython3",
   "version": "3.7.9"
  }
 },
 "nbformat": 4,
 "nbformat_minor": 4
}
