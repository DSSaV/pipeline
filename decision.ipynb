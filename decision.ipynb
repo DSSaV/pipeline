{
 "cells": [
  {
   "cell_type": "code",
   "execution_count": 8,
   "metadata": {},
   "outputs": [],
   "source": [
    "from collections import Counter\n",
    "import numpy as np"
   ]
  },
  {
   "cell_type": "code",
   "execution_count": 2,
   "metadata": {},
   "outputs": [],
   "source": [
    "def decisionz(values):\n",
    "    \n",
    "    # DECISIONS CONTAINER & THRESHOLD FOR DECISION\n",
    "    decisions = []\n",
    "    threshold = 0.02\n",
    "    \n",
    "    # LOOP THROUGH LOG VALUES\n",
    "    for value in values:\n",
    "        \n",
    "        # BUY \n",
    "        if value > threshold:\n",
    "            decisions.append('buy')\n",
    "            \n",
    "        # SELL\n",
    "        elif value < -threshold:\n",
    "            decisions.append('sell')\n",
    "            \n",
    "        # HOLD\n",
    "        else:\n",
    "            decisions.append('hold')\n",
    "    \n",
    "    return decisions"
   ]
  },
  {
   "cell_type": "code",
   "execution_count": 3,
   "metadata": {},
   "outputs": [],
   "source": [
    "def morph(dataframe):\n",
    "    for index, column in enumerate(dataframe.columns):\n",
    "    \n",
    "        # NEW COLUMN NAME\n",
    "        name = column + '_log'\n",
    "        \n",
    "        # CALCULATE LOG VALUE BY CURRENT & NEXT\n",
    "        dataframe[name] = decisionz(np.log(dataframe[column] / dataframe[column].shift(1)))\n",
    "        \n",
    "    # DROP NAN & SORT ALPHABETICALLY, THEN RETURN\n",
    "    return dataframe.dropna()"
   ]
  },
  {
   "cell_type": "code",
   "execution_count": 30,
   "metadata": {},
   "outputs": [],
   "source": [
    "def decide(columns, dataframe):\n",
    "    \n",
    "    # PLACEHOLDER\n",
    "    decisions = []\n",
    "    \n",
    "    # FIND THE POPULAR VOTE FOR EACH ROW\n",
    "    for index, row in dataframe[columns].iterrows():\n",
    "        gather = Counter(list(row))\n",
    "        vote = gather.most_common()[0][0]\n",
    "\n",
    "        # APPEND POPULAR VOTE\n",
    "        decisions.append(vote)\n",
    "        \n",
    "    # DROP DECISION COLS\n",
    "    dataframe.drop([*columns, 'label'], axis=1, inplace=True)\n",
    "    \n",
    "    # RENAME THE LABELS COLUMN\n",
    "    dataframe = dataframe.rename(columns={\n",
    "        'label_log': 'label'\n",
    "    })\n",
    "    \n",
    "    # ADD DECISIONS\n",
    "    dataframe['united_decision'] = decisions\n",
    "    \n",
    "    # ADD BUY, SELL & HOLD COLUMNS\n",
    "    dataframe['buy'] = 0\n",
    "    dataframe['sell'] = 0\n",
    "    dataframe['hold'] = 0\n",
    "    \n",
    "    # LOOP THROUGH DATAFRAME ROWS\n",
    "    for index, row in dataframe.iterrows():\n",
    "\n",
    "        #foob = row['decision'] \n",
    "        #dataframe.set_value(index, row['decision'], 1)\n",
    "        choice = row['united_decision']\n",
    "        dataframe.at[index, choice] = 1\n",
    "    \n",
    "    return dataframe"
   ]
  },
  {
   "cell_type": "code",
   "execution_count": 15,
   "metadata": {},
   "outputs": [],
   "source": [
    "def classify(dataframe):\n",
    "    \n",
    "    # CLONE THE GIVEN DATAFRAME\n",
    "    clone = dataframe.copy()\n",
    "    \n",
    "    # MORPH IN MODEL DEICISONS\n",
    "    foo = morph(clone)\n",
    "    \n",
    "    # FOO\n",
    "    bar = decide(['ensemble_log', 'linreg_0_log', 'lstm_1_log', 'lstm_2_log'], foo)\n",
    "    \n",
    "    return bar"
   ]
  },
  {
   "cell_type": "code",
   "execution_count": null,
   "metadata": {},
   "outputs": [],
   "source": []
  }
 ],
 "metadata": {
  "kernelspec": {
   "display_name": "Python 3",
   "language": "python",
   "name": "python3"
  },
  "language_info": {
   "codemirror_mode": {
    "name": "ipython",
    "version": 3
   },
   "file_extension": ".py",
   "mimetype": "text/x-python",
   "name": "python",
   "nbconvert_exporter": "python",
   "pygments_lexer": "ipython3",
   "version": "3.7.9"
  }
 },
 "nbformat": 4,
 "nbformat_minor": 4
}
