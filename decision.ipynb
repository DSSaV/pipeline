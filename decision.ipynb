{
 "cells": [
  {
   "cell_type": "code",
   "execution_count": 8,
   "metadata": {},
   "outputs": [],
   "source": [
    "from collections import Counter\n",
    "import numpy as np"
   ]
  },
  {
   "cell_type": "markdown",
   "metadata": {},
   "source": [
    "### HELPERS"
   ]
  },
  {
   "cell_type": "code",
   "execution_count": 45,
   "metadata": {},
   "outputs": [],
   "source": [
    "def election(rows, threshold):\n",
    "    \n",
    "    # VOTE & THRESHOLD FOR DECISION\n",
    "    votes = []\n",
    "    \n",
    "    # LOOP THROUGH EACH ELEMENT\n",
    "    for row in rows:\n",
    "        vote = decide_vote(row, threshold)\n",
    "        votes.append(vote)\n",
    "            \n",
    "    return votes"
   ]
  },
  {
   "cell_type": "code",
   "execution_count": 46,
   "metadata": {},
   "outputs": [],
   "source": [
    "def decide_vote(value, threshold):\n",
    "    if value > threshold:\n",
    "        return 1\n",
    "    elif value < -threshold:\n",
    "        return 2\n",
    "    else:\n",
    "        return 3"
   ]
  },
  {
   "cell_type": "markdown",
   "metadata": {},
   "source": [
    "### TRIGGER"
   ]
  },
  {
   "cell_type": "code",
   "execution_count": 49,
   "metadata": {},
   "outputs": [],
   "source": [
    "def classify(params):\n",
    "    \n",
    "    # DECONSTRUCT PARAMS\n",
    "    original = params['predictions']\n",
    "    label_names = params['label_names']\n",
    "    threshold = params['threshold']\n",
    "    \n",
    "    # CLONE THE ORIGINAL\n",
    "    dataframe = original.copy()\n",
    "    \n",
    "    # LOOP THROUGH EACH COLUMN\n",
    "    for column in dataframe.columns:\n",
    "        \n",
    "        # CALCULATE LOG VALUE BY CURRENT & NEXT\n",
    "        dataframe[column] = np.log(dataframe[column] / dataframe[column].shift(1))\n",
    "        \n",
    "    # DROP ROWS WITH NAN VALUES\n",
    "    dataframe.dropna(inplace=True)\n",
    "    \n",
    "    # EXTRACT FEATUERS & LABELS\n",
    "    labels = dataframe['label'].to_numpy()\n",
    "    \n",
    "    # CLASSIFY EACH LABEL VALUE TO A BUY/SELL/HOLD DECISION\n",
    "    label_votes = election(labels, threshold)\n",
    "    \n",
    "    # CHANGE LABEL STRINGS TO NUMERIC REPRESENTATIONS\n",
    "    #label_votes = rename_labels(label_votes, label_names)\n",
    "    \n",
    "    # REPLACE THE OLD LABELS\n",
    "    dataframe['label'] = label_votes\n",
    "    \n",
    "    return dataframe"
   ]
  },
  {
   "cell_type": "code",
   "execution_count": null,
   "metadata": {},
   "outputs": [],
   "source": []
  }
 ],
 "metadata": {
  "kernelspec": {
   "display_name": "Python 3",
   "language": "python",
   "name": "python3"
  },
  "language_info": {
   "codemirror_mode": {
    "name": "ipython",
    "version": 3
   },
   "file_extension": ".py",
   "mimetype": "text/x-python",
   "name": "python",
   "nbconvert_exporter": "python",
   "pygments_lexer": "ipython3",
   "version": "3.7.9"
  }
 },
 "nbformat": 4,
 "nbformat_minor": 4
}
