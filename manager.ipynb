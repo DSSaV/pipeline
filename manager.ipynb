{
 "cells": [
  {
   "cell_type": "markdown",
   "metadata": {},
   "source": [
    "### IMPORTS"
   ]
  },
  {
   "cell_type": "code",
   "execution_count": 1,
   "metadata": {},
   "outputs": [],
   "source": [
    "import ipynb.fs.full.processing as processing\n",
    "import ipynb.fs.full.training as training\n",
    "import ipynb.fs.full.storage as storage\n",
    "import ipynb.fs.full.visualize as visualize\n",
    "import ipynb.fs.full.misc as misc"
   ]
  },
  {
   "cell_type": "code",
   "execution_count": 2,
   "metadata": {},
   "outputs": [],
   "source": [
    "import ipynb.fs.full.splitting as splitting\n",
    "import ipynb.fs.full.table as table\n",
    "import ipynb.fs.full.decide as decide"
   ]
  },
  {
   "cell_type": "code",
   "execution_count": 3,
   "metadata": {},
   "outputs": [],
   "source": [
    "import ipynb.fs.full.features as features"
   ]
  },
  {
   "cell_type": "code",
   "execution_count": 4,
   "metadata": {},
   "outputs": [],
   "source": [
    "import numpy as np"
   ]
  },
  {
   "cell_type": "markdown",
   "metadata": {},
   "source": [
    "### SERIALIZE THE YAML CONFIG"
   ]
  },
  {
   "cell_type": "code",
   "execution_count": 5,
   "metadata": {},
   "outputs": [],
   "source": [
    "config = storage.load_yaml('extra/config.yaml')"
   ]
  },
  {
   "cell_type": "code",
   "execution_count": 6,
   "metadata": {},
   "outputs": [
    {
     "data": {
      "text/plain": [
       "{'data': 'extra/dataset.csv',\n",
       " 'processing': {'resample': True,\n",
       "  'time': 'D',\n",
       "  'aggregate': {'Open': 'first',\n",
       "   'High': 'max',\n",
       "   'Low': 'min',\n",
       "   'Close': 'last',\n",
       "   'Volume': 'sum'},\n",
       "  'label': {'from': 'Close', 'shift': 1}},\n",
       " 'features': {'category': 'all', 'window': 14},\n",
       " 'splitting': {'train_split': 0.8, 'validation_folds': 5},\n",
       " 'regression_ensemble': {'models': [{'linreg': None},\n",
       "   {'lstm': {'morph': {'window': 4, 'batch': 30},\n",
       "     'layers': [{'lstm': {'units': 120}},\n",
       "      {'dropout': {'rate': 0.15}},\n",
       "      {'dense': {'units': 50, 'activation': 'relu'}},\n",
       "      {'dense': {'units': 1}}],\n",
       "     'epochs': 15,\n",
       "     'loss': 'mean_squared_error',\n",
       "     'optimizer': 'rmsprop'}},\n",
       "   {'tcn': {'morph': {'window': 4, 'batch': 30},\n",
       "     'layers': [{'tcn': {'nb_filters': 64,\n",
       "        'nb_stacks': 1,\n",
       "        'dilations': [1, 2, 4, 8, 16, 32],\n",
       "        'padding': 'causal',\n",
       "        'use_skip_connections': False,\n",
       "        'dropout_rate': 0.1,\n",
       "        'return_sequences': False,\n",
       "        'activation': 'relu'}},\n",
       "      {'dropout': {'rate': 0.05}},\n",
       "      {'dense': {'units': 50, 'activation': 'relu'}},\n",
       "      {'dense': {'units': 1}}],\n",
       "     'epochs': 3,\n",
       "     'loss': 'mean_squared_error',\n",
       "     'optimizer': 'adam'}}]},\n",
       " 'classification_ensemble': {'decision': {'name': 'quantile',\n",
       "   'upper': 0.75,\n",
       "   'lower': 0.25},\n",
       "  'models': [{'logreg': {'static': {'random_state': 0,\n",
       "      'class_weight': 'balanced'}}},\n",
       "   {'svc': {'static': {'decision_function_shape': 'ovo'},\n",
       "     'grid_search': {'kernel': ['linear', 'rbf'], 'C': [1, 10]}}}]}}"
      ]
     },
     "execution_count": 6,
     "metadata": {},
     "output_type": "execute_result"
    }
   ],
   "source": [
    "config"
   ]
  },
  {
   "cell_type": "markdown",
   "metadata": {},
   "source": [
    "### STEP 1: PROCESS RAW DATA TO DATAFRAME"
   ]
  },
  {
   "cell_type": "code",
   "execution_count": 7,
   "metadata": {},
   "outputs": [],
   "source": [
    "dataframe = processing.create_dataframe(config)"
   ]
  },
  {
   "cell_type": "code",
   "execution_count": 8,
   "metadata": {},
   "outputs": [
    {
     "data": {
      "text/html": [
       "<div>\n",
       "<style scoped>\n",
       "    .dataframe tbody tr th:only-of-type {\n",
       "        vertical-align: middle;\n",
       "    }\n",
       "\n",
       "    .dataframe tbody tr th {\n",
       "        vertical-align: top;\n",
       "    }\n",
       "\n",
       "    .dataframe thead th {\n",
       "        text-align: right;\n",
       "    }\n",
       "</style>\n",
       "<table border=\"1\" class=\"dataframe\">\n",
       "  <thead>\n",
       "    <tr style=\"text-align: right;\">\n",
       "      <th></th>\n",
       "      <th>Open</th>\n",
       "      <th>High</th>\n",
       "      <th>Low</th>\n",
       "      <th>Close</th>\n",
       "      <th>Volume</th>\n",
       "      <th>label</th>\n",
       "    </tr>\n",
       "    <tr>\n",
       "      <th>Date_Timestamp</th>\n",
       "      <th></th>\n",
       "      <th></th>\n",
       "      <th></th>\n",
       "      <th></th>\n",
       "      <th></th>\n",
       "      <th></th>\n",
       "    </tr>\n",
       "  </thead>\n",
       "  <tbody>\n",
       "    <tr>\n",
       "      <th>2010-01-01</th>\n",
       "      <td>1.43327</td>\n",
       "      <td>1.43356</td>\n",
       "      <td>1.43207</td>\n",
       "      <td>1.43335</td>\n",
       "      <td>39761.000053</td>\n",
       "      <td>1.43141</td>\n",
       "    </tr>\n",
       "    <tr>\n",
       "      <th>2010-01-03</th>\n",
       "      <td>1.43024</td>\n",
       "      <td>1.43359</td>\n",
       "      <td>1.42951</td>\n",
       "      <td>1.43141</td>\n",
       "      <td>3001.600003</td>\n",
       "      <td>1.44244</td>\n",
       "    </tr>\n",
       "    <tr>\n",
       "      <th>2010-01-04</th>\n",
       "      <td>1.43143</td>\n",
       "      <td>1.44556</td>\n",
       "      <td>1.42559</td>\n",
       "      <td>1.44244</td>\n",
       "      <td>80019.400094</td>\n",
       "      <td>1.43634</td>\n",
       "    </tr>\n",
       "    <tr>\n",
       "      <th>2010-01-05</th>\n",
       "      <td>1.44238</td>\n",
       "      <td>1.44834</td>\n",
       "      <td>1.43445</td>\n",
       "      <td>1.43634</td>\n",
       "      <td>79887.100067</td>\n",
       "      <td>1.44005</td>\n",
       "    </tr>\n",
       "    <tr>\n",
       "      <th>2010-01-06</th>\n",
       "      <td>1.43638</td>\n",
       "      <td>1.44342</td>\n",
       "      <td>1.42807</td>\n",
       "      <td>1.44005</td>\n",
       "      <td>80971.800085</td>\n",
       "      <td>1.43155</td>\n",
       "    </tr>\n",
       "  </tbody>\n",
       "</table>\n",
       "</div>"
      ],
      "text/plain": [
       "                   Open     High      Low    Close        Volume    label\n",
       "Date_Timestamp                                                           \n",
       "2010-01-01      1.43327  1.43356  1.43207  1.43335  39761.000053  1.43141\n",
       "2010-01-03      1.43024  1.43359  1.42951  1.43141   3001.600003  1.44244\n",
       "2010-01-04      1.43143  1.44556  1.42559  1.44244  80019.400094  1.43634\n",
       "2010-01-05      1.44238  1.44834  1.43445  1.43634  79887.100067  1.44005\n",
       "2010-01-06      1.43638  1.44342  1.42807  1.44005  80971.800085  1.43155"
      ]
     },
     "execution_count": 8,
     "metadata": {},
     "output_type": "execute_result"
    }
   ],
   "source": [
    "dataframe.head(5)"
   ]
  },
  {
   "cell_type": "markdown",
   "metadata": {},
   "source": [
    "### STEP 2: ADD FEATURES TO DATAFRAME"
   ]
  },
  {
   "cell_type": "code",
   "execution_count": 9,
   "metadata": {},
   "outputs": [],
   "source": [
    "regression_dataset = features.add(dataframe, config['features'])"
   ]
  },
  {
   "cell_type": "code",
   "execution_count": 10,
   "metadata": {},
   "outputs": [
    {
     "data": {
      "text/html": [
       "<div>\n",
       "<style scoped>\n",
       "    .dataframe tbody tr th:only-of-type {\n",
       "        vertical-align: middle;\n",
       "    }\n",
       "\n",
       "    .dataframe tbody tr th {\n",
       "        vertical-align: top;\n",
       "    }\n",
       "\n",
       "    .dataframe thead th {\n",
       "        text-align: right;\n",
       "    }\n",
       "</style>\n",
       "<table border=\"1\" class=\"dataframe\">\n",
       "  <thead>\n",
       "    <tr style=\"text-align: right;\">\n",
       "      <th></th>\n",
       "      <th>open</th>\n",
       "      <th>high</th>\n",
       "      <th>low</th>\n",
       "      <th>close</th>\n",
       "      <th>volume</th>\n",
       "      <th>label</th>\n",
       "      <th>stock</th>\n",
       "      <th>stocd</th>\n",
       "      <th>stocsd</th>\n",
       "      <th>momentum</th>\n",
       "      <th>...</th>\n",
       "      <th>rsi</th>\n",
       "      <th>obv</th>\n",
       "      <th>ma</th>\n",
       "      <th>bias6</th>\n",
       "      <th>psy12</th>\n",
       "      <th>asy5</th>\n",
       "      <th>asy4</th>\n",
       "      <th>asy3</th>\n",
       "      <th>asy2</th>\n",
       "      <th>asy1</th>\n",
       "    </tr>\n",
       "    <tr>\n",
       "      <th>Date_Timestamp</th>\n",
       "      <th></th>\n",
       "      <th></th>\n",
       "      <th></th>\n",
       "      <th></th>\n",
       "      <th></th>\n",
       "      <th></th>\n",
       "      <th></th>\n",
       "      <th></th>\n",
       "      <th></th>\n",
       "      <th></th>\n",
       "      <th></th>\n",
       "      <th></th>\n",
       "      <th></th>\n",
       "      <th></th>\n",
       "      <th></th>\n",
       "      <th></th>\n",
       "      <th></th>\n",
       "      <th></th>\n",
       "      <th></th>\n",
       "      <th></th>\n",
       "      <th></th>\n",
       "    </tr>\n",
       "  </thead>\n",
       "  <tbody>\n",
       "    <tr>\n",
       "      <th>2010-01-21</th>\n",
       "      <td>1.41115</td>\n",
       "      <td>1.41422</td>\n",
       "      <td>1.40247</td>\n",
       "      <td>1.40979</td>\n",
       "      <td>78980.100041</td>\n",
       "      <td>1.41361</td>\n",
       "      <td>13.189189</td>\n",
       "      <td>9.578919</td>\n",
       "      <td>19.849579</td>\n",
       "      <td>-0.02655</td>\n",
       "      <td>...</td>\n",
       "      <td>29.873956</td>\n",
       "      <td>-159980.600046</td>\n",
       "      <td>1.425180</td>\n",
       "      <td>-0.012336</td>\n",
       "      <td>41.7</td>\n",
       "      <td>-0.403064</td>\n",
       "      <td>-0.471831</td>\n",
       "      <td>-0.715772</td>\n",
       "      <td>-0.637503</td>\n",
       "      <td>-0.099256</td>\n",
       "    </tr>\n",
       "    <tr>\n",
       "      <th>2010-01-22</th>\n",
       "      <td>1.40977</td>\n",
       "      <td>1.41805</td>\n",
       "      <td>1.40837</td>\n",
       "      <td>1.41361</td>\n",
       "      <td>76660.300037</td>\n",
       "      <td>1.41517</td>\n",
       "      <td>20.072072</td>\n",
       "      <td>13.339429</td>\n",
       "      <td>14.445538</td>\n",
       "      <td>-0.02644</td>\n",
       "      <td>...</td>\n",
       "      <td>33.983332</td>\n",
       "      <td>-83320.300009</td>\n",
       "      <td>1.420572</td>\n",
       "      <td>-0.006774</td>\n",
       "      <td>41.7</td>\n",
       "      <td>-0.323346</td>\n",
       "      <td>-0.469180</td>\n",
       "      <td>-0.334804</td>\n",
       "      <td>0.085670</td>\n",
       "      <td>0.270596</td>\n",
       "    </tr>\n",
       "    <tr>\n",
       "      <th>2010-01-24</th>\n",
       "      <td>1.41557</td>\n",
       "      <td>1.41705</td>\n",
       "      <td>1.41396</td>\n",
       "      <td>1.41517</td>\n",
       "      <td>3128.600004</td>\n",
       "      <td>1.41458</td>\n",
       "      <td>22.882883</td>\n",
       "      <td>18.714715</td>\n",
       "      <td>13.877688</td>\n",
       "      <td>-0.01638</td>\n",
       "      <td>...</td>\n",
       "      <td>35.641946</td>\n",
       "      <td>-80191.700005</td>\n",
       "      <td>1.415528</td>\n",
       "      <td>-0.003171</td>\n",
       "      <td>33.3</td>\n",
       "      <td>-0.353285</td>\n",
       "      <td>-0.223529</td>\n",
       "      <td>0.093878</td>\n",
       "      <td>0.190445</td>\n",
       "      <td>0.110295</td>\n",
       "    </tr>\n",
       "    <tr>\n",
       "      <th>2010-01-25</th>\n",
       "      <td>1.41498</td>\n",
       "      <td>1.41939</td>\n",
       "      <td>1.41248</td>\n",
       "      <td>1.41458</td>\n",
       "      <td>79577.200048</td>\n",
       "      <td>1.40808</td>\n",
       "      <td>21.819820</td>\n",
       "      <td>21.591592</td>\n",
       "      <td>17.881912</td>\n",
       "      <td>-0.02625</td>\n",
       "      <td>...</td>\n",
       "      <td>35.280916</td>\n",
       "      <td>-159768.900053</td>\n",
       "      <td>1.412868</td>\n",
       "      <td>-0.000558</td>\n",
       "      <td>33.3</td>\n",
       "      <td>-0.187163</td>\n",
       "      <td>0.059984</td>\n",
       "      <td>0.113064</td>\n",
       "      <td>0.034298</td>\n",
       "      <td>-0.041700</td>\n",
       "    </tr>\n",
       "    <tr>\n",
       "      <th>2010-01-26</th>\n",
       "      <td>1.41454</td>\n",
       "      <td>1.41780</td>\n",
       "      <td>1.40397</td>\n",
       "      <td>1.40808</td>\n",
       "      <td>79232.600053</td>\n",
       "      <td>1.40280</td>\n",
       "      <td>10.108108</td>\n",
       "      <td>18.270270</td>\n",
       "      <td>19.525526</td>\n",
       "      <td>-0.03823</td>\n",
       "      <td>...</td>\n",
       "      <td>31.495786</td>\n",
       "      <td>-239001.500106</td>\n",
       "      <td>1.412246</td>\n",
       "      <td>-0.002826</td>\n",
       "      <td>25.0</td>\n",
       "      <td>-0.044125</td>\n",
       "      <td>-0.030342</td>\n",
       "      <td>-0.130655</td>\n",
       "      <td>-0.251130</td>\n",
       "      <td>-0.460559</td>\n",
       "    </tr>\n",
       "  </tbody>\n",
       "</table>\n",
       "<p>5 rows × 26 columns</p>\n",
       "</div>"
      ],
      "text/plain": [
       "                   open     high      low    close        volume    label  \\\n",
       "Date_Timestamp                                                              \n",
       "2010-01-21      1.41115  1.41422  1.40247  1.40979  78980.100041  1.41361   \n",
       "2010-01-22      1.40977  1.41805  1.40837  1.41361  76660.300037  1.41517   \n",
       "2010-01-24      1.41557  1.41705  1.41396  1.41517   3128.600004  1.41458   \n",
       "2010-01-25      1.41498  1.41939  1.41248  1.41458  79577.200048  1.40808   \n",
       "2010-01-26      1.41454  1.41780  1.40397  1.40808  79232.600053  1.40280   \n",
       "\n",
       "                    stock      stocd     stocsd  momentum  ...        rsi  \\\n",
       "Date_Timestamp                                             ...              \n",
       "2010-01-21      13.189189   9.578919  19.849579  -0.02655  ...  29.873956   \n",
       "2010-01-22      20.072072  13.339429  14.445538  -0.02644  ...  33.983332   \n",
       "2010-01-24      22.882883  18.714715  13.877688  -0.01638  ...  35.641946   \n",
       "2010-01-25      21.819820  21.591592  17.881912  -0.02625  ...  35.280916   \n",
       "2010-01-26      10.108108  18.270270  19.525526  -0.03823  ...  31.495786   \n",
       "\n",
       "                          obv        ma     bias6  psy12      asy5      asy4  \\\n",
       "Date_Timestamp                                                                 \n",
       "2010-01-21     -159980.600046  1.425180 -0.012336   41.7 -0.403064 -0.471831   \n",
       "2010-01-22      -83320.300009  1.420572 -0.006774   41.7 -0.323346 -0.469180   \n",
       "2010-01-24      -80191.700005  1.415528 -0.003171   33.3 -0.353285 -0.223529   \n",
       "2010-01-25     -159768.900053  1.412868 -0.000558   33.3 -0.187163  0.059984   \n",
       "2010-01-26     -239001.500106  1.412246 -0.002826   25.0 -0.044125 -0.030342   \n",
       "\n",
       "                    asy3      asy2      asy1  \n",
       "Date_Timestamp                                \n",
       "2010-01-21     -0.715772 -0.637503 -0.099256  \n",
       "2010-01-22     -0.334804  0.085670  0.270596  \n",
       "2010-01-24      0.093878  0.190445  0.110295  \n",
       "2010-01-25      0.113064  0.034298 -0.041700  \n",
       "2010-01-26     -0.130655 -0.251130 -0.460559  \n",
       "\n",
       "[5 rows x 26 columns]"
      ]
     },
     "execution_count": 10,
     "metadata": {},
     "output_type": "execute_result"
    }
   ],
   "source": [
    "regression_dataset.head(5)"
   ]
  },
  {
   "cell_type": "markdown",
   "metadata": {},
   "source": [
    "### STEP 3: SPLIT & SCALE PRIMARY DATASET"
   ]
  },
  {
   "cell_type": "code",
   "execution_count": 11,
   "metadata": {},
   "outputs": [],
   "source": [
    "primary_dataset, scaler = splitting.general(regression_dataset, config['splitting']['train_split'])"
   ]
  },
  {
   "cell_type": "markdown",
   "metadata": {},
   "source": [
    "### STEP 4: CREATE CROSS VALIDATION FOLDS & TRAIN REGRESSION MODELS"
   ]
  },
  {
   "cell_type": "code",
   "execution_count": 12,
   "metadata": {},
   "outputs": [],
   "source": [
    "regression_ensemble = [None] * len(config['regression_ensemble']['models'])"
   ]
  },
  {
   "cell_type": "code",
   "execution_count": 13,
   "metadata": {
    "scrolled": false
   },
   "outputs": [
    {
     "name": "stdout",
     "output_type": "stream",
     "text": [
      "WARNING:tensorflow:From C:\\Users\\35840\\Anaconda3\\lib\\site-packages\\tensorflow_core\\python\\ops\\resource_variable_ops.py:1630: calling BaseResourceVariable.__init__ (from tensorflow.python.ops.resource_variable_ops) with constraint is deprecated and will be removed in a future version.\n",
      "Instructions for updating:\n",
      "If using Keras pass *_constraint arguments to layers.\n",
      "WARNING:tensorflow:From C:\\Users\\35840\\Anaconda3\\lib\\site-packages\\tensorflow_core\\python\\ops\\math_grad.py:1424: where (from tensorflow.python.ops.array_ops) is deprecated and will be removed in a future version.\n",
      "Instructions for updating:\n",
      "Use tf.where in 2.0, which has the same broadcast rule as np.where\n"
     ]
    }
   ],
   "source": [
    "# LOOP THROUGH REQUESTED MOEDLS\n",
    "for index, item in enumerate(config['regression_ensemble']['models']):\n",
    "    \n",
    "    # MODEL PROPS\n",
    "    name, settings = misc.key_value(item)\n",
    "    \n",
    "    # FOLD CONTAINER\n",
    "    folds = []\n",
    "    \n",
    "    # IF THE MODEL HAS EXTRA SETTINGS\n",
    "    if settings:\n",
    "        folds = splitting.timeseries(\n",
    "            primary_dataset['train'],\n",
    "            config['splitting']['validation_folds'],\n",
    "            window=settings['morph']['window']\n",
    "        )\n",
    "    \n",
    "    # OTHERWISE\n",
    "    else:\n",
    "        folds = splitting.timeseries(\n",
    "            primary_dataset['train'],\n",
    "            config['splitting']['validation_folds']\n",
    "        )\n",
    "        \n",
    "    # FOLD PREDICTIONS\n",
    "    temp_predictions = []\n",
    "    temp_labels = []\n",
    "    temp_models = []\n",
    "    \n",
    "    # TRAIN & PREDICT WITH EACH FOLD\n",
    "    for fold in folds:\n",
    "        model, predictions = training.start(fold, name, settings)\n",
    "        \n",
    "        # APPEND TO COLLECTIONS\n",
    "        temp_predictions.append(predictions)\n",
    "        temp_labels.append(fold['test']['labels'])\n",
    "        temp_models.append(model)\n",
    "        \n",
    "    # APPEND RESULTS TO ENSEMBLE\n",
    "    regression_ensemble[index] = {\n",
    "        'name': '{}_{}'.format(name, index),\n",
    "        'predictions': np.concatenate(temp_predictions),\n",
    "        'labels': np.concatenate(temp_labels),\n",
    "        'models': temp_models,\n",
    "        'settings': settings\n",
    "    }"
   ]
  },
  {
   "cell_type": "markdown",
   "metadata": {},
   "source": [
    "### STEP 5: CONSTRUCT TABLE FOR ENSEMBLE PREDICTIONS"
   ]
  },
  {
   "cell_type": "code",
   "execution_count": 14,
   "metadata": {},
   "outputs": [],
   "source": [
    "ensemble_table = table.ensemble(regression_ensemble)"
   ]
  },
  {
   "cell_type": "code",
   "execution_count": 15,
   "metadata": {
    "scrolled": false
   },
   "outputs": [
    {
     "data": {
      "text/html": [
       "<div>\n",
       "<style scoped>\n",
       "    .dataframe tbody tr th:only-of-type {\n",
       "        vertical-align: middle;\n",
       "    }\n",
       "\n",
       "    .dataframe tbody tr th {\n",
       "        vertical-align: top;\n",
       "    }\n",
       "\n",
       "    .dataframe thead th {\n",
       "        text-align: right;\n",
       "    }\n",
       "</style>\n",
       "<table border=\"1\" class=\"dataframe\">\n",
       "  <thead>\n",
       "    <tr style=\"text-align: right;\">\n",
       "      <th></th>\n",
       "      <th>linreg_0</th>\n",
       "      <th>lstm_1</th>\n",
       "      <th>tcn_2</th>\n",
       "      <th>label</th>\n",
       "    </tr>\n",
       "  </thead>\n",
       "  <tbody>\n",
       "    <tr>\n",
       "      <th>0</th>\n",
       "      <td>1.415415</td>\n",
       "      <td>1.517122</td>\n",
       "      <td>1.541764</td>\n",
       "      <td>1.40686</td>\n",
       "    </tr>\n",
       "    <tr>\n",
       "      <th>1</th>\n",
       "      <td>1.411078</td>\n",
       "      <td>1.507079</td>\n",
       "      <td>1.320315</td>\n",
       "      <td>1.41436</td>\n",
       "    </tr>\n",
       "    <tr>\n",
       "      <th>2</th>\n",
       "      <td>1.419329</td>\n",
       "      <td>1.508753</td>\n",
       "      <td>1.377140</td>\n",
       "      <td>1.43163</td>\n",
       "    </tr>\n",
       "    <tr>\n",
       "      <th>3</th>\n",
       "      <td>1.433975</td>\n",
       "      <td>1.512904</td>\n",
       "      <td>1.376547</td>\n",
       "      <td>1.42894</td>\n",
       "    </tr>\n",
       "    <tr>\n",
       "      <th>4</th>\n",
       "      <td>1.422772</td>\n",
       "      <td>1.496153</td>\n",
       "      <td>1.371484</td>\n",
       "      <td>1.43328</td>\n",
       "    </tr>\n",
       "  </tbody>\n",
       "</table>\n",
       "</div>"
      ],
      "text/plain": [
       "   linreg_0    lstm_1     tcn_2    label\n",
       "0  1.415415  1.517122  1.541764  1.40686\n",
       "1  1.411078  1.507079  1.320315  1.41436\n",
       "2  1.419329  1.508753  1.377140  1.43163\n",
       "3  1.433975  1.512904  1.376547  1.42894\n",
       "4  1.422772  1.496153  1.371484  1.43328"
      ]
     },
     "execution_count": 15,
     "metadata": {},
     "output_type": "execute_result"
    }
   ],
   "source": [
    "ensemble_table.head(5)"
   ]
  },
  {
   "cell_type": "markdown",
   "metadata": {},
   "source": [
    "### STEP 6: CLASSIFY LABELS WITH REQUESTED METHOD"
   ]
  },
  {
   "cell_type": "code",
   "execution_count": 16,
   "metadata": {},
   "outputs": [],
   "source": [
    "# BUY   = 0\n",
    "# SELL  = 1\n",
    "# HOLD  = 2"
   ]
  },
  {
   "cell_type": "code",
   "execution_count": 17,
   "metadata": {},
   "outputs": [],
   "source": [
    "classification_dataset = decide.label({\n",
    "    'predictions': ensemble_table,\n",
    "    'settings': config['classification_ensemble']['decision']\n",
    "})"
   ]
  },
  {
   "cell_type": "code",
   "execution_count": 18,
   "metadata": {},
   "outputs": [
    {
     "data": {
      "text/html": [
       "<div>\n",
       "<style scoped>\n",
       "    .dataframe tbody tr th:only-of-type {\n",
       "        vertical-align: middle;\n",
       "    }\n",
       "\n",
       "    .dataframe tbody tr th {\n",
       "        vertical-align: top;\n",
       "    }\n",
       "\n",
       "    .dataframe thead th {\n",
       "        text-align: right;\n",
       "    }\n",
       "</style>\n",
       "<table border=\"1\" class=\"dataframe\">\n",
       "  <thead>\n",
       "    <tr style=\"text-align: right;\">\n",
       "      <th></th>\n",
       "      <th>linreg_0</th>\n",
       "      <th>lstm_1</th>\n",
       "      <th>tcn_2</th>\n",
       "      <th>label</th>\n",
       "    </tr>\n",
       "  </thead>\n",
       "  <tbody>\n",
       "    <tr>\n",
       "      <th>0</th>\n",
       "      <td>1.415415</td>\n",
       "      <td>1.517122</td>\n",
       "      <td>1.541764</td>\n",
       "      <td>2</td>\n",
       "    </tr>\n",
       "    <tr>\n",
       "      <th>1</th>\n",
       "      <td>1.411078</td>\n",
       "      <td>1.507079</td>\n",
       "      <td>1.320315</td>\n",
       "      <td>1</td>\n",
       "    </tr>\n",
       "    <tr>\n",
       "      <th>2</th>\n",
       "      <td>1.419329</td>\n",
       "      <td>1.508753</td>\n",
       "      <td>1.377140</td>\n",
       "      <td>1</td>\n",
       "    </tr>\n",
       "    <tr>\n",
       "      <th>3</th>\n",
       "      <td>1.433975</td>\n",
       "      <td>1.512904</td>\n",
       "      <td>1.376547</td>\n",
       "      <td>2</td>\n",
       "    </tr>\n",
       "    <tr>\n",
       "      <th>4</th>\n",
       "      <td>1.422772</td>\n",
       "      <td>1.496153</td>\n",
       "      <td>1.371484</td>\n",
       "      <td>1</td>\n",
       "    </tr>\n",
       "  </tbody>\n",
       "</table>\n",
       "</div>"
      ],
      "text/plain": [
       "   linreg_0    lstm_1     tcn_2  label\n",
       "0  1.415415  1.517122  1.541764      2\n",
       "1  1.411078  1.507079  1.320315      1\n",
       "2  1.419329  1.508753  1.377140      1\n",
       "3  1.433975  1.512904  1.376547      2\n",
       "4  1.422772  1.496153  1.371484      1"
      ]
     },
     "execution_count": 18,
     "metadata": {},
     "output_type": "execute_result"
    }
   ],
   "source": [
    "classification_dataset.head(5)"
   ]
  },
  {
   "cell_type": "markdown",
   "metadata": {},
   "source": [
    "#### DECISION BREAKDOWN"
   ]
  },
  {
   "cell_type": "code",
   "execution_count": 19,
   "metadata": {},
   "outputs": [
    {
     "data": {
      "text/plain": [
       "2    0.500483\n",
       "1    0.249758\n",
       "0    0.249758\n",
       "Name: label, dtype: float64"
      ]
     },
     "execution_count": 19,
     "metadata": {},
     "output_type": "execute_result"
    }
   ],
   "source": [
    "classification_dataset['label'].value_counts(normalize=True)"
   ]
  },
  {
   "cell_type": "markdown",
   "metadata": {},
   "source": [
    "### SPLIT CLASSIFIER DATAFRAME"
   ]
  },
  {
   "cell_type": "code",
   "execution_count": 20,
   "metadata": {},
   "outputs": [],
   "source": [
    "secondary_dataset, scaler = splitting.general(classification_dataset, config['splitting']['train_split'])"
   ]
  },
  {
   "cell_type": "markdown",
   "metadata": {},
   "source": [
    "### TRAIN THE CLASSIFIER ENSEMBLE"
   ]
  },
  {
   "cell_type": "code",
   "execution_count": 21,
   "metadata": {},
   "outputs": [],
   "source": [
    "classification_ensemble = [None] * len(config['classification_ensemble']['models'])"
   ]
  },
  {
   "cell_type": "code",
   "execution_count": 22,
   "metadata": {},
   "outputs": [],
   "source": [
    "for index, item in enumerate(config['classification_ensemble']['models']):\n",
    "    \n",
    "    # MODEL PARAMS\n",
    "    name, settings = misc.key_value(item)\n",
    "\n",
    "    # TRAIN & PREDICT WITH THE MODEL\n",
    "    model, predictions = training.start(secondary_dataset, name, settings)\n",
    "        \n",
    "    # APPEND RESULTS TO ENSEMBLE\n",
    "    classification_ensemble[index] = {\n",
    "        'name': '{}_{}'.format(name, index),\n",
    "        'predictions': predictions,\n",
    "        'labels': secondary_dataset['test']['labels'],\n",
    "        'model': model,\n",
    "        'settings': settings\n",
    "    }"
   ]
  },
  {
   "cell_type": "markdown",
   "metadata": {},
   "source": [
    "### CREATE CLASSIFICATION TABLE"
   ]
  },
  {
   "cell_type": "code",
   "execution_count": 23,
   "metadata": {},
   "outputs": [],
   "source": [
    "classification_table = table.ensemble(classification_ensemble)"
   ]
  },
  {
   "cell_type": "code",
   "execution_count": 24,
   "metadata": {},
   "outputs": [
    {
     "data": {
      "text/html": [
       "<div>\n",
       "<style scoped>\n",
       "    .dataframe tbody tr th:only-of-type {\n",
       "        vertical-align: middle;\n",
       "    }\n",
       "\n",
       "    .dataframe tbody tr th {\n",
       "        vertical-align: top;\n",
       "    }\n",
       "\n",
       "    .dataframe thead th {\n",
       "        text-align: right;\n",
       "    }\n",
       "</style>\n",
       "<table border=\"1\" class=\"dataframe\">\n",
       "  <thead>\n",
       "    <tr style=\"text-align: right;\">\n",
       "      <th></th>\n",
       "      <th>logreg_0</th>\n",
       "      <th>svc_1</th>\n",
       "      <th>label</th>\n",
       "    </tr>\n",
       "  </thead>\n",
       "  <tbody>\n",
       "    <tr>\n",
       "      <th>0</th>\n",
       "      <td>0</td>\n",
       "      <td>2</td>\n",
       "      <td>1</td>\n",
       "    </tr>\n",
       "    <tr>\n",
       "      <th>1</th>\n",
       "      <td>0</td>\n",
       "      <td>2</td>\n",
       "      <td>0</td>\n",
       "    </tr>\n",
       "    <tr>\n",
       "      <th>2</th>\n",
       "      <td>1</td>\n",
       "      <td>2</td>\n",
       "      <td>2</td>\n",
       "    </tr>\n",
       "    <tr>\n",
       "      <th>3</th>\n",
       "      <td>0</td>\n",
       "      <td>2</td>\n",
       "      <td>2</td>\n",
       "    </tr>\n",
       "    <tr>\n",
       "      <th>4</th>\n",
       "      <td>0</td>\n",
       "      <td>2</td>\n",
       "      <td>2</td>\n",
       "    </tr>\n",
       "    <tr>\n",
       "      <th>...</th>\n",
       "      <td>...</td>\n",
       "      <td>...</td>\n",
       "      <td>...</td>\n",
       "    </tr>\n",
       "    <tr>\n",
       "      <th>409</th>\n",
       "      <td>1</td>\n",
       "      <td>2</td>\n",
       "      <td>1</td>\n",
       "    </tr>\n",
       "    <tr>\n",
       "      <th>410</th>\n",
       "      <td>1</td>\n",
       "      <td>2</td>\n",
       "      <td>2</td>\n",
       "    </tr>\n",
       "    <tr>\n",
       "      <th>411</th>\n",
       "      <td>1</td>\n",
       "      <td>2</td>\n",
       "      <td>1</td>\n",
       "    </tr>\n",
       "    <tr>\n",
       "      <th>412</th>\n",
       "      <td>1</td>\n",
       "      <td>2</td>\n",
       "      <td>0</td>\n",
       "    </tr>\n",
       "    <tr>\n",
       "      <th>413</th>\n",
       "      <td>1</td>\n",
       "      <td>2</td>\n",
       "      <td>1</td>\n",
       "    </tr>\n",
       "  </tbody>\n",
       "</table>\n",
       "<p>414 rows × 3 columns</p>\n",
       "</div>"
      ],
      "text/plain": [
       "     logreg_0  svc_1  label\n",
       "0           0      2      1\n",
       "1           0      2      0\n",
       "2           1      2      2\n",
       "3           0      2      2\n",
       "4           0      2      2\n",
       "..        ...    ...    ...\n",
       "409         1      2      1\n",
       "410         1      2      2\n",
       "411         1      2      1\n",
       "412         1      2      0\n",
       "413         1      2      1\n",
       "\n",
       "[414 rows x 3 columns]"
      ]
     },
     "execution_count": 24,
     "metadata": {},
     "output_type": "execute_result"
    }
   ],
   "source": [
    "classification_table"
   ]
  },
  {
   "cell_type": "markdown",
   "metadata": {},
   "source": [
    "### PREDICT USING PRIMARY TEST DATA & CLASSIFIER ENSEMBLE"
   ]
  },
  {
   "cell_type": "code",
   "execution_count": 25,
   "metadata": {},
   "outputs": [],
   "source": [
    "import numpy as np"
   ]
  },
  {
   "cell_type": "code",
   "execution_count": 48,
   "metadata": {},
   "outputs": [],
   "source": [
    "foo_dataset = []"
   ]
  },
  {
   "cell_type": "code",
   "execution_count": 49,
   "metadata": {},
   "outputs": [],
   "source": [
    "for index, item in enumerate(regression_ensemble):\n",
    "    \n",
    "    # PARAMS\n",
    "    models = item['models']\n",
    "    settings = item['settings']\n",
    "    \n",
    "    # RESULT CONTAINER\n",
    "    all_predictions = []\n",
    "    \n",
    "    # LOOP THROUGH MODELS\n",
    "    for model in item['models']:\n",
    "        \n",
    "        # PLACEHOLDER\n",
    "        all_predictions = []\n",
    "\n",
    "        # IF THE DATASET HAS TO BE MORPHED\n",
    "        if settings != None and 'morph' in settings:\n",
    "            \n",
    "            # CREATE A WINDOWED DATASET\n",
    "            windowed = splitting.windowed(\n",
    "                primary_dataset,\n",
    "                settings['morph']['window']\n",
    "            )\n",
    "        \n",
    "            # CREATE A GENERATOR\n",
    "            generator = splitting.generator(\n",
    "                windowed,\n",
    "                settings['morph'],\n",
    "                shuffle=False\n",
    "            )\n",
    "            \n",
    "            # PREDICT WITH IT\n",
    "            predictions = model.predict(generator)\n",
    "            \n",
    "        # OTHERWISE, PREDICT AS IS\n",
    "        else:\n",
    "            predictions = model.predict(primary_dataset['test']['features'])\n",
    "            \n",
    "        # APPEND TO CONTAINER\n",
    "        all_predictions.append(predictions)\n",
    "            \n",
    "    # CALCULATE AVERAGE PREDICTION\n",
    "    average_predictions = np.ndarray.flatten(np.mean(all_predictions, axis=0))\n",
    "    \n",
    "    # APPEND RESULT\n",
    "    foo_dataset.append(average_predictions)"
   ]
  },
  {
   "cell_type": "code",
   "execution_count": 55,
   "metadata": {
    "scrolled": true
   },
   "outputs": [
    {
     "data": {
      "text/plain": [
       "array([0.952427  , 0.96110064, 0.9268561 , 0.9300386 , 0.94256794,\n",
       "       0.9527898 , 0.9662841 , 0.95687383, 1.0458897 , 1.1061842 ,\n",
       "       1.1492535 , 1.0720521 , 1.0669695 , 1.030001  , 0.987394  ,\n",
       "       0.98650926, 0.9421344 , 0.9282774 , 1.0568801 , 1.1162877 ,\n",
       "       1.0784506 , 1.0868793 , 1.0880693 , 1.0533451 , 1.0110635 ,\n",
       "       1.0318277 , 1.0496094 , 1.0625324 , 1.0351976 , 1.0860819 ,\n",
       "       1.159286  , 1.0777433 , 1.1180282 , 1.0856544 , 1.0988973 ,\n",
       "       1.1507746 , 1.1945015 , 1.208746  , 1.1663144 , 1.05433   ,\n",
       "       1.0495996 , 1.0361747 , 1.0050905 , 1.0120798 , 1.1240513 ,\n",
       "       1.1313297 , 1.156934  , 1.1856443 , 1.1537558 , 1.1033417 ,\n",
       "       1.1816919 , 1.2283163 , 1.1314911 , 1.021478  , 1.0102576 ,\n",
       "       1.0542512 , 1.003619  , 1.0189654 , 1.0025207 , 0.9958636 ,\n",
       "       1.0299578 , 1.063835  , 1.0487922 , 1.1157405 , 1.1479828 ,\n",
       "       1.1595947 , 1.0966895 , 1.1414154 , 1.09712   , 1.1010128 ,\n",
       "       0.9823786 , 1.068364  , 1.1214677 , 1.0789762 , 1.0642326 ,\n",
       "       1.1403598 , 1.126426  , 1.1222783 , 1.1413162 , 1.1528485 ,\n",
       "       1.1482121 , 1.2029932 , 1.1270654 , 1.1349031 , 1.1068362 ,\n",
       "       1.1338882 , 1.0632068 , 1.0004056 , 0.9343723 , 0.95693284,\n",
       "       0.95779985, 1.0046006 , 1.0283773 , 1.0652894 , 1.0619706 ,\n",
       "       1.082637  , 1.1203421 , 1.0042055 , 1.0068685 , 1.09858   ,\n",
       "       1.0832477 , 1.0293971 , 0.9549719 , 0.99378717, 1.0324441 ,\n",
       "       1.0408752 , 1.0372095 , 0.98725957, 0.9440077 , 0.9904412 ,\n",
       "       1.042309  , 1.0448375 , 0.9836055 , 0.96008116, 0.9547452 ,\n",
       "       0.9604802 , 0.976557  , 1.003638  , 0.957843  , 0.967312  ,\n",
       "       0.93552756, 0.924788  , 0.9610778 , 0.9956626 , 1.0018398 ,\n",
       "       0.8524399 , 0.9029468 , 0.9249537 , 0.9014536 , 0.92870486,\n",
       "       0.83440024, 0.8297398 , 0.82408607, 0.81663275, 0.8328922 ,\n",
       "       0.8230368 , 0.83869696, 0.8294058 , 0.85915434, 0.96134096,\n",
       "       0.92792714, 0.9794219 , 0.93551224, 1.0104442 , 1.0195016 ,\n",
       "       0.96294296, 0.94861645, 0.99674267, 0.96259147, 0.9443336 ,\n",
       "       0.90778714, 0.8992853 , 0.89983845, 0.8669239 , 0.9207965 ,\n",
       "       0.82407004, 0.8141547 , 0.8027787 , 0.81563133, 0.8664452 ,\n",
       "       0.8661717 , 0.8562949 , 0.9106872 , 0.875314  , 0.89617467,\n",
       "       0.8912016 , 0.88027894, 0.9836697 , 1.0332155 , 1.006131  ,\n",
       "       0.9269334 , 0.9651663 , 0.9853665 , 0.93847907, 0.86686754,\n",
       "       0.928769  , 0.899169  , 0.9059037 , 0.83986837, 0.88497955,\n",
       "       0.9039146 , 1.0258886 , 1.0141617 , 1.0315244 , 0.9854141 ,\n",
       "       0.9910018 , 0.9990447 , 1.0262659 , 0.9324768 , 0.87957096,\n",
       "       0.9009335 , 0.93092906, 0.90195966, 0.9138181 , 0.9061893 ,\n",
       "       0.93530273, 0.91099566, 0.90800667, 0.9147588 , 0.87242514,\n",
       "       0.7976092 , 0.8565123 , 0.83514595, 0.8399612 , 0.8654337 ,\n",
       "       0.90891576, 0.914436  , 0.8897461 , 0.945513  , 0.9380759 ,\n",
       "       0.9448748 , 0.9660696 , 1.016566  , 1.0501969 , 0.9938262 ,\n",
       "       1.0041041 , 0.992018  , 0.95777786, 0.996194  , 0.901206  ,\n",
       "       0.85909176, 0.87864214, 0.8679844 , 0.86341333, 0.90260816,\n",
       "       0.85741013, 0.83621   , 0.87957335, 0.9233502 , 1.0027437 ,\n",
       "       0.98134756, 0.9643125 , 1.0508506 , 0.99773455, 0.98842424,\n",
       "       0.9592296 , 1.0214744 , 1.0219289 , 1.0494562 , 0.9597461 ,\n",
       "       0.9733281 , 0.9796548 , 0.99022716, 0.9654086 , 0.85259974,\n",
       "       0.84246373, 0.9314145 , 0.9574084 , 0.93062824, 0.9544683 ,\n",
       "       0.9794142 , 1.011024  , 1.0215014 , 0.9359404 , 0.9373388 ,\n",
       "       1.0018508 , 0.98625433, 0.9917074 , 0.93509597, 0.9372183 ,\n",
       "       0.96482855, 0.9617256 , 0.93839425, 0.89196205, 0.8403956 ,\n",
       "       0.91756785, 0.9810247 , 0.990491  , 0.9410072 , 0.8567913 ,\n",
       "       0.9426582 , 0.8953399 , 0.9109022 , 0.95796144, 0.9312922 ,\n",
       "       0.89332217, 0.83940643, 0.8538226 , 0.81845987, 0.82693946,\n",
       "       0.90670896, 0.9019318 , 0.8849904 , 0.91470593, 0.9753471 ,\n",
       "       0.94381964, 0.91546094, 0.8998273 , 0.9388815 , 0.880041  ,\n",
       "       0.8642938 , 0.8456551 , 0.9144095 , 0.9426813 , 0.91742736,\n",
       "       0.9082489 , 0.99159515, 0.99706674, 0.91345966, 0.8823943 ,\n",
       "       0.8972494 , 0.9474205 , 1.0147963 , 0.9291996 , 0.90872294,\n",
       "       0.8845746 , 0.929688  , 0.8503934 , 0.8990924 , 0.8897133 ,\n",
       "       0.8328859 , 0.872803  , 1.000532  , 0.940094  , 1.045053  ,\n",
       "       0.9189086 , 0.9531603 , 0.9489398 , 0.9013343 , 0.9382842 ,\n",
       "       1.0007802 , 0.9298544 , 0.91973025, 0.9585036 , 1.0173779 ,\n",
       "       1.0113848 , 1.0381142 , 1.0691262 , 1.0661263 , 1.0308077 ,\n",
       "       1.0405313 , 1.0598835 , 0.9520345 , 1.0603733 , 0.8988118 ,\n",
       "       0.94132596, 0.86948735, 0.8708836 , 0.87087625, 0.9017184 ,\n",
       "       0.888296  , 0.9508121 , 0.9805729 , 0.9921772 , 0.9790394 ,\n",
       "       1.0127677 , 0.99226075, 0.96418834, 1.0639899 , 0.97152996,\n",
       "       1.019537  , 0.9997161 , 0.9421901 , 0.8969784 , 0.913831  ,\n",
       "       0.87731296, 0.8447745 , 0.83496004, 0.76103073, 0.793619  ,\n",
       "       0.8332733 , 0.8740714 , 0.87857926, 0.8532195 , 0.94939244,\n",
       "       0.9824223 , 0.9656675 , 0.9196838 , 0.8528495 , 0.9320764 ,\n",
       "       0.8890927 , 0.91574997, 0.91636026, 0.9461278 , 0.8742807 ,\n",
       "       0.89585686, 0.7863358 , 0.77249384, 0.82056916, 0.8555418 ,\n",
       "       0.93376553, 0.9402601 , 0.9374552 , 1.0040056 , 1.0634979 ,\n",
       "       1.0135924 , 0.9776915 , 1.0279515 , 1.0174396 , 0.997883  ,\n",
       "       0.98839784, 1.0070561 , 0.9987864 , 1.0096221 , 0.8564918 ,\n",
       "       0.86602783, 0.8484022 , 0.8392381 , 0.8115696 , 0.84590304,\n",
       "       0.8005963 , 0.84647286, 0.79843533, 0.8833694 , 0.89364433,\n",
       "       0.967121  , 0.94688   , 0.96366155, 0.9597431 , 0.8660201 ,\n",
       "       0.8795195 , 0.90454215, 0.9327942 , 0.89527273, 0.9126483 ,\n",
       "       0.92221564, 0.8776704 , 0.8741486 , 0.799379  , 0.84316105,\n",
       "       0.83102983, 0.8229542 , 0.812924  , 0.8492379 , 0.85238385,\n",
       "       0.89209473, 0.87584645, 0.90591776, 0.9135362 , 0.9360549 ,\n",
       "       0.9542859 , 0.96892506, 1.0226552 , 0.93406755, 0.903632  ,\n",
       "       0.8970048 , 0.90450686, 0.8587853 , 0.9082672 , 0.91717064,\n",
       "       0.86184806, 0.8528143 , 0.84710914, 0.89235544, 0.92210656,\n",
       "       0.8672614 , 0.9246727 , 0.91259587, 0.8451816 , 0.8271799 ,\n",
       "       0.8344028 , 0.852699  , 0.9235298 , 0.9302048 , 0.9670121 ,\n",
       "       0.9876382 , 0.9588992 , 0.9210684 , 0.9584908 , 0.9537957 ,\n",
       "       0.8390194 , 0.8252969 , 0.79065347, 0.80611694, 0.81091726,\n",
       "       0.8384192 , 0.8461354 , 0.8752589 , 0.9435311 , 0.96572655,\n",
       "       1.0190228 , 1.0022454 , 1.0129642 , 0.9804965 , 0.9871511 ,\n",
       "       0.9784419 , 0.94371796, 0.97451913, 0.921985  , 0.93968785,\n",
       "       0.94636524, 0.8603164 , 0.9180777 , 1.0111303 , 0.9930915 ,\n",
       "       0.9902971 , 0.9459791 , 0.9041041 , 0.9257652 , 0.95170367,\n",
       "       0.8980592 , 0.86084026, 0.9516283 , 0.85553825, 0.8561014 ,\n",
       "       0.8651867 , 0.8164592 , 0.87138206, 0.84570944, 0.8486428 ,\n",
       "       0.7905979 , 0.82572377, 0.7870567 , 0.8145801 , 0.8534898 ,\n",
       "       0.8833404 , 0.8888211 , 0.9478044 , 0.99548113, 0.9441293 ,\n",
       "       0.95944476, 0.9517013 , 0.9137855 , 0.9193939 , 0.9096316 ,\n",
       "       0.9125857 , 0.9411438 , 0.9564794 , 0.9116516 , 0.87367266,\n",
       "       0.95169604, 0.86328703, 0.85775536, 0.84891784, 0.86974037,\n",
       "       0.8827907 , 0.7858821 , 0.8150658 , 0.7972263 , 0.75755155,\n",
       "       0.7695246 , 0.75169784, 0.82712984, 0.7430911 , 0.8437915 ,\n",
       "       0.7510414 , 0.81450343, 0.83087254, 0.85525405, 0.832942  ,\n",
       "       0.9136589 , 0.89156306, 0.9224434 , 0.9267965 , 0.9503722 ,\n",
       "       0.889853  , 0.8757967 , 0.8106183 , 0.8359237 , 0.8397511 ,\n",
       "       0.7790194 , 0.7556486 , 0.7599356 , 0.74585843, 0.7658924 ,\n",
       "       0.82779276, 0.8261306 , 0.7993599 , 0.81562436, 0.88744664,\n",
       "       0.90670455, 0.9309013 , 0.84366894, 0.8606653 , 0.86029387,\n",
       "       0.88201857, 0.850444  , 0.8367717 , 0.84448355, 0.85320514,\n",
       "       0.83339894, 0.83904177, 0.7991415 , 0.7898002 , 0.8135115 ,\n",
       "       0.9171783 , 0.8931988 , 0.9360916 , 0.9523206 , 0.9292934 ,\n",
       "       0.9822494 , 1.0199095 , 1.00959   , 0.9750713 , 0.9399688 ,\n",
       "       0.9472966 , 0.8939929 , 0.88492143, 0.85602605, 0.81083626,\n",
       "       0.81883895, 0.8573226 , 0.91932654, 0.90724266, 0.95767915,\n",
       "       0.93176615, 0.93006444, 0.90562654, 0.8303896 , 0.8933518 ,\n",
       "       0.8286923 , 0.7665866 , 0.831486  , 0.77313125, 0.85488087,\n",
       "       0.8103188 , 0.79720736, 0.83373207, 0.8780301 , 0.81020504,\n",
       "       0.87358326, 0.81926835, 0.87161374, 0.8486582 , 0.9194393 ,\n",
       "       0.914079  , 0.9901005 , 0.97630125, 0.9973798 , 0.9879848 ,\n",
       "       0.9205386 , 0.93182594], dtype=float32)"
      ]
     },
     "execution_count": 55,
     "metadata": {},
     "output_type": "execute_result"
    }
   ],
   "source": [
    "foo_dataset[2]"
   ]
  },
  {
   "cell_type": "code",
   "execution_count": null,
   "metadata": {},
   "outputs": [],
   "source": [
    "foo = np.array([\n",
    "    [5, 2, 3, 4, 5],\n",
    "    [1, 2, 3, 4, 5],\n",
    "    [1, 2, 3, 4, 5]\n",
    "])"
   ]
  },
  {
   "cell_type": "code",
   "execution_count": null,
   "metadata": {},
   "outputs": [],
   "source": [
    "foo.mean(axis = 0)"
   ]
  },
  {
   "cell_type": "code",
   "execution_count": null,
   "metadata": {},
   "outputs": [],
   "source": []
  },
  {
   "cell_type": "code",
   "execution_count": null,
   "metadata": {},
   "outputs": [],
   "source": []
  }
 ],
 "metadata": {
  "kernelspec": {
   "display_name": "Python 3",
   "language": "python",
   "name": "python3"
  },
  "language_info": {
   "codemirror_mode": {
    "name": "ipython",
    "version": 3
   },
   "file_extension": ".py",
   "mimetype": "text/x-python",
   "name": "python",
   "nbconvert_exporter": "python",
   "pygments_lexer": "ipython3",
   "version": "3.7.9"
  }
 },
 "nbformat": 4,
 "nbformat_minor": 4
}
