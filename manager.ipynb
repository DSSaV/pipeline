{
 "cells": [
  {
   "cell_type": "markdown",
   "metadata": {},
   "source": [
    "### IMPORTS"
   ]
  },
  {
   "cell_type": "code",
   "execution_count": 1,
   "metadata": {},
   "outputs": [],
   "source": [
    "import ipynb.fs.full.processing as processing\n",
    "import ipynb.fs.full.features as features\n",
    "import ipynb.fs.full.training as training\n",
    "import ipynb.fs.full.analysis as analysis\n",
    "import ipynb.fs.full.storage as storage"
   ]
  },
  {
   "cell_type": "markdown",
   "metadata": {},
   "source": [
    "### SERIALIZE THE YAML CONFIG"
   ]
  },
  {
   "cell_type": "code",
   "execution_count": 2,
   "metadata": {},
   "outputs": [],
   "source": [
    "config = storage.load_config('extra/config.yaml')"
   ]
  },
  {
   "cell_type": "code",
   "execution_count": 3,
   "metadata": {},
   "outputs": [
    {
     "data": {
      "text/plain": [
       "{'data': 'extra/dataset.csv',\n",
       " 'processing': {'resample': True,\n",
       "  'time': 'D',\n",
       "  'aggregate': {'Open': 'first',\n",
       "   'High': 'max',\n",
       "   'Low': 'min',\n",
       "   'Close': 'last',\n",
       "   'Volume': 'sum'},\n",
       "  'label': {'from': 'Close', 'shift': 1}},\n",
       " 'features': {'add': ['SK', 'SD', 'Momentum'],\n",
       "  'window': 14,\n",
       "  'filter': ['Close', 'Momentum', 'SD', 'Label']},\n",
       " 'ensamble': {'models': [{'linreg': {'split': {'train': 0.8, 'test': 0.2}}},\n",
       "   {'lstm': {'split': {'train': 0.6, 'test': 0.2, 'validation': 0.2},\n",
       "     'layers': [{'lstm': {'value': 120, 'activation': 'relu'}},\n",
       "      {'dropout': {'value': 0.15}},\n",
       "      {'dense': {'value': 50, 'activation': 'relu'}},\n",
       "      {'dense': {'value': 1}}],\n",
       "     'epochs': 20,\n",
       "     'batch': 8,\n",
       "     'validation': 25,\n",
       "     'loss': 'mean_squared_error',\n",
       "     'optimizer': 'rmsprop'}}],\n",
       "  'decision': 'mean'},\n",
       " 'training': {'linreg': None,\n",
       "  'lstm': {'layers': [{'lstm': {'nodes': 120, 'activation': 'relu'}},\n",
       "    {'dropout': {'nodes': 0.15}},\n",
       "    {'dense': {'nodes': 50, 'activation': 'relu'}},\n",
       "    {'dense': {'nodes': 1}}],\n",
       "   'epochs': 20,\n",
       "   'batch': 8,\n",
       "   'validation': 25}}}"
      ]
     },
     "execution_count": 3,
     "metadata": {},
     "output_type": "execute_result"
    }
   ],
   "source": [
    "config"
   ]
  },
  {
   "cell_type": "markdown",
   "metadata": {},
   "source": [
    "### STEP 1: PROCESS RAW DATA TO DATAFRAME"
   ]
  },
  {
   "cell_type": "code",
   "execution_count": 4,
   "metadata": {},
   "outputs": [],
   "source": [
    "dataframe = processing.create_dataframe(config)"
   ]
  },
  {
   "cell_type": "code",
   "execution_count": 5,
   "metadata": {},
   "outputs": [
    {
     "data": {
      "text/html": [
       "<div>\n",
       "<style scoped>\n",
       "    .dataframe tbody tr th:only-of-type {\n",
       "        vertical-align: middle;\n",
       "    }\n",
       "\n",
       "    .dataframe tbody tr th {\n",
       "        vertical-align: top;\n",
       "    }\n",
       "\n",
       "    .dataframe thead th {\n",
       "        text-align: right;\n",
       "    }\n",
       "</style>\n",
       "<table border=\"1\" class=\"dataframe\">\n",
       "  <thead>\n",
       "    <tr style=\"text-align: right;\">\n",
       "      <th></th>\n",
       "      <th>Open</th>\n",
       "      <th>High</th>\n",
       "      <th>Low</th>\n",
       "      <th>Close</th>\n",
       "      <th>Volume</th>\n",
       "      <th>Label</th>\n",
       "    </tr>\n",
       "    <tr>\n",
       "      <th>Date_Timestamp</th>\n",
       "      <th></th>\n",
       "      <th></th>\n",
       "      <th></th>\n",
       "      <th></th>\n",
       "      <th></th>\n",
       "      <th></th>\n",
       "    </tr>\n",
       "  </thead>\n",
       "  <tbody>\n",
       "    <tr>\n",
       "      <th>2010-01-01</th>\n",
       "      <td>1.43327</td>\n",
       "      <td>1.43356</td>\n",
       "      <td>1.43207</td>\n",
       "      <td>1.43335</td>\n",
       "      <td>39761.000053</td>\n",
       "      <td>1.43141</td>\n",
       "    </tr>\n",
       "    <tr>\n",
       "      <th>2010-01-03</th>\n",
       "      <td>1.43024</td>\n",
       "      <td>1.43359</td>\n",
       "      <td>1.42951</td>\n",
       "      <td>1.43141</td>\n",
       "      <td>3001.600003</td>\n",
       "      <td>1.44244</td>\n",
       "    </tr>\n",
       "    <tr>\n",
       "      <th>2010-01-04</th>\n",
       "      <td>1.43143</td>\n",
       "      <td>1.44556</td>\n",
       "      <td>1.42559</td>\n",
       "      <td>1.44244</td>\n",
       "      <td>80019.400094</td>\n",
       "      <td>1.43634</td>\n",
       "    </tr>\n",
       "    <tr>\n",
       "      <th>2010-01-05</th>\n",
       "      <td>1.44238</td>\n",
       "      <td>1.44834</td>\n",
       "      <td>1.43445</td>\n",
       "      <td>1.43634</td>\n",
       "      <td>79887.100067</td>\n",
       "      <td>1.44005</td>\n",
       "    </tr>\n",
       "    <tr>\n",
       "      <th>2010-01-06</th>\n",
       "      <td>1.43638</td>\n",
       "      <td>1.44342</td>\n",
       "      <td>1.42807</td>\n",
       "      <td>1.44005</td>\n",
       "      <td>80971.800085</td>\n",
       "      <td>1.43155</td>\n",
       "    </tr>\n",
       "  </tbody>\n",
       "</table>\n",
       "</div>"
      ],
      "text/plain": [
       "                   Open     High      Low    Close        Volume    Label\n",
       "Date_Timestamp                                                           \n",
       "2010-01-01      1.43327  1.43356  1.43207  1.43335  39761.000053  1.43141\n",
       "2010-01-03      1.43024  1.43359  1.42951  1.43141   3001.600003  1.44244\n",
       "2010-01-04      1.43143  1.44556  1.42559  1.44244  80019.400094  1.43634\n",
       "2010-01-05      1.44238  1.44834  1.43445  1.43634  79887.100067  1.44005\n",
       "2010-01-06      1.43638  1.44342  1.42807  1.44005  80971.800085  1.43155"
      ]
     },
     "execution_count": 5,
     "metadata": {},
     "output_type": "execute_result"
    }
   ],
   "source": [
    "dataframe.head(5)"
   ]
  },
  {
   "cell_type": "markdown",
   "metadata": {},
   "source": [
    "### STEP 2: ADD FEATURES TO DATAFRAME"
   ]
  },
  {
   "cell_type": "code",
   "execution_count": 6,
   "metadata": {},
   "outputs": [],
   "source": [
    "dataset = features.add(dataframe, config['features'])"
   ]
  },
  {
   "cell_type": "code",
   "execution_count": 7,
   "metadata": {},
   "outputs": [
    {
     "data": {
      "text/html": [
       "<div>\n",
       "<style scoped>\n",
       "    .dataframe tbody tr th:only-of-type {\n",
       "        vertical-align: middle;\n",
       "    }\n",
       "\n",
       "    .dataframe tbody tr th {\n",
       "        vertical-align: top;\n",
       "    }\n",
       "\n",
       "    .dataframe thead th {\n",
       "        text-align: right;\n",
       "    }\n",
       "</style>\n",
       "<table border=\"1\" class=\"dataframe\">\n",
       "  <thead>\n",
       "    <tr style=\"text-align: right;\">\n",
       "      <th></th>\n",
       "      <th>Close</th>\n",
       "      <th>Momentum</th>\n",
       "      <th>SD</th>\n",
       "      <th>Label</th>\n",
       "    </tr>\n",
       "    <tr>\n",
       "      <th>Date_Timestamp</th>\n",
       "      <th></th>\n",
       "      <th></th>\n",
       "      <th></th>\n",
       "      <th></th>\n",
       "    </tr>\n",
       "  </thead>\n",
       "  <tbody>\n",
       "    <tr>\n",
       "      <th>2010-02-01</th>\n",
       "      <td>1.39200</td>\n",
       "      <td>-0.04649</td>\n",
       "      <td>14.842308</td>\n",
       "      <td>1.39737</td>\n",
       "    </tr>\n",
       "    <tr>\n",
       "      <th>2010-02-02</th>\n",
       "      <td>1.39737</td>\n",
       "      <td>-0.03928</td>\n",
       "      <td>13.972612</td>\n",
       "      <td>1.38969</td>\n",
       "    </tr>\n",
       "    <tr>\n",
       "      <th>2010-02-03</th>\n",
       "      <td>1.38969</td>\n",
       "      <td>-0.05070</td>\n",
       "      <td>11.302307</td>\n",
       "      <td>1.37395</td>\n",
       "    </tr>\n",
       "    <tr>\n",
       "      <th>2010-02-04</th>\n",
       "      <td>1.37395</td>\n",
       "      <td>-0.05393</td>\n",
       "      <td>11.014429</td>\n",
       "      <td>1.36763</td>\n",
       "    </tr>\n",
       "    <tr>\n",
       "      <th>2010-02-05</th>\n",
       "      <td>1.36763</td>\n",
       "      <td>-0.04356</td>\n",
       "      <td>11.636518</td>\n",
       "      <td>1.36409</td>\n",
       "    </tr>\n",
       "  </tbody>\n",
       "</table>\n",
       "</div>"
      ],
      "text/plain": [
       "                  Close  Momentum         SD    Label\n",
       "Date_Timestamp                                       \n",
       "2010-02-01      1.39200  -0.04649  14.842308  1.39737\n",
       "2010-02-02      1.39737  -0.03928  13.972612  1.38969\n",
       "2010-02-03      1.38969  -0.05070  11.302307  1.37395\n",
       "2010-02-04      1.37395  -0.05393  11.014429  1.36763\n",
       "2010-02-05      1.36763  -0.04356  11.636518  1.36409"
      ]
     },
     "execution_count": 7,
     "metadata": {},
     "output_type": "execute_result"
    }
   ],
   "source": [
    "dataset.head(5)"
   ]
  },
  {
   "cell_type": "markdown",
   "metadata": {},
   "source": [
    "### STEP 3: TRAIN ENSAMBLE"
   ]
  },
  {
   "cell_type": "code",
   "execution_count": 8,
   "metadata": {},
   "outputs": [],
   "source": [
    "ensamble = []"
   ]
  },
  {
   "cell_type": "code",
   "execution_count": 9,
   "metadata": {
    "scrolled": true
   },
   "outputs": [
    {
     "name": "stdout",
     "output_type": "stream",
     "text": [
      "LINREG STARTED\n",
      "LINREG FINISHED\n",
      "LSTM STARTED\n",
      "WARNING:tensorflow:From C:\\Users\\35840\\Anaconda3\\lib\\site-packages\\tensorflow_core\\python\\ops\\resource_variable_ops.py:1630: calling BaseResourceVariable.__init__ (from tensorflow.python.ops.resource_variable_ops) with constraint is deprecated and will be removed in a future version.\n",
      "Instructions for updating:\n",
      "If using Keras pass *_constraint arguments to layers.\n",
      "WARNING:tensorflow:From C:\\Users\\35840\\Anaconda3\\lib\\site-packages\\tensorflow_core\\python\\ops\\math_grad.py:1424: where (from tensorflow.python.ops.array_ops) is deprecated and will be removed in a future version.\n",
      "Instructions for updating:\n",
      "Use tf.where in 2.0, which has the same broadcast rule as np.where\n",
      "Train on 1861 samples, validate on 620 samples\n",
      "Epoch 1/20\n",
      "1861/1861 [==============================] - 1s 674us/sample - loss: 0.0245 - val_loss: 0.0040\n",
      "Epoch 2/20\n",
      "1861/1861 [==============================] - 1s 370us/sample - loss: 0.0056 - val_loss: 0.0044\n",
      "Epoch 3/20\n",
      "1861/1861 [==============================] - 1s 371us/sample - loss: 0.0043 - val_loss: 0.0014\n",
      "Epoch 4/20\n",
      "1861/1861 [==============================] - 1s 366us/sample - loss: 0.0034 - val_loss: 0.0024\n",
      "Epoch 5/20\n",
      "1861/1861 [==============================] - 1s 369us/sample - loss: 0.0029 - val_loss: 0.0011\n",
      "Epoch 6/20\n",
      "1861/1861 [==============================] - 1s 380us/sample - loss: 0.0026 - val_loss: 0.0011\n",
      "Epoch 7/20\n",
      "1861/1861 [==============================] - 1s 379us/sample - loss: 0.0023 - val_loss: 0.0025\n",
      "Epoch 8/20\n",
      "1861/1861 [==============================] - 1s 370us/sample - loss: 0.0021 - val_loss: 0.0010\n",
      "Epoch 9/20\n",
      "1861/1861 [==============================] - 1s 371us/sample - loss: 0.0019 - val_loss: 7.9639e-04\n",
      "Epoch 10/20\n",
      "1861/1861 [==============================] - 1s 369us/sample - loss: 0.0017 - val_loss: 7.5979e-04\n",
      "Epoch 11/20\n",
      "1861/1861 [==============================] - 1s 382us/sample - loss: 0.0015 - val_loss: 7.8756e-04\n",
      "Epoch 12/20\n",
      "1861/1861 [==============================] - 1s 373us/sample - loss: 0.0014 - val_loss: 0.0013\n",
      "Epoch 13/20\n",
      "1861/1861 [==============================] - 1s 368us/sample - loss: 0.0014 - val_loss: 7.2292e-04\n",
      "Epoch 14/20\n",
      "1861/1861 [==============================] - 1s 370us/sample - loss: 0.0013 - val_loss: 6.9157e-04\n",
      "Epoch 15/20\n",
      "1861/1861 [==============================] - 1s 372us/sample - loss: 0.0013 - val_loss: 5.8184e-04\n",
      "Epoch 16/20\n",
      "1861/1861 [==============================] - 1s 369us/sample - loss: 0.0011 - val_loss: 6.7641e-04\n",
      "Epoch 17/20\n",
      "1861/1861 [==============================] - 1s 365us/sample - loss: 0.0011 - val_loss: 9.6818e-04\n",
      "Epoch 18/20\n",
      "1861/1861 [==============================] - 1s 365us/sample - loss: 0.0012 - val_loss: 3.9876e-04\n",
      "Epoch 19/20\n",
      "1861/1861 [==============================] - 1s 367us/sample - loss: 0.0010 - val_loss: 6.4451e-04\n",
      "Epoch 20/20\n",
      "1861/1861 [==============================] - 1s 370us/sample - loss: 9.1653e-04 - val_loss: 7.6016e-04\n",
      "LSTM FINISHED\n"
     ]
    }
   ],
   "source": [
    "# LOOP THROUGH REQUESTED MOEDLS\n",
    "for item in config['ensamble']['models']:\n",
    "    \n",
    "    # MODEL PROPS\n",
    "    name = list(item)[0]\n",
    "    params = item[name]\n",
    "    \n",
    "    # GENERATE FORMATTED, SPLIT & NORMALIZED DATA FOR TRAINING\n",
    "    data = features.split(dataset, name, params)\n",
    "\n",
    "    # TRAIN THE MODEL\n",
    "    model = training.start(data, name, params)\n",
    "    \n",
    "    # APPEND IT TO THE ENSAMBLE\n",
    "    ensamble.append(model)"
   ]
  },
  {
   "cell_type": "markdown",
   "metadata": {},
   "source": [
    "### STEP 5: SAVE THE ENSAMBLE"
   ]
  },
  {
   "cell_type": "code",
   "execution_count": null,
   "metadata": {},
   "outputs": [],
   "source": [
    "storage.save_result(result, config)"
   ]
  },
  {
   "cell_type": "code",
   "execution_count": null,
   "metadata": {},
   "outputs": [],
   "source": []
  }
 ],
 "metadata": {
  "kernelspec": {
   "display_name": "Python 3",
   "language": "python",
   "name": "python3"
  },
  "language_info": {
   "codemirror_mode": {
    "name": "ipython",
    "version": 3
   },
   "file_extension": ".py",
   "mimetype": "text/x-python",
   "name": "python",
   "nbconvert_exporter": "python",
   "pygments_lexer": "ipython3",
   "version": "3.7.9"
  }
 },
 "nbformat": 4,
 "nbformat_minor": 4
}
