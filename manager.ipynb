{
 "cells": [
  {
   "cell_type": "markdown",
   "metadata": {},
   "source": [
    "### IMPORTS"
   ]
  },
  {
   "cell_type": "code",
   "execution_count": 1,
   "metadata": {},
   "outputs": [],
   "source": [
    "import ipynb.fs.full.processing as processing\n",
    "import ipynb.fs.full.features as features\n",
    "import ipynb.fs.full.training as training\n",
    "import ipynb.fs.full.analysis as analysis\n",
    "import ipynb.fs.full.storage as storage\n",
    "import ipynb.fs.full.visualize as visualize"
   ]
  },
  {
   "cell_type": "code",
   "execution_count": 2,
   "metadata": {},
   "outputs": [],
   "source": [
    "import pandas as pd"
   ]
  },
  {
   "cell_type": "markdown",
   "metadata": {},
   "source": [
    "### SERIALIZE THE YAML CONFIG"
   ]
  },
  {
   "cell_type": "code",
   "execution_count": 3,
   "metadata": {},
   "outputs": [],
   "source": [
    "config = storage.load_yaml('extra/config.yaml')"
   ]
  },
  {
   "cell_type": "code",
   "execution_count": 4,
   "metadata": {
    "scrolled": false
   },
   "outputs": [
    {
     "data": {
      "text/plain": [
       "{'data': 'extra/dataset.csv',\n",
       " 'processing': {'resample': True,\n",
       "  'time': 'D',\n",
       "  'aggregate': {'Open': 'first',\n",
       "   'High': 'max',\n",
       "   'Low': 'min',\n",
       "   'Close': 'last',\n",
       "   'Volume': 'sum'},\n",
       "  'label': {'from': 'Close', 'shift': 1}},\n",
       " 'features': {'add': ['SK', 'SD', 'Momentum'],\n",
       "  'window': 14,\n",
       "  'filter': ['Close', 'Momentum', 'SD', 'Label']},\n",
       " 'ensemble': {'models': [{'linreg': {'split': {'train': 0.8, 'test': 0.2}}},\n",
       "   {'lstm': {'split': {'train': 0.6, 'test': 0.2, 'validation': 0.2},\n",
       "     'layers': [{'lstm': {'value': 120, 'activation': 'relu'}},\n",
       "      {'dropout': {'value': 0.15}},\n",
       "      {'dense': {'value': 50, 'activation': 'relu'}},\n",
       "      {'dense': {'value': 1}}],\n",
       "     'epochs': 20,\n",
       "     'batch': 8,\n",
       "     'validation': 25,\n",
       "     'loss': 'mean_squared_error',\n",
       "     'optimizer': 'rmsprop'}},\n",
       "   {'lstm': {'split': {'train': 0.6, 'test': 0.2, 'validation': 0.2},\n",
       "     'layers': [{'lstm': {'value': 120, 'activation': 'relu'}},\n",
       "      {'dropout': {'value': 0.15}},\n",
       "      {'dense': {'value': 50, 'activation': 'relu'}},\n",
       "      {'dense': {'value': 1}}],\n",
       "     'epochs': 10,\n",
       "     'batch': 4,\n",
       "     'validation': 40,\n",
       "     'loss': 'mean_squared_error',\n",
       "     'optimizer': 'adam'}}]}}"
      ]
     },
     "execution_count": 4,
     "metadata": {},
     "output_type": "execute_result"
    }
   ],
   "source": [
    "config"
   ]
  },
  {
   "cell_type": "markdown",
   "metadata": {},
   "source": [
    "### STEP 1: PROCESS RAW DATA TO DATAFRAME"
   ]
  },
  {
   "cell_type": "code",
   "execution_count": 5,
   "metadata": {},
   "outputs": [],
   "source": [
    "dataframe = processing.create_dataframe(config)"
   ]
  },
  {
   "cell_type": "code",
   "execution_count": 6,
   "metadata": {},
   "outputs": [
    {
     "data": {
      "text/html": [
       "<div>\n",
       "<style scoped>\n",
       "    .dataframe tbody tr th:only-of-type {\n",
       "        vertical-align: middle;\n",
       "    }\n",
       "\n",
       "    .dataframe tbody tr th {\n",
       "        vertical-align: top;\n",
       "    }\n",
       "\n",
       "    .dataframe thead th {\n",
       "        text-align: right;\n",
       "    }\n",
       "</style>\n",
       "<table border=\"1\" class=\"dataframe\">\n",
       "  <thead>\n",
       "    <tr style=\"text-align: right;\">\n",
       "      <th></th>\n",
       "      <th>Open</th>\n",
       "      <th>High</th>\n",
       "      <th>Low</th>\n",
       "      <th>Close</th>\n",
       "      <th>Volume</th>\n",
       "      <th>Label</th>\n",
       "    </tr>\n",
       "    <tr>\n",
       "      <th>Date_Timestamp</th>\n",
       "      <th></th>\n",
       "      <th></th>\n",
       "      <th></th>\n",
       "      <th></th>\n",
       "      <th></th>\n",
       "      <th></th>\n",
       "    </tr>\n",
       "  </thead>\n",
       "  <tbody>\n",
       "    <tr>\n",
       "      <th>2010-01-01</th>\n",
       "      <td>1.43327</td>\n",
       "      <td>1.43356</td>\n",
       "      <td>1.43207</td>\n",
       "      <td>1.43335</td>\n",
       "      <td>39761.000053</td>\n",
       "      <td>1.43141</td>\n",
       "    </tr>\n",
       "    <tr>\n",
       "      <th>2010-01-03</th>\n",
       "      <td>1.43024</td>\n",
       "      <td>1.43359</td>\n",
       "      <td>1.42951</td>\n",
       "      <td>1.43141</td>\n",
       "      <td>3001.600003</td>\n",
       "      <td>1.44244</td>\n",
       "    </tr>\n",
       "    <tr>\n",
       "      <th>2010-01-04</th>\n",
       "      <td>1.43143</td>\n",
       "      <td>1.44556</td>\n",
       "      <td>1.42559</td>\n",
       "      <td>1.44244</td>\n",
       "      <td>80019.400094</td>\n",
       "      <td>1.43634</td>\n",
       "    </tr>\n",
       "    <tr>\n",
       "      <th>2010-01-05</th>\n",
       "      <td>1.44238</td>\n",
       "      <td>1.44834</td>\n",
       "      <td>1.43445</td>\n",
       "      <td>1.43634</td>\n",
       "      <td>79887.100067</td>\n",
       "      <td>1.44005</td>\n",
       "    </tr>\n",
       "    <tr>\n",
       "      <th>2010-01-06</th>\n",
       "      <td>1.43638</td>\n",
       "      <td>1.44342</td>\n",
       "      <td>1.42807</td>\n",
       "      <td>1.44005</td>\n",
       "      <td>80971.800085</td>\n",
       "      <td>1.43155</td>\n",
       "    </tr>\n",
       "  </tbody>\n",
       "</table>\n",
       "</div>"
      ],
      "text/plain": [
       "                   Open     High      Low    Close        Volume    Label\n",
       "Date_Timestamp                                                           \n",
       "2010-01-01      1.43327  1.43356  1.43207  1.43335  39761.000053  1.43141\n",
       "2010-01-03      1.43024  1.43359  1.42951  1.43141   3001.600003  1.44244\n",
       "2010-01-04      1.43143  1.44556  1.42559  1.44244  80019.400094  1.43634\n",
       "2010-01-05      1.44238  1.44834  1.43445  1.43634  79887.100067  1.44005\n",
       "2010-01-06      1.43638  1.44342  1.42807  1.44005  80971.800085  1.43155"
      ]
     },
     "execution_count": 6,
     "metadata": {},
     "output_type": "execute_result"
    }
   ],
   "source": [
    "dataframe.head(5)"
   ]
  },
  {
   "cell_type": "markdown",
   "metadata": {},
   "source": [
    "### STEP 2: ADD FEATURES TO DATAFRAME"
   ]
  },
  {
   "cell_type": "code",
   "execution_count": 7,
   "metadata": {},
   "outputs": [],
   "source": [
    "dataset = features.add(dataframe, config['features'])"
   ]
  },
  {
   "cell_type": "code",
   "execution_count": 8,
   "metadata": {},
   "outputs": [
    {
     "data": {
      "text/html": [
       "<div>\n",
       "<style scoped>\n",
       "    .dataframe tbody tr th:only-of-type {\n",
       "        vertical-align: middle;\n",
       "    }\n",
       "\n",
       "    .dataframe tbody tr th {\n",
       "        vertical-align: top;\n",
       "    }\n",
       "\n",
       "    .dataframe thead th {\n",
       "        text-align: right;\n",
       "    }\n",
       "</style>\n",
       "<table border=\"1\" class=\"dataframe\">\n",
       "  <thead>\n",
       "    <tr style=\"text-align: right;\">\n",
       "      <th></th>\n",
       "      <th>Close</th>\n",
       "      <th>Momentum</th>\n",
       "      <th>SD</th>\n",
       "      <th>Label</th>\n",
       "    </tr>\n",
       "    <tr>\n",
       "      <th>Date_Timestamp</th>\n",
       "      <th></th>\n",
       "      <th></th>\n",
       "      <th></th>\n",
       "      <th></th>\n",
       "    </tr>\n",
       "  </thead>\n",
       "  <tbody>\n",
       "    <tr>\n",
       "      <th>2010-02-01</th>\n",
       "      <td>1.39200</td>\n",
       "      <td>-0.04649</td>\n",
       "      <td>14.842308</td>\n",
       "      <td>1.39737</td>\n",
       "    </tr>\n",
       "    <tr>\n",
       "      <th>2010-02-02</th>\n",
       "      <td>1.39737</td>\n",
       "      <td>-0.03928</td>\n",
       "      <td>13.972612</td>\n",
       "      <td>1.38969</td>\n",
       "    </tr>\n",
       "    <tr>\n",
       "      <th>2010-02-03</th>\n",
       "      <td>1.38969</td>\n",
       "      <td>-0.05070</td>\n",
       "      <td>11.302307</td>\n",
       "      <td>1.37395</td>\n",
       "    </tr>\n",
       "    <tr>\n",
       "      <th>2010-02-04</th>\n",
       "      <td>1.37395</td>\n",
       "      <td>-0.05393</td>\n",
       "      <td>11.014429</td>\n",
       "      <td>1.36763</td>\n",
       "    </tr>\n",
       "    <tr>\n",
       "      <th>2010-02-05</th>\n",
       "      <td>1.36763</td>\n",
       "      <td>-0.04356</td>\n",
       "      <td>11.636518</td>\n",
       "      <td>1.36409</td>\n",
       "    </tr>\n",
       "  </tbody>\n",
       "</table>\n",
       "</div>"
      ],
      "text/plain": [
       "                  Close  Momentum         SD    Label\n",
       "Date_Timestamp                                       \n",
       "2010-02-01      1.39200  -0.04649  14.842308  1.39737\n",
       "2010-02-02      1.39737  -0.03928  13.972612  1.38969\n",
       "2010-02-03      1.38969  -0.05070  11.302307  1.37395\n",
       "2010-02-04      1.37395  -0.05393  11.014429  1.36763\n",
       "2010-02-05      1.36763  -0.04356  11.636518  1.36409"
      ]
     },
     "execution_count": 8,
     "metadata": {},
     "output_type": "execute_result"
    }
   ],
   "source": [
    "dataset.head(5)"
   ]
  },
  {
   "cell_type": "markdown",
   "metadata": {},
   "source": [
    "### STEP 3: TRAIN MODEL ENSEMBLE"
   ]
  },
  {
   "cell_type": "code",
   "execution_count": 9,
   "metadata": {},
   "outputs": [],
   "source": [
    "ensemble = [None] * len(config['ensemble']['models'])"
   ]
  },
  {
   "cell_type": "code",
   "execution_count": null,
   "metadata": {
    "scrolled": true
   },
   "outputs": [],
   "source": [
    "# LOOP THROUGH REQUESTED MOEDLS\n",
    "for index, item in enumerate(config['ensemble']['models']):\n",
    "    \n",
    "    # MODEL PROPS\n",
    "    name = list(item)[0]\n",
    "    params = item[name]\n",
    "    \n",
    "    # GENERATE FORMATTED, SPLIT & NORMALIZED DATA FOR TRAINING\n",
    "    data = features.split(dataset, name, params)\n",
    "\n",
    "    # TRAIN THE MODEL\n",
    "    result = training.start(data, name, params)\n",
    "    \n",
    "    # APPEND IT TO THE ensemble\n",
    "    ensemble[index] = {\n",
    "        'name': name,\n",
    "        'result': result,\n",
    "        'scaler': data['scaler']\n",
    "    }"
   ]
  },
  {
   "cell_type": "markdown",
   "metadata": {},
   "source": [
    "### STEP 4: PREDICT WITH ENSEMBLE USING MEAN"
   ]
  },
  {
   "cell_type": "code",
   "execution_count": null,
   "metadata": {},
   "outputs": [],
   "source": [
    "averages = []"
   ]
  },
  {
   "cell_type": "code",
   "execution_count": null,
   "metadata": {},
   "outputs": [],
   "source": [
    "predictions = len(ensemble[0]['result']['predictions'])\n",
    "models = len(ensemble)"
   ]
  },
  {
   "cell_type": "code",
   "execution_count": null,
   "metadata": {},
   "outputs": [],
   "source": [
    "# LOOP THROUGH EACH PREDICTION INDEX\n",
    "for index in range(predictions):\n",
    "    value = 0\n",
    "    \n",
    "    # QUERY EVERY MODELS PREDICTION\n",
    "    for item in ensemble:\n",
    "        value += item['result']['predictions'][index]\n",
    "        \n",
    "    # CALCULATE THE MEAN VALUE & APPEND\n",
    "    mean = value / models\n",
    "    averages.append(mean)"
   ]
  },
  {
   "cell_type": "markdown",
   "metadata": {},
   "source": [
    "### STEP 5: VISUALIZE DIFFERENCES"
   ]
  },
  {
   "cell_type": "code",
   "execution_count": null,
   "metadata": {},
   "outputs": [],
   "source": [
    "analysis = pd.DataFrame(dataset['Label'], index=dataset.index[-predictions:])"
   ]
  },
  {
   "cell_type": "code",
   "execution_count": null,
   "metadata": {},
   "outputs": [],
   "source": [
    "analysis = analysis.rename(columns={\n",
    "    'Label': 'actual'\n",
    "})"
   ]
  },
  {
   "cell_type": "code",
   "execution_count": null,
   "metadata": {},
   "outputs": [],
   "source": [
    "analysis['ensemble'] = averages"
   ]
  },
  {
   "cell_type": "code",
   "execution_count": null,
   "metadata": {},
   "outputs": [],
   "source": [
    "# LOOP THROUGH ENSEMBLE MODELS\n",
    "for index, foo in enumerate(ensemble):\n",
    "    \n",
    "    # EXTRACT NAME & PREDICTIONS\n",
    "    name = foo['name']\n",
    "    data = foo['result']['predictions']\n",
    "    \n",
    "    # ADD AS DF COLUMN\n",
    "    analysis[name + '_' + str(index)] = data"
   ]
  },
  {
   "cell_type": "code",
   "execution_count": null,
   "metadata": {
    "scrolled": false
   },
   "outputs": [],
   "source": [
    "analysis"
   ]
  },
  {
   "cell_type": "code",
   "execution_count": null,
   "metadata": {
    "scrolled": false
   },
   "outputs": [],
   "source": [
    "visualize.differences(analysis)"
   ]
  },
  {
   "cell_type": "markdown",
   "metadata": {},
   "source": [
    "### STEP 6: SAVE ENSEMBLE MODELS, PREDICTIONS & BUILD CONFIG"
   ]
  },
  {
   "cell_type": "code",
   "execution_count": null,
   "metadata": {},
   "outputs": [],
   "source": [
    "storage.save_ensemble({\n",
    "    'config': config,\n",
    "    'predictions': analysis,\n",
    "    'ensemble': ensemble\n",
    "})"
   ]
  },
  {
   "cell_type": "code",
   "execution_count": null,
   "metadata": {},
   "outputs": [],
   "source": []
  }
 ],
 "metadata": {
  "kernelspec": {
   "display_name": "Python 3",
   "language": "python",
   "name": "python3"
  },
  "language_info": {
   "codemirror_mode": {
    "name": "ipython",
    "version": 3
   },
   "file_extension": ".py",
   "mimetype": "text/x-python",
   "name": "python",
   "nbconvert_exporter": "python",
   "pygments_lexer": "ipython3",
   "version": "3.7.9"
  }
 },
 "nbformat": 4,
 "nbformat_minor": 4
}
