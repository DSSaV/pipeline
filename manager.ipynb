{
 "cells": [
  {
   "cell_type": "markdown",
   "metadata": {},
   "source": [
    "### IMPORTS"
   ]
  },
  {
   "cell_type": "code",
   "execution_count": 1,
   "metadata": {},
   "outputs": [],
   "source": [
    "import ipynb.fs.full.processing as processing\n",
    "import ipynb.fs.full.features as features\n",
    "import ipynb.fs.full.training as training\n",
    "import ipynb.fs.full.analysis as analysis\n",
    "import ipynb.fs.full.storage as storage\n",
    "import ipynb.fs.full.visualize as visualize\n",
    "import ipynb.fs.full.misc as misc\n",
    "import ipynb.fs.full.decision as decision"
   ]
  },
  {
   "cell_type": "markdown",
   "metadata": {},
   "source": [
    "### SERIALIZE THE YAML CONFIG"
   ]
  },
  {
   "cell_type": "code",
   "execution_count": 2,
   "metadata": {},
   "outputs": [],
   "source": [
    "config = storage.load_yaml('extra/config.yaml')"
   ]
  },
  {
   "cell_type": "markdown",
   "metadata": {},
   "source": [
    "### STEP 1: PROCESS RAW DATA TO DATAFRAME"
   ]
  },
  {
   "cell_type": "code",
   "execution_count": 3,
   "metadata": {},
   "outputs": [],
   "source": [
    "dataframe = processing.create_dataframe(config)"
   ]
  },
  {
   "cell_type": "code",
   "execution_count": 4,
   "metadata": {},
   "outputs": [
    {
     "data": {
      "text/html": [
       "<div>\n",
       "<style scoped>\n",
       "    .dataframe tbody tr th:only-of-type {\n",
       "        vertical-align: middle;\n",
       "    }\n",
       "\n",
       "    .dataframe tbody tr th {\n",
       "        vertical-align: top;\n",
       "    }\n",
       "\n",
       "    .dataframe thead th {\n",
       "        text-align: right;\n",
       "    }\n",
       "</style>\n",
       "<table border=\"1\" class=\"dataframe\">\n",
       "  <thead>\n",
       "    <tr style=\"text-align: right;\">\n",
       "      <th></th>\n",
       "      <th>open</th>\n",
       "      <th>high</th>\n",
       "      <th>low</th>\n",
       "      <th>close</th>\n",
       "      <th>volume</th>\n",
       "      <th>label</th>\n",
       "    </tr>\n",
       "    <tr>\n",
       "      <th>Date_Timestamp</th>\n",
       "      <th></th>\n",
       "      <th></th>\n",
       "      <th></th>\n",
       "      <th></th>\n",
       "      <th></th>\n",
       "      <th></th>\n",
       "    </tr>\n",
       "  </thead>\n",
       "  <tbody>\n",
       "    <tr>\n",
       "      <th>2010-01-01</th>\n",
       "      <td>1.43327</td>\n",
       "      <td>1.43356</td>\n",
       "      <td>1.43207</td>\n",
       "      <td>1.43335</td>\n",
       "      <td>39761.000053</td>\n",
       "      <td>1.43141</td>\n",
       "    </tr>\n",
       "    <tr>\n",
       "      <th>2010-01-03</th>\n",
       "      <td>1.43024</td>\n",
       "      <td>1.43359</td>\n",
       "      <td>1.42951</td>\n",
       "      <td>1.43141</td>\n",
       "      <td>3001.600003</td>\n",
       "      <td>1.44244</td>\n",
       "    </tr>\n",
       "    <tr>\n",
       "      <th>2010-01-04</th>\n",
       "      <td>1.43143</td>\n",
       "      <td>1.44556</td>\n",
       "      <td>1.42559</td>\n",
       "      <td>1.44244</td>\n",
       "      <td>80019.400094</td>\n",
       "      <td>1.43634</td>\n",
       "    </tr>\n",
       "    <tr>\n",
       "      <th>2010-01-05</th>\n",
       "      <td>1.44238</td>\n",
       "      <td>1.44834</td>\n",
       "      <td>1.43445</td>\n",
       "      <td>1.43634</td>\n",
       "      <td>79887.100067</td>\n",
       "      <td>1.44005</td>\n",
       "    </tr>\n",
       "    <tr>\n",
       "      <th>2010-01-06</th>\n",
       "      <td>1.43638</td>\n",
       "      <td>1.44342</td>\n",
       "      <td>1.42807</td>\n",
       "      <td>1.44005</td>\n",
       "      <td>80971.800085</td>\n",
       "      <td>1.43155</td>\n",
       "    </tr>\n",
       "  </tbody>\n",
       "</table>\n",
       "</div>"
      ],
      "text/plain": [
       "                   open     high      low    close        volume    label\n",
       "Date_Timestamp                                                           \n",
       "2010-01-01      1.43327  1.43356  1.43207  1.43335  39761.000053  1.43141\n",
       "2010-01-03      1.43024  1.43359  1.42951  1.43141   3001.600003  1.44244\n",
       "2010-01-04      1.43143  1.44556  1.42559  1.44244  80019.400094  1.43634\n",
       "2010-01-05      1.44238  1.44834  1.43445  1.43634  79887.100067  1.44005\n",
       "2010-01-06      1.43638  1.44342  1.42807  1.44005  80971.800085  1.43155"
      ]
     },
     "execution_count": 4,
     "metadata": {},
     "output_type": "execute_result"
    }
   ],
   "source": [
    "dataframe.head(5)"
   ]
  },
  {
   "cell_type": "markdown",
   "metadata": {},
   "source": [
    "### STEP 2: ADD FEATURES TO DATAFRAME"
   ]
  },
  {
   "cell_type": "code",
   "execution_count": 5,
   "metadata": {},
   "outputs": [],
   "source": [
    "dataset = features.add(dataframe, config['features'])"
   ]
  },
  {
   "cell_type": "code",
   "execution_count": 6,
   "metadata": {},
   "outputs": [
    {
     "data": {
      "text/html": [
       "<div>\n",
       "<style scoped>\n",
       "    .dataframe tbody tr th:only-of-type {\n",
       "        vertical-align: middle;\n",
       "    }\n",
       "\n",
       "    .dataframe tbody tr th {\n",
       "        vertical-align: top;\n",
       "    }\n",
       "\n",
       "    .dataframe thead th {\n",
       "        text-align: right;\n",
       "    }\n",
       "</style>\n",
       "<table border=\"1\" class=\"dataframe\">\n",
       "  <thead>\n",
       "    <tr style=\"text-align: right;\">\n",
       "      <th></th>\n",
       "      <th>close</th>\n",
       "      <th>momentum</th>\n",
       "      <th>sd</th>\n",
       "      <th>label</th>\n",
       "    </tr>\n",
       "    <tr>\n",
       "      <th>Date_Timestamp</th>\n",
       "      <th></th>\n",
       "      <th></th>\n",
       "      <th></th>\n",
       "      <th></th>\n",
       "    </tr>\n",
       "  </thead>\n",
       "  <tbody>\n",
       "    <tr>\n",
       "      <th>2010-02-01</th>\n",
       "      <td>1.39200</td>\n",
       "      <td>-0.04649</td>\n",
       "      <td>14.842308</td>\n",
       "      <td>1.39737</td>\n",
       "    </tr>\n",
       "    <tr>\n",
       "      <th>2010-02-02</th>\n",
       "      <td>1.39737</td>\n",
       "      <td>-0.03928</td>\n",
       "      <td>13.972612</td>\n",
       "      <td>1.38969</td>\n",
       "    </tr>\n",
       "    <tr>\n",
       "      <th>2010-02-03</th>\n",
       "      <td>1.38969</td>\n",
       "      <td>-0.05070</td>\n",
       "      <td>11.302307</td>\n",
       "      <td>1.37395</td>\n",
       "    </tr>\n",
       "    <tr>\n",
       "      <th>2010-02-04</th>\n",
       "      <td>1.37395</td>\n",
       "      <td>-0.05393</td>\n",
       "      <td>11.014429</td>\n",
       "      <td>1.36763</td>\n",
       "    </tr>\n",
       "    <tr>\n",
       "      <th>2010-02-05</th>\n",
       "      <td>1.36763</td>\n",
       "      <td>-0.04356</td>\n",
       "      <td>11.636518</td>\n",
       "      <td>1.36409</td>\n",
       "    </tr>\n",
       "  </tbody>\n",
       "</table>\n",
       "</div>"
      ],
      "text/plain": [
       "                  close  momentum         sd    label\n",
       "Date_Timestamp                                       \n",
       "2010-02-01      1.39200  -0.04649  14.842308  1.39737\n",
       "2010-02-02      1.39737  -0.03928  13.972612  1.38969\n",
       "2010-02-03      1.38969  -0.05070  11.302307  1.37395\n",
       "2010-02-04      1.37395  -0.05393  11.014429  1.36763\n",
       "2010-02-05      1.36763  -0.04356  11.636518  1.36409"
      ]
     },
     "execution_count": 6,
     "metadata": {},
     "output_type": "execute_result"
    }
   ],
   "source": [
    "dataset.head(5)"
   ]
  },
  {
   "cell_type": "markdown",
   "metadata": {},
   "source": [
    "### STEP 3: TRAIN MODEL ENSEMBLE"
   ]
  },
  {
   "cell_type": "code",
   "execution_count": 7,
   "metadata": {},
   "outputs": [],
   "source": [
    "ensemble = [None] * len(config['ensemble']['models'])"
   ]
  },
  {
   "cell_type": "code",
   "execution_count": 8,
   "metadata": {
    "scrolled": false
   },
   "outputs": [
    {
     "name": "stdout",
     "output_type": "stream",
     "text": [
      "WARNING:tensorflow:From C:\\Users\\35840\\Anaconda3\\lib\\site-packages\\tensorflow_core\\python\\ops\\resource_variable_ops.py:1630: calling BaseResourceVariable.__init__ (from tensorflow.python.ops.resource_variable_ops) with constraint is deprecated and will be removed in a future version.\n",
      "Instructions for updating:\n",
      "If using Keras pass *_constraint arguments to layers.\n",
      "WARNING:tensorflow:From C:\\Users\\35840\\Anaconda3\\lib\\site-packages\\tensorflow_core\\python\\ops\\math_grad.py:1424: where (from tensorflow.python.ops.array_ops) is deprecated and will be removed in a future version.\n",
      "Instructions for updating:\n",
      "Use tf.where in 2.0, which has the same broadcast rule as np.where\n",
      "Train on 1861 samples, validate on 620 samples\n",
      "Epoch 1/5\n",
      "1861/1861 [==============================] - 1s 754us/sample - loss: 0.0327 - val_loss: 0.0105\n",
      "Epoch 2/5\n",
      "1861/1861 [==============================] - 1s 411us/sample - loss: 0.0055 - val_loss: 0.0128\n",
      "Epoch 3/5\n",
      "1861/1861 [==============================] - 1s 409us/sample - loss: 0.0041 - val_loss: 0.0020\n",
      "Epoch 4/5\n",
      "1861/1861 [==============================] - 1s 404us/sample - loss: 0.0033 - val_loss: 0.0017\n",
      "Epoch 5/5\n",
      "1861/1861 [==============================] - 1s 407us/sample - loss: 0.0027 - val_loss: 0.0013\n",
      "Train on 1861 samples, validate on 620 samples\n",
      "Epoch 1/5\n",
      "1861/1861 [==============================] - 2s 1ms/sample - loss: 0.0283 - val_loss: 0.0046\n",
      "Epoch 2/5\n",
      "1861/1861 [==============================] - 2s 808us/sample - loss: 0.0028 - val_loss: 0.0036\n",
      "Epoch 3/5\n",
      "1861/1861 [==============================] - 1s 762us/sample - loss: 0.0019 - val_loss: 0.0010\n",
      "Epoch 4/5\n",
      "1861/1861 [==============================] - 1s 792us/sample - loss: 0.0015 - val_loss: 0.0014\n",
      "Epoch 5/5\n",
      "1861/1861 [==============================] - 1s 748us/sample - loss: 0.0014 - val_loss: 6.6251e-04\n"
     ]
    }
   ],
   "source": [
    "# LOOP THROUGH REQUESTED MOEDLS\n",
    "for index, item in enumerate(config['ensemble']['models']):\n",
    "    \n",
    "    # MODEL PROPS\n",
    "    name = list(item)[0]\n",
    "    params = item[name]\n",
    "    \n",
    "    # GENERATE FORMATTED, SPLIT & NORMALIZED DATA FOR TRAINING\n",
    "    data = features.split(dataset, name, params)\n",
    "\n",
    "    # TRAIN THE MODEL\n",
    "    result = training.start(data, name, params)\n",
    "    \n",
    "    # APPEND IT TO THE ensemble\n",
    "    ensemble[index] = {\n",
    "        'name': name,\n",
    "        'result': result,\n",
    "        'scaler': data['scaler']\n",
    "    }"
   ]
  },
  {
   "cell_type": "markdown",
   "metadata": {},
   "source": [
    "### STEP 4: STITCH ALL REGRESSION PREDICTIONS TOGETHER"
   ]
  },
  {
   "cell_type": "code",
   "execution_count": 9,
   "metadata": {},
   "outputs": [],
   "source": [
    "regression_predictions = misc.regression_table({\n",
    "    'dataset': dataset,\n",
    "    'ensemble': ensemble\n",
    "})"
   ]
  },
  {
   "cell_type": "code",
   "execution_count": 10,
   "metadata": {},
   "outputs": [
    {
     "data": {
      "text/html": [
       "<div>\n",
       "<style scoped>\n",
       "    .dataframe tbody tr th:only-of-type {\n",
       "        vertical-align: middle;\n",
       "    }\n",
       "\n",
       "    .dataframe tbody tr th {\n",
       "        vertical-align: top;\n",
       "    }\n",
       "\n",
       "    .dataframe thead th {\n",
       "        text-align: right;\n",
       "    }\n",
       "</style>\n",
       "<table border=\"1\" class=\"dataframe\">\n",
       "  <thead>\n",
       "    <tr style=\"text-align: right;\">\n",
       "      <th></th>\n",
       "      <th>label</th>\n",
       "      <th>ensemble</th>\n",
       "      <th>linreg_0</th>\n",
       "      <th>lstm_1</th>\n",
       "      <th>lstm_2</th>\n",
       "    </tr>\n",
       "    <tr>\n",
       "      <th>Date_Timestamp</th>\n",
       "      <th></th>\n",
       "      <th></th>\n",
       "      <th></th>\n",
       "      <th></th>\n",
       "      <th></th>\n",
       "    </tr>\n",
       "  </thead>\n",
       "  <tbody>\n",
       "    <tr>\n",
       "      <th>2018-01-07</th>\n",
       "      <td>0.341122</td>\n",
       "      <td>0.364620</td>\n",
       "      <td>0.369891</td>\n",
       "      <td>0.339692</td>\n",
       "      <td>0.384278</td>\n",
       "    </tr>\n",
       "    <tr>\n",
       "      <th>2018-01-08</th>\n",
       "      <td>0.331619</td>\n",
       "      <td>0.346368</td>\n",
       "      <td>0.354823</td>\n",
       "      <td>0.318775</td>\n",
       "      <td>0.365504</td>\n",
       "    </tr>\n",
       "    <tr>\n",
       "      <th>2018-01-09</th>\n",
       "      <td>0.337909</td>\n",
       "      <td>0.333407</td>\n",
       "      <td>0.345550</td>\n",
       "      <td>0.305409</td>\n",
       "      <td>0.349262</td>\n",
       "    </tr>\n",
       "    <tr>\n",
       "      <th>2018-01-10</th>\n",
       "      <td>0.357856</td>\n",
       "      <td>0.343724</td>\n",
       "      <td>0.351705</td>\n",
       "      <td>0.319956</td>\n",
       "      <td>0.359511</td>\n",
       "    </tr>\n",
       "    <tr>\n",
       "      <th>2018-01-11</th>\n",
       "      <td>0.393802</td>\n",
       "      <td>0.369435</td>\n",
       "      <td>0.371198</td>\n",
       "      <td>0.352352</td>\n",
       "      <td>0.384756</td>\n",
       "    </tr>\n",
       "  </tbody>\n",
       "</table>\n",
       "</div>"
      ],
      "text/plain": [
       "                   label  ensemble  linreg_0    lstm_1    lstm_2\n",
       "Date_Timestamp                                                  \n",
       "2018-01-07      0.341122  0.364620  0.369891  0.339692  0.384278\n",
       "2018-01-08      0.331619  0.346368  0.354823  0.318775  0.365504\n",
       "2018-01-09      0.337909  0.333407  0.345550  0.305409  0.349262\n",
       "2018-01-10      0.357856  0.343724  0.351705  0.319956  0.359511\n",
       "2018-01-11      0.393802  0.369435  0.371198  0.352352  0.384756"
      ]
     },
     "execution_count": 10,
     "metadata": {},
     "output_type": "execute_result"
    }
   ],
   "source": [
    "regression_predictions.head(5)"
   ]
  },
  {
   "cell_type": "markdown",
   "metadata": {},
   "source": [
    "### STEP 5: VISUALIZE DIFFERENCES"
   ]
  },
  {
   "cell_type": "code",
   "execution_count": 11,
   "metadata": {},
   "outputs": [],
   "source": [
    "# visualize.differences(regression_table)"
   ]
  },
  {
   "cell_type": "markdown",
   "metadata": {},
   "source": [
    "### STEP 6: CREATE DATASET FOR CLASSIFICATION"
   ]
  },
  {
   "cell_type": "code",
   "execution_count": 12,
   "metadata": {},
   "outputs": [],
   "source": [
    "label_names = {\n",
    "    'buy': 0,\n",
    "    'sell': 1,\n",
    "    'hold': 2\n",
    "}"
   ]
  },
  {
   "cell_type": "code",
   "execution_count": 13,
   "metadata": {},
   "outputs": [],
   "source": [
    "threshold = 0.02"
   ]
  },
  {
   "cell_type": "code",
   "execution_count": 14,
   "metadata": {},
   "outputs": [],
   "source": [
    "classification_dataset = decision.classify({\n",
    "    'predictions': regression_predictions,\n",
    "    'label_names': label_names,\n",
    "    'threshold': threshold\n",
    "})"
   ]
  },
  {
   "cell_type": "code",
   "execution_count": 15,
   "metadata": {},
   "outputs": [
    {
     "data": {
      "text/html": [
       "<div>\n",
       "<style scoped>\n",
       "    .dataframe tbody tr th:only-of-type {\n",
       "        vertical-align: middle;\n",
       "    }\n",
       "\n",
       "    .dataframe tbody tr th {\n",
       "        vertical-align: top;\n",
       "    }\n",
       "\n",
       "    .dataframe thead th {\n",
       "        text-align: right;\n",
       "    }\n",
       "</style>\n",
       "<table border=\"1\" class=\"dataframe\">\n",
       "  <thead>\n",
       "    <tr style=\"text-align: right;\">\n",
       "      <th></th>\n",
       "      <th>label</th>\n",
       "      <th>ensemble</th>\n",
       "      <th>linreg_0</th>\n",
       "      <th>lstm_1</th>\n",
       "      <th>lstm_2</th>\n",
       "      <th>buy</th>\n",
       "      <th>sell</th>\n",
       "      <th>hold</th>\n",
       "    </tr>\n",
       "    <tr>\n",
       "      <th>Date_Timestamp</th>\n",
       "      <th></th>\n",
       "      <th></th>\n",
       "      <th></th>\n",
       "      <th></th>\n",
       "      <th></th>\n",
       "      <th></th>\n",
       "      <th></th>\n",
       "      <th></th>\n",
       "    </tr>\n",
       "  </thead>\n",
       "  <tbody>\n",
       "    <tr>\n",
       "      <th>2018-01-08</th>\n",
       "      <td>sell</td>\n",
       "      <td>-0.051356</td>\n",
       "      <td>-0.041589</td>\n",
       "      <td>-0.063554</td>\n",
       "      <td>-0.050088</td>\n",
       "      <td>0</td>\n",
       "      <td>1</td>\n",
       "      <td>0</td>\n",
       "    </tr>\n",
       "    <tr>\n",
       "      <th>2018-01-09</th>\n",
       "      <td>hold</td>\n",
       "      <td>-0.038136</td>\n",
       "      <td>-0.026482</td>\n",
       "      <td>-0.042833</td>\n",
       "      <td>-0.045456</td>\n",
       "      <td>0</td>\n",
       "      <td>1</td>\n",
       "      <td>0</td>\n",
       "    </tr>\n",
       "    <tr>\n",
       "      <th>2018-01-10</th>\n",
       "      <td>buy</td>\n",
       "      <td>0.030475</td>\n",
       "      <td>0.017655</td>\n",
       "      <td>0.046532</td>\n",
       "      <td>0.028924</td>\n",
       "      <td>1</td>\n",
       "      <td>0</td>\n",
       "      <td>0</td>\n",
       "    </tr>\n",
       "    <tr>\n",
       "      <th>2018-01-11</th>\n",
       "      <td>buy</td>\n",
       "      <td>0.072136</td>\n",
       "      <td>0.053943</td>\n",
       "      <td>0.096446</td>\n",
       "      <td>0.067863</td>\n",
       "      <td>1</td>\n",
       "      <td>0</td>\n",
       "      <td>0</td>\n",
       "    </tr>\n",
       "    <tr>\n",
       "      <th>2018-01-12</th>\n",
       "      <td>hold</td>\n",
       "      <td>0.120347</td>\n",
       "      <td>0.090405</td>\n",
       "      <td>0.160923</td>\n",
       "      <td>0.110838</td>\n",
       "      <td>1</td>\n",
       "      <td>0</td>\n",
       "      <td>0</td>\n",
       "    </tr>\n",
       "    <tr>\n",
       "      <th>2018-01-14</th>\n",
       "      <td>buy</td>\n",
       "      <td>-0.012746</td>\n",
       "      <td>-0.004094</td>\n",
       "      <td>-0.022659</td>\n",
       "      <td>-0.011462</td>\n",
       "      <td>0</td>\n",
       "      <td>0</td>\n",
       "      <td>1</td>\n",
       "    </tr>\n",
       "    <tr>\n",
       "      <th>2018-01-15</th>\n",
       "      <td>hold</td>\n",
       "      <td>0.045565</td>\n",
       "      <td>0.040518</td>\n",
       "      <td>0.055359</td>\n",
       "      <td>0.040978</td>\n",
       "      <td>1</td>\n",
       "      <td>0</td>\n",
       "      <td>0</td>\n",
       "    </tr>\n",
       "    <tr>\n",
       "      <th>2018-01-16</th>\n",
       "      <td>sell</td>\n",
       "      <td>-0.007767</td>\n",
       "      <td>0.002228</td>\n",
       "      <td>-0.018622</td>\n",
       "      <td>-0.006901</td>\n",
       "      <td>0</td>\n",
       "      <td>0</td>\n",
       "      <td>1</td>\n",
       "    </tr>\n",
       "    <tr>\n",
       "      <th>2018-01-17</th>\n",
       "      <td>buy</td>\n",
       "      <td>-0.064413</td>\n",
       "      <td>-0.049238</td>\n",
       "      <td>-0.083887</td>\n",
       "      <td>-0.060698</td>\n",
       "      <td>0</td>\n",
       "      <td>1</td>\n",
       "      <td>0</td>\n",
       "    </tr>\n",
       "    <tr>\n",
       "      <th>2018-01-18</th>\n",
       "      <td>hold</td>\n",
       "      <td>0.031075</td>\n",
       "      <td>0.029585</td>\n",
       "      <td>0.038620</td>\n",
       "      <td>0.025444</td>\n",
       "      <td>1</td>\n",
       "      <td>0</td>\n",
       "      <td>0</td>\n",
       "    </tr>\n",
       "  </tbody>\n",
       "</table>\n",
       "</div>"
      ],
      "text/plain": [
       "               label  ensemble  linreg_0    lstm_1    lstm_2  buy  sell  hold\n",
       "Date_Timestamp                                                               \n",
       "2018-01-08      sell -0.051356 -0.041589 -0.063554 -0.050088    0     1     0\n",
       "2018-01-09      hold -0.038136 -0.026482 -0.042833 -0.045456    0     1     0\n",
       "2018-01-10       buy  0.030475  0.017655  0.046532  0.028924    1     0     0\n",
       "2018-01-11       buy  0.072136  0.053943  0.096446  0.067863    1     0     0\n",
       "2018-01-12      hold  0.120347  0.090405  0.160923  0.110838    1     0     0\n",
       "2018-01-14       buy -0.012746 -0.004094 -0.022659 -0.011462    0     0     1\n",
       "2018-01-15      hold  0.045565  0.040518  0.055359  0.040978    1     0     0\n",
       "2018-01-16      sell -0.007767  0.002228 -0.018622 -0.006901    0     0     1\n",
       "2018-01-17       buy -0.064413 -0.049238 -0.083887 -0.060698    0     1     0\n",
       "2018-01-18      hold  0.031075  0.029585  0.038620  0.025444    1     0     0"
      ]
     },
     "execution_count": 15,
     "metadata": {},
     "output_type": "execute_result"
    }
   ],
   "source": [
    "classification_dataset.head(10)"
   ]
  },
  {
   "cell_type": "code",
   "execution_count": null,
   "metadata": {},
   "outputs": [],
   "source": []
  },
  {
   "cell_type": "markdown",
   "metadata": {},
   "source": [
    "### TRAIN A CLASSIFIER"
   ]
  },
  {
   "cell_type": "code",
   "execution_count": 96,
   "metadata": {},
   "outputs": [],
   "source": [
    "features = classification_dataset[['ensemble', 'linreg_0', 'lstm_1', 'lstm_2']].to_numpy()"
   ]
  },
  {
   "cell_type": "code",
   "execution_count": 97,
   "metadata": {},
   "outputs": [],
   "source": [
    "labels = classification_dataset[['buy', 'sell', 'hold']].to_numpy()"
   ]
  },
  {
   "cell_type": "code",
   "execution_count": 98,
   "metadata": {},
   "outputs": [
    {
     "data": {
      "text/plain": [
       "array([[0, 1, 0],\n",
       "       [0, 1, 0],\n",
       "       [1, 0, 0],\n",
       "       [1, 0, 0],\n",
       "       [1, 0, 0],\n",
       "       [0, 0, 1],\n",
       "       [1, 0, 0],\n",
       "       [0, 0, 1],\n",
       "       [0, 1, 0],\n",
       "       [1, 0, 0]], dtype=int64)"
      ]
     },
     "execution_count": 98,
     "metadata": {},
     "output_type": "execute_result"
    }
   ],
   "source": [
    "labels[:10]"
   ]
  },
  {
   "cell_type": "markdown",
   "metadata": {},
   "source": [
    "#### DSSDF"
   ]
  },
  {
   "cell_type": "code",
   "execution_count": 99,
   "metadata": {},
   "outputs": [],
   "source": [
    "def foofoofoo(lblz):\n",
    "    container = []\n",
    "    for row in lblz:\n",
    "        word = ''\n",
    "        for value in row:\n",
    "            word = word + str(value)\n",
    "        container.append(word)\n",
    "    return container"
   ]
  },
  {
   "cell_type": "code",
   "execution_count": 100,
   "metadata": {},
   "outputs": [],
   "source": [
    "labels = foofoofoo(labels)"
   ]
  },
  {
   "cell_type": "code",
   "execution_count": 101,
   "metadata": {},
   "outputs": [],
   "source": [
    "import numpy as np"
   ]
  },
  {
   "cell_type": "code",
   "execution_count": 102,
   "metadata": {},
   "outputs": [
    {
     "data": {
      "text/plain": [
       "array(['010', '010', '100', '100', '100', '001', '100', '001', '010',\n",
       "       '100', '001', '100', '001', '100', '100', '001', '001', '001',\n",
       "       '010', '100', '001', '100', '010', '001', '010', '001', '010',\n",
       "       '001', '001', '001', '100', '100', '100', '001', '010', '001',\n",
       "       '001', '010', '010', '100', '001', '001', '001', '010', '010',\n",
       "       '100', '100', '001', '100', '100'], dtype='<U3')"
      ]
     },
     "execution_count": 102,
     "metadata": {},
     "output_type": "execute_result"
    }
   ],
   "source": [
    "np.array(labels[:50])"
   ]
  },
  {
   "cell_type": "markdown",
   "metadata": {},
   "source": [
    "#### DSFDSF"
   ]
  },
  {
   "cell_type": "code",
   "execution_count": 26,
   "metadata": {},
   "outputs": [],
   "source": [
    "import math\n",
    "from sklearn.preprocessing import MinMaxScaler"
   ]
  },
  {
   "cell_type": "code",
   "execution_count": 27,
   "metadata": {},
   "outputs": [],
   "source": [
    "scaler = MinMaxScaler(feature_range=(0, 1))"
   ]
  },
  {
   "cell_type": "code",
   "execution_count": 28,
   "metadata": {},
   "outputs": [],
   "source": [
    "limit = math.ceil(len(features) * 0.8)"
   ]
  },
  {
   "cell_type": "code",
   "execution_count": 29,
   "metadata": {},
   "outputs": [],
   "source": [
    "x_train = scaler.fit_transform(features[:limit])\n",
    "y_train = labels[:limit]"
   ]
  },
  {
   "cell_type": "code",
   "execution_count": 30,
   "metadata": {},
   "outputs": [],
   "source": [
    "x_test = scaler.transform(features[limit:])\n",
    "y_test = labels[limit:]"
   ]
  },
  {
   "cell_type": "code",
   "execution_count": 31,
   "metadata": {},
   "outputs": [],
   "source": [
    "# from sklearn.preprocessing import MultiLabelBinarizer\n",
    "# labels = MultiLabelBinarizer().fit_transform(labels)"
   ]
  },
  {
   "cell_type": "markdown",
   "metadata": {},
   "source": [
    "#### TRAIN"
   ]
  },
  {
   "cell_type": "code",
   "execution_count": 32,
   "metadata": {},
   "outputs": [],
   "source": [
    "from sklearn.svm import SVC"
   ]
  },
  {
   "cell_type": "code",
   "execution_count": 112,
   "metadata": {},
   "outputs": [
    {
     "data": {
      "text/plain": [
       "SVC(C=0.05, decision_function_shape='ovo')"
      ]
     },
     "execution_count": 112,
     "metadata": {},
     "output_type": "execute_result"
    }
   ],
   "source": [
    "model = SVC(C=0.05, gamma='scale', kernel='rbf', decision_function_shape='ovo')\n",
    "model.fit(x_train, y_train)"
   ]
  },
  {
   "cell_type": "code",
   "execution_count": 113,
   "metadata": {},
   "outputs": [
    {
     "data": {
      "text/plain": [
       "0.959349593495935"
      ]
     },
     "execution_count": 113,
     "metadata": {},
     "output_type": "execute_result"
    }
   ],
   "source": [
    "model.score(x_test, y_test)"
   ]
  },
  {
   "cell_type": "code",
   "execution_count": 114,
   "metadata": {},
   "outputs": [],
   "source": [
    "predictions = model.predict(x_test)"
   ]
  },
  {
   "cell_type": "code",
   "execution_count": 115,
   "metadata": {},
   "outputs": [
    {
     "data": {
      "text/plain": [
       "array(['001', '001', '001', '010', '010', '010', '001', '001', '010',\n",
       "       '100', '010', '001', '100', '100', '010', '001', '001', '001',\n",
       "       '010', '100', '010', '001', '100', '001', '001', '001', '100',\n",
       "       '001', '010', '100', '001', '001', '010', '100', '010', '001',\n",
       "       '010', '001', '010', '100', '010', '010', '100', '001', '010',\n",
       "       '100', '100', '001', '100', '001', '001', '001', '100', '100',\n",
       "       '100', '001', '001', '001', '100', '100', '100', '010', '001',\n",
       "       '010', '001', '010', '010', '001', '001', '100', '100', '001',\n",
       "       '001', '001', '010', '010', '001', '001', '010', '100', '100',\n",
       "       '010', '001', '100', '100', '001', '100', '001', '001', '001',\n",
       "       '010', '001', '001', '001', '010', '001', '001', '001', '100',\n",
       "       '001', '001', '100', '010', '001', '100', '100', '100', '100',\n",
       "       '010', '001', '001', '100', '010', '001', '010', '001', '100',\n",
       "       '001', '001', '001', '100', '001', '100'], dtype='<U3')"
      ]
     },
     "execution_count": 115,
     "metadata": {},
     "output_type": "execute_result"
    }
   ],
   "source": [
    "predictions[:150]"
   ]
  },
  {
   "cell_type": "code",
   "execution_count": 116,
   "metadata": {},
   "outputs": [
    {
     "data": {
      "text/plain": [
       "array(['001', '001', '001', '010', '010', '010', '001', '001', '010',\n",
       "       '100', '010', '001', '100', '100', '010', '001', '001', '010',\n",
       "       '010', '100', '010', '001', '100', '001', '001', '001', '100',\n",
       "       '001', '010', '100', '001', '100', '010', '100', '010', '100',\n",
       "       '010', '001', '010', '100', '010', '010', '100', '001', '010',\n",
       "       '100', '100', '001', '100', '001', '001', '010', '100', '100',\n",
       "       '100', '001', '001', '001', '100', '100', '100', '010', '001',\n",
       "       '010', '001', '010', '010', '001', '001', '100', '100', '001',\n",
       "       '001', '001', '010', '010', '001', '001', '010', '100', '100',\n",
       "       '010', '001', '100', '100', '001', '100', '001', '001', '001',\n",
       "       '010', '001', '001', '001', '010', '100', '001', '001', '100',\n",
       "       '001', '001', '100', '010', '001', '100', '100', '100', '100',\n",
       "       '010', '001', '001', '100', '010', '001', '010', '001', '100',\n",
       "       '001', '001', '001', '100', '001', '100'], dtype='<U3')"
      ]
     },
     "execution_count": 116,
     "metadata": {},
     "output_type": "execute_result"
    }
   ],
   "source": [
    "np.array(y_test)[:150]"
   ]
  },
  {
   "cell_type": "markdown",
   "metadata": {},
   "source": [
    "### STEP X: SAVE ENSEMBLE MODELS, PREDICTIONS & BUILD CONFIG"
   ]
  },
  {
   "cell_type": "markdown",
   "metadata": {},
   "source": [
    "storage.save_ensemble({\n",
    "    'config': config,\n",
    "    'ensemble': ensemble,\n",
    "    'predictions': analysis\n",
    "})"
   ]
  },
  {
   "cell_type": "code",
   "execution_count": null,
   "metadata": {
    "scrolled": false
   },
   "outputs": [],
   "source": []
  },
  {
   "cell_type": "code",
   "execution_count": null,
   "metadata": {},
   "outputs": [],
   "source": []
  }
 ],
 "metadata": {
  "kernelspec": {
   "display_name": "Python 3",
   "language": "python",
   "name": "python3"
  },
  "language_info": {
   "codemirror_mode": {
    "name": "ipython",
    "version": 3
   },
   "file_extension": ".py",
   "mimetype": "text/x-python",
   "name": "python",
   "nbconvert_exporter": "python",
   "pygments_lexer": "ipython3",
   "version": "3.7.9"
  }
 },
 "nbformat": 4,
 "nbformat_minor": 4
}
