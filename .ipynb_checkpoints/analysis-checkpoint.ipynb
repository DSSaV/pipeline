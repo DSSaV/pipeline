{
 "cells": [
  {
   "cell_type": "markdown",
   "metadata": {},
   "source": [
    "### MODEL GRAPHING & ANALYSIS"
   ]
  },
  {
   "cell_type": "code",
   "execution_count": 1,
   "metadata": {},
   "outputs": [],
   "source": [
    "def rmse(models):\n",
    "    \n",
    "    # PLACEHOLDER\n",
    "    container = []\n",
    "    \n",
    "    # LOOP THROUGH EACH RESULT\n",
    "    for model in models:\n",
    "        \n",
    "        # CALCULATE R2 SCORE & APPEND IT TO THE CONTAINER\n",
    "        score = r2_score(model['dataset']['test']['labels'], model['predictions'])\n",
    "        container.append(score)\n",
    "        \n",
    "    return container"
   ]
  },
  {
   "cell_type": "code",
   "execution_count": 2,
   "metadata": {},
   "outputs": [],
   "source": [
    "def mse(models):\n",
    "    \n",
    "    # PLACEHOLDER\n",
    "    container = []\n",
    "    \n",
    "    # LOOP THROUGH EACH RESULT\n",
    "    for model in models:\n",
    "        \n",
    "        # CALCULATE R2 SCORE & APPEND IT TO THE CONTAINER\n",
    "        score = mean_squared_error(model['dataset']['test']['labels'], model['predictions'])\n",
    "        container.append(score)\n",
    "        \n",
    "    return container"
   ]
  },
  {
   "cell_type": "code",
   "execution_count": 3,
   "metadata": {},
   "outputs": [],
   "source": [
    "def hit_ratios(models):\n",
    "    \n",
    "    # PLACEHOLDER\n",
    "    container = []\n",
    "    \n",
    "    # LOOP THROUGH EACH MODEL\n",
    "    for model in models:\n",
    "    \n",
    "        # GENERATE A USABLE DATAFRAME\n",
    "        dataframe = result_table({\n",
    "            'base': type_one,\n",
    "            'predictions': model['predictions'],\n",
    "            'header': 'Prediction'\n",
    "        })\n",
    "\n",
    "        # GENERATE PI SERIES\n",
    "        pi = generate_pi(dataframe)\n",
    "        \n",
    "        # CALCULATE HIT RATIO\n",
    "        hit = (pi.sum()) / len(pi)\n",
    "        \n",
    "        # APPEND TO CONTAINER\n",
    "        container.append(hit)\n",
    "    \n",
    "    return container"
   ]
  },
  {
   "cell_type": "code",
   "execution_count": 4,
   "metadata": {},
   "outputs": [],
   "source": [
    "def generate_pi(dataframe):\n",
    "    \n",
    "    # CREATE A TIMESERIES\n",
    "    series = (dataframe['Label'].shift(1) - dataframe['Label']) * (dataframe['Prediction'].shift(1) - dataframe['Prediction'])\n",
    "    \n",
    "    # RUN THROUGH EACH VALUE & EVALUATE ACCORDINGLY\n",
    "    series.where(series < 0, 1, inplace=True)\n",
    "    series.where(series > 0, 0, inplace=True)\n",
    "    \n",
    "    return series"
   ]
  },
  {
   "cell_type": "code",
   "execution_count": null,
   "metadata": {},
   "outputs": [],
   "source": []
  }
 ],
 "metadata": {
  "kernelspec": {
   "display_name": "Python 3",
   "language": "python",
   "name": "python3"
  },
  "language_info": {
   "codemirror_mode": {
    "name": "ipython",
    "version": 3
   },
   "file_extension": ".py",
   "mimetype": "text/x-python",
   "name": "python",
   "nbconvert_exporter": "python",
   "pygments_lexer": "ipython3",
   "version": "3.7.9"
  }
 },
 "nbformat": 4,
 "nbformat_minor": 4
}
