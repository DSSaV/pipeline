{
 "cells": [
  {
   "cell_type": "markdown",
   "metadata": {},
   "source": [
    "### IMPORTS"
   ]
  },
  {
   "cell_type": "code",
   "execution_count": 63,
   "metadata": {},
   "outputs": [],
   "source": [
    "import pickle\n",
    "import time\n",
    "import os"
   ]
  },
  {
   "cell_type": "code",
   "execution_count": 64,
   "metadata": {},
   "outputs": [],
   "source": [
    "def save(result, yaml):\n",
    "    \n",
    "    # USE MODEL TYPE & TIMESTAMP AS NAME\n",
    "    now = int(time.time())\n",
    "    name = result['type'].upper() + '-' + str(now)\n",
    "    \n",
    "    # DIR PATH\n",
    "    dir_path = 'storage/' + name\n",
    "    \n",
    "    # CREATE NEW DIR\n",
    "    os.mkdir(dir_path)\n",
    "    \n",
    "    # SERIALIZE & SAVE THE YAML CONFIG\n",
    "    pickle.dump(yaml, open(dir_path + '/yaml.pickle', 'wb'))\n",
    "    \n",
    "    # PRESERVE DATA\n",
    "    block = {\n",
    "        'data': result['data'],\n",
    "        'predictions': result['predictions'],\n",
    "        'type': result['type']\n",
    "    }\n",
    "    \n",
    "    # SERIALIZE & SAVE DATA\n",
    "    pickle.dump(block, open(dir_path + '/details.pickle', 'wb'))\n",
    "        \n",
    "    # IF TYPE IS LSTM, SAVE VIA KERAS\n",
    "    if (result['type'] == 'lstm'):\n",
    "        result['model'].save(dir_path + '/model.pickle')\n",
    "        \n",
    "    # OTHERWISE, SAVE FROM DICT\n",
    "    else:\n",
    "        pickle.dump(result['model'], open(dir_path + '/model.pickle', 'wb'))"
   ]
  },
  {
   "cell_type": "code",
   "execution_count": 58,
   "metadata": {},
   "outputs": [],
   "source": [
    "def load(path):\n",
    "    \n",
    "    # LOCATE & OPEN THE FILE\n",
    "    dbfile = open(path, 'rb')      \n",
    "    db = pickle.load(dbfile) \n",
    "    dbfile.close() \n",
    "    \n",
    "    # RETURN ITS SERIALIZED CONTENT\n",
    "    return db"
   ]
  },
  {
   "cell_type": "code",
   "execution_count": null,
   "metadata": {},
   "outputs": [],
   "source": []
  }
 ],
 "metadata": {
  "kernelspec": {
   "display_name": "Python 3",
   "language": "python",
   "name": "python3"
  },
  "language_info": {
   "codemirror_mode": {
    "name": "ipython",
    "version": 3
   },
   "file_extension": ".py",
   "mimetype": "text/x-python",
   "name": "python",
   "nbconvert_exporter": "python",
   "pygments_lexer": "ipython3",
   "version": "3.7.9"
  }
 },
 "nbformat": 4,
 "nbformat_minor": 4
}
