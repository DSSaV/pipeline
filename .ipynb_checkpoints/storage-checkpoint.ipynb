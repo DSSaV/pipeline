{
 "cells": [
  {
   "cell_type": "markdown",
   "metadata": {},
   "source": [
    "### IMPORTS"
   ]
  },
  {
   "cell_type": "code",
   "execution_count": 4,
   "metadata": {},
   "outputs": [],
   "source": [
    "import time\n",
    "import os\n",
    "import yaml\n",
    "import pickle"
   ]
  },
  {
   "cell_type": "markdown",
   "metadata": {},
   "source": [
    "### SAVE PIPELINE"
   ]
  },
  {
   "cell_type": "code",
   "execution_count": 2,
   "metadata": {},
   "outputs": [],
   "source": [
    "def save_pipeline(params):\n",
    "\n",
    "    # DECONSTRUCT PARAMS\n",
    "    regression_ensemble = params['regression_ensemble']\n",
    "    regression_training = params['regression_training']\n",
    "    classifier_ensemble = params['classifier_ensemble']\n",
    "    config = params['config']\n",
    "    \n",
    "    # USE TIMESTAMP AS NAMING CONVENTION\n",
    "    now = int(time.time())\n",
    "    \n",
    "    # DIR PATH\n",
    "    dir_path = 'storage/PIPELINE-{}'.format(now)\n",
    "    \n",
    "    # CREATE NEW DIR\n",
    "    os.mkdir(dir_path)\n",
    "    \n",
    "    # SERIALIZE & SAVE THE YAML CONFIG\n",
    "    save_yaml(config, '{}/config.yaml'.format(dir_path))\n",
    "    \n",
    "    # SERIALIZE & SAVE REGRESSION TRAINING DATA\n",
    "    save_csv(regression_training, '{}/regression_training.csv'.format(dir_path))\n",
    "    \n",
    "    # SAVE REGRESSION ENSEMBLE\n",
    "    save_ensemble(regression_ensemble, 'regression', dir_path)\n",
    "    \n",
    "    # SAVE CLASSIFIER ENSEMBLE\n",
    "    save_ensemble(classifier_ensemble, 'classifier', dir_path)"
   ]
  },
  {
   "cell_type": "markdown",
   "metadata": {},
   "source": [
    "### SAVE ENSEMBLE"
   ]
  },
  {
   "cell_type": "code",
   "execution_count": 2,
   "metadata": {},
   "outputs": [],
   "source": [
    "def save_ensemble(ensemble, name, root):\n",
    "    \n",
    "    # SUBPATH\n",
    "    path = '{}/{}_ensemble'.format(root, name)\n",
    "    \n",
    "    # CREATE SUBDIR\n",
    "    os.mkdir(path)\n",
    "    \n",
    "    for model in ensemble.models:\n",
    "        \n",
    "        # MANY MODELS\n",
    "        if type(model) == list:\n",
    "            sub_path = path + '/' + model[0].name + '/'\n",
    "            os.mkdir(sub_path)\n",
    "            \n",
    "            for index, sub in enumerate(model):\n",
    "                final_path = sub_path + str(index)\n",
    "                os.mkdir(final_path)\n",
    "                sub.save(final_path)\n",
    "                \n",
    "        else:\n",
    "            sub_path = path + '/' + model.name + '/'\n",
    "            os.mkdir(sub_path)\n",
    "            model.save(sub_path)"
   ]
  },
  {
   "cell_type": "markdown",
   "metadata": {},
   "source": [
    "### SAVE/LOAD YAML DATA"
   ]
  },
  {
   "cell_type": "code",
   "execution_count": 4,
   "metadata": {},
   "outputs": [],
   "source": [
    "def load_yaml(path):\n",
    "    with open(path, mode='r') as file:\n",
    "        return yaml.load(file, Loader=yaml.FullLoader)"
   ]
  },
  {
   "cell_type": "code",
   "execution_count": 5,
   "metadata": {},
   "outputs": [],
   "source": [
    "def save_yaml(data, path):\n",
    "    with open(path, 'w') as file:\n",
    "        yaml.dump(data, file)"
   ]
  },
  {
   "cell_type": "markdown",
   "metadata": {},
   "source": [
    "### SAVE DATAFRAME AS CSV"
   ]
  },
  {
   "cell_type": "code",
   "execution_count": 1,
   "metadata": {},
   "outputs": [],
   "source": [
    "def save_csv(dataframe, path):\n",
    "    dataframe.to_csv(path)"
   ]
  },
  {
   "cell_type": "markdown",
   "metadata": {},
   "source": [
    "### SAVE PICKLE"
   ]
  },
  {
   "cell_type": "code",
   "execution_count": 3,
   "metadata": {},
   "outputs": [],
   "source": [
    "def save_pickle(data, path):\n",
    "    pickle.dump(data, open(path, 'wb'))"
   ]
  },
  {
   "cell_type": "code",
   "execution_count": null,
   "metadata": {},
   "outputs": [],
   "source": []
  }
 ],
 "metadata": {
  "kernelspec": {
   "display_name": "Python 3",
   "language": "python",
   "name": "python3"
  },
  "language_info": {
   "codemirror_mode": {
    "name": "ipython",
    "version": 3
   },
   "file_extension": ".py",
   "mimetype": "text/x-python",
   "name": "python",
   "nbconvert_exporter": "python",
   "pygments_lexer": "ipython3",
   "version": "3.7.9"
  }
 },
 "nbformat": 4,
 "nbformat_minor": 4
}
