{
 "cells": [
  {
   "cell_type": "markdown",
   "metadata": {},
   "source": [
    "### IMPORTS"
   ]
  },
  {
   "cell_type": "code",
   "execution_count": 11,
   "metadata": {},
   "outputs": [],
   "source": [
    "import pickle\n",
    "import time\n",
    "import os\n",
    "import yaml"
   ]
  },
  {
   "cell_type": "code",
   "execution_count": 17,
   "metadata": {},
   "outputs": [],
   "source": [
    "def save_result(result, yaml):\n",
    "    \n",
    "    # USE MODEL TYPE & TIMESTAMP AS NAME\n",
    "    now = int(time.time())\n",
    "    name = result['type'].upper() + '-' + str(now)\n",
    "    \n",
    "    # DIR PATH\n",
    "    dir_path = 'storage/' + name\n",
    "    \n",
    "    # CREATE NEW DIR\n",
    "    os.mkdir(dir_path)\n",
    "    \n",
    "    # SERIALIZE & SAVE THE YAML CONFIG\n",
    "    save_config(yaml, dir_path + '/config.yaml')\n",
    "    \n",
    "    # PRESERVE DATA\n",
    "    block = {\n",
    "        'data': result['data'],\n",
    "        'predictions': result['predictions'],\n",
    "        'type': result['type']\n",
    "    }\n",
    "    \n",
    "    # SERIALIZE & SAVE CONSTRUCTION DETAILS\n",
    "    save_pickle(block, dir_path + '/details.pickle')\n",
    "        \n",
    "    # IF TYPE IS LSTM, SAVE VIA KERAS\n",
    "    if (result['type'] == 'lstm'):\n",
    "        result['model'].save(dir_path + '/model.pickle')\n",
    "        \n",
    "    # OTHERWISE, SAVE FROM DICT\n",
    "    else:\n",
    "        save_pickle(result['model'], dir_path + '/model.pickle')"
   ]
  },
  {
   "cell_type": "markdown",
   "metadata": {},
   "source": [
    "### SAVE/LOAD PICKLE DATA"
   ]
  },
  {
   "cell_type": "code",
   "execution_count": 14,
   "metadata": {},
   "outputs": [],
   "source": [
    "def save_pickle(data, path):\n",
    "    pickle.dump(data, open(path, 'wb'))"
   ]
  },
  {
   "cell_type": "markdown",
   "metadata": {},
   "source": [
    "### SAVE/LOAD YAML DATA"
   ]
  },
  {
   "cell_type": "code",
   "execution_count": 15,
   "metadata": {},
   "outputs": [],
   "source": [
    "def load_config(path):\n",
    "    with open(path, mode='r') as file:\n",
    "        return yaml.load(file, Loader=yaml.FullLoader)"
   ]
  },
  {
   "cell_type": "code",
   "execution_count": 16,
   "metadata": {},
   "outputs": [],
   "source": [
    "def save_config(data, path):\n",
    "    with open(path, 'w') as file:\n",
    "        yaml.dump(data, file)"
   ]
  },
  {
   "cell_type": "code",
   "execution_count": null,
   "metadata": {},
   "outputs": [],
   "source": []
  }
 ],
 "metadata": {
  "kernelspec": {
   "display_name": "Python 3",
   "language": "python",
   "name": "python3"
  },
  "language_info": {
   "codemirror_mode": {
    "name": "ipython",
    "version": 3
   },
   "file_extension": ".py",
   "mimetype": "text/x-python",
   "name": "python",
   "nbconvert_exporter": "python",
   "pygments_lexer": "ipython3",
   "version": "3.7.9"
  }
 },
 "nbformat": 4,
 "nbformat_minor": 4
}
