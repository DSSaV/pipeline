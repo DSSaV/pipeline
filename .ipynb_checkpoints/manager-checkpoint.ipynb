{
 "cells": [
  {
   "cell_type": "markdown",
   "metadata": {},
   "source": [
    "### IMPORTS"
   ]
  },
  {
   "cell_type": "code",
   "execution_count": 57,
   "metadata": {},
   "outputs": [],
   "source": [
    "import ipynb.fs.full.processing as processing\n",
    "import ipynb.fs.full.features as features\n",
    "import ipynb.fs.full.training as training\n",
    "import ipynb.fs.full.analysis as analysis\n",
    "import ipynb.fs.full.storage as storage"
   ]
  },
  {
   "cell_type": "markdown",
   "metadata": {},
   "source": [
    "### SERIALIZE THE YAML CONFIG"
   ]
  },
  {
   "cell_type": "code",
   "execution_count": 101,
   "metadata": {},
   "outputs": [],
   "source": [
    "config = storage.load_config('extra/config.yaml')"
   ]
  },
  {
   "cell_type": "markdown",
   "metadata": {},
   "source": [
    "### STEP 1: PROCESS RAW DATA TO DATAFRAME"
   ]
  },
  {
   "cell_type": "code",
   "execution_count": 68,
   "metadata": {},
   "outputs": [],
   "source": [
    "dataframe = processing.create_dataframe(config)"
   ]
  },
  {
   "cell_type": "code",
   "execution_count": null,
   "metadata": {},
   "outputs": [],
   "source": [
    "dataframe.head(5)"
   ]
  },
  {
   "cell_type": "markdown",
   "metadata": {},
   "source": [
    "### STEP 2: CREATE DATASET BY ADDING FEATURES"
   ]
  },
  {
   "cell_type": "code",
   "execution_count": 6,
   "metadata": {},
   "outputs": [],
   "source": [
    "dataset = features.add(dataframe, config['features'])"
   ]
  },
  {
   "cell_type": "code",
   "execution_count": 7,
   "metadata": {},
   "outputs": [
    {
     "data": {
      "text/html": [
       "<div>\n",
       "<style scoped>\n",
       "    .dataframe tbody tr th:only-of-type {\n",
       "        vertical-align: middle;\n",
       "    }\n",
       "\n",
       "    .dataframe tbody tr th {\n",
       "        vertical-align: top;\n",
       "    }\n",
       "\n",
       "    .dataframe thead th {\n",
       "        text-align: right;\n",
       "    }\n",
       "</style>\n",
       "<table border=\"1\" class=\"dataframe\">\n",
       "  <thead>\n",
       "    <tr style=\"text-align: right;\">\n",
       "      <th></th>\n",
       "      <th>Close</th>\n",
       "      <th>Momentum</th>\n",
       "      <th>SD</th>\n",
       "      <th>Label</th>\n",
       "    </tr>\n",
       "    <tr>\n",
       "      <th>Date_Timestamp</th>\n",
       "      <th></th>\n",
       "      <th></th>\n",
       "      <th></th>\n",
       "      <th></th>\n",
       "    </tr>\n",
       "  </thead>\n",
       "  <tbody>\n",
       "    <tr>\n",
       "      <th>2010-02-01</th>\n",
       "      <td>1.39200</td>\n",
       "      <td>-0.04649</td>\n",
       "      <td>14.842308</td>\n",
       "      <td>1.39737</td>\n",
       "    </tr>\n",
       "    <tr>\n",
       "      <th>2010-02-02</th>\n",
       "      <td>1.39737</td>\n",
       "      <td>-0.03928</td>\n",
       "      <td>13.972612</td>\n",
       "      <td>1.38969</td>\n",
       "    </tr>\n",
       "    <tr>\n",
       "      <th>2010-02-03</th>\n",
       "      <td>1.38969</td>\n",
       "      <td>-0.05070</td>\n",
       "      <td>11.302307</td>\n",
       "      <td>1.37395</td>\n",
       "    </tr>\n",
       "    <tr>\n",
       "      <th>2010-02-04</th>\n",
       "      <td>1.37395</td>\n",
       "      <td>-0.05393</td>\n",
       "      <td>11.014429</td>\n",
       "      <td>1.36763</td>\n",
       "    </tr>\n",
       "    <tr>\n",
       "      <th>2010-02-05</th>\n",
       "      <td>1.36763</td>\n",
       "      <td>-0.04356</td>\n",
       "      <td>11.636518</td>\n",
       "      <td>1.36409</td>\n",
       "    </tr>\n",
       "  </tbody>\n",
       "</table>\n",
       "</div>"
      ],
      "text/plain": [
       "                  Close  Momentum         SD    Label\n",
       "Date_Timestamp                                       \n",
       "2010-02-01      1.39200  -0.04649  14.842308  1.39737\n",
       "2010-02-02      1.39737  -0.03928  13.972612  1.38969\n",
       "2010-02-03      1.38969  -0.05070  11.302307  1.37395\n",
       "2010-02-04      1.37395  -0.05393  11.014429  1.36763\n",
       "2010-02-05      1.36763  -0.04356  11.636518  1.36409"
      ]
     },
     "execution_count": 7,
     "metadata": {},
     "output_type": "execute_result"
    }
   ],
   "source": [
    "dataset.head(5)"
   ]
  },
  {
   "cell_type": "markdown",
   "metadata": {},
   "source": [
    "### STEP 3: NORMALIZE & SPLIT DATA FOR TRAINING"
   ]
  },
  {
   "cell_type": "code",
   "execution_count": 8,
   "metadata": {},
   "outputs": [],
   "source": [
    "data = features.split(dataset, config['model'])"
   ]
  },
  {
   "cell_type": "markdown",
   "metadata": {},
   "source": [
    "### STEP 4: TRAIN THE REQUESTED MODEL"
   ]
  },
  {
   "cell_type": "code",
   "execution_count": 9,
   "metadata": {
    "scrolled": true
   },
   "outputs": [
    {
     "name": "stdout",
     "output_type": "stream",
     "text": [
      "WARNING:tensorflow:From C:\\Users\\35840\\Anaconda3\\lib\\site-packages\\tensorflow_core\\python\\ops\\resource_variable_ops.py:1630: calling BaseResourceVariable.__init__ (from tensorflow.python.ops.resource_variable_ops) with constraint is deprecated and will be removed in a future version.\n",
      "Instructions for updating:\n",
      "If using Keras pass *_constraint arguments to layers.\n",
      "WARNING:tensorflow:From C:\\Users\\35840\\Anaconda3\\lib\\site-packages\\tensorflow_core\\python\\ops\\math_grad.py:1424: where (from tensorflow.python.ops.array_ops) is deprecated and will be removed in a future version.\n",
      "Instructions for updating:\n",
      "Use tf.where in 2.0, which has the same broadcast rule as np.where\n",
      "Train on 1861 samples, validate on 620 samples\n",
      "Epoch 1/20\n",
      "1861/1861 [==============================] - 1s 695us/sample - loss: 0.0299 - val_loss: 0.0141\n",
      "Epoch 2/20\n",
      "1861/1861 [==============================] - 1s 392us/sample - loss: 0.0063 - val_loss: 0.0075\n",
      "Epoch 3/20\n",
      "1861/1861 [==============================] - 1s 396us/sample - loss: 0.0043 - val_loss: 0.0017\n",
      "Epoch 4/20\n",
      "1861/1861 [==============================] - 1s 391us/sample - loss: 0.0035 - val_loss: 0.0016\n",
      "Epoch 5/20\n",
      "1861/1861 [==============================] - 1s 386us/sample - loss: 0.0032 - val_loss: 0.0043\n",
      "Epoch 6/20\n",
      "1861/1861 [==============================] - 1s 387us/sample - loss: 0.0025 - val_loss: 0.0013\n",
      "Epoch 7/20\n",
      "1861/1861 [==============================] - 1s 403us/sample - loss: 0.0022 - val_loss: 8.6168e-04\n",
      "Epoch 8/20\n",
      "1861/1861 [==============================] - 1s 412us/sample - loss: 0.0021 - val_loss: 7.9685e-04\n",
      "Epoch 9/20\n",
      "1861/1861 [==============================] - 1s 409us/sample - loss: 0.0017 - val_loss: 6.6086e-04\n",
      "Epoch 10/20\n",
      "1861/1861 [==============================] - 1s 400us/sample - loss: 0.0017 - val_loss: 6.9391e-04\n",
      "Epoch 11/20\n",
      "1861/1861 [==============================] - 1s 389us/sample - loss: 0.0015 - val_loss: 0.0013\n",
      "Epoch 12/20\n",
      "1861/1861 [==============================] - 1s 386us/sample - loss: 0.0014 - val_loss: 0.0012\n",
      "Epoch 13/20\n",
      "1861/1861 [==============================] - 1s 390us/sample - loss: 0.0012 - val_loss: 6.2905e-04\n",
      "Epoch 14/20\n",
      "1861/1861 [==============================] - 1s 398us/sample - loss: 0.0012 - val_loss: 0.0018\n",
      "Epoch 15/20\n",
      "1861/1861 [==============================] - 1s 397us/sample - loss: 0.0011 - val_loss: 6.1809e-04\n",
      "Epoch 16/20\n",
      "1861/1861 [==============================] - 1s 397us/sample - loss: 0.0011 - val_loss: 6.3575e-04\n",
      "Epoch 17/20\n",
      "1861/1861 [==============================] - 1s 397us/sample - loss: 0.0011 - val_loss: 5.7393e-04\n",
      "Epoch 18/20\n",
      "1861/1861 [==============================] - 1s 400us/sample - loss: 0.0010 - val_loss: 5.8863e-04\n",
      "Epoch 19/20\n",
      "1861/1861 [==============================] - 1s 393us/sample - loss: 9.9206e-04 - val_loss: 0.0014\n",
      "Epoch 20/20\n",
      "1861/1861 [==============================] - 1s 396us/sample - loss: 9.6606e-04 - val_loss: 6.6306e-04\n"
     ]
    }
   ],
   "source": [
    "result = training.start(data, config)"
   ]
  },
  {
   "cell_type": "markdown",
   "metadata": {},
   "source": [
    "### STEP 5: SAVE THE MODEL & OTHER RELATED DATA"
   ]
  },
  {
   "cell_type": "code",
   "execution_count": 10,
   "metadata": {},
   "outputs": [],
   "source": [
    "storage.save_result(result, config)"
   ]
  },
  {
   "cell_type": "code",
   "execution_count": null,
   "metadata": {},
   "outputs": [],
   "source": []
  }
 ],
 "metadata": {
  "kernelspec": {
   "display_name": "Python 3",
   "language": "python",
   "name": "python3"
  },
  "language_info": {
   "codemirror_mode": {
    "name": "ipython",
    "version": 3
   },
   "file_extension": ".py",
   "mimetype": "text/x-python",
   "name": "python",
   "nbconvert_exporter": "python",
   "pygments_lexer": "ipython3",
   "version": "3.7.9"
  }
 },
 "nbformat": 4,
 "nbformat_minor": 4
}
