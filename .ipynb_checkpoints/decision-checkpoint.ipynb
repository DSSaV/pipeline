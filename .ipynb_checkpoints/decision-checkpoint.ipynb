{
 "cells": [
  {
   "cell_type": "code",
   "execution_count": 8,
   "metadata": {},
   "outputs": [],
   "source": [
    "from collections import Counter\n",
    "import numpy as np"
   ]
  },
  {
   "cell_type": "markdown",
   "metadata": {},
   "source": [
    "### HELPERS"
   ]
  },
  {
   "cell_type": "code",
   "execution_count": 39,
   "metadata": {},
   "outputs": [],
   "source": [
    "def election(rows, threshold):\n",
    "    \n",
    "    # VOTE & THRESHOLD FOR DECISION\n",
    "    votes = []\n",
    "    \n",
    "    # ROW DIMENSIONS\n",
    "    dimensions = len(rows.shape)\n",
    "    \n",
    "    # LOOP THROUGH EACH ELEMENT\n",
    "    for row in rows:\n",
    "        \n",
    "        # MULTI-DIMENSIONAL (FEATURES)\n",
    "        if dimensions == 2:\n",
    "            \n",
    "            # SUBCONTAINER FOR COLUMN\n",
    "            sub_collector = []\n",
    "            \n",
    "            # EVALUATE WHOLE COLUMN\n",
    "            for value in row:\n",
    "                vote = decide_vote(value, threshold)\n",
    "                sub_collector.append(vote)\n",
    "            \n",
    "            # COUNT THE VOTES\n",
    "            count = Counter(list(sub_collector))\n",
    "            \n",
    "            # FIND THE POPULAR VOTE\n",
    "            popular = count.most_common()[0][0]\n",
    "            \n",
    "            # APPEND IT\n",
    "            votes.append(popular)\n",
    "        \n",
    "        # ONE-DIMENSIONAL (LABELS)\n",
    "        else:\n",
    "            vote = decide_vote(row, threshold)\n",
    "            votes.append(vote)\n",
    "            \n",
    "    return votes"
   ]
  },
  {
   "cell_type": "code",
   "execution_count": 37,
   "metadata": {},
   "outputs": [],
   "source": [
    "def decide_vote(value, threshold):\n",
    "    if value > threshold:\n",
    "        return 'buy'\n",
    "    elif value < -threshold:\n",
    "        return 'sell'\n",
    "    else:\n",
    "        return 'hold'"
   ]
  },
  {
   "cell_type": "code",
   "execution_count": 38,
   "metadata": {},
   "outputs": [],
   "source": [
    "def rename_labels(values, names):\n",
    "    container = []\n",
    "    for value in values:\n",
    "        numeric = names[value]\n",
    "        container.append(numeric)\n",
    "    return container"
   ]
  },
  {
   "cell_type": "markdown",
   "metadata": {},
   "source": [
    "### TRIGGER"
   ]
  },
  {
   "cell_type": "code",
   "execution_count": 40,
   "metadata": {},
   "outputs": [],
   "source": [
    "def classify(params):\n",
    "    \n",
    "    # DECONSTRUCT PARAMS\n",
    "    original = params['predictions']\n",
    "    label_names = params['label_names']\n",
    "    threshold = params['threshold']\n",
    "    \n",
    "    # CLONE THE ORIGINAL\n",
    "    dataframe = original.copy()\n",
    "    \n",
    "    # LOOP THROUGH EACH COLUMN\n",
    "    for column in dataframe.columns:\n",
    "        \n",
    "        # CALCULATE LOG VALUE BY CURRENT & NEXT\n",
    "        dataframe[column] = np.log(dataframe[column] / dataframe[column].shift(1))\n",
    "        \n",
    "    # DROP ROWS WITH NAN VALUES\n",
    "    dataframe.dropna(inplace=True)\n",
    "    \n",
    "    # EXTRACT FEATUERS & LABELS\n",
    "    labels = dataframe['label'].to_numpy()\n",
    "    features = dataframe.loc[:, dataframe.columns != 'label'].to_numpy()\n",
    "    \n",
    "    # EXTRACT BUY/SELL/HOLD VOTES FROM FEATURES & LABELS\n",
    "    feature_votes = election(features, threshold)\n",
    "    label_votes = election(labels, threshold)\n",
    "    \n",
    "    # ADD VOTING COLUMNS\n",
    "    dataframe['buy'] = 0\n",
    "    dataframe['sell'] = 0\n",
    "    dataframe['hold'] = 0\n",
    "    \n",
    "    # LOOP THROUGH DATAFRAME ROWS\n",
    "    for index, (date, row) in enumerate(dataframe.iterrows()):\n",
    "\n",
    "        # QUERY ROW VOTE & INJECT IT INTO MATRIX\n",
    "        choice = feature_votes[index]\n",
    "        dataframe.at[date, choice] = 1\n",
    "    \n",
    "    # CHANGE LABEL STRINGS TO NUMERIC REPRESENTATIONS\n",
    "    #label_votes = rename_labels(label_votes, label_names)\n",
    "    \n",
    "    # REPLACE THE OLD LABELS\n",
    "    dataframe['label'] = label_votes\n",
    "    \n",
    "    return dataframe"
   ]
  },
  {
   "cell_type": "code",
   "execution_count": null,
   "metadata": {},
   "outputs": [],
   "source": []
  }
 ],
 "metadata": {
  "kernelspec": {
   "display_name": "Python 3",
   "language": "python",
   "name": "python3"
  },
  "language_info": {
   "codemirror_mode": {
    "name": "ipython",
    "version": 3
   },
   "file_extension": ".py",
   "mimetype": "text/x-python",
   "name": "python",
   "nbconvert_exporter": "python",
   "pygments_lexer": "ipython3",
   "version": "3.7.9"
  }
 },
 "nbformat": 4,
 "nbformat_minor": 4
}
