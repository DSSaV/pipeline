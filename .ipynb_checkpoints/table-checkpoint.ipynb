{
 "cells": [
  {
   "cell_type": "code",
   "execution_count": 1,
   "metadata": {},
   "outputs": [],
   "source": [
    "import pandas as pd"
   ]
  },
  {
   "cell_type": "code",
   "execution_count": 24,
   "metadata": {},
   "outputs": [],
   "source": [
    "def ensemble(ensemble):\n",
    "\n",
    "    # CREATE NEW DATAFRAME\n",
    "    dataframe = pd.DataFrame()\n",
    "    \n",
    "    # ADD EACH MODELS PREDICTIONS AS A COLUMN\n",
    "    for model in ensemble:\n",
    "        dataframe[model['name']] = model['predictions']\n",
    "        \n",
    "    # ADD THE LABELS\n",
    "    dataframe['label'] = ensemble[0]['labels']\n",
    "    \n",
    "    return dataframe"
   ]
  },
  {
   "cell_type": "code",
   "execution_count": null,
   "metadata": {},
   "outputs": [],
   "source": []
  }
 ],
 "metadata": {
  "kernelspec": {
   "display_name": "Python 3",
   "language": "python",
   "name": "python3"
  },
  "language_info": {
   "codemirror_mode": {
    "name": "ipython",
    "version": 3
   },
   "file_extension": ".py",
   "mimetype": "text/x-python",
   "name": "python",
   "nbconvert_exporter": "python",
   "pygments_lexer": "ipython3",
   "version": "3.7.9"
  }
 },
 "nbformat": 4,
 "nbformat_minor": 4
}
