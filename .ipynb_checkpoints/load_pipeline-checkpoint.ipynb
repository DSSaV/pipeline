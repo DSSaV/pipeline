{
 "cells": [
  {
   "cell_type": "code",
   "execution_count": 3,
   "metadata": {},
   "outputs": [],
   "source": [
    "import ipynb.fs.full.storage as storage"
   ]
  },
  {
   "cell_type": "code",
   "execution_count": 2,
   "metadata": {
    "scrolled": false
   },
   "outputs": [
    {
     "name": "stdout",
     "output_type": "stream",
     "text": [
      "SERIALIZING REGRESSOR LINREG_0\n",
      "\tFOLD 0\n",
      "\tFOLD 1\n",
      "\tFOLD 2\n",
      "\tFOLD 3\n",
      "\tFOLD 4\n",
      "\n",
      "SERIALIZING REGRESSOR LSTM_1\n",
      "\tFOLD 0\n",
      "\tFOLD 1\n",
      "\tFOLD 2\n",
      "\tFOLD 3\n",
      "\tFOLD 4\n",
      "\n",
      "SERIALIZING REGRESSOR TCN_2\n",
      "\tFOLD 0\n",
      "\tFOLD 1\n",
      "\tFOLD 2\n",
      "\tFOLD 3\n",
      "\tFOLD 4\n",
      "\n",
      "SERIALIZED CLASSIFIER LOGREG_1\n",
      "SERIALIZED CLASSIFIER RANDFOREST_0\n",
      "SERIALIZED CLASSIFIER SVC_2\n"
     ]
    }
   ],
   "source": [
    "regression_ensemble, classifier_ensemble = storage.load_pipe('PIPELINE-1603466504')"
   ]
  },
  {
   "cell_type": "code",
   "execution_count": 3,
   "metadata": {},
   "outputs": [],
   "source": [
    "dataset = storage.load_pickle('testset.pickle')"
   ]
  },
  {
   "cell_type": "code",
   "execution_count": 17,
   "metadata": {},
   "outputs": [],
   "source": [
    "reg_dataset = regression_ensemble.predict(dataset)"
   ]
  },
  {
   "cell_type": "code",
   "execution_count": 18,
   "metadata": {},
   "outputs": [
    {
     "data": {
      "text/html": [
       "<div>\n",
       "<style scoped>\n",
       "    .dataframe tbody tr th:only-of-type {\n",
       "        vertical-align: middle;\n",
       "    }\n",
       "\n",
       "    .dataframe tbody tr th {\n",
       "        vertical-align: top;\n",
       "    }\n",
       "\n",
       "    .dataframe thead th {\n",
       "        text-align: right;\n",
       "    }\n",
       "</style>\n",
       "<table border=\"1\" class=\"dataframe\">\n",
       "  <thead>\n",
       "    <tr style=\"text-align: right;\">\n",
       "      <th></th>\n",
       "      <th>linreg_0</th>\n",
       "      <th>lstm_1</th>\n",
       "      <th>tcn_2</th>\n",
       "    </tr>\n",
       "  </thead>\n",
       "  <tbody>\n",
       "    <tr>\n",
       "      <th>0</th>\n",
       "      <td>1.196712</td>\n",
       "      <td>1.179836</td>\n",
       "      <td>1.071779</td>\n",
       "    </tr>\n",
       "    <tr>\n",
       "      <th>1</th>\n",
       "      <td>1.200233</td>\n",
       "      <td>1.175275</td>\n",
       "      <td>1.030341</td>\n",
       "    </tr>\n",
       "    <tr>\n",
       "      <th>2</th>\n",
       "      <td>1.208944</td>\n",
       "      <td>1.181336</td>\n",
       "      <td>1.069838</td>\n",
       "    </tr>\n",
       "    <tr>\n",
       "      <th>3</th>\n",
       "      <td>1.220008</td>\n",
       "      <td>1.190279</td>\n",
       "      <td>1.101364</td>\n",
       "    </tr>\n",
       "    <tr>\n",
       "      <th>4</th>\n",
       "      <td>1.218343</td>\n",
       "      <td>1.211336</td>\n",
       "      <td>1.282041</td>\n",
       "    </tr>\n",
       "    <tr>\n",
       "      <th>5</th>\n",
       "      <td>1.225798</td>\n",
       "      <td>1.210853</td>\n",
       "      <td>1.211553</td>\n",
       "    </tr>\n",
       "    <tr>\n",
       "      <th>6</th>\n",
       "      <td>1.227252</td>\n",
       "      <td>1.221717</td>\n",
       "      <td>1.287171</td>\n",
       "    </tr>\n",
       "    <tr>\n",
       "      <th>7</th>\n",
       "      <td>1.218455</td>\n",
       "      <td>1.229443</td>\n",
       "      <td>1.236892</td>\n",
       "    </tr>\n",
       "    <tr>\n",
       "      <th>8</th>\n",
       "      <td>1.224785</td>\n",
       "      <td>1.222726</td>\n",
       "      <td>1.210639</td>\n",
       "    </tr>\n",
       "    <tr>\n",
       "      <th>9</th>\n",
       "      <td>1.223785</td>\n",
       "      <td>1.224582</td>\n",
       "      <td>1.175153</td>\n",
       "    </tr>\n",
       "  </tbody>\n",
       "</table>\n",
       "</div>"
      ],
      "text/plain": [
       "   linreg_0    lstm_1     tcn_2\n",
       "0  1.196712  1.179836  1.071779\n",
       "1  1.200233  1.175275  1.030341\n",
       "2  1.208944  1.181336  1.069838\n",
       "3  1.220008  1.190279  1.101364\n",
       "4  1.218343  1.211336  1.282041\n",
       "5  1.225798  1.210853  1.211553\n",
       "6  1.227252  1.221717  1.287171\n",
       "7  1.218455  1.229443  1.236892\n",
       "8  1.224785  1.222726  1.210639\n",
       "9  1.223785  1.224582  1.175153"
      ]
     },
     "execution_count": 18,
     "metadata": {},
     "output_type": "execute_result"
    }
   ],
   "source": [
    "reg_dataset.head(10)"
   ]
  },
  {
   "cell_type": "code",
   "execution_count": 19,
   "metadata": {},
   "outputs": [],
   "source": [
    "mash_dataset = {\n",
    "    'features': reg_dataset.to_numpy(),\n",
    "    'labels': []\n",
    "}"
   ]
  },
  {
   "cell_type": "code",
   "execution_count": 20,
   "metadata": {},
   "outputs": [],
   "source": [
    "cls_dataset = classifier_ensemble.predict(mash_dataset, show_mean=True)"
   ]
  },
  {
   "cell_type": "code",
   "execution_count": 25,
   "metadata": {},
   "outputs": [
    {
     "data": {
      "text/html": [
       "<div>\n",
       "<style scoped>\n",
       "    .dataframe tbody tr th:only-of-type {\n",
       "        vertical-align: middle;\n",
       "    }\n",
       "\n",
       "    .dataframe tbody tr th {\n",
       "        vertical-align: top;\n",
       "    }\n",
       "\n",
       "    .dataframe thead th {\n",
       "        text-align: right;\n",
       "    }\n",
       "</style>\n",
       "<table border=\"1\" class=\"dataframe\">\n",
       "  <thead>\n",
       "    <tr style=\"text-align: right;\">\n",
       "      <th></th>\n",
       "      <th>logreg_0</th>\n",
       "      <th>svc_1</th>\n",
       "      <th>mean</th>\n",
       "    </tr>\n",
       "  </thead>\n",
       "  <tbody>\n",
       "    <tr>\n",
       "      <th>0</th>\n",
       "      <td>0</td>\n",
       "      <td>2</td>\n",
       "      <td>1.0</td>\n",
       "    </tr>\n",
       "    <tr>\n",
       "      <th>1</th>\n",
       "      <td>1</td>\n",
       "      <td>2</td>\n",
       "      <td>1.5</td>\n",
       "    </tr>\n",
       "    <tr>\n",
       "      <th>2</th>\n",
       "      <td>1</td>\n",
       "      <td>2</td>\n",
       "      <td>1.5</td>\n",
       "    </tr>\n",
       "    <tr>\n",
       "      <th>3</th>\n",
       "      <td>1</td>\n",
       "      <td>2</td>\n",
       "      <td>1.5</td>\n",
       "    </tr>\n",
       "    <tr>\n",
       "      <th>4</th>\n",
       "      <td>0</td>\n",
       "      <td>2</td>\n",
       "      <td>1.0</td>\n",
       "    </tr>\n",
       "    <tr>\n",
       "      <th>5</th>\n",
       "      <td>0</td>\n",
       "      <td>2</td>\n",
       "      <td>1.0</td>\n",
       "    </tr>\n",
       "    <tr>\n",
       "      <th>6</th>\n",
       "      <td>0</td>\n",
       "      <td>2</td>\n",
       "      <td>1.0</td>\n",
       "    </tr>\n",
       "    <tr>\n",
       "      <th>7</th>\n",
       "      <td>0</td>\n",
       "      <td>2</td>\n",
       "      <td>1.0</td>\n",
       "    </tr>\n",
       "    <tr>\n",
       "      <th>8</th>\n",
       "      <td>0</td>\n",
       "      <td>2</td>\n",
       "      <td>1.0</td>\n",
       "    </tr>\n",
       "    <tr>\n",
       "      <th>9</th>\n",
       "      <td>0</td>\n",
       "      <td>2</td>\n",
       "      <td>1.0</td>\n",
       "    </tr>\n",
       "  </tbody>\n",
       "</table>\n",
       "</div>"
      ],
      "text/plain": [
       "   logreg_0  svc_1  mean\n",
       "0         0      2   1.0\n",
       "1         1      2   1.5\n",
       "2         1      2   1.5\n",
       "3         1      2   1.5\n",
       "4         0      2   1.0\n",
       "5         0      2   1.0\n",
       "6         0      2   1.0\n",
       "7         0      2   1.0\n",
       "8         0      2   1.0\n",
       "9         0      2   1.0"
      ]
     },
     "execution_count": 25,
     "metadata": {},
     "output_type": "execute_result"
    }
   ],
   "source": [
    "cls_dataset.head(10)"
   ]
  },
  {
   "cell_type": "code",
   "execution_count": 26,
   "metadata": {},
   "outputs": [
    {
     "data": {
      "text/plain": [
       "1.5    0.710356\n",
       "1.0    0.241100\n",
       "2.0    0.048544\n",
       "Name: mean, dtype: float64"
      ]
     },
     "execution_count": 26,
     "metadata": {},
     "output_type": "execute_result"
    }
   ],
   "source": [
    "cls_dataset['mean'].value_counts(normalize=True)"
   ]
  },
  {
   "cell_type": "code",
   "execution_count": null,
   "metadata": {},
   "outputs": [],
   "source": []
  }
 ],
 "metadata": {
  "kernelspec": {
   "display_name": "Python 3",
   "language": "python",
   "name": "python3"
  },
  "language_info": {
   "codemirror_mode": {
    "name": "ipython",
    "version": 3
   },
   "file_extension": ".py",
   "mimetype": "text/x-python",
   "name": "python",
   "nbconvert_exporter": "python",
   "pygments_lexer": "ipython3",
   "version": "3.7.9"
  }
 },
 "nbformat": 4,
 "nbformat_minor": 4
}
