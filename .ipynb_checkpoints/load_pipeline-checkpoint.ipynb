{
 "cells": [
  {
   "cell_type": "code",
   "execution_count": 1,
   "metadata": {},
   "outputs": [],
   "source": [
    "import ipynb.fs.full.storage as storage"
   ]
  },
  {
   "cell_type": "code",
   "execution_count": 2,
   "metadata": {
    "scrolled": false
   },
   "outputs": [
    {
     "name": "stdout",
     "output_type": "stream",
     "text": [
      "SERIALIZING REGRESSOR LINREG_0\n",
      "\tFOLD 0\n",
      "\tFOLD 1\n",
      "\tFOLD 2\n",
      "\tFOLD 3\n",
      "\tFOLD 4\n",
      "\n",
      "SERIALIZING REGRESSOR LSTM_1\n",
      "\tFOLD 0\n",
      "\tFOLD 1\n",
      "\tFOLD 2\n",
      "\tFOLD 3\n",
      "\tFOLD 4\n",
      "\n",
      "SERIALIZING REGRESSOR TCN_2\n",
      "\tFOLD 0\n",
      "\tFOLD 1\n",
      "\tFOLD 2\n",
      "\tFOLD 3\n",
      "\tFOLD 4\n",
      "\n",
      "SERIALIZED CLASSIFIER LOGREG_0\n",
      "SERIALIZED CLASSIFIER SVC_1\n"
     ]
    }
   ],
   "source": [
    "regression_ensemble, classifier_ensemble = storage.load_pipe('PIPELINE-1602547437')"
   ]
  },
  {
   "cell_type": "code",
   "execution_count": 3,
   "metadata": {},
   "outputs": [
    {
     "data": {
      "text/plain": [
       "[<ipynb.fs.full.training.basic_model at 0x20e4347a308>,\n",
       " <ipynb.fs.full.training.basic_model at 0x20e5cde94c8>]"
      ]
     },
     "execution_count": 3,
     "metadata": {},
     "output_type": "execute_result"
    }
   ],
   "source": [
    "classifier_ensemble.models"
   ]
  },
  {
   "cell_type": "code",
   "execution_count": null,
   "metadata": {},
   "outputs": [],
   "source": []
  }
 ],
 "metadata": {
  "kernelspec": {
   "display_name": "Python 3",
   "language": "python",
   "name": "python3"
  },
  "language_info": {
   "codemirror_mode": {
    "name": "ipython",
    "version": 3
   },
   "file_extension": ".py",
   "mimetype": "text/x-python",
   "name": "python",
   "nbconvert_exporter": "python",
   "pygments_lexer": "ipython3",
   "version": "3.7.9"
  }
 },
 "nbformat": 4,
 "nbformat_minor": 4
}
