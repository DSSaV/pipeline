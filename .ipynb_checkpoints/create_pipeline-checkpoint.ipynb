{
 "cells": [
  {
   "cell_type": "markdown",
   "metadata": {},
   "source": [
    "### IMPORTS"
   ]
  },
  {
   "cell_type": "code",
   "execution_count": 1,
   "metadata": {},
   "outputs": [
    {
     "name": "stdout",
     "output_type": "stream",
     "text": [
      "WARNING:tensorflow:From C:\\Users\\35840\\Desktop\\coding\\python\\pipeline\\training.ipynb:20: is_gpu_available (from tensorflow.python.framework.test_util) is deprecated and will be removed in a future version.\n",
      "Instructions for updating:\n",
      "Use `tf.config.list_physical_devices('GPU')` instead.\n"
     ]
    }
   ],
   "source": [
    "import ipynb.fs.full.processing as processing\n",
    "import ipynb.fs.full.training as training\n",
    "import ipynb.fs.full.storage as storage\n",
    "import ipynb.fs.full.misc as misc\n",
    "import ipynb.fs.full.splitting as splitting\n",
    "import ipynb.fs.full.features as features\n",
    "import ipynb.fs.full.ensemble as ensemble"
   ]
  },
  {
   "cell_type": "markdown",
   "metadata": {},
   "source": [
    "### SERIALIZE THE YAML CONFIG"
   ]
  },
  {
   "cell_type": "code",
   "execution_count": 2,
   "metadata": {
    "scrolled": false
   },
   "outputs": [],
   "source": [
    "config = storage.load_yaml('extra/config.yaml')"
   ]
  },
  {
   "cell_type": "code",
   "execution_count": 3,
   "metadata": {},
   "outputs": [
    {
     "data": {
      "text/plain": [
       "{'data': 'extra/dataset.csv',\n",
       " 'processing': {'resample': True,\n",
       "  'time': 'D',\n",
       "  'aggregate': {'Open': 'first',\n",
       "   'High': 'max',\n",
       "   'Low': 'min',\n",
       "   'Close': 'last',\n",
       "   'Volume': 'sum'},\n",
       "  'label': {'from': 'Close', 'shift': 1}},\n",
       " 'features': {'category': 'all', 'window': 14},\n",
       " 'splitting': {'train_split': 0.8, 'validation_folds': 5},\n",
       " 'regression_ensemble': {'models': [{'linreg': None},\n",
       "   {'lstm': {'morph': {'window': 4, 'batch': 30},\n",
       "     'layers': [{'lstm': {'units': 120}},\n",
       "      {'dropout': {'rate': 0.15}},\n",
       "      {'dense': {'units': 50, 'activation': 'relu'}},\n",
       "      {'dense': {'units': 1}}],\n",
       "     'epochs': 15,\n",
       "     'loss': 'mean_squared_error',\n",
       "     'optimizer': 'rmsprop'}},\n",
       "   {'tcn': {'morph': {'window': 4, 'batch': 30},\n",
       "     'layers': [{'tcn': {'nb_filters': 64,\n",
       "        'nb_stacks': 1,\n",
       "        'dilations': [1, 2, 4, 8, 16, 32],\n",
       "        'padding': 'causal',\n",
       "        'use_skip_connections': False,\n",
       "        'dropout_rate': 0.1,\n",
       "        'return_sequences': False}},\n",
       "      {'dropout': {'rate': 0.05}},\n",
       "      {'dense': {'units': 50, 'activation': 'relu'}},\n",
       "      {'dense': {'units': 1}}],\n",
       "     'epochs': 15,\n",
       "     'loss': 'mean_squared_error',\n",
       "     'optimizer': 'adam'}}]},\n",
       " 'classification_ensemble': {'decision': {'upper': 0.75, 'lower': 0.25},\n",
       "  'models': [{'randforest': {'grid_search': {'n_estimators': [10,\n",
       "       50,\n",
       "       100,\n",
       "       300],\n",
       "      'max_features': ['log2', 'sqrt'],\n",
       "      'max_depth': [10, 100, 'None'],\n",
       "      'min_samples_split': [3, 10],\n",
       "      'min_samples_leaf': [2, 4],\n",
       "      'bootstrap': [True, False],\n",
       "      'class_weight': ['balanced']}}},\n",
       "   {'logreg': {'static': {'random_state': 0, 'class_weight': 'balanced'}}},\n",
       "   {'svc': {'static': {'decision_function_shape': 'ovo'},\n",
       "     'grid_search': {'kernel': ['linear', 'rbf'], 'C': [1, 150]}}}]}}"
      ]
     },
     "execution_count": 3,
     "metadata": {},
     "output_type": "execute_result"
    }
   ],
   "source": [
    "config"
   ]
  },
  {
   "cell_type": "markdown",
   "metadata": {},
   "source": [
    "### STEP 1: PROCESS RAW DATA TO DATAFRAME"
   ]
  },
  {
   "cell_type": "code",
   "execution_count": 4,
   "metadata": {},
   "outputs": [],
   "source": [
    "dataframe = processing.create_dataframe(config)"
   ]
  },
  {
   "cell_type": "code",
   "execution_count": 5,
   "metadata": {},
   "outputs": [
    {
     "data": {
      "text/html": [
       "<div>\n",
       "<style scoped>\n",
       "    .dataframe tbody tr th:only-of-type {\n",
       "        vertical-align: middle;\n",
       "    }\n",
       "\n",
       "    .dataframe tbody tr th {\n",
       "        vertical-align: top;\n",
       "    }\n",
       "\n",
       "    .dataframe thead th {\n",
       "        text-align: right;\n",
       "    }\n",
       "</style>\n",
       "<table border=\"1\" class=\"dataframe\">\n",
       "  <thead>\n",
       "    <tr style=\"text-align: right;\">\n",
       "      <th></th>\n",
       "      <th>Open</th>\n",
       "      <th>High</th>\n",
       "      <th>Low</th>\n",
       "      <th>Close</th>\n",
       "      <th>Volume</th>\n",
       "      <th>label</th>\n",
       "    </tr>\n",
       "    <tr>\n",
       "      <th>Date_Timestamp</th>\n",
       "      <th></th>\n",
       "      <th></th>\n",
       "      <th></th>\n",
       "      <th></th>\n",
       "      <th></th>\n",
       "      <th></th>\n",
       "    </tr>\n",
       "  </thead>\n",
       "  <tbody>\n",
       "    <tr>\n",
       "      <th>2010-01-01</th>\n",
       "      <td>1.43327</td>\n",
       "      <td>1.43356</td>\n",
       "      <td>1.43207</td>\n",
       "      <td>1.43335</td>\n",
       "      <td>39761.000053</td>\n",
       "      <td>1.43141</td>\n",
       "    </tr>\n",
       "    <tr>\n",
       "      <th>2010-01-03</th>\n",
       "      <td>1.43024</td>\n",
       "      <td>1.43359</td>\n",
       "      <td>1.42951</td>\n",
       "      <td>1.43141</td>\n",
       "      <td>3001.600003</td>\n",
       "      <td>1.44244</td>\n",
       "    </tr>\n",
       "    <tr>\n",
       "      <th>2010-01-04</th>\n",
       "      <td>1.43143</td>\n",
       "      <td>1.44556</td>\n",
       "      <td>1.42559</td>\n",
       "      <td>1.44244</td>\n",
       "      <td>80019.400094</td>\n",
       "      <td>1.43634</td>\n",
       "    </tr>\n",
       "    <tr>\n",
       "      <th>2010-01-05</th>\n",
       "      <td>1.44238</td>\n",
       "      <td>1.44834</td>\n",
       "      <td>1.43445</td>\n",
       "      <td>1.43634</td>\n",
       "      <td>79887.100067</td>\n",
       "      <td>1.44005</td>\n",
       "    </tr>\n",
       "    <tr>\n",
       "      <th>2010-01-06</th>\n",
       "      <td>1.43638</td>\n",
       "      <td>1.44342</td>\n",
       "      <td>1.42807</td>\n",
       "      <td>1.44005</td>\n",
       "      <td>80971.800085</td>\n",
       "      <td>1.43155</td>\n",
       "    </tr>\n",
       "  </tbody>\n",
       "</table>\n",
       "</div>"
      ],
      "text/plain": [
       "                   Open     High      Low    Close        Volume    label\n",
       "Date_Timestamp                                                           \n",
       "2010-01-01      1.43327  1.43356  1.43207  1.43335  39761.000053  1.43141\n",
       "2010-01-03      1.43024  1.43359  1.42951  1.43141   3001.600003  1.44244\n",
       "2010-01-04      1.43143  1.44556  1.42559  1.44244  80019.400094  1.43634\n",
       "2010-01-05      1.44238  1.44834  1.43445  1.43634  79887.100067  1.44005\n",
       "2010-01-06      1.43638  1.44342  1.42807  1.44005  80971.800085  1.43155"
      ]
     },
     "execution_count": 5,
     "metadata": {},
     "output_type": "execute_result"
    }
   ],
   "source": [
    "dataframe.head(5)"
   ]
  },
  {
   "cell_type": "markdown",
   "metadata": {},
   "source": [
    "### STEP 2: ADD FEATURES TO DATAFRAME"
   ]
  },
  {
   "cell_type": "code",
   "execution_count": 6,
   "metadata": {},
   "outputs": [],
   "source": [
    "regression_dataset = features.add(dataframe, config['features'])"
   ]
  },
  {
   "cell_type": "code",
   "execution_count": 7,
   "metadata": {},
   "outputs": [
    {
     "data": {
      "text/html": [
       "<div>\n",
       "<style scoped>\n",
       "    .dataframe tbody tr th:only-of-type {\n",
       "        vertical-align: middle;\n",
       "    }\n",
       "\n",
       "    .dataframe tbody tr th {\n",
       "        vertical-align: top;\n",
       "    }\n",
       "\n",
       "    .dataframe thead th {\n",
       "        text-align: right;\n",
       "    }\n",
       "</style>\n",
       "<table border=\"1\" class=\"dataframe\">\n",
       "  <thead>\n",
       "    <tr style=\"text-align: right;\">\n",
       "      <th></th>\n",
       "      <th>open</th>\n",
       "      <th>high</th>\n",
       "      <th>low</th>\n",
       "      <th>close</th>\n",
       "      <th>volume</th>\n",
       "      <th>label</th>\n",
       "      <th>stock</th>\n",
       "      <th>stocd</th>\n",
       "      <th>stocsd</th>\n",
       "      <th>momentum</th>\n",
       "      <th>...</th>\n",
       "      <th>rsi</th>\n",
       "      <th>obv</th>\n",
       "      <th>ma</th>\n",
       "      <th>bias6</th>\n",
       "      <th>psy12</th>\n",
       "      <th>asy5</th>\n",
       "      <th>asy4</th>\n",
       "      <th>asy3</th>\n",
       "      <th>asy2</th>\n",
       "      <th>asy1</th>\n",
       "    </tr>\n",
       "    <tr>\n",
       "      <th>Date_Timestamp</th>\n",
       "      <th></th>\n",
       "      <th></th>\n",
       "      <th></th>\n",
       "      <th></th>\n",
       "      <th></th>\n",
       "      <th></th>\n",
       "      <th></th>\n",
       "      <th></th>\n",
       "      <th></th>\n",
       "      <th></th>\n",
       "      <th></th>\n",
       "      <th></th>\n",
       "      <th></th>\n",
       "      <th></th>\n",
       "      <th></th>\n",
       "      <th></th>\n",
       "      <th></th>\n",
       "      <th></th>\n",
       "      <th></th>\n",
       "      <th></th>\n",
       "      <th></th>\n",
       "    </tr>\n",
       "  </thead>\n",
       "  <tbody>\n",
       "    <tr>\n",
       "      <th>2010-01-21</th>\n",
       "      <td>1.41115</td>\n",
       "      <td>1.41422</td>\n",
       "      <td>1.40247</td>\n",
       "      <td>1.40979</td>\n",
       "      <td>78980.100041</td>\n",
       "      <td>1.41361</td>\n",
       "      <td>13.189189</td>\n",
       "      <td>9.578919</td>\n",
       "      <td>19.849579</td>\n",
       "      <td>-0.02655</td>\n",
       "      <td>...</td>\n",
       "      <td>29.873956</td>\n",
       "      <td>-159980.600046</td>\n",
       "      <td>1.425180</td>\n",
       "      <td>-0.012336</td>\n",
       "      <td>41.7</td>\n",
       "      <td>-0.403064</td>\n",
       "      <td>-0.471831</td>\n",
       "      <td>-0.715772</td>\n",
       "      <td>-0.637503</td>\n",
       "      <td>-0.099256</td>\n",
       "    </tr>\n",
       "    <tr>\n",
       "      <th>2010-01-22</th>\n",
       "      <td>1.40977</td>\n",
       "      <td>1.41805</td>\n",
       "      <td>1.40837</td>\n",
       "      <td>1.41361</td>\n",
       "      <td>76660.300037</td>\n",
       "      <td>1.41517</td>\n",
       "      <td>20.072072</td>\n",
       "      <td>13.339429</td>\n",
       "      <td>14.445538</td>\n",
       "      <td>-0.02644</td>\n",
       "      <td>...</td>\n",
       "      <td>33.983332</td>\n",
       "      <td>-83320.300009</td>\n",
       "      <td>1.420572</td>\n",
       "      <td>-0.006774</td>\n",
       "      <td>41.7</td>\n",
       "      <td>-0.323346</td>\n",
       "      <td>-0.469180</td>\n",
       "      <td>-0.334804</td>\n",
       "      <td>0.085670</td>\n",
       "      <td>0.270596</td>\n",
       "    </tr>\n",
       "    <tr>\n",
       "      <th>2010-01-24</th>\n",
       "      <td>1.41557</td>\n",
       "      <td>1.41705</td>\n",
       "      <td>1.41396</td>\n",
       "      <td>1.41517</td>\n",
       "      <td>3128.600004</td>\n",
       "      <td>1.41458</td>\n",
       "      <td>22.882883</td>\n",
       "      <td>18.714715</td>\n",
       "      <td>13.877688</td>\n",
       "      <td>-0.01638</td>\n",
       "      <td>...</td>\n",
       "      <td>35.641946</td>\n",
       "      <td>-80191.700005</td>\n",
       "      <td>1.415528</td>\n",
       "      <td>-0.003171</td>\n",
       "      <td>33.3</td>\n",
       "      <td>-0.353285</td>\n",
       "      <td>-0.223529</td>\n",
       "      <td>0.093878</td>\n",
       "      <td>0.190445</td>\n",
       "      <td>0.110295</td>\n",
       "    </tr>\n",
       "    <tr>\n",
       "      <th>2010-01-25</th>\n",
       "      <td>1.41498</td>\n",
       "      <td>1.41939</td>\n",
       "      <td>1.41248</td>\n",
       "      <td>1.41458</td>\n",
       "      <td>79577.200048</td>\n",
       "      <td>1.40808</td>\n",
       "      <td>21.819820</td>\n",
       "      <td>21.591592</td>\n",
       "      <td>17.881912</td>\n",
       "      <td>-0.02625</td>\n",
       "      <td>...</td>\n",
       "      <td>35.280916</td>\n",
       "      <td>-159768.900053</td>\n",
       "      <td>1.412868</td>\n",
       "      <td>-0.000558</td>\n",
       "      <td>33.3</td>\n",
       "      <td>-0.187163</td>\n",
       "      <td>0.059984</td>\n",
       "      <td>0.113064</td>\n",
       "      <td>0.034298</td>\n",
       "      <td>-0.041700</td>\n",
       "    </tr>\n",
       "    <tr>\n",
       "      <th>2010-01-26</th>\n",
       "      <td>1.41454</td>\n",
       "      <td>1.41780</td>\n",
       "      <td>1.40397</td>\n",
       "      <td>1.40808</td>\n",
       "      <td>79232.600053</td>\n",
       "      <td>1.40280</td>\n",
       "      <td>10.108108</td>\n",
       "      <td>18.270270</td>\n",
       "      <td>19.525526</td>\n",
       "      <td>-0.03823</td>\n",
       "      <td>...</td>\n",
       "      <td>31.495786</td>\n",
       "      <td>-239001.500106</td>\n",
       "      <td>1.412246</td>\n",
       "      <td>-0.002826</td>\n",
       "      <td>25.0</td>\n",
       "      <td>-0.044125</td>\n",
       "      <td>-0.030342</td>\n",
       "      <td>-0.130655</td>\n",
       "      <td>-0.251130</td>\n",
       "      <td>-0.460559</td>\n",
       "    </tr>\n",
       "  </tbody>\n",
       "</table>\n",
       "<p>5 rows × 26 columns</p>\n",
       "</div>"
      ],
      "text/plain": [
       "                   open     high      low    close        volume    label  \\\n",
       "Date_Timestamp                                                              \n",
       "2010-01-21      1.41115  1.41422  1.40247  1.40979  78980.100041  1.41361   \n",
       "2010-01-22      1.40977  1.41805  1.40837  1.41361  76660.300037  1.41517   \n",
       "2010-01-24      1.41557  1.41705  1.41396  1.41517   3128.600004  1.41458   \n",
       "2010-01-25      1.41498  1.41939  1.41248  1.41458  79577.200048  1.40808   \n",
       "2010-01-26      1.41454  1.41780  1.40397  1.40808  79232.600053  1.40280   \n",
       "\n",
       "                    stock      stocd     stocsd  momentum  ...        rsi  \\\n",
       "Date_Timestamp                                             ...              \n",
       "2010-01-21      13.189189   9.578919  19.849579  -0.02655  ...  29.873956   \n",
       "2010-01-22      20.072072  13.339429  14.445538  -0.02644  ...  33.983332   \n",
       "2010-01-24      22.882883  18.714715  13.877688  -0.01638  ...  35.641946   \n",
       "2010-01-25      21.819820  21.591592  17.881912  -0.02625  ...  35.280916   \n",
       "2010-01-26      10.108108  18.270270  19.525526  -0.03823  ...  31.495786   \n",
       "\n",
       "                          obv        ma     bias6  psy12      asy5      asy4  \\\n",
       "Date_Timestamp                                                                 \n",
       "2010-01-21     -159980.600046  1.425180 -0.012336   41.7 -0.403064 -0.471831   \n",
       "2010-01-22      -83320.300009  1.420572 -0.006774   41.7 -0.323346 -0.469180   \n",
       "2010-01-24      -80191.700005  1.415528 -0.003171   33.3 -0.353285 -0.223529   \n",
       "2010-01-25     -159768.900053  1.412868 -0.000558   33.3 -0.187163  0.059984   \n",
       "2010-01-26     -239001.500106  1.412246 -0.002826   25.0 -0.044125 -0.030342   \n",
       "\n",
       "                    asy3      asy2      asy1  \n",
       "Date_Timestamp                                \n",
       "2010-01-21     -0.715772 -0.637503 -0.099256  \n",
       "2010-01-22     -0.334804  0.085670  0.270596  \n",
       "2010-01-24      0.093878  0.190445  0.110295  \n",
       "2010-01-25      0.113064  0.034298 -0.041700  \n",
       "2010-01-26     -0.130655 -0.251130 -0.460559  \n",
       "\n",
       "[5 rows x 26 columns]"
      ]
     },
     "execution_count": 7,
     "metadata": {},
     "output_type": "execute_result"
    }
   ],
   "source": [
    "regression_dataset.head(5)"
   ]
  },
  {
   "cell_type": "markdown",
   "metadata": {},
   "source": [
    "### STEP 3: SPLIT PRIMARY DATA INTO TRAIN & TEST SECTIONS"
   ]
  },
  {
   "cell_type": "code",
   "execution_count": 8,
   "metadata": {},
   "outputs": [],
   "source": [
    "primary_dataset = splitting.general(\n",
    "    regression_dataset,\n",
    "    config['splitting']['train_split']\n",
    ")"
   ]
  },
  {
   "cell_type": "markdown",
   "metadata": {},
   "source": [
    "### STEP 4: CREATE CROSS VALIDATION FOLDS & TRAIN REGRESSION MODELS"
   ]
  },
  {
   "cell_type": "code",
   "execution_count": 9,
   "metadata": {
    "scrolled": false
   },
   "outputs": [
    {
     "name": "stdout",
     "output_type": "stream",
     "text": [
      "TRAINING LINREG_0 FOLD #1\n",
      "7.169865350348226e-05\n",
      "TRAINING LINREG_0 FOLD #2\n",
      "6.871102168442929e-05\n",
      "TRAINING LINREG_0 FOLD #3\n",
      "5.698881383548368e-05\n",
      "TRAINING LINREG_0 FOLD #4\n",
      "5.078688708352685e-05\n",
      "TRAINING LINREG_0 FOLD #5\n",
      "4.846554932241969e-05\n",
      "\n",
      "TRAINING LSTM_1 FOLD #1\n",
      "Epoch 1/15\n",
      "14/14 [==============================] - 0s 23ms/step - loss: 0.2258 - mean_squared_error: 0.2258\n",
      "Epoch 2/15\n",
      "14/14 [==============================] - 0s 22ms/step - loss: 0.0297 - mean_squared_error: 0.0297\n",
      "Epoch 3/15\n",
      "14/14 [==============================] - 0s 23ms/step - loss: 0.0212 - mean_squared_error: 0.0212\n",
      "Epoch 4/15\n",
      "14/14 [==============================] - 0s 22ms/step - loss: 0.0277 - mean_squared_error: 0.0277\n",
      "Epoch 5/15\n",
      "14/14 [==============================] - 0s 23ms/step - loss: 0.0197 - mean_squared_error: 0.0197\n",
      "Epoch 6/15\n",
      "14/14 [==============================] - 0s 23ms/step - loss: 0.0163 - mean_squared_error: 0.0163\n",
      "Epoch 7/15\n",
      "14/14 [==============================] - 0s 23ms/step - loss: 0.0172 - mean_squared_error: 0.0172\n",
      "Epoch 8/15\n",
      "14/14 [==============================] - 0s 23ms/step - loss: 0.0180 - mean_squared_error: 0.0180\n",
      "Epoch 9/15\n",
      "14/14 [==============================] - 0s 23ms/step - loss: 0.0141 - mean_squared_error: 0.0141\n",
      "Epoch 10/15\n",
      "14/14 [==============================] - 0s 23ms/step - loss: 0.0153 - mean_squared_error: 0.0153\n",
      "Epoch 11/15\n",
      "14/14 [==============================] - 0s 23ms/step - loss: 0.0094 - mean_squared_error: 0.0094\n",
      "Epoch 12/15\n",
      "14/14 [==============================] - 0s 23ms/step - loss: 0.0136 - mean_squared_error: 0.0136\n",
      "Epoch 13/15\n",
      "14/14 [==============================] - 0s 23ms/step - loss: 0.0139 - mean_squared_error: 0.0139\n",
      "Epoch 14/15\n",
      "14/14 [==============================] - 0s 23ms/step - loss: 0.0122 - mean_squared_error: 0.0122\n",
      "Epoch 15/15\n",
      "14/14 [==============================] - 0s 22ms/step - loss: 0.0086 - mean_squared_error: 0.0086\n",
      "[0.22583623230457306, 0.02967347949743271, 0.021160531789064407, 0.027676254510879517, 0.01973080448806286, 0.01625385880470276, 0.01718883216381073, 0.017960596829652786, 0.014065669849514961, 0.01530588511377573, 0.009380902163684368, 0.01355710718780756, 0.013942877762019634, 0.012168264016509056, 0.008621565997600555]\n",
      "TRAINING LSTM_1 FOLD #2\n",
      "Epoch 1/15\n",
      "28/28 [==============================] - 1s 24ms/step - loss: 0.1186 - mean_squared_error: 0.1186\n",
      "Epoch 2/15\n",
      "28/28 [==============================] - 1s 24ms/step - loss: 0.0234 - mean_squared_error: 0.0234\n",
      "Epoch 3/15\n",
      "28/28 [==============================] - 1s 24ms/step - loss: 0.0168 - mean_squared_error: 0.0168\n",
      "Epoch 4/15\n",
      "28/28 [==============================] - 1s 24ms/step - loss: 0.0162 - mean_squared_error: 0.0162\n",
      "Epoch 5/15\n",
      "28/28 [==============================] - 1s 24ms/step - loss: 0.0160 - mean_squared_error: 0.0160\n",
      "Epoch 6/15\n",
      "28/28 [==============================] - 1s 23ms/step - loss: 0.0138 - mean_squared_error: 0.0138\n",
      "Epoch 7/15\n",
      "28/28 [==============================] - 1s 24ms/step - loss: 0.0106 - mean_squared_error: 0.0106\n",
      "Epoch 8/15\n",
      "28/28 [==============================] - 1s 24ms/step - loss: 0.0102 - mean_squared_error: 0.0102\n",
      "Epoch 9/15\n",
      "28/28 [==============================] - 1s 24ms/step - loss: 0.0116 - mean_squared_error: 0.0116\n",
      "Epoch 10/15\n",
      "28/28 [==============================] - 1s 24ms/step - loss: 0.0104 - mean_squared_error: 0.0104\n",
      "Epoch 11/15\n",
      "28/28 [==============================] - 1s 24ms/step - loss: 0.0101 - mean_squared_error: 0.0101\n",
      "Epoch 12/15\n",
      "28/28 [==============================] - 1s 23ms/step - loss: 0.0091 - mean_squared_error: 0.0091\n",
      "Epoch 13/15\n",
      "28/28 [==============================] - 1s 24ms/step - loss: 0.0080 - mean_squared_error: 0.0080\n",
      "Epoch 14/15\n",
      "28/28 [==============================] - 1s 24ms/step - loss: 0.0071 - mean_squared_error: 0.0071\n",
      "Epoch 15/15\n",
      "28/28 [==============================] - 1s 24ms/step - loss: 0.0076 - mean_squared_error: 0.0076\n",
      "[0.1185770034790039, 0.023408710956573486, 0.016772044822573662, 0.01621207222342491, 0.015974653884768486, 0.01384423766285181, 0.01055900752544403, 0.010161297395825386, 0.011580845341086388, 0.010425526648759842, 0.010142674669623375, 0.00914727058261633, 0.007978859357535839, 0.007127927616238594, 0.007639090996235609]\n",
      "TRAINING LSTM_1 FOLD #3\n",
      "Epoch 1/15\n",
      "42/42 [==============================] - 1s 23ms/step - loss: 0.0701 - mean_squared_error: 0.0701\n",
      "Epoch 2/15\n",
      "42/42 [==============================] - 1s 23ms/step - loss: 0.0217 - mean_squared_error: 0.0217\n",
      "Epoch 3/15\n",
      "42/42 [==============================] - 1s 24ms/step - loss: 0.0148 - mean_squared_error: 0.0148\n",
      "Epoch 4/15\n",
      "42/42 [==============================] - 1s 24ms/step - loss: 0.0130 - mean_squared_error: 0.0130\n",
      "Epoch 5/15\n",
      "42/42 [==============================] - 1s 24ms/step - loss: 0.0122 - mean_squared_error: 0.0122\n",
      "Epoch 6/15\n",
      "42/42 [==============================] - 1s 24ms/step - loss: 0.0103 - mean_squared_error: 0.0103\n",
      "Epoch 7/15\n",
      "42/42 [==============================] - 1s 24ms/step - loss: 0.0093 - mean_squared_error: 0.0093\n",
      "Epoch 8/15\n",
      "42/42 [==============================] - 1s 24ms/step - loss: 0.0090 - mean_squared_error: 0.0090\n",
      "Epoch 9/15\n",
      "42/42 [==============================] - 1s 24ms/step - loss: 0.0086 - mean_squared_error: 0.0086\n",
      "Epoch 10/15\n",
      "42/42 [==============================] - 1s 24ms/step - loss: 0.0073 - mean_squared_error: 0.0073\n",
      "Epoch 11/15\n",
      "42/42 [==============================] - 1s 24ms/step - loss: 0.0076 - mean_squared_error: 0.0076\n",
      "Epoch 12/15\n",
      "42/42 [==============================] - 1s 23ms/step - loss: 0.0064 - mean_squared_error: 0.0064\n",
      "Epoch 13/15\n",
      "42/42 [==============================] - 1s 23ms/step - loss: 0.0059 - mean_squared_error: 0.0059\n",
      "Epoch 14/15\n",
      "42/42 [==============================] - 1s 24ms/step - loss: 0.0063 - mean_squared_error: 0.0063\n",
      "Epoch 15/15\n",
      "42/42 [==============================] - 1s 24ms/step - loss: 0.0065 - mean_squared_error: 0.0065\n",
      "[0.07013078033924103, 0.02172834239900112, 0.0147955771535635, 0.01295522041618824, 0.012207486666738987, 0.010343370959162712, 0.009332319721579552, 0.008979194797575474, 0.008602269925177097, 0.0073277573101222515, 0.007551206275820732, 0.006388144101947546, 0.005936840549111366, 0.006323462817817926, 0.006527066696435213]\n",
      "TRAINING LSTM_1 FOLD #4\n",
      "Epoch 1/15\n",
      "56/56 [==============================] - 1s 24ms/step - loss: 0.0702 - mean_squared_error: 0.0702\n",
      "Epoch 2/15\n",
      "56/56 [==============================] - 1s 24ms/step - loss: 0.0176 - mean_squared_error: 0.0176\n",
      "Epoch 3/15\n",
      "56/56 [==============================] - 1s 24ms/step - loss: 0.0128 - mean_squared_error: 0.0128\n",
      "Epoch 4/15\n",
      "56/56 [==============================] - 1s 24ms/step - loss: 0.0114 - mean_squared_error: 0.0114\n",
      "Epoch 5/15\n",
      "56/56 [==============================] - 1s 24ms/step - loss: 0.0094 - mean_squared_error: 0.0094\n",
      "Epoch 6/15\n",
      "56/56 [==============================] - 1s 24ms/step - loss: 0.0089 - mean_squared_error: 0.0089\n",
      "Epoch 7/15\n",
      "56/56 [==============================] - 1s 24ms/step - loss: 0.0070 - mean_squared_error: 0.0070\n",
      "Epoch 8/15\n",
      "56/56 [==============================] - 1s 24ms/step - loss: 0.0077 - mean_squared_error: 0.0077\n",
      "Epoch 9/15\n",
      "56/56 [==============================] - 1s 24ms/step - loss: 0.0068 - mean_squared_error: 0.0068\n",
      "Epoch 10/15\n",
      "56/56 [==============================] - 1s 24ms/step - loss: 0.0061 - mean_squared_error: 0.0061\n",
      "Epoch 11/15\n",
      "56/56 [==============================] - 1s 24ms/step - loss: 0.0058 - mean_squared_error: 0.0058\n",
      "Epoch 12/15\n",
      "56/56 [==============================] - 1s 24ms/step - loss: 0.0057 - mean_squared_error: 0.0057\n",
      "Epoch 13/15\n",
      "56/56 [==============================] - 1s 24ms/step - loss: 0.0047 - mean_squared_error: 0.0047\n",
      "Epoch 14/15\n",
      "56/56 [==============================] - 1s 24ms/step - loss: 0.0049 - mean_squared_error: 0.0049\n",
      "Epoch 15/15\n",
      "56/56 [==============================] - 1s 24ms/step - loss: 0.0045 - mean_squared_error: 0.0045\n",
      "[0.07020115107297897, 0.017587006092071533, 0.012847572565078735, 0.01136232540011406, 0.0094149773940444, 0.008884355425834656, 0.007041263394057751, 0.0077018896117806435, 0.006809042766690254, 0.006066839676350355, 0.005767643917351961, 0.005663187708705664, 0.004711319226771593, 0.004902999848127365, 0.00451571075245738]\n"
     ]
    },
    {
     "name": "stdout",
     "output_type": "stream",
     "text": [
      "TRAINING LSTM_1 FOLD #5\n",
      "Epoch 1/15\n",
      "69/69 [==============================] - 2s 24ms/step - loss: 0.0694 - mean_squared_error: 0.0694\n",
      "Epoch 2/15\n",
      "69/69 [==============================] - 2s 24ms/step - loss: 0.0138 - mean_squared_error: 0.0138\n",
      "Epoch 3/15\n",
      "69/69 [==============================] - 2s 24ms/step - loss: 0.0114 - mean_squared_error: 0.0114\n",
      "Epoch 4/15\n",
      "69/69 [==============================] - 2s 24ms/step - loss: 0.0089 - mean_squared_error: 0.0089\n",
      "Epoch 5/15\n",
      "69/69 [==============================] - 2s 24ms/step - loss: 0.0077 - mean_squared_error: 0.0077\n",
      "Epoch 6/15\n",
      "69/69 [==============================] - 2s 24ms/step - loss: 0.0074 - mean_squared_error: 0.0074\n",
      "Epoch 7/15\n",
      "69/69 [==============================] - 2s 24ms/step - loss: 0.0064 - mean_squared_error: 0.0064\n",
      "Epoch 8/15\n",
      "69/69 [==============================] - 2s 24ms/step - loss: 0.0060 - mean_squared_error: 0.0060\n",
      "Epoch 9/15\n",
      "69/69 [==============================] - 2s 24ms/step - loss: 0.0056 - mean_squared_error: 0.0056\n",
      "Epoch 10/15\n",
      "69/69 [==============================] - 2s 24ms/step - loss: 0.0050 - mean_squared_error: 0.0050\n",
      "Epoch 11/15\n",
      "69/69 [==============================] - 2s 24ms/step - loss: 0.0046 - mean_squared_error: 0.0046\n",
      "Epoch 12/15\n",
      "69/69 [==============================] - 2s 24ms/step - loss: 0.0049 - mean_squared_error: 0.0049\n",
      "Epoch 13/15\n",
      "69/69 [==============================] - 2s 24ms/step - loss: 0.0044 - mean_squared_error: 0.0044\n",
      "Epoch 14/15\n",
      "69/69 [==============================] - 2s 24ms/step - loss: 0.0041 - mean_squared_error: 0.0041\n",
      "Epoch 15/15\n",
      "69/69 [==============================] - 2s 24ms/step - loss: 0.0039 - mean_squared_error: 0.0039\n",
      "[0.06937403231859207, 0.013790830038487911, 0.01135218609124422, 0.008894804865121841, 0.007656091824173927, 0.007420577108860016, 0.006445052567869425, 0.0059931231662631035, 0.005606270860880613, 0.005022126715630293, 0.004618319217115641, 0.004944920539855957, 0.004379382357001305, 0.004068517126142979, 0.0038779268506914377]\n",
      "\n",
      "TRAINING TCN_2 FOLD #1\n",
      "Epoch 1/15\n"
     ]
    },
    {
     "ename": "UnknownError",
     "evalue": " Failed to get convolution algorithm. This is probably because cuDNN failed to initialize, so try looking to see if a warning log message was printed above.\n\t [[node functional_1/tcn/residual_block_0/conv1D_0/conv1d (defined at C:\\Users\\35840\\Anaconda3\\lib\\site-packages\\tcn\\tcn.py:145) ]] [Op:__inference_train_function_31819]\n\nFunction call stack:\ntrain_function\n",
     "output_type": "error",
     "traceback": [
      "\u001b[1;31m---------------------------------------------------------------------------\u001b[0m",
      "\u001b[1;31mUnknownError\u001b[0m                              Traceback (most recent call last)",
      "\u001b[1;32m<ipython-input-9-0054a01e23b6>\u001b[0m in \u001b[0;36m<module>\u001b[1;34m\u001b[0m\n\u001b[1;32m----> 1\u001b[1;33m \u001b[0mregression_ensemble\u001b[0m\u001b[1;33m,\u001b[0m \u001b[0mregression_table\u001b[0m \u001b[1;33m=\u001b[0m \u001b[0mensemble\u001b[0m\u001b[1;33m.\u001b[0m\u001b[0mregression\u001b[0m\u001b[1;33m(\u001b[0m\u001b[0mprimary_dataset\u001b[0m\u001b[1;33m,\u001b[0m \u001b[0mconfig\u001b[0m\u001b[1;33m)\u001b[0m\u001b[1;33m\u001b[0m\u001b[1;33m\u001b[0m\u001b[0m\n\u001b[0m",
      "\u001b[1;32m~\\Desktop\\coding\\python\\pipeline\\ensemble.ipynb\u001b[0m in \u001b[0;36mregression\u001b[1;34m(primary_dataset, config)\u001b[0m\n\u001b[0;32m    121\u001b[0m     \u001b[1;34m\"        \\n\"\u001b[0m\u001b[1;33m,\u001b[0m\u001b[1;33m\u001b[0m\u001b[1;33m\u001b[0m\u001b[0m\n\u001b[0;32m    122\u001b[0m     \u001b[1;34m\"        # ADD INDEX TO THE NAME\\n\"\u001b[0m\u001b[1;33m,\u001b[0m\u001b[1;33m\u001b[0m\u001b[1;33m\u001b[0m\u001b[0m\n\u001b[1;32m--> 123\u001b[1;33m     \u001b[1;34m\"        name = '{}_{}'.format(name, index)\\n\"\u001b[0m\u001b[1;33m,\u001b[0m\u001b[1;33m\u001b[0m\u001b[1;33m\u001b[0m\u001b[0m\n\u001b[0m\u001b[0;32m    124\u001b[0m     \u001b[1;34m\"\\n\"\u001b[0m\u001b[1;33m,\u001b[0m\u001b[1;33m\u001b[0m\u001b[1;33m\u001b[0m\u001b[0m\n\u001b[0;32m    125\u001b[0m     \u001b[1;34m\"        # FOLD CONTAINER\\n\"\u001b[0m\u001b[1;33m,\u001b[0m\u001b[1;33m\u001b[0m\u001b[1;33m\u001b[0m\u001b[0m\n",
      "\u001b[1;32m~\\Desktop\\coding\\python\\pipeline\\training.ipynb\u001b[0m in \u001b[0;36mstart\u001b[1;34m(dataset, name, settings)\u001b[0m\n\u001b[0;32m    418\u001b[0m     \u001b[1;34m\"\\n\"\u001b[0m\u001b[1;33m,\u001b[0m\u001b[1;33m\u001b[0m\u001b[1;33m\u001b[0m\u001b[0m\n\u001b[0;32m    419\u001b[0m     \u001b[1;34m\"    # TRAIN DATA GENERATOR\\n\"\u001b[0m\u001b[1;33m,\u001b[0m\u001b[1;33m\u001b[0m\u001b[1;33m\u001b[0m\u001b[0m\n\u001b[1;32m--> 420\u001b[1;33m     \u001b[1;34m\"    train_generator = outline.train_generator(dataset)\\n\"\u001b[0m\u001b[1;33m,\u001b[0m\u001b[1;33m\u001b[0m\u001b[1;33m\u001b[0m\u001b[0m\n\u001b[0m\u001b[0;32m    421\u001b[0m     \u001b[1;34m\"\\n\"\u001b[0m\u001b[1;33m,\u001b[0m\u001b[1;33m\u001b[0m\u001b[1;33m\u001b[0m\u001b[0m\n\u001b[0;32m    422\u001b[0m     \u001b[1;34m\"    # INPUT & OUTPUT LAYER\\n\"\u001b[0m\u001b[1;33m,\u001b[0m\u001b[1;33m\u001b[0m\u001b[1;33m\u001b[0m\u001b[0m\n",
      "\u001b[1;32m~\\Desktop\\coding\\python\\pipeline\\training.ipynb\u001b[0m in \u001b[0;36mtemporal_convolutional_network\u001b[1;34m(dataset, name, settings)\u001b[0m\n\u001b[0;32m    281\u001b[0m     \u001b[1;34m\"        # CREATE GENERATOR & PREDICT\\n\"\u001b[0m\u001b[1;33m,\u001b[0m\u001b[1;33m\u001b[0m\u001b[1;33m\u001b[0m\u001b[0m\n\u001b[0;32m    282\u001b[0m     \u001b[1;34m\"        generator = self.test_generator(dataframe)\\n\"\u001b[0m\u001b[1;33m,\u001b[0m\u001b[1;33m\u001b[0m\u001b[1;33m\u001b[0m\u001b[0m\n\u001b[1;32m--> 283\u001b[1;33m     \u001b[1;34m\"        predictions = self.model.predict(generator)\\n\"\u001b[0m\u001b[1;33m,\u001b[0m\u001b[1;33m\u001b[0m\u001b[1;33m\u001b[0m\u001b[0m\n\u001b[0m\u001b[0;32m    284\u001b[0m     \u001b[1;34m\"\\n\"\u001b[0m\u001b[1;33m,\u001b[0m\u001b[1;33m\u001b[0m\u001b[1;33m\u001b[0m\u001b[0m\n\u001b[0;32m    285\u001b[0m     \u001b[1;34m\"        return np.ndarray.flatten(predictions)\\n\"\u001b[0m\u001b[1;33m,\u001b[0m\u001b[1;33m\u001b[0m\u001b[1;33m\u001b[0m\u001b[0m\n",
      "\u001b[1;32m~\\Desktop\\coding\\python\\pipeline\\training.ipynb\u001b[0m in \u001b[0;36mtrain\u001b[1;34m(self, generator)\u001b[0m\n\u001b[0;32m    138\u001b[0m   },\n\u001b[0;32m    139\u001b[0m   {\n\u001b[1;32m--> 140\u001b[1;33m    \u001b[1;34m\"cell_type\"\u001b[0m\u001b[1;33m:\u001b[0m \u001b[1;34m\"code\"\u001b[0m\u001b[1;33m,\u001b[0m\u001b[1;33m\u001b[0m\u001b[1;33m\u001b[0m\u001b[0m\n\u001b[0m\u001b[0;32m    141\u001b[0m    \u001b[1;34m\"execution_count\"\u001b[0m\u001b[1;33m:\u001b[0m \u001b[1;36m12\u001b[0m\u001b[1;33m,\u001b[0m\u001b[1;33m\u001b[0m\u001b[1;33m\u001b[0m\u001b[0m\n\u001b[0;32m    142\u001b[0m    \u001b[1;34m\"metadata\"\u001b[0m\u001b[1;33m:\u001b[0m \u001b[1;33m{\u001b[0m\u001b[1;33m}\u001b[0m\u001b[1;33m,\u001b[0m\u001b[1;33m\u001b[0m\u001b[1;33m\u001b[0m\u001b[0m\n",
      "\u001b[1;32m~\\AppData\\Roaming\\Python\\Python37\\site-packages\\tensorflow\\python\\util\\deprecation.py\u001b[0m in \u001b[0;36mnew_func\u001b[1;34m(*args, **kwargs)\u001b[0m\n\u001b[0;32m    322\u001b[0m               \u001b[1;34m'in a future version'\u001b[0m \u001b[1;32mif\u001b[0m \u001b[0mdate\u001b[0m \u001b[1;32mis\u001b[0m \u001b[1;32mNone\u001b[0m \u001b[1;32melse\u001b[0m \u001b[1;33m(\u001b[0m\u001b[1;34m'after %s'\u001b[0m \u001b[1;33m%\u001b[0m \u001b[0mdate\u001b[0m\u001b[1;33m)\u001b[0m\u001b[1;33m,\u001b[0m\u001b[1;33m\u001b[0m\u001b[1;33m\u001b[0m\u001b[0m\n\u001b[0;32m    323\u001b[0m               instructions)\n\u001b[1;32m--> 324\u001b[1;33m       \u001b[1;32mreturn\u001b[0m \u001b[0mfunc\u001b[0m\u001b[1;33m(\u001b[0m\u001b[1;33m*\u001b[0m\u001b[0margs\u001b[0m\u001b[1;33m,\u001b[0m \u001b[1;33m**\u001b[0m\u001b[0mkwargs\u001b[0m\u001b[1;33m)\u001b[0m\u001b[1;33m\u001b[0m\u001b[1;33m\u001b[0m\u001b[0m\n\u001b[0m\u001b[0;32m    325\u001b[0m     return tf_decorator.make_decorator(\n\u001b[0;32m    326\u001b[0m         \u001b[0mfunc\u001b[0m\u001b[1;33m,\u001b[0m \u001b[0mnew_func\u001b[0m\u001b[1;33m,\u001b[0m \u001b[1;34m'deprecated'\u001b[0m\u001b[1;33m,\u001b[0m\u001b[1;33m\u001b[0m\u001b[1;33m\u001b[0m\u001b[0m\n",
      "\u001b[1;32m~\\AppData\\Roaming\\Python\\Python37\\site-packages\\tensorflow\\python\\keras\\engine\\training.py\u001b[0m in \u001b[0;36mfit_generator\u001b[1;34m(self, generator, steps_per_epoch, epochs, verbose, callbacks, validation_data, validation_steps, validation_freq, class_weight, max_queue_size, workers, use_multiprocessing, shuffle, initial_epoch)\u001b[0m\n\u001b[0;32m   1827\u001b[0m         \u001b[0muse_multiprocessing\u001b[0m\u001b[1;33m=\u001b[0m\u001b[0muse_multiprocessing\u001b[0m\u001b[1;33m,\u001b[0m\u001b[1;33m\u001b[0m\u001b[1;33m\u001b[0m\u001b[0m\n\u001b[0;32m   1828\u001b[0m         \u001b[0mshuffle\u001b[0m\u001b[1;33m=\u001b[0m\u001b[0mshuffle\u001b[0m\u001b[1;33m,\u001b[0m\u001b[1;33m\u001b[0m\u001b[1;33m\u001b[0m\u001b[0m\n\u001b[1;32m-> 1829\u001b[1;33m         initial_epoch=initial_epoch)\n\u001b[0m\u001b[0;32m   1830\u001b[0m \u001b[1;33m\u001b[0m\u001b[0m\n\u001b[0;32m   1831\u001b[0m   @deprecation.deprecated(\n",
      "\u001b[1;32m~\\AppData\\Roaming\\Python\\Python37\\site-packages\\tensorflow\\python\\keras\\engine\\training.py\u001b[0m in \u001b[0;36m_method_wrapper\u001b[1;34m(self, *args, **kwargs)\u001b[0m\n\u001b[0;32m    106\u001b[0m   \u001b[1;32mdef\u001b[0m \u001b[0m_method_wrapper\u001b[0m\u001b[1;33m(\u001b[0m\u001b[0mself\u001b[0m\u001b[1;33m,\u001b[0m \u001b[1;33m*\u001b[0m\u001b[0margs\u001b[0m\u001b[1;33m,\u001b[0m \u001b[1;33m**\u001b[0m\u001b[0mkwargs\u001b[0m\u001b[1;33m)\u001b[0m\u001b[1;33m:\u001b[0m\u001b[1;33m\u001b[0m\u001b[1;33m\u001b[0m\u001b[0m\n\u001b[0;32m    107\u001b[0m     \u001b[1;32mif\u001b[0m \u001b[1;32mnot\u001b[0m \u001b[0mself\u001b[0m\u001b[1;33m.\u001b[0m\u001b[0m_in_multi_worker_mode\u001b[0m\u001b[1;33m(\u001b[0m\u001b[1;33m)\u001b[0m\u001b[1;33m:\u001b[0m  \u001b[1;31m# pylint: disable=protected-access\u001b[0m\u001b[1;33m\u001b[0m\u001b[1;33m\u001b[0m\u001b[0m\n\u001b[1;32m--> 108\u001b[1;33m       \u001b[1;32mreturn\u001b[0m \u001b[0mmethod\u001b[0m\u001b[1;33m(\u001b[0m\u001b[0mself\u001b[0m\u001b[1;33m,\u001b[0m \u001b[1;33m*\u001b[0m\u001b[0margs\u001b[0m\u001b[1;33m,\u001b[0m \u001b[1;33m**\u001b[0m\u001b[0mkwargs\u001b[0m\u001b[1;33m)\u001b[0m\u001b[1;33m\u001b[0m\u001b[1;33m\u001b[0m\u001b[0m\n\u001b[0m\u001b[0;32m    109\u001b[0m \u001b[1;33m\u001b[0m\u001b[0m\n\u001b[0;32m    110\u001b[0m     \u001b[1;31m# Running inside `run_distribute_coordinator` already.\u001b[0m\u001b[1;33m\u001b[0m\u001b[1;33m\u001b[0m\u001b[1;33m\u001b[0m\u001b[0m\n",
      "\u001b[1;32m~\\AppData\\Roaming\\Python\\Python37\\site-packages\\tensorflow\\python\\keras\\engine\\training.py\u001b[0m in \u001b[0;36mfit\u001b[1;34m(self, x, y, batch_size, epochs, verbose, callbacks, validation_split, validation_data, shuffle, class_weight, sample_weight, initial_epoch, steps_per_epoch, validation_steps, validation_batch_size, validation_freq, max_queue_size, workers, use_multiprocessing)\u001b[0m\n\u001b[0;32m   1096\u001b[0m                 batch_size=batch_size):\n\u001b[0;32m   1097\u001b[0m               \u001b[0mcallbacks\u001b[0m\u001b[1;33m.\u001b[0m\u001b[0mon_train_batch_begin\u001b[0m\u001b[1;33m(\u001b[0m\u001b[0mstep\u001b[0m\u001b[1;33m)\u001b[0m\u001b[1;33m\u001b[0m\u001b[1;33m\u001b[0m\u001b[0m\n\u001b[1;32m-> 1098\u001b[1;33m               \u001b[0mtmp_logs\u001b[0m \u001b[1;33m=\u001b[0m \u001b[0mtrain_function\u001b[0m\u001b[1;33m(\u001b[0m\u001b[0miterator\u001b[0m\u001b[1;33m)\u001b[0m\u001b[1;33m\u001b[0m\u001b[1;33m\u001b[0m\u001b[0m\n\u001b[0m\u001b[0;32m   1099\u001b[0m               \u001b[1;32mif\u001b[0m \u001b[0mdata_handler\u001b[0m\u001b[1;33m.\u001b[0m\u001b[0mshould_sync\u001b[0m\u001b[1;33m:\u001b[0m\u001b[1;33m\u001b[0m\u001b[1;33m\u001b[0m\u001b[0m\n\u001b[0;32m   1100\u001b[0m                 \u001b[0mcontext\u001b[0m\u001b[1;33m.\u001b[0m\u001b[0masync_wait\u001b[0m\u001b[1;33m(\u001b[0m\u001b[1;33m)\u001b[0m\u001b[1;33m\u001b[0m\u001b[1;33m\u001b[0m\u001b[0m\n",
      "\u001b[1;32m~\\AppData\\Roaming\\Python\\Python37\\site-packages\\tensorflow\\python\\eager\\def_function.py\u001b[0m in \u001b[0;36m__call__\u001b[1;34m(self, *args, **kwds)\u001b[0m\n\u001b[0;32m    778\u001b[0m       \u001b[1;32melse\u001b[0m\u001b[1;33m:\u001b[0m\u001b[1;33m\u001b[0m\u001b[1;33m\u001b[0m\u001b[0m\n\u001b[0;32m    779\u001b[0m         \u001b[0mcompiler\u001b[0m \u001b[1;33m=\u001b[0m \u001b[1;34m\"nonXla\"\u001b[0m\u001b[1;33m\u001b[0m\u001b[1;33m\u001b[0m\u001b[0m\n\u001b[1;32m--> 780\u001b[1;33m         \u001b[0mresult\u001b[0m \u001b[1;33m=\u001b[0m \u001b[0mself\u001b[0m\u001b[1;33m.\u001b[0m\u001b[0m_call\u001b[0m\u001b[1;33m(\u001b[0m\u001b[1;33m*\u001b[0m\u001b[0margs\u001b[0m\u001b[1;33m,\u001b[0m \u001b[1;33m**\u001b[0m\u001b[0mkwds\u001b[0m\u001b[1;33m)\u001b[0m\u001b[1;33m\u001b[0m\u001b[1;33m\u001b[0m\u001b[0m\n\u001b[0m\u001b[0;32m    781\u001b[0m \u001b[1;33m\u001b[0m\u001b[0m\n\u001b[0;32m    782\u001b[0m       \u001b[0mnew_tracing_count\u001b[0m \u001b[1;33m=\u001b[0m \u001b[0mself\u001b[0m\u001b[1;33m.\u001b[0m\u001b[0m_get_tracing_count\u001b[0m\u001b[1;33m(\u001b[0m\u001b[1;33m)\u001b[0m\u001b[1;33m\u001b[0m\u001b[1;33m\u001b[0m\u001b[0m\n",
      "\u001b[1;32m~\\AppData\\Roaming\\Python\\Python37\\site-packages\\tensorflow\\python\\eager\\def_function.py\u001b[0m in \u001b[0;36m_call\u001b[1;34m(self, *args, **kwds)\u001b[0m\n\u001b[0;32m    838\u001b[0m         \u001b[1;31m# Lifting succeeded, so variables are initialized and we can run the\u001b[0m\u001b[1;33m\u001b[0m\u001b[1;33m\u001b[0m\u001b[1;33m\u001b[0m\u001b[0m\n\u001b[0;32m    839\u001b[0m         \u001b[1;31m# stateless function.\u001b[0m\u001b[1;33m\u001b[0m\u001b[1;33m\u001b[0m\u001b[1;33m\u001b[0m\u001b[0m\n\u001b[1;32m--> 840\u001b[1;33m         \u001b[1;32mreturn\u001b[0m \u001b[0mself\u001b[0m\u001b[1;33m.\u001b[0m\u001b[0m_stateless_fn\u001b[0m\u001b[1;33m(\u001b[0m\u001b[1;33m*\u001b[0m\u001b[0margs\u001b[0m\u001b[1;33m,\u001b[0m \u001b[1;33m**\u001b[0m\u001b[0mkwds\u001b[0m\u001b[1;33m)\u001b[0m\u001b[1;33m\u001b[0m\u001b[1;33m\u001b[0m\u001b[0m\n\u001b[0m\u001b[0;32m    841\u001b[0m     \u001b[1;32melse\u001b[0m\u001b[1;33m:\u001b[0m\u001b[1;33m\u001b[0m\u001b[1;33m\u001b[0m\u001b[0m\n\u001b[0;32m    842\u001b[0m       \u001b[0mcanon_args\u001b[0m\u001b[1;33m,\u001b[0m \u001b[0mcanon_kwds\u001b[0m \u001b[1;33m=\u001b[0m\u001b[0;31m \u001b[0m\u001b[0;31m\\\u001b[0m\u001b[1;33m\u001b[0m\u001b[1;33m\u001b[0m\u001b[0m\n",
      "\u001b[1;32m~\\AppData\\Roaming\\Python\\Python37\\site-packages\\tensorflow\\python\\eager\\function.py\u001b[0m in \u001b[0;36m__call__\u001b[1;34m(self, *args, **kwargs)\u001b[0m\n\u001b[0;32m   2827\u001b[0m     \u001b[1;32mwith\u001b[0m \u001b[0mself\u001b[0m\u001b[1;33m.\u001b[0m\u001b[0m_lock\u001b[0m\u001b[1;33m:\u001b[0m\u001b[1;33m\u001b[0m\u001b[1;33m\u001b[0m\u001b[0m\n\u001b[0;32m   2828\u001b[0m       \u001b[0mgraph_function\u001b[0m\u001b[1;33m,\u001b[0m \u001b[0margs\u001b[0m\u001b[1;33m,\u001b[0m \u001b[0mkwargs\u001b[0m \u001b[1;33m=\u001b[0m \u001b[0mself\u001b[0m\u001b[1;33m.\u001b[0m\u001b[0m_maybe_define_function\u001b[0m\u001b[1;33m(\u001b[0m\u001b[0margs\u001b[0m\u001b[1;33m,\u001b[0m \u001b[0mkwargs\u001b[0m\u001b[1;33m)\u001b[0m\u001b[1;33m\u001b[0m\u001b[1;33m\u001b[0m\u001b[0m\n\u001b[1;32m-> 2829\u001b[1;33m     \u001b[1;32mreturn\u001b[0m \u001b[0mgraph_function\u001b[0m\u001b[1;33m.\u001b[0m\u001b[0m_filtered_call\u001b[0m\u001b[1;33m(\u001b[0m\u001b[0margs\u001b[0m\u001b[1;33m,\u001b[0m \u001b[0mkwargs\u001b[0m\u001b[1;33m)\u001b[0m  \u001b[1;31m# pylint: disable=protected-access\u001b[0m\u001b[1;33m\u001b[0m\u001b[1;33m\u001b[0m\u001b[0m\n\u001b[0m\u001b[0;32m   2830\u001b[0m \u001b[1;33m\u001b[0m\u001b[0m\n\u001b[0;32m   2831\u001b[0m   \u001b[1;33m@\u001b[0m\u001b[0mproperty\u001b[0m\u001b[1;33m\u001b[0m\u001b[1;33m\u001b[0m\u001b[0m\n",
      "\u001b[1;32m~\\AppData\\Roaming\\Python\\Python37\\site-packages\\tensorflow\\python\\eager\\function.py\u001b[0m in \u001b[0;36m_filtered_call\u001b[1;34m(self, args, kwargs, cancellation_manager)\u001b[0m\n\u001b[0;32m   1846\u001b[0m                            resource_variable_ops.BaseResourceVariable))],\n\u001b[0;32m   1847\u001b[0m         \u001b[0mcaptured_inputs\u001b[0m\u001b[1;33m=\u001b[0m\u001b[0mself\u001b[0m\u001b[1;33m.\u001b[0m\u001b[0mcaptured_inputs\u001b[0m\u001b[1;33m,\u001b[0m\u001b[1;33m\u001b[0m\u001b[1;33m\u001b[0m\u001b[0m\n\u001b[1;32m-> 1848\u001b[1;33m         cancellation_manager=cancellation_manager)\n\u001b[0m\u001b[0;32m   1849\u001b[0m \u001b[1;33m\u001b[0m\u001b[0m\n\u001b[0;32m   1850\u001b[0m   \u001b[1;32mdef\u001b[0m \u001b[0m_call_flat\u001b[0m\u001b[1;33m(\u001b[0m\u001b[0mself\u001b[0m\u001b[1;33m,\u001b[0m \u001b[0margs\u001b[0m\u001b[1;33m,\u001b[0m \u001b[0mcaptured_inputs\u001b[0m\u001b[1;33m,\u001b[0m \u001b[0mcancellation_manager\u001b[0m\u001b[1;33m=\u001b[0m\u001b[1;32mNone\u001b[0m\u001b[1;33m)\u001b[0m\u001b[1;33m:\u001b[0m\u001b[1;33m\u001b[0m\u001b[1;33m\u001b[0m\u001b[0m\n",
      "\u001b[1;32m~\\AppData\\Roaming\\Python\\Python37\\site-packages\\tensorflow\\python\\eager\\function.py\u001b[0m in \u001b[0;36m_call_flat\u001b[1;34m(self, args, captured_inputs, cancellation_manager)\u001b[0m\n\u001b[0;32m   1922\u001b[0m       \u001b[1;31m# No tape is watching; skip to running the function.\u001b[0m\u001b[1;33m\u001b[0m\u001b[1;33m\u001b[0m\u001b[1;33m\u001b[0m\u001b[0m\n\u001b[0;32m   1923\u001b[0m       return self._build_call_outputs(self._inference_function.call(\n\u001b[1;32m-> 1924\u001b[1;33m           ctx, args, cancellation_manager=cancellation_manager))\n\u001b[0m\u001b[0;32m   1925\u001b[0m     forward_backward = self._select_forward_and_backward_functions(\n\u001b[0;32m   1926\u001b[0m         \u001b[0margs\u001b[0m\u001b[1;33m,\u001b[0m\u001b[1;33m\u001b[0m\u001b[1;33m\u001b[0m\u001b[0m\n",
      "\u001b[1;32m~\\AppData\\Roaming\\Python\\Python37\\site-packages\\tensorflow\\python\\eager\\function.py\u001b[0m in \u001b[0;36mcall\u001b[1;34m(self, ctx, args, cancellation_manager)\u001b[0m\n\u001b[0;32m    548\u001b[0m               \u001b[0minputs\u001b[0m\u001b[1;33m=\u001b[0m\u001b[0margs\u001b[0m\u001b[1;33m,\u001b[0m\u001b[1;33m\u001b[0m\u001b[1;33m\u001b[0m\u001b[0m\n\u001b[0;32m    549\u001b[0m               \u001b[0mattrs\u001b[0m\u001b[1;33m=\u001b[0m\u001b[0mattrs\u001b[0m\u001b[1;33m,\u001b[0m\u001b[1;33m\u001b[0m\u001b[1;33m\u001b[0m\u001b[0m\n\u001b[1;32m--> 550\u001b[1;33m               ctx=ctx)\n\u001b[0m\u001b[0;32m    551\u001b[0m         \u001b[1;32melse\u001b[0m\u001b[1;33m:\u001b[0m\u001b[1;33m\u001b[0m\u001b[1;33m\u001b[0m\u001b[0m\n\u001b[0;32m    552\u001b[0m           outputs = execute.execute_with_cancellation(\n",
      "\u001b[1;32m~\\AppData\\Roaming\\Python\\Python37\\site-packages\\tensorflow\\python\\eager\\execute.py\u001b[0m in \u001b[0;36mquick_execute\u001b[1;34m(op_name, num_outputs, inputs, attrs, ctx, name)\u001b[0m\n\u001b[0;32m     58\u001b[0m     \u001b[0mctx\u001b[0m\u001b[1;33m.\u001b[0m\u001b[0mensure_initialized\u001b[0m\u001b[1;33m(\u001b[0m\u001b[1;33m)\u001b[0m\u001b[1;33m\u001b[0m\u001b[1;33m\u001b[0m\u001b[0m\n\u001b[0;32m     59\u001b[0m     tensors = pywrap_tfe.TFE_Py_Execute(ctx._handle, device_name, op_name,\n\u001b[1;32m---> 60\u001b[1;33m                                         inputs, attrs, num_outputs)\n\u001b[0m\u001b[0;32m     61\u001b[0m   \u001b[1;32mexcept\u001b[0m \u001b[0mcore\u001b[0m\u001b[1;33m.\u001b[0m\u001b[0m_NotOkStatusException\u001b[0m \u001b[1;32mas\u001b[0m \u001b[0me\u001b[0m\u001b[1;33m:\u001b[0m\u001b[1;33m\u001b[0m\u001b[1;33m\u001b[0m\u001b[0m\n\u001b[0;32m     62\u001b[0m     \u001b[1;32mif\u001b[0m \u001b[0mname\u001b[0m \u001b[1;32mis\u001b[0m \u001b[1;32mnot\u001b[0m \u001b[1;32mNone\u001b[0m\u001b[1;33m:\u001b[0m\u001b[1;33m\u001b[0m\u001b[1;33m\u001b[0m\u001b[0m\n",
      "\u001b[1;31mUnknownError\u001b[0m:  Failed to get convolution algorithm. This is probably because cuDNN failed to initialize, so try looking to see if a warning log message was printed above.\n\t [[node functional_1/tcn/residual_block_0/conv1D_0/conv1d (defined at C:\\Users\\35840\\Anaconda3\\lib\\site-packages\\tcn\\tcn.py:145) ]] [Op:__inference_train_function_31819]\n\nFunction call stack:\ntrain_function\n"
     ]
    }
   ],
   "source": [
    "regression_ensemble, regression_table = ensemble.regression(primary_dataset, config)"
   ]
  },
  {
   "cell_type": "code",
   "execution_count": null,
   "metadata": {},
   "outputs": [],
   "source": [
    "regression_table.head(5)"
   ]
  },
  {
   "cell_type": "code",
   "execution_count": null,
   "metadata": {},
   "outputs": [],
   "source": [
    "regression_ensemble.models[1][0].model.history.history['mean_squared_error']"
   ]
  },
  {
   "cell_type": "markdown",
   "metadata": {},
   "source": [
    "### STEP 6: CREATE DECISION MACHINE & PUT LABELS THROUGH IT"
   ]
  },
  {
   "cell_type": "code",
   "execution_count": null,
   "metadata": {},
   "outputs": [],
   "source": [
    "decision_machine = misc.decision_machine()"
   ]
  },
  {
   "cell_type": "code",
   "execution_count": null,
   "metadata": {},
   "outputs": [],
   "source": [
    "regression_labels = decision_machine.calibrate(\n",
    "    regression_table,\n",
    "    config['classification_ensemble']['decision']\n",
    ")"
   ]
  },
  {
   "cell_type": "code",
   "execution_count": null,
   "metadata": {},
   "outputs": [],
   "source": [
    "labeled_regression_table = misc.replace_labels(\n",
    "    regression_table,\n",
    "    regression_labels\n",
    ")"
   ]
  },
  {
   "cell_type": "code",
   "execution_count": null,
   "metadata": {},
   "outputs": [],
   "source": [
    "# BUY   = 0\n",
    "# SELL  = 1\n",
    "# HOLD  = 2"
   ]
  },
  {
   "cell_type": "code",
   "execution_count": null,
   "metadata": {},
   "outputs": [],
   "source": [
    "labeled_regression_table.head(15)"
   ]
  },
  {
   "cell_type": "markdown",
   "metadata": {},
   "source": [
    "### DECISION BREAKDOWN"
   ]
  },
  {
   "cell_type": "code",
   "execution_count": null,
   "metadata": {},
   "outputs": [],
   "source": [
    "labeled_regression_table['label'].value_counts(normalize=True)"
   ]
  },
  {
   "cell_type": "code",
   "execution_count": null,
   "metadata": {},
   "outputs": [],
   "source": [
    "storage.save_pickle(labeled_regression_table, 'extra/cls-train.pickle')"
   ]
  },
  {
   "cell_type": "markdown",
   "metadata": {},
   "source": [
    "### STEP 7: TRAIN THE CLASSIFIER ENSEMBLE"
   ]
  },
  {
   "cell_type": "code",
   "execution_count": null,
   "metadata": {
    "scrolled": false
   },
   "outputs": [],
   "source": [
    "classifier_ensemble = ensemble.classifier(\n",
    "    labeled_regression_table,\n",
    "    config\n",
    ")"
   ]
  },
  {
   "cell_type": "markdown",
   "metadata": {},
   "source": [
    "### STEP 8: REGRESSION PREDICT ON TEST DATASET"
   ]
  },
  {
   "cell_type": "code",
   "execution_count": null,
   "metadata": {
    "scrolled": false
   },
   "outputs": [],
   "source": [
    "test = regression_ensemble.predict(primary_dataset['test'])"
   ]
  },
  {
   "cell_type": "code",
   "execution_count": null,
   "metadata": {},
   "outputs": [],
   "source": [
    "test.head(5)"
   ]
  },
  {
   "cell_type": "markdown",
   "metadata": {},
   "source": [
    "### STEP 9: CLASSIFY PREDICT ON REGRESSION DATASET"
   ]
  },
  {
   "cell_type": "code",
   "execution_count": null,
   "metadata": {},
   "outputs": [],
   "source": [
    "mash_dataset = {\n",
    "    'features': test.to_numpy(),\n",
    "    'labels': []\n",
    "}"
   ]
  },
  {
   "cell_type": "code",
   "execution_count": null,
   "metadata": {},
   "outputs": [],
   "source": [
    "cls_dataset = classifier_ensemble.predict(mash_dataset, show_mean=True)"
   ]
  },
  {
   "cell_type": "code",
   "execution_count": null,
   "metadata": {},
   "outputs": [],
   "source": [
    "cls_dataset.head(5)"
   ]
  },
  {
   "cell_type": "markdown",
   "metadata": {},
   "source": [
    "### STEP X: SAVE EVERYTHING"
   ]
  },
  {
   "cell_type": "code",
   "execution_count": null,
   "metadata": {},
   "outputs": [],
   "source": [
    "storage.save_pipeline({\n",
    "    'regression_ensemble': regression_ensemble,\n",
    "    'regression_training': regression_table,\n",
    "    'classifier_ensemble': classifier_ensemble,\n",
    "    'config': config\n",
    "})"
   ]
  },
  {
   "cell_type": "code",
   "execution_count": null,
   "metadata": {},
   "outputs": [],
   "source": []
  }
 ],
 "metadata": {
  "kernelspec": {
   "display_name": "Python 3",
   "language": "python",
   "name": "python3"
  },
  "language_info": {
   "codemirror_mode": {
    "name": "ipython",
    "version": 3
   },
   "file_extension": ".py",
   "mimetype": "text/x-python",
   "name": "python",
   "nbconvert_exporter": "python",
   "pygments_lexer": "ipython3",
   "version": "3.7.9"
  }
 },
 "nbformat": 4,
 "nbformat_minor": 4
}
