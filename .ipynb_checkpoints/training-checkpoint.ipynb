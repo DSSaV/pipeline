{
 "cells": [
  {
   "cell_type": "markdown",
   "metadata": {},
   "source": [
    "### IMPORTS"
   ]
  },
  {
   "cell_type": "code",
   "execution_count": 1,
   "metadata": {},
   "outputs": [],
   "source": [
    "import numpy as np"
   ]
  },
  {
   "cell_type": "code",
   "execution_count": 2,
   "metadata": {},
   "outputs": [],
   "source": [
    "from sklearn.linear_model import LinearRegression"
   ]
  },
  {
   "cell_type": "code",
   "execution_count": 3,
   "metadata": {},
   "outputs": [],
   "source": [
    "import tensorflow as tf\n",
    "from tensorflow.python.keras import Sequential\n",
    "from tensorflow.python.keras.layers import Dense, LSTM, Dropout"
   ]
  },
  {
   "cell_type": "markdown",
   "metadata": {},
   "source": [
    "### LINEAR REGRESSION"
   ]
  },
  {
   "cell_type": "code",
   "execution_count": 26,
   "metadata": {},
   "outputs": [],
   "source": [
    "def linear_regression(data, settings):\n",
    "    \n",
    "    # INSTANTIATE MODEL\n",
    "    linear = LinearRegression()\n",
    "    \n",
    "    # TRAIN WITH TRAIN DATA\n",
    "    model = linear.fit(data['train']['features'], data['train']['labels'])\n",
    "    \n",
    "    # PREDICT USING TEST DATA\n",
    "    predictions = model.predict(data['test']['features'])\n",
    "    \n",
    "    # REVERSE NORMALIZATION FROM PREDICTIONS\n",
    "    real_predictions = data['scaler'].inverse_transform(predictions)\n",
    "    \n",
    "    # ValueError: Expected 2D array, got 1D array instead:\n",
    "    # Reshape your data either using array.reshape(-1, 1) if your\n",
    "    # data has a single feature or array.reshape(1, -1) if it contains a single sample.\n",
    "    \n",
    "    return {\n",
    "        'model': model,\n",
    "        'predictions': real_predictions\n",
    "    }"
   ]
  },
  {
   "cell_type": "markdown",
   "metadata": {},
   "source": [
    "### LONG-SHORT TERM MEMORY"
   ]
  },
  {
   "cell_type": "code",
   "execution_count": 9,
   "metadata": {},
   "outputs": [],
   "source": [
    "def lstm_add(model, data, index, name, settings):\n",
    "    \n",
    "    # AVAILABLE LSTM LAYERS\n",
    "    available = {\n",
    "        'lstm': LSTM,\n",
    "        'dropout': Dropout,\n",
    "        'dense': Dense\n",
    "    }\n",
    "    \n",
    "    # SELECT THE CORRECT FUNCTION\n",
    "    func = available[name]\n",
    "    \n",
    "    # IF AN ACTIVATION IS FOUND & THIS IS THE FIRST LAYER\n",
    "    if 'activation' in settings and index == 0:\n",
    "        model.add(func(\n",
    "            settings['value'],\n",
    "            activation=settings['activation'],\n",
    "            input_shape=(data['train']['features'].shape[1], 1)\n",
    "        ))\n",
    "    \n",
    "    # JUST AN ACTIVATION FUNCTION\n",
    "    elif 'activation' in settings:\n",
    "        model.add(func(\n",
    "            settings['value'],\n",
    "            activation=settings['activation']\n",
    "        ))\n",
    "        \n",
    "    # OTHERWISE, DEFAULT TO JUST USING THE VALUE\n",
    "    else:\n",
    "        model.add(func(\n",
    "            settings['value']\n",
    "        ))"
   ]
  },
  {
   "cell_type": "code",
   "execution_count": 16,
   "metadata": {},
   "outputs": [],
   "source": [
    "def long_short_term(data, settings):\n",
    "    \n",
    "    # INSTANTIATE MODEL\n",
    "    model = Sequential()\n",
    "    \n",
    "    # LOOP THROUGH REQUESTED MODEL LAYERS\n",
    "    for index, layer in enumerate(settings['layers']):\n",
    "        \n",
    "        # LAYER PROPS\n",
    "        name = list(layer)[0]\n",
    "        params = layer[name]\n",
    "        \n",
    "        # GENERATE & ADD THE LAYER\n",
    "        lstm_add(model, data, index, name, params)\n",
    "    \n",
    "    # COMPILE THE MODEL\n",
    "    model.compile(\n",
    "        loss=settings['loss'],\n",
    "        optimizer=settings['optimizer']\n",
    "    )\n",
    "    \n",
    "    # TRAIN USING TRAIN DATA\n",
    "    model.fit(\n",
    "        data['train']['features'],\n",
    "        data['train']['labels'],\n",
    "        epochs=settings['epochs'],\n",
    "        batch_size=settings['batch'],\n",
    "        \n",
    "        # VALIDATION_SPLIT WORKS NORMALLY, BUT SUCKS FOR TIMESERIES\n",
    "        # https://www.tensorflow.org/tutorials/structured_data/time_series\n",
    "        # goal https://miro.medium.com/max/300/1*R09z6KNJuMkSmRcPApj9cQ.png\n",
    "        \n",
    "        # ADD VALIDATION DATA\n",
    "        validation_data=(\n",
    "            data['validation']['features'],\n",
    "            data['validation']['labels']\n",
    "        ),\n",
    "        \n",
    "        # VALIDATE EVERY 25 STEPS\n",
    "        validation_steps=settings['validation']\n",
    "    )\n",
    "    \n",
    "    # PREDICT USING TEST DATA\n",
    "    predictions = model.predict(data['test']['features'])\n",
    "    \n",
    "    # REVERSE NORMALIZATION FROM PREDICTIONS\n",
    "    real_predictions = data['scaler'].inverse_transform([predictions])\n",
    "    \n",
    "    return {\n",
    "        'model': model,\n",
    "        'predictions': np.ndarray.flatten(real_predictions)\n",
    "    }"
   ]
  },
  {
   "cell_type": "markdown",
   "metadata": {},
   "source": [
    "### START TRAINING A MODEL"
   ]
  },
  {
   "cell_type": "code",
   "execution_count": 11,
   "metadata": {},
   "outputs": [],
   "source": [
    "def start(dataset, name, settings):\n",
    "    \n",
    "    # AVAILABLE MODELS\n",
    "    available = {\n",
    "        'linreg': linear_regression,\n",
    "        'lstm': long_short_term\n",
    "    }\n",
    "    \n",
    "    # SELECT THE CORRECT FUNCTION & START\n",
    "    return available[name](dataset, settings)"
   ]
  },
  {
   "cell_type": "code",
   "execution_count": null,
   "metadata": {},
   "outputs": [],
   "source": []
  }
 ],
 "metadata": {
  "kernelspec": {
   "display_name": "Python 3",
   "language": "python",
   "name": "python3"
  },
  "language_info": {
   "codemirror_mode": {
    "name": "ipython",
    "version": 3
   },
   "file_extension": ".py",
   "mimetype": "text/x-python",
   "name": "python",
   "nbconvert_exporter": "python",
   "pygments_lexer": "ipython3",
   "version": "3.7.9"
  }
 },
 "nbformat": 4,
 "nbformat_minor": 4
}
