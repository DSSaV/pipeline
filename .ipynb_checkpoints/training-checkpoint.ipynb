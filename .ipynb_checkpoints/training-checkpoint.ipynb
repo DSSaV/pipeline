{
 "cells": [
  {
   "cell_type": "markdown",
   "metadata": {},
   "source": [
    "### IMPORTS"
   ]
  },
  {
   "cell_type": "code",
   "execution_count": 2,
   "metadata": {},
   "outputs": [],
   "source": [
    "from sklearn.linear_model import LinearRegression"
   ]
  },
  {
   "cell_type": "code",
   "execution_count": 3,
   "metadata": {},
   "outputs": [],
   "source": [
    "import tensorflow as tf\n",
    "from tensorflow.python.keras import Sequential\n",
    "from tensorflow.python.keras.layers import Dense, LSTM, Dropout"
   ]
  },
  {
   "cell_type": "markdown",
   "metadata": {},
   "source": [
    "### LINEAR REGRESSION"
   ]
  },
  {
   "cell_type": "code",
   "execution_count": 11,
   "metadata": {},
   "outputs": [],
   "source": [
    "def linear_regression(data, config):\n",
    "    \n",
    "    # INSTANTIATE MODEL\n",
    "    linear = LinearRegression()\n",
    "    \n",
    "    # TRAIN WITH TRAIN DATA\n",
    "    model = linear.fit(data['train']['features'], data['train']['labels'])\n",
    "    \n",
    "    # PREDICT USING TEST DATA\n",
    "    predictions = model.predict(data['test']['features'])\n",
    "    \n",
    "    return {\n",
    "        'model': model,\n",
    "        'predictions': predictions,\n",
    "        'data': data,\n",
    "        'type': 'linreg'\n",
    "    }"
   ]
  },
  {
   "cell_type": "markdown",
   "metadata": {},
   "source": [
    "### LONG-SHORT TERM MEMORY"
   ]
  },
  {
   "cell_type": "code",
   "execution_count": null,
   "metadata": {},
   "outputs": [],
   "source": [
    "# LOOP THROUGH LAYERS\n",
    "for layer in config['training']['lstm']['layers']:\n",
    "    \n",
    "    # DECONTRACT LAYER TYPE & PARAMS\n",
    "    name = list(layer)[0]\n",
    "    params = layer[name]\n",
    "\n",
    "    # IF LAYER HAS AN ACTIVATION FUNCTION\n",
    "    if 'activation' in params:\n",
    "        print(params['activation'])"
   ]
  },
  {
   "cell_type": "code",
   "execution_count": 10,
   "metadata": {},
   "outputs": [],
   "source": [
    "def lstm(data, config):\n",
    "    \n",
    "    # INSTANTIATE MODEL\n",
    "    model = Sequential()\n",
    "    \n",
    "    # ADD LAYERS\n",
    "    model.add(LSTM(120, activation='relu', input_shape=(data['train']['features'].shape[1], 1)))\n",
    "    model.add(Dropout(0.15))\n",
    "    model.add(Dense(50, activation='relu'))\n",
    "    model.add(Dense(1))\n",
    "    \n",
    "    # COMPILE THE MODEL\n",
    "    model.compile(\n",
    "        loss='mean_squared_error',\n",
    "        optimizer='rmsprop'\n",
    "    )\n",
    "    \n",
    "    # TRAIN USING TRAIN DATA\n",
    "    model.fit(\n",
    "        data['train']['features'],\n",
    "        data['train']['labels'],\n",
    "        epochs=config['epochs'],\n",
    "        batch_size=config['batch'],\n",
    "        \n",
    "        # VALIDATION_SPLIT WORKS NORMALLY, BUT SUCKS FOR TIMESERIES\n",
    "        # https://www.tensorflow.org/tutorials/structured_data/time_series\n",
    "        # goal https://miro.medium.com/max/300/1*R09z6KNJuMkSmRcPApj9cQ.png\n",
    "        \n",
    "        # ADD VALIDATION DATA\n",
    "        validation_data=(\n",
    "            data['validation']['features'],\n",
    "            data['validation']['labels']\n",
    "        ),\n",
    "        \n",
    "        # VALIDATE EVERY 25 STEPS\n",
    "        validation_steps=config['validation']\n",
    "    )\n",
    "    \n",
    "    # PREDICT USING TEST DATA\n",
    "    predictions = model.predict(data['test']['features'])\n",
    "    \n",
    "    return {\n",
    "        'model': model,\n",
    "        'predictions': predictions,\n",
    "        'data': data,\n",
    "        'type': 'lstm'\n",
    "    }"
   ]
  },
  {
   "cell_type": "markdown",
   "metadata": {},
   "source": [
    "### START TRAINING A MODEL"
   ]
  },
  {
   "cell_type": "code",
   "execution_count": 9,
   "metadata": {},
   "outputs": [],
   "source": [
    "def start(dataset, config):\n",
    "    \n",
    "    # AVAILABLE MODELS\n",
    "    available = {\n",
    "        'linreg': linear_regression,\n",
    "        'lstm': lstm\n",
    "    }\n",
    "    \n",
    "    # SELECT THE CORRECT FUNCTION & START\n",
    "    return available[config['model']](dataset, config['training'])"
   ]
  },
  {
   "cell_type": "markdown",
   "metadata": {},
   "source": [
    "\n",
    "    # LINEAR REGRESSION\n",
    "    if (config['model'] == 'linreg'):\n",
    "        result = training.linear_regression(data)\n",
    "\n",
    "    # LONG-SHORT-TERM MEMORY\n",
    "    elif (yaml['model']['name'] == 'lstm'):\n",
    "        result = training.lstm(yaml['model'], data)"
   ]
  }
 ],
 "metadata": {
  "kernelspec": {
   "display_name": "Python 3",
   "language": "python",
   "name": "python3"
  },
  "language_info": {
   "codemirror_mode": {
    "name": "ipython",
    "version": 3
   },
   "file_extension": ".py",
   "mimetype": "text/x-python",
   "name": "python",
   "nbconvert_exporter": "python",
   "pygments_lexer": "ipython3",
   "version": "3.7.9"
  }
 },
 "nbformat": 4,
 "nbformat_minor": 4
}
