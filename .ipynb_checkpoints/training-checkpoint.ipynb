{
 "cells": [
  {
   "cell_type": "markdown",
   "metadata": {},
   "source": [
    "### IMPORTS"
   ]
  },
  {
   "cell_type": "code",
   "execution_count": 1,
   "metadata": {},
   "outputs": [],
   "source": [
    "import numpy as np"
   ]
  },
  {
   "cell_type": "code",
   "execution_count": 2,
   "metadata": {},
   "outputs": [],
   "source": [
    "from sklearn.linear_model import LinearRegression"
   ]
  },
  {
   "cell_type": "code",
   "execution_count": 3,
   "metadata": {},
   "outputs": [],
   "source": [
    "import tensorflow as tf\n",
    "from tensorflow.python.keras import Sequential\n",
    "from tensorflow.python.keras.layers import Dense, LSTM, Dropout"
   ]
  },
  {
   "cell_type": "markdown",
   "metadata": {},
   "source": [
    "### LINEAR REGRESSION"
   ]
  },
  {
   "cell_type": "code",
   "execution_count": 4,
   "metadata": {},
   "outputs": [],
   "source": [
    "def linear_regression(data, settings):\n",
    "    \n",
    "    # INSTANTIATE MODEL\n",
    "    linear = LinearRegression()\n",
    "    \n",
    "    # TRAIN WITH TRAIN DATA\n",
    "    model = linear.fit(data['train']['features'], data['train']['labels'])\n",
    "    \n",
    "    # PREDICT USING TEST DATA\n",
    "    predictions = model.predict(data['test']['features'])\n",
    "    \n",
    "    return np.ndarray.flatten(predictions)"
   ]
  },
  {
   "cell_type": "markdown",
   "metadata": {},
   "source": [
    "### LONG-SHORT TERM MEMORY"
   ]
  },
  {
   "cell_type": "code",
   "execution_count": 9,
   "metadata": {},
   "outputs": [],
   "source": [
    "def lstm_add(model, data, index, name, settings, shape):\n",
    "    \n",
    "    # AVAILABLE LSTM LAYERS\n",
    "    available = {\n",
    "        'lstm': LSTM,\n",
    "        'dropout': Dropout,\n",
    "        'dense': Dense\n",
    "    }\n",
    "    \n",
    "    # SELECT THE CORRECT FUNCTION\n",
    "    func = available[name]\n",
    "    \n",
    "    # IF AN ACTIVATION IS FOUND & THIS IS THE FIRST LAYER\n",
    "    if 'activation' in settings and index == 0:\n",
    "        model.add(func(\n",
    "            settings['value'],\n",
    "            activation=settings['activation'],\n",
    "            input_shape=(shape[1], shape[2])\n",
    "        ))\n",
    "    \n",
    "    # JUST AN ACTIVATION FUNCTION\n",
    "    elif 'activation' in settings:\n",
    "        model.add(func(\n",
    "            settings['value'],\n",
    "            activation=settings['activation']\n",
    "        ))\n",
    "        \n",
    "    # OTHERWISE, DEFAULT TO JUST USING THE VALUE\n",
    "    else:\n",
    "        model.add(func(\n",
    "            settings['value']\n",
    "        ))"
   ]
  },
  {
   "cell_type": "code",
   "execution_count": 6,
   "metadata": {},
   "outputs": [],
   "source": [
    "def long_short_term(data, settings):\n",
    "    \n",
    "    # INSTANTIATE MODEL\n",
    "    model = Sequential()\n",
    "    \n",
    "    # INPUT SHAPE\n",
    "    # BATCH SIZE (ROWS), WINDOW, NUM FEATURES\n",
    "    reshaped = data['train']['features'].reshape(data['train']['features'].shape[0], 1, data['train']['features'].shape[1])\n",
    "    temp = data['test']['features'].reshape(data['test']['features'].shape[0], 1, data['test']['features'].shape[1])\n",
    "    \n",
    "    # https://machinelearningmastery.com/reshape-input-data-long-short-term-memory-networks-keras/\n",
    "    \n",
    "    # LOOP THROUGH REQUESTED MODEL LAYERS\n",
    "    for index, layer in enumerate(settings['layers']):\n",
    "        \n",
    "        # LAYER PROPS\n",
    "        name = list(layer)[0]\n",
    "        params = layer[name]\n",
    "        \n",
    "        # GENERATE & ADD THE LAYER\n",
    "        lstm_add(model, data, index, name, params, reshaped.shape)\n",
    "    \n",
    "    # COMPILE THE MODEL\n",
    "    model.compile(\n",
    "        loss=settings['loss'],\n",
    "        optimizer=settings['optimizer']\n",
    "    )\n",
    "    \n",
    "    # TRAIN USING TRAIN DATA\n",
    "    model.fit(\n",
    "        reshaped,\n",
    "        data['train']['labels'],\n",
    "        epochs=settings['epochs'],\n",
    "        batch_size=settings['batch'],\n",
    "    )\n",
    "    \n",
    "    # PREDICT USING TEST DATA\n",
    "    predictions = model.predict(temp)\n",
    "    \n",
    "    return np.ndarray.flatten(predictions)"
   ]
  },
  {
   "cell_type": "markdown",
   "metadata": {},
   "source": [
    "### START TRAINING A MODEL"
   ]
  },
  {
   "cell_type": "code",
   "execution_count": 7,
   "metadata": {},
   "outputs": [],
   "source": [
    "def start(dataset, name, settings):\n",
    "    \n",
    "    # AVAILABLE MODELS\n",
    "    available = {\n",
    "        'linreg': linear_regression,\n",
    "        'lstm': long_short_term\n",
    "    }\n",
    "    \n",
    "    # SELECT THE CORRECT FUNCTION & START\n",
    "    return available[name](dataset, settings)"
   ]
  },
  {
   "cell_type": "code",
   "execution_count": null,
   "metadata": {},
   "outputs": [],
   "source": []
  }
 ],
 "metadata": {
  "kernelspec": {
   "display_name": "Python 3",
   "language": "python",
   "name": "python3"
  },
  "language_info": {
   "codemirror_mode": {
    "name": "ipython",
    "version": 3
   },
   "file_extension": ".py",
   "mimetype": "text/x-python",
   "name": "python",
   "nbconvert_exporter": "python",
   "pygments_lexer": "ipython3",
   "version": "3.7.9"
  }
 },
 "nbformat": 4,
 "nbformat_minor": 4
}
