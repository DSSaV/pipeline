{
 "cells": [
  {
   "cell_type": "code",
   "execution_count": 1,
   "metadata": {},
   "outputs": [],
   "source": [
    "import ipynb.fs.full.training as training\n",
    "import pandas as pd"
   ]
  },
  {
   "cell_type": "markdown",
   "metadata": {},
   "source": [
    "### PROCESSING"
   ]
  },
  {
   "cell_type": "code",
   "execution_count": 2,
   "metadata": {},
   "outputs": [],
   "source": [
    "def process(src):\n",
    "    return pd.read_csv(src, delimiter=',')"
   ]
  },
  {
   "cell_type": "code",
   "execution_count": 3,
   "metadata": {},
   "outputs": [],
   "source": [
    "foo = process('extra/decision.csv')"
   ]
  },
  {
   "cell_type": "code",
   "execution_count": 4,
   "metadata": {},
   "outputs": [],
   "source": [
    "foo = foo.set_index('DateTime').dropna()"
   ]
  },
  {
   "cell_type": "code",
   "execution_count": 5,
   "metadata": {},
   "outputs": [],
   "source": [
    "foo['label'] = foo['label'].str.lower()"
   ]
  },
  {
   "cell_type": "code",
   "execution_count": 6,
   "metadata": {},
   "outputs": [
    {
     "data": {
      "text/html": [
       "<div>\n",
       "<style scoped>\n",
       "    .dataframe tbody tr th:only-of-type {\n",
       "        vertical-align: middle;\n",
       "    }\n",
       "\n",
       "    .dataframe tbody tr th {\n",
       "        vertical-align: top;\n",
       "    }\n",
       "\n",
       "    .dataframe thead th {\n",
       "        text-align: right;\n",
       "    }\n",
       "</style>\n",
       "<table border=\"1\" class=\"dataframe\">\n",
       "  <thead>\n",
       "    <tr style=\"text-align: right;\">\n",
       "      <th></th>\n",
       "      <th>forecast</th>\n",
       "      <th>actual</th>\n",
       "      <th>f_momentum</th>\n",
       "      <th>a_momentum</th>\n",
       "      <th>label</th>\n",
       "    </tr>\n",
       "    <tr>\n",
       "      <th>DateTime</th>\n",
       "      <th></th>\n",
       "      <th></th>\n",
       "      <th></th>\n",
       "      <th></th>\n",
       "      <th></th>\n",
       "    </tr>\n",
       "  </thead>\n",
       "  <tbody>\n",
       "    <tr>\n",
       "      <th>2018-05-24</th>\n",
       "      <td>0.328026</td>\n",
       "      <td>0.282542</td>\n",
       "      <td>-0.002801</td>\n",
       "      <td>-0.013777</td>\n",
       "      <td>sell</td>\n",
       "    </tr>\n",
       "    <tr>\n",
       "      <th>2018-05-25</th>\n",
       "      <td>0.322993</td>\n",
       "      <td>0.291667</td>\n",
       "      <td>-0.010246</td>\n",
       "      <td>-0.007529</td>\n",
       "      <td>hold</td>\n",
       "    </tr>\n",
       "    <tr>\n",
       "      <th>2018-05-27</th>\n",
       "      <td>0.310946</td>\n",
       "      <td>0.277665</td>\n",
       "      <td>-0.017081</td>\n",
       "      <td>-0.004877</td>\n",
       "      <td>buy</td>\n",
       "    </tr>\n",
       "    <tr>\n",
       "      <th>2018-05-28</th>\n",
       "      <td>0.305424</td>\n",
       "      <td>0.257754</td>\n",
       "      <td>-0.017570</td>\n",
       "      <td>-0.033913</td>\n",
       "      <td>sell</td>\n",
       "    </tr>\n",
       "    <tr>\n",
       "      <th>2018-05-29</th>\n",
       "      <td>0.296629</td>\n",
       "      <td>0.286318</td>\n",
       "      <td>-0.014316</td>\n",
       "      <td>0.008652</td>\n",
       "      <td>hold</td>\n",
       "    </tr>\n",
       "  </tbody>\n",
       "</table>\n",
       "</div>"
      ],
      "text/plain": [
       "            forecast    actual  f_momentum  a_momentum label\n",
       "DateTime                                                    \n",
       "2018-05-24  0.328026  0.282542   -0.002801   -0.013777  sell\n",
       "2018-05-25  0.322993  0.291667   -0.010246   -0.007529  hold\n",
       "2018-05-27  0.310946  0.277665   -0.017081   -0.004877   buy\n",
       "2018-05-28  0.305424  0.257754   -0.017570   -0.033913  sell\n",
       "2018-05-29  0.296629  0.286318   -0.014316    0.008652  hold"
      ]
     },
     "execution_count": 6,
     "metadata": {},
     "output_type": "execute_result"
    }
   ],
   "source": [
    "foo.head(5)"
   ]
  },
  {
   "cell_type": "markdown",
   "metadata": {},
   "source": [
    "### SPLITTING"
   ]
  },
  {
   "cell_type": "code",
   "execution_count": 7,
   "metadata": {},
   "outputs": [],
   "source": [
    "from sklearn.model_selection import train_test_split"
   ]
  },
  {
   "cell_type": "code",
   "execution_count": 8,
   "metadata": {},
   "outputs": [],
   "source": [
    "features = foo[['forecast', 'actual', 'f_momentum', 'a_momentum']].to_numpy()"
   ]
  },
  {
   "cell_type": "code",
   "execution_count": 35,
   "metadata": {},
   "outputs": [],
   "source": [
    "labels = foo['label'].to_numpy()"
   ]
  },
  {
   "cell_type": "code",
   "execution_count": 36,
   "metadata": {},
   "outputs": [],
   "source": [
    "x_train, x_test, y_train, y_test = train_test_split(features, labels, test_size=0.4, random_state=0)"
   ]
  },
  {
   "cell_type": "code",
   "execution_count": 37,
   "metadata": {},
   "outputs": [],
   "source": [
    "from sklearn.model_selection import TimeSeriesSplit"
   ]
  },
  {
   "cell_type": "code",
   "execution_count": 50,
   "metadata": {
    "scrolled": true
   },
   "outputs": [],
   "source": [
    "x_train = []"
   ]
  },
  {
   "cell_type": "code",
   "execution_count": 51,
   "metadata": {},
   "outputs": [],
   "source": [
    "x_test = []"
   ]
  },
  {
   "cell_type": "code",
   "execution_count": 52,
   "metadata": {},
   "outputs": [],
   "source": [
    "y_train = []"
   ]
  },
  {
   "cell_type": "code",
   "execution_count": 53,
   "metadata": {},
   "outputs": [],
   "source": [
    "y_test = []"
   ]
  },
  {
   "cell_type": "code",
   "execution_count": 54,
   "metadata": {},
   "outputs": [],
   "source": [
    "tss = TimeSeriesSplit(n_splits=5)\n",
    "for train_index, test_index in tss.split(features):\n",
    "    x_train, x_test = features[train_index], features[test_index]\n",
    "    y_train, y_test = labels[train_index], labels[test_index]"
   ]
  },
  {
   "cell_type": "markdown",
   "metadata": {},
   "source": [
    "### FOO"
   ]
  },
  {
   "cell_type": "code",
   "execution_count": 63,
   "metadata": {},
   "outputs": [],
   "source": [
    "from sklearn.svm import SVC"
   ]
  },
  {
   "cell_type": "code",
   "execution_count": 64,
   "metadata": {},
   "outputs": [],
   "source": [
    "from sklearn.svm import LinearSVC"
   ]
  },
  {
   "cell_type": "code",
   "execution_count": 65,
   "metadata": {},
   "outputs": [
    {
     "data": {
      "text/plain": [
       "LinearSVC()"
      ]
     },
     "execution_count": 65,
     "metadata": {},
     "output_type": "execute_result"
    }
   ],
   "source": [
    "model = LinearSVC()\n",
    "model.fit(x_train, y_train)"
   ]
  },
  {
   "cell_type": "code",
   "execution_count": 66,
   "metadata": {},
   "outputs": [
    {
     "data": {
      "text/plain": [
       "0.7590361445783133"
      ]
     },
     "execution_count": 66,
     "metadata": {},
     "output_type": "execute_result"
    }
   ],
   "source": [
    "model.score(x_test, y_test)"
   ]
  },
  {
   "cell_type": "code",
   "execution_count": 67,
   "metadata": {},
   "outputs": [],
   "source": [
    "predictions = model.predict(x_test)"
   ]
  },
  {
   "cell_type": "code",
   "execution_count": 68,
   "metadata": {},
   "outputs": [
    {
     "data": {
      "text/plain": [
       "array(['hold', 'hold', 'hold', 'hold', 'hold', 'hold', 'hold', 'hold',\n",
       "       'hold', 'hold', 'hold', 'hold', 'hold', 'hold', 'hold', 'hold',\n",
       "       'hold', 'hold', 'hold', 'hold', 'hold', 'hold', 'hold', 'hold',\n",
       "       'hold', 'hold', 'hold', 'hold', 'hold', 'hold', 'hold', 'hold',\n",
       "       'hold', 'hold', 'hold', 'hold', 'hold', 'hold', 'hold', 'hold',\n",
       "       'hold', 'hold', 'hold', 'hold', 'hold', 'hold', 'hold', 'hold',\n",
       "       'hold', 'hold', 'hold', 'hold', 'hold', 'hold', 'hold', 'hold',\n",
       "       'hold', 'hold', 'hold', 'hold', 'hold', 'hold', 'hold', 'hold',\n",
       "       'hold', 'hold', 'hold', 'hold', 'hold', 'hold', 'hold', 'hold',\n",
       "       'hold', 'hold', 'hold', 'hold', 'hold', 'hold', 'hold', 'hold',\n",
       "       'hold', 'hold', 'hold'], dtype=object)"
      ]
     },
     "execution_count": 68,
     "metadata": {},
     "output_type": "execute_result"
    }
   ],
   "source": [
    "predictions"
   ]
  },
  {
   "cell_type": "code",
   "execution_count": 69,
   "metadata": {},
   "outputs": [
    {
     "data": {
      "text/plain": [
       "array(['hold', 'sell', 'hold', 'hold', 'hold', 'hold', 'hold', 'buy',\n",
       "       'hold', 'hold', 'hold', 'sell', 'hold', 'hold', 'buy', 'hold',\n",
       "       'hold', 'sell', 'hold', 'hold', 'buy', 'hold', 'hold', 'hold',\n",
       "       'hold', 'hold', 'hold', 'sell', 'hold', 'hold', 'hold', 'buy',\n",
       "       'hold', 'hold', 'hold', 'hold', 'sell', 'hold', 'hold', 'hold',\n",
       "       'hold', 'buy', 'sell', 'hold', 'hold', 'hold', 'hold', 'buy',\n",
       "       'hold', 'hold', 'hold', 'sell', 'hold', 'hold', 'hold', 'hold',\n",
       "       'hold', 'hold', 'hold', 'buy', 'hold', 'hold', 'hold', 'hold',\n",
       "       'sell', 'hold', 'hold', 'buy', 'hold', 'hold', 'sell', 'buy',\n",
       "       'hold', 'hold', 'hold', 'sell', 'hold', 'hold', 'hold', 'hold',\n",
       "       'hold', 'buy', 'hold'], dtype=object)"
      ]
     },
     "execution_count": 69,
     "metadata": {},
     "output_type": "execute_result"
    }
   ],
   "source": [
    "y_test"
   ]
  },
  {
   "cell_type": "code",
   "execution_count": null,
   "metadata": {},
   "outputs": [],
   "source": []
  }
 ],
 "metadata": {
  "kernelspec": {
   "display_name": "Python 3",
   "language": "python",
   "name": "python3"
  },
  "language_info": {
   "codemirror_mode": {
    "name": "ipython",
    "version": 3
   },
   "file_extension": ".py",
   "mimetype": "text/x-python",
   "name": "python",
   "nbconvert_exporter": "python",
   "pygments_lexer": "ipython3",
   "version": "3.7.9"
  }
 },
 "nbformat": 4,
 "nbformat_minor": 4
}
