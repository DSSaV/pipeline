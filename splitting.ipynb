{
 "cells": [
  {
   "cell_type": "code",
   "execution_count": 1,
   "metadata": {},
   "outputs": [],
   "source": [
    "from math import floor\n",
    "from sklearn.preprocessing import MinMaxScaler\n",
    "from sklearn.model_selection import TimeSeriesSplit"
   ]
  },
  {
   "cell_type": "code",
   "execution_count": 10,
   "metadata": {},
   "outputs": [],
   "source": [
    "def primary(features, labels, percent):\n",
    "    \n",
    "    # LENGTH TO SPLIT AT\n",
    "    limit = floor(len(features) * percent)\n",
    "    \n",
    "    # TRAIN/TEST FEATURES\n",
    "    train = features[:limit]\n",
    "    test = features[limit:]\n",
    "    \n",
    "    # SCALED FEATURES\n",
    "    scaled_train, scaled_test, scaler = normalize(train, test)\n",
    "    \n",
    "    return {\n",
    "        'train': {\n",
    "            'features': scaled_train,\n",
    "            'labels': labels[:limit]\n",
    "        },\n",
    "        'test': {\n",
    "            'features': scaled_test,\n",
    "            'labels': labels[limit:]\n",
    "        }\n",
    "    }, scaler"
   ]
  },
  {
   "cell_type": "code",
   "execution_count": 7,
   "metadata": {},
   "outputs": [],
   "source": [
    "def normalize(temp_train, temp_test):\n",
    "    \n",
    "    # SCALE EVERYTHING FROM 0 TO 1\n",
    "    scaler = MinMaxScaler(feature_range=(0, 1))\n",
    "    \n",
    "    # FIT ON TRAIN DATA, THEN TRANSFORM TEST DATA\n",
    "    train = scaler.fit_transform(temp_train)\n",
    "    test = scaler.transform(temp_test)\n",
    "    \n",
    "    return train, test, scaler"
   ]
  },
  {
   "cell_type": "code",
   "execution_count": 3,
   "metadata": {},
   "outputs": [],
   "source": [
    "def timeseries(dataset, folds):\n",
    "    \n",
    "    # DECONSTRUCT PARAMS\n",
    "    features = dataset['features']\n",
    "    labels = dataset['labels']\n",
    "    \n",
    "    # INITIALIZE A X FOLD SPLIT\n",
    "    tss = TimeSeriesSplit(n_splits=folds)\n",
    "    data = []\n",
    "    \n",
    "    # SPLIT DATASET X TIMES\n",
    "    for train_index, test_index in tss.split(features):\n",
    "        data.append({\n",
    "            'train': {\n",
    "                'features': features[train_index],\n",
    "                'labels': labels[train_index]\n",
    "            },\n",
    "            'test': {\n",
    "                'features': features[test_index],\n",
    "                'labels': labels[test_index]\n",
    "            }\n",
    "        })\n",
    "    \n",
    "    return data"
   ]
  },
  {
   "cell_type": "code",
   "execution_count": null,
   "metadata": {},
   "outputs": [],
   "source": []
  }
 ],
 "metadata": {
  "kernelspec": {
   "display_name": "Python 3",
   "language": "python",
   "name": "python3"
  },
  "language_info": {
   "codemirror_mode": {
    "name": "ipython",
    "version": 3
   },
   "file_extension": ".py",
   "mimetype": "text/x-python",
   "name": "python",
   "nbconvert_exporter": "python",
   "pygments_lexer": "ipython3",
   "version": "3.7.9"
  }
 },
 "nbformat": 4,
 "nbformat_minor": 4
}
