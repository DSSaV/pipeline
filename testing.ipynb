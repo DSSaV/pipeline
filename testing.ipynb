{
 "cells": [
  {
   "cell_type": "code",
   "execution_count": null,
   "metadata": {},
   "outputs": [],
   "source": [
    "import ipynb.fs.full.training as training\n",
    "import pandas as pd\n",
    "import numpy as np"
   ]
  },
  {
   "cell_type": "markdown",
   "metadata": {},
   "source": [
    "### PROCESSING"
   ]
  },
  {
   "cell_type": "code",
   "execution_count": null,
   "metadata": {},
   "outputs": [],
   "source": [
    "def process(src):\n",
    "    return pd.read_csv(src, delimiter=',', parse_dates=[[\"Date\", \"Timestamp\"]])"
   ]
  },
  {
   "cell_type": "code",
   "execution_count": null,
   "metadata": {},
   "outputs": [],
   "source": [
    "foo = process('extra/dataset.csv')"
   ]
  },
  {
   "cell_type": "code",
   "execution_count": 93,
   "metadata": {},
   "outputs": [
    {
     "data": {
      "text/html": [
       "<div>\n",
       "<style scoped>\n",
       "    .dataframe tbody tr th:only-of-type {\n",
       "        vertical-align: middle;\n",
       "    }\n",
       "\n",
       "    .dataframe tbody tr th {\n",
       "        vertical-align: top;\n",
       "    }\n",
       "\n",
       "    .dataframe thead th {\n",
       "        text-align: right;\n",
       "    }\n",
       "</style>\n",
       "<table border=\"1\" class=\"dataframe\">\n",
       "  <thead>\n",
       "    <tr style=\"text-align: right;\">\n",
       "      <th></th>\n",
       "      <th>Date_Timestamp</th>\n",
       "      <th>Open</th>\n",
       "      <th>High</th>\n",
       "      <th>Low</th>\n",
       "      <th>Close</th>\n",
       "      <th>Volume</th>\n",
       "    </tr>\n",
       "  </thead>\n",
       "  <tbody>\n",
       "    <tr>\n",
       "      <th>0</th>\n",
       "      <td>2010-01-01 11:00:00</td>\n",
       "      <td>1.43327</td>\n",
       "      <td>1.43335</td>\n",
       "      <td>1.43319</td>\n",
       "      <td>1.43335</td>\n",
       "      <td>56.299999</td>\n",
       "    </tr>\n",
       "    <tr>\n",
       "      <th>1</th>\n",
       "      <td>2010-01-01 11:01:00</td>\n",
       "      <td>1.43333</td>\n",
       "      <td>1.43333</td>\n",
       "      <td>1.43318</td>\n",
       "      <td>1.43327</td>\n",
       "      <td>82.100001</td>\n",
       "    </tr>\n",
       "    <tr>\n",
       "      <th>2</th>\n",
       "      <td>2010-01-01 11:02:00</td>\n",
       "      <td>1.43328</td>\n",
       "      <td>1.43333</td>\n",
       "      <td>1.43319</td>\n",
       "      <td>1.43333</td>\n",
       "      <td>86.900000</td>\n",
       "    </tr>\n",
       "    <tr>\n",
       "      <th>3</th>\n",
       "      <td>2010-01-01 11:03:00</td>\n",
       "      <td>1.43325</td>\n",
       "      <td>1.43333</td>\n",
       "      <td>1.43319</td>\n",
       "      <td>1.43326</td>\n",
       "      <td>68.899999</td>\n",
       "    </tr>\n",
       "    <tr>\n",
       "      <th>4</th>\n",
       "      <td>2010-01-01 11:04:00</td>\n",
       "      <td>1.43326</td>\n",
       "      <td>1.43333</td>\n",
       "      <td>1.43319</td>\n",
       "      <td>1.43319</td>\n",
       "      <td>45.300000</td>\n",
       "    </tr>\n",
       "  </tbody>\n",
       "</table>\n",
       "</div>"
      ],
      "text/plain": [
       "       Date_Timestamp     Open     High      Low    Close     Volume\n",
       "0 2010-01-01 11:00:00  1.43327  1.43335  1.43319  1.43335  56.299999\n",
       "1 2010-01-01 11:01:00  1.43333  1.43333  1.43318  1.43327  82.100001\n",
       "2 2010-01-01 11:02:00  1.43328  1.43333  1.43319  1.43333  86.900000\n",
       "3 2010-01-01 11:03:00  1.43325  1.43333  1.43319  1.43326  68.899999\n",
       "4 2010-01-01 11:04:00  1.43326  1.43333  1.43319  1.43319  45.300000"
      ]
     },
     "execution_count": 93,
     "metadata": {},
     "output_type": "execute_result"
    }
   ],
   "source": [
    "foo.head(5)"
   ]
  },
  {
   "cell_type": "code",
   "execution_count": 95,
   "metadata": {},
   "outputs": [],
   "source": [
    "foo = foo.set_index('Date_Timestamp')"
   ]
  },
  {
   "cell_type": "code",
   "execution_count": 96,
   "metadata": {},
   "outputs": [],
   "source": [
    "foo['label'] = np.random.choice(['buy', 'sell', 'hold'], foo.shape[0])"
   ]
  },
  {
   "cell_type": "code",
   "execution_count": 97,
   "metadata": {},
   "outputs": [
    {
     "data": {
      "text/html": [
       "<div>\n",
       "<style scoped>\n",
       "    .dataframe tbody tr th:only-of-type {\n",
       "        vertical-align: middle;\n",
       "    }\n",
       "\n",
       "    .dataframe tbody tr th {\n",
       "        vertical-align: top;\n",
       "    }\n",
       "\n",
       "    .dataframe thead th {\n",
       "        text-align: right;\n",
       "    }\n",
       "</style>\n",
       "<table border=\"1\" class=\"dataframe\">\n",
       "  <thead>\n",
       "    <tr style=\"text-align: right;\">\n",
       "      <th></th>\n",
       "      <th>Open</th>\n",
       "      <th>High</th>\n",
       "      <th>Low</th>\n",
       "      <th>Close</th>\n",
       "      <th>Volume</th>\n",
       "      <th>label</th>\n",
       "    </tr>\n",
       "    <tr>\n",
       "      <th>Date_Timestamp</th>\n",
       "      <th></th>\n",
       "      <th></th>\n",
       "      <th></th>\n",
       "      <th></th>\n",
       "      <th></th>\n",
       "      <th></th>\n",
       "    </tr>\n",
       "  </thead>\n",
       "  <tbody>\n",
       "    <tr>\n",
       "      <th>2010-01-01 11:00:00</th>\n",
       "      <td>1.43327</td>\n",
       "      <td>1.43335</td>\n",
       "      <td>1.43319</td>\n",
       "      <td>1.43335</td>\n",
       "      <td>56.299999</td>\n",
       "      <td>buy</td>\n",
       "    </tr>\n",
       "    <tr>\n",
       "      <th>2010-01-01 11:01:00</th>\n",
       "      <td>1.43333</td>\n",
       "      <td>1.43333</td>\n",
       "      <td>1.43318</td>\n",
       "      <td>1.43327</td>\n",
       "      <td>82.100001</td>\n",
       "      <td>buy</td>\n",
       "    </tr>\n",
       "    <tr>\n",
       "      <th>2010-01-01 11:02:00</th>\n",
       "      <td>1.43328</td>\n",
       "      <td>1.43333</td>\n",
       "      <td>1.43319</td>\n",
       "      <td>1.43333</td>\n",
       "      <td>86.900000</td>\n",
       "      <td>hold</td>\n",
       "    </tr>\n",
       "    <tr>\n",
       "      <th>2010-01-01 11:03:00</th>\n",
       "      <td>1.43325</td>\n",
       "      <td>1.43333</td>\n",
       "      <td>1.43319</td>\n",
       "      <td>1.43326</td>\n",
       "      <td>68.899999</td>\n",
       "      <td>buy</td>\n",
       "    </tr>\n",
       "    <tr>\n",
       "      <th>2010-01-01 11:04:00</th>\n",
       "      <td>1.43326</td>\n",
       "      <td>1.43333</td>\n",
       "      <td>1.43319</td>\n",
       "      <td>1.43319</td>\n",
       "      <td>45.300000</td>\n",
       "      <td>buy</td>\n",
       "    </tr>\n",
       "  </tbody>\n",
       "</table>\n",
       "</div>"
      ],
      "text/plain": [
       "                        Open     High      Low    Close     Volume label\n",
       "Date_Timestamp                                                          \n",
       "2010-01-01 11:00:00  1.43327  1.43335  1.43319  1.43335  56.299999   buy\n",
       "2010-01-01 11:01:00  1.43333  1.43333  1.43318  1.43327  82.100001   buy\n",
       "2010-01-01 11:02:00  1.43328  1.43333  1.43319  1.43333  86.900000  hold\n",
       "2010-01-01 11:03:00  1.43325  1.43333  1.43319  1.43326  68.899999   buy\n",
       "2010-01-01 11:04:00  1.43326  1.43333  1.43319  1.43319  45.300000   buy"
      ]
     },
     "execution_count": 97,
     "metadata": {},
     "output_type": "execute_result"
    }
   ],
   "source": [
    "foo.head(5)"
   ]
  },
  {
   "cell_type": "markdown",
   "metadata": {},
   "source": [
    "### SPLITTING"
   ]
  },
  {
   "cell_type": "code",
   "execution_count": 98,
   "metadata": {},
   "outputs": [],
   "source": [
    "features = foo[['Open', 'High', 'Low', 'Close', 'Volume']].to_numpy()"
   ]
  },
  {
   "cell_type": "code",
   "execution_count": 99,
   "metadata": {},
   "outputs": [],
   "source": [
    "labels = foo['label'].to_numpy()"
   ]
  },
  {
   "cell_type": "code",
   "execution_count": 100,
   "metadata": {},
   "outputs": [],
   "source": [
    "from sklearn.model_selection import TimeSeriesSplit"
   ]
  },
  {
   "cell_type": "code",
   "execution_count": 106,
   "metadata": {
    "scrolled": true
   },
   "outputs": [],
   "source": [
    "x_train, x_test, y_train, y_test = [], [], [], []"
   ]
  },
  {
   "cell_type": "code",
   "execution_count": 107,
   "metadata": {},
   "outputs": [],
   "source": [
    "tss = TimeSeriesSplit(n_splits=5)\n",
    "for train_index, test_index in tss.split(features):\n",
    "    x_train, x_test = features[train_index], features[test_index]\n",
    "    y_train, y_test = labels[train_index], labels[test_index]"
   ]
  },
  {
   "cell_type": "code",
   "execution_count": 108,
   "metadata": {},
   "outputs": [],
   "source": [
    "from sklearn.preprocessing import MinMaxScaler"
   ]
  },
  {
   "cell_type": "code",
   "execution_count": 109,
   "metadata": {},
   "outputs": [],
   "source": [
    "# INSTANTIATE NORMALIZER\n",
    "scaler = MinMaxScaler(feature_range=(0, 1))\n",
    "\n",
    "# FIT NORMALIZER WITH TRAIN DATA, THEN TRANSFORM TEST DATA\n",
    "x_train = scaler.fit_transform(x_train)\n",
    "x_test = scaler.transform(x_test)"
   ]
  },
  {
   "cell_type": "markdown",
   "metadata": {},
   "source": [
    "### TRAIN"
   ]
  },
  {
   "cell_type": "code",
   "execution_count": 119,
   "metadata": {},
   "outputs": [],
   "source": [
    "from sklearn.svm import LinearSVC, SVC"
   ]
  },
  {
   "cell_type": "code",
   "execution_count": null,
   "metadata": {},
   "outputs": [],
   "source": [
    "model = SVC(kernel='linear', decision_function_shape='ovr')\n",
    "model.fit(x_train, y_train)"
   ]
  },
  {
   "cell_type": "code",
   "execution_count": null,
   "metadata": {},
   "outputs": [],
   "source": [
    "model.score(x_test, y_test)"
   ]
  },
  {
   "cell_type": "code",
   "execution_count": null,
   "metadata": {},
   "outputs": [],
   "source": [
    "predictions = model.predict(x_test)"
   ]
  },
  {
   "cell_type": "code",
   "execution_count": null,
   "metadata": {},
   "outputs": [],
   "source": [
    "predictions[:500]"
   ]
  },
  {
   "cell_type": "code",
   "execution_count": 118,
   "metadata": {},
   "outputs": [
    {
     "data": {
      "text/plain": [
       "array(['hold', 'buy', 'buy', 'buy', 'buy', 'buy', 'hold', 'buy', 'buy',\n",
       "       'sell', 'buy', 'buy', 'buy', 'sell', 'sell', 'sell', 'hold',\n",
       "       'sell', 'buy', 'hold', 'sell', 'buy', 'buy', 'sell', 'sell',\n",
       "       'sell', 'hold', 'sell', 'buy', 'buy', 'buy', 'hold', 'buy', 'sell',\n",
       "       'hold', 'hold', 'buy', 'sell', 'sell', 'hold', 'buy', 'hold',\n",
       "       'sell', 'sell', 'sell', 'buy', 'sell', 'hold', 'sell', 'buy',\n",
       "       'sell', 'buy', 'hold', 'buy', 'sell', 'buy', 'hold', 'buy', 'buy',\n",
       "       'hold', 'buy', 'buy', 'hold', 'sell', 'hold', 'sell', 'sell',\n",
       "       'sell', 'buy', 'hold', 'hold', 'hold', 'buy', 'sell', 'buy',\n",
       "       'sell', 'sell', 'buy', 'sell', 'sell', 'buy', 'buy', 'hold', 'buy',\n",
       "       'buy', 'sell', 'buy', 'sell', 'buy', 'hold', 'hold', 'buy', 'hold',\n",
       "       'buy', 'hold', 'buy', 'sell', 'buy', 'hold', 'hold', 'buy', 'sell',\n",
       "       'buy', 'buy', 'buy', 'sell', 'hold', 'hold', 'sell', 'sell',\n",
       "       'sell', 'hold', 'sell', 'hold', 'sell', 'sell', 'buy', 'sell',\n",
       "       'sell', 'buy', 'buy', 'sell', 'buy', 'sell', 'hold', 'sell',\n",
       "       'sell', 'hold', 'hold', 'hold', 'hold', 'buy', 'hold', 'buy',\n",
       "       'hold', 'buy', 'buy', 'sell', 'hold', 'buy', 'hold', 'sell',\n",
       "       'sell', 'buy', 'buy', 'buy', 'hold', 'buy', 'sell', 'sell', 'hold',\n",
       "       'hold', 'buy', 'sell', 'buy', 'buy', 'sell', 'hold', 'hold',\n",
       "       'sell', 'buy', 'sell', 'hold', 'buy', 'sell', 'buy', 'buy', 'sell',\n",
       "       'sell', 'hold', 'hold', 'hold', 'hold', 'sell', 'hold', 'hold',\n",
       "       'buy', 'sell', 'buy', 'buy', 'sell', 'sell', 'hold', 'buy', 'buy',\n",
       "       'hold', 'buy', 'sell', 'buy', 'hold', 'hold', 'sell', 'buy', 'buy',\n",
       "       'buy', 'sell', 'sell', 'buy', 'hold', 'hold', 'sell', 'buy',\n",
       "       'hold', 'buy', 'buy', 'buy', 'buy', 'sell', 'sell', 'sell', 'buy',\n",
       "       'buy', 'hold', 'buy', 'hold', 'hold', 'hold', 'buy', 'hold',\n",
       "       'sell', 'hold', 'hold', 'hold', 'buy', 'sell', 'hold', 'buy',\n",
       "       'buy', 'hold', 'hold', 'buy', 'hold', 'buy', 'hold', 'buy', 'sell',\n",
       "       'hold', 'buy', 'hold', 'hold', 'sell', 'sell', 'sell', 'sell',\n",
       "       'hold', 'sell', 'sell', 'hold', 'hold', 'buy', 'sell', 'hold',\n",
       "       'buy', 'hold', 'buy', 'hold', 'hold', 'buy', 'sell', 'hold',\n",
       "       'hold', 'buy', 'sell', 'hold', 'buy', 'sell', 'hold', 'sell',\n",
       "       'sell', 'buy', 'hold', 'buy', 'buy', 'sell', 'sell', 'buy', 'hold',\n",
       "       'buy', 'buy', 'hold', 'sell', 'buy', 'buy', 'buy', 'hold', 'hold',\n",
       "       'sell', 'hold', 'buy', 'sell', 'sell', 'sell', 'hold', 'hold',\n",
       "       'buy', 'buy', 'hold', 'buy', 'buy', 'buy', 'buy', 'hold', 'sell',\n",
       "       'sell', 'hold', 'sell', 'hold', 'hold', 'buy', 'hold', 'sell',\n",
       "       'hold', 'buy', 'buy', 'hold', 'buy', 'sell', 'sell', 'sell', 'buy',\n",
       "       'sell', 'sell', 'buy', 'sell', 'hold', 'sell', 'hold', 'sell',\n",
       "       'sell', 'buy', 'sell', 'hold', 'buy', 'hold', 'sell', 'sell',\n",
       "       'sell', 'sell', 'sell', 'buy', 'sell', 'hold', 'hold', 'sell',\n",
       "       'hold', 'sell', 'buy', 'buy', 'sell', 'buy', 'buy', 'hold', 'buy',\n",
       "       'buy', 'buy', 'buy', 'hold', 'hold', 'buy', 'sell', 'sell', 'buy',\n",
       "       'buy', 'buy', 'sell', 'hold', 'buy', 'sell', 'sell', 'sell',\n",
       "       'sell', 'hold', 'sell', 'hold', 'sell', 'hold', 'sell', 'sell',\n",
       "       'sell', 'buy', 'buy', 'sell', 'hold', 'hold', 'hold', 'hold',\n",
       "       'sell', 'buy', 'sell', 'sell', 'sell', 'sell', 'buy', 'sell',\n",
       "       'sell', 'hold', 'sell', 'hold', 'hold', 'sell', 'buy', 'buy',\n",
       "       'hold', 'buy', 'hold', 'buy', 'buy', 'sell', 'sell', 'sell',\n",
       "       'sell', 'hold', 'sell', 'sell', 'sell', 'hold', 'hold', 'buy',\n",
       "       'buy', 'hold', 'buy', 'buy', 'buy', 'sell', 'hold', 'buy', 'sell',\n",
       "       'hold', 'sell', 'hold', 'hold', 'sell', 'hold', 'buy', 'buy',\n",
       "       'sell', 'buy', 'hold', 'sell', 'buy', 'sell', 'buy', 'sell',\n",
       "       'sell', 'buy', 'buy', 'buy', 'sell', 'hold', 'hold', 'sell',\n",
       "       'sell', 'buy', 'sell', 'sell', 'hold', 'hold', 'hold', 'sell',\n",
       "       'sell', 'buy', 'sell', 'sell', 'buy', 'buy', 'hold', 'hold', 'buy',\n",
       "       'sell', 'sell', 'sell', 'buy', 'sell', 'buy', 'hold', 'sell',\n",
       "       'sell', 'buy', 'buy', 'hold', 'hold', 'hold', 'buy', 'sell',\n",
       "       'sell', 'hold', 'sell', 'sell', 'sell', 'sell', 'sell', 'buy',\n",
       "       'sell', 'sell', 'buy', 'sell', 'buy', 'buy', 'buy', 'buy'],\n",
       "      dtype=object)"
      ]
     },
     "execution_count": 118,
     "metadata": {},
     "output_type": "execute_result"
    }
   ],
   "source": [
    "y_test[:500]"
   ]
  },
  {
   "cell_type": "code",
   "execution_count": null,
   "metadata": {},
   "outputs": [],
   "source": []
  }
 ],
 "metadata": {
  "kernelspec": {
   "display_name": "Python 3",
   "language": "python",
   "name": "python3"
  },
  "language_info": {
   "codemirror_mode": {
    "name": "ipython",
    "version": 3
   },
   "file_extension": ".py",
   "mimetype": "text/x-python",
   "name": "python",
   "nbconvert_exporter": "python",
   "pygments_lexer": "ipython3",
   "version": "3.7.9"
  }
 },
 "nbformat": 4,
 "nbformat_minor": 4
}
