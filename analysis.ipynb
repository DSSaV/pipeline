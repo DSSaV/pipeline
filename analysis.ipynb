{
 "cells": [
  {
   "cell_type": "markdown",
   "metadata": {},
   "source": [
    "### MODEL GRAPHING & ANALYSIS"
   ]
  },
  {
   "cell_type": "markdown",
   "metadata": {},
   "source": [
    "### GRAPHING FUNCTIONS"
   ]
  },
  {
   "cell_type": "code",
   "execution_count": 5,
   "metadata": {},
   "outputs": [],
   "source": [
    "def visualize(header, dataframe):\n",
    "    \n",
    "    # COLOR SELECTIONS\n",
    "    colors = ['#ff6666', '#1c8c44', '#5e5ba4', '#8b3c9d', '#767468', '#ffc500', '#ff9400']\n",
    "    \n",
    "    # PLACEHOLDER CONTAINER\n",
    "    structure = []\n",
    "    \n",
    "    # CREATE LINE FOR EACH COLUMN IN THE DATAFRAME\n",
    "    for index, name in enumerate(dataframe.columns):\n",
    "        structure.append(go.Scatter(\n",
    "            mode='lines',\n",
    "            x=dataframe.index,\n",
    "            y=dataframe[name],\n",
    "            line=dict(width=1),\n",
    "            marker=dict(color = colors[index]),\n",
    "            opacity=0.8,\n",
    "            yaxis = 'y2',\n",
    "            name = name\n",
    "        ))\n",
    "\n",
    "    # LAYOUT PARAMS\n",
    "    layout = go.Layout(\n",
    "        yaxis = dict(domain = [0, 0.2], showticklabels = False),\n",
    "        yaxis2 = dict(domain = [0.2, 1.0]),\n",
    "        title = header\n",
    "    )\n",
    "    \n",
    "    # CREATE THE FIGURE\n",
    "    fig = go.Figure(data = structure, layout = layout)\n",
    "    \n",
    "    # ADD BUTTON MAP\n",
    "    fig.update_layout(\n",
    "        xaxis=dict(\n",
    "            rangeselector=dict(\n",
    "                buttons=list([\n",
    "                    dict(count=1,\n",
    "                         label=\"1m\",\n",
    "                         step=\"month\",\n",
    "                         stepmode=\"backward\"),\n",
    "                    dict(count=6,\n",
    "                         label=\"6m\",\n",
    "                         step=\"month\",\n",
    "                         stepmode=\"backward\"),\n",
    "                    dict(count=1,\n",
    "                         label=\"YTD\",\n",
    "                         step=\"year\",\n",
    "                         stepmode=\"todate\"),\n",
    "                    dict(count=1,\n",
    "                         label=\"1y\",\n",
    "                         step=\"year\",\n",
    "                         stepmode=\"backward\"),\n",
    "                    dict(step=\"all\")\n",
    "                ])\n",
    "            ),\n",
    "            rangeslider=dict(\n",
    "                visible=True\n",
    "            ),\n",
    "            type=\"date\"\n",
    "        )\n",
    "    )\n",
    "    \n",
    "    # FINALLY SHOW THE GRAPH\n",
    "    fig.show()"
   ]
  },
  {
   "cell_type": "code",
   "execution_count": 7,
   "metadata": {},
   "outputs": [],
   "source": [
    "def visualize_score(data):\n",
    "    \n",
    "    # PLOT THE GRAPH\n",
    "    data.plot(kind='line', figsize=(16, 4))\n",
    "    plt.grid(axis='both')\n",
    "\n",
    "    # SHOW IT\n",
    "    plt.show()"
   ]
  },
  {
   "cell_type": "code",
   "execution_count": 6,
   "metadata": {},
   "outputs": [],
   "source": [
    "def graph_fitting(model):\n",
    "    \n",
    "    # TRAINING EPOCHS\n",
    "    epochs = range(len(lstm_one['fitting'].history['loss']))\n",
    "    \n",
    "    # CREATE THE FIGURE\n",
    "    plt.figure(figsize=(16, 4))\n",
    "    \n",
    "    # PLOT TRAINING & VALIDATION LOSSES\n",
    "    plt.plot(epochs, lstm_one['fitting'].history['loss'], 'b', label='Training loss')\n",
    "    plt.plot(epochs, lstm_one['fitting'].history['val_loss'], 'r', label='Validation loss')\n",
    "    \n",
    "    # ADD LEGEND & SHOW\n",
    "    plt.legend()\n",
    "    plt.show()"
   ]
  },
  {
   "cell_type": "markdown",
   "metadata": {},
   "source": [
    "### SCORE FUNCTIONS"
   ]
  },
  {
   "cell_type": "code",
   "execution_count": 1,
   "metadata": {},
   "outputs": [],
   "source": [
    "def rmse(models):\n",
    "    \n",
    "    # PLACEHOLDER\n",
    "    container = []\n",
    "    \n",
    "    # LOOP THROUGH EACH RESULT\n",
    "    for model in models:\n",
    "        \n",
    "        # CALCULATE R2 SCORE & APPEND IT TO THE CONTAINER\n",
    "        score = r2_score(model['dataset']['test']['labels'], model['predictions'])\n",
    "        container.append(score)\n",
    "        \n",
    "    return container"
   ]
  },
  {
   "cell_type": "code",
   "execution_count": 2,
   "metadata": {},
   "outputs": [],
   "source": [
    "def mse(models):\n",
    "    \n",
    "    # PLACEHOLDER\n",
    "    container = []\n",
    "    \n",
    "    # LOOP THROUGH EACH RESULT\n",
    "    for model in models:\n",
    "        \n",
    "        # CALCULATE R2 SCORE & APPEND IT TO THE CONTAINER\n",
    "        score = mean_squared_error(model['dataset']['test']['labels'], model['predictions'])\n",
    "        container.append(score)\n",
    "        \n",
    "    return container"
   ]
  },
  {
   "cell_type": "code",
   "execution_count": 3,
   "metadata": {},
   "outputs": [],
   "source": [
    "def hit_ratios(models):\n",
    "    \n",
    "    # PLACEHOLDER\n",
    "    container = []\n",
    "    \n",
    "    # LOOP THROUGH EACH MODEL\n",
    "    for model in models:\n",
    "    \n",
    "        # GENERATE A USABLE DATAFRAME\n",
    "        dataframe = result_table({\n",
    "            'base': type_one,\n",
    "            'predictions': model['predictions'],\n",
    "            'header': 'Prediction'\n",
    "        })\n",
    "\n",
    "        # GENERATE PI SERIES\n",
    "        pi = generate_pi(dataframe)\n",
    "        \n",
    "        # CALCULATE HIT RATIO\n",
    "        hit = (pi.sum()) / len(pi)\n",
    "        \n",
    "        # APPEND TO CONTAINER\n",
    "        container.append(hit)\n",
    "    \n",
    "    return container"
   ]
  },
  {
   "cell_type": "code",
   "execution_count": 4,
   "metadata": {},
   "outputs": [],
   "source": [
    "def generate_pi(dataframe):\n",
    "    \n",
    "    # CREATE A TIMESERIES\n",
    "    series = (dataframe['Label'].shift(1) - dataframe['Label']) * (dataframe['Prediction'].shift(1) - dataframe['Prediction'])\n",
    "    \n",
    "    # RUN THROUGH EACH VALUE & EVALUATE ACCORDINGLY\n",
    "    series.where(series < 0, 1, inplace=True)\n",
    "    series.where(series > 0, 0, inplace=True)\n",
    "    \n",
    "    return series"
   ]
  },
  {
   "cell_type": "code",
   "execution_count": null,
   "metadata": {},
   "outputs": [],
   "source": []
  }
 ],
 "metadata": {
  "kernelspec": {
   "display_name": "Python 3",
   "language": "python",
   "name": "python3"
  },
  "language_info": {
   "codemirror_mode": {
    "name": "ipython",
    "version": 3
   },
   "file_extension": ".py",
   "mimetype": "text/x-python",
   "name": "python",
   "nbconvert_exporter": "python",
   "pygments_lexer": "ipython3",
   "version": "3.7.9"
  }
 },
 "nbformat": 4,
 "nbformat_minor": 4
}
