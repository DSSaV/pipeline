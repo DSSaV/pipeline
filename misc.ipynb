{
 "cells": [
  {
   "cell_type": "code",
   "execution_count": 1,
   "metadata": {},
   "outputs": [],
   "source": [
    "import pandas as pd"
   ]
  },
  {
   "cell_type": "code",
   "execution_count": 2,
   "metadata": {},
   "outputs": [],
   "source": [
    "def regression_table(params):\n",
    "    \n",
    "    # DECONSTRUCT PARAMS\n",
    "    dataset = params['dataset']\n",
    "    labels = dataset['label']\n",
    "    ensemble = params['ensemble']\n",
    "    \n",
    "    # CALCULATE AVERAGE PREDICTION USING ENSEMBLE\n",
    "    averages = mean_predictions(ensemble)\n",
    "    \n",
    "    # CREATE NEW DATAFRAME\n",
    "    dataframe = pd.DataFrame(labels, index=dataset.index[-len(averages):])\n",
    "    \n",
    "    # ADD ENSEMBLE PREDICTIONS AS COLUMN\n",
    "    dataframe['ensemble'] = averages\n",
    "    \n",
    "    # LOOP THROUGH ENSEMBLE MODELS\n",
    "    for index, model in enumerate(ensemble):\n",
    "\n",
    "        # EXTRACT NAME & PREDICTIONS\n",
    "        name = model['name'] + '_' + str(index)\n",
    "        data = model['result']['predictions']\n",
    "\n",
    "        # ADD MODEL PREDICTIONS AS COLUMN\n",
    "        dataframe[name] = data\n",
    "        \n",
    "    return dataframe"
   ]
  },
  {
   "cell_type": "code",
   "execution_count": 3,
   "metadata": {},
   "outputs": [],
   "source": [
    "def mean_predictions(ensemble):\n",
    "    \n",
    "    # CONTAINER\n",
    "    averages = []\n",
    "    \n",
    "    # ENSEMBLE PARAMS\n",
    "    predictions = len(ensemble[0]['result']['predictions'])\n",
    "    models = len(ensemble)\n",
    "    \n",
    "    # LOOP THROUGH EACH PREDICTION INDEX\n",
    "    for index in range(predictions):\n",
    "        value = 0\n",
    "\n",
    "        # QUERY EVERY MODELS PREDICTION\n",
    "        for item in ensemble:\n",
    "            value += item['result']['predictions'][index]\n",
    "\n",
    "        # CALCULATE THE MEAN VALUE & APPEND\n",
    "        mean = value / models\n",
    "        averages.append(mean)\n",
    "        \n",
    "    return averages"
   ]
  },
  {
   "cell_type": "code",
   "execution_count": null,
   "metadata": {},
   "outputs": [],
   "source": []
  }
 ],
 "metadata": {
  "kernelspec": {
   "display_name": "Python 3",
   "language": "python",
   "name": "python3"
  },
  "language_info": {
   "codemirror_mode": {
    "name": "ipython",
    "version": 3
   },
   "file_extension": ".py",
   "mimetype": "text/x-python",
   "name": "python",
   "nbconvert_exporter": "python",
   "pygments_lexer": "ipython3",
   "version": "3.7.9"
  }
 },
 "nbformat": 4,
 "nbformat_minor": 4
}
