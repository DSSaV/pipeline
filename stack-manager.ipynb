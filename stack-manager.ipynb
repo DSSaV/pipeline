{
 "cells": [
  {
   "cell_type": "markdown",
   "metadata": {},
   "source": [
    "### IMPORTS"
   ]
  },
  {
   "cell_type": "code",
   "execution_count": 1,
   "metadata": {},
   "outputs": [],
   "source": [
    "import ipynb.fs.full.processing as processing\n",
    "import ipynb.fs.full.features as features\n",
    "import ipynb.fs.full.training as training\n",
    "import ipynb.fs.full.analysis as analysis\n",
    "import ipynb.fs.full.storage as storage\n",
    "import ipynb.fs.full.visualize as visualize\n",
    "import ipynb.fs.full.misc as misc"
   ]
  },
  {
   "cell_type": "code",
   "execution_count": 2,
   "metadata": {},
   "outputs": [],
   "source": [
    "import ipynb.fs.full.splitting as splitting\n",
    "import ipynb.fs.full.table as table\n",
    "import ipynb.fs.full.decide as decide"
   ]
  },
  {
   "cell_type": "code",
   "execution_count": 3,
   "metadata": {},
   "outputs": [],
   "source": [
    "import numpy as np"
   ]
  },
  {
   "cell_type": "markdown",
   "metadata": {},
   "source": [
    "### SERIALIZE THE YAML CONFIG"
   ]
  },
  {
   "cell_type": "code",
   "execution_count": 4,
   "metadata": {},
   "outputs": [],
   "source": [
    "config = storage.load_yaml('extra/config.yaml')"
   ]
  },
  {
   "cell_type": "code",
   "execution_count": 5,
   "metadata": {},
   "outputs": [
    {
     "data": {
      "text/plain": [
       "{'data': 'extra/dataset.csv',\n",
       " 'processing': {'resample': True,\n",
       "  'time': 'D',\n",
       "  'aggregate': {'Open': 'first',\n",
       "   'High': 'max',\n",
       "   'Low': 'min',\n",
       "   'Close': 'last',\n",
       "   'Volume': 'sum'},\n",
       "  'label': {'from': 'close', 'shift': 1}},\n",
       " 'features': {'add': ['sk', 'sd', 'momentum'],\n",
       "  'window': 14,\n",
       "  'filter': ['close', 'momentum', 'sd', 'label']},\n",
       " 'splitting': {'train_split': 0.8, 'validation_folds': 5},\n",
       " 'ensemble': {'models': [{'linreg': None},\n",
       "   {'linreg': None},\n",
       "   {'linreg': None},\n",
       "   {'linreg': None},\n",
       "   {'linreg': None},\n",
       "   {'lstm': {'layers': [{'lstm': {'value': 120, 'activation': 'relu'}},\n",
       "      {'dropout': {'value': 0.15}},\n",
       "      {'dense': {'value': 50, 'activation': 'relu'}},\n",
       "      {'dense': {'value': 1}}],\n",
       "     'epochs': 5,\n",
       "     'batch': 8,\n",
       "     'loss': 'mean_squared_error',\n",
       "     'optimizer': 'rmsprop'}}]}}"
      ]
     },
     "execution_count": 5,
     "metadata": {},
     "output_type": "execute_result"
    }
   ],
   "source": [
    "config"
   ]
  },
  {
   "cell_type": "markdown",
   "metadata": {},
   "source": [
    "### STEP 1: PROCESS RAW DATA TO DATAFRAME"
   ]
  },
  {
   "cell_type": "code",
   "execution_count": 6,
   "metadata": {},
   "outputs": [],
   "source": [
    "dataframe = processing.create_dataframe(config)"
   ]
  },
  {
   "cell_type": "code",
   "execution_count": 7,
   "metadata": {},
   "outputs": [
    {
     "data": {
      "text/html": [
       "<div>\n",
       "<style scoped>\n",
       "    .dataframe tbody tr th:only-of-type {\n",
       "        vertical-align: middle;\n",
       "    }\n",
       "\n",
       "    .dataframe tbody tr th {\n",
       "        vertical-align: top;\n",
       "    }\n",
       "\n",
       "    .dataframe thead th {\n",
       "        text-align: right;\n",
       "    }\n",
       "</style>\n",
       "<table border=\"1\" class=\"dataframe\">\n",
       "  <thead>\n",
       "    <tr style=\"text-align: right;\">\n",
       "      <th></th>\n",
       "      <th>open</th>\n",
       "      <th>high</th>\n",
       "      <th>low</th>\n",
       "      <th>close</th>\n",
       "      <th>volume</th>\n",
       "      <th>label</th>\n",
       "    </tr>\n",
       "    <tr>\n",
       "      <th>Date_Timestamp</th>\n",
       "      <th></th>\n",
       "      <th></th>\n",
       "      <th></th>\n",
       "      <th></th>\n",
       "      <th></th>\n",
       "      <th></th>\n",
       "    </tr>\n",
       "  </thead>\n",
       "  <tbody>\n",
       "    <tr>\n",
       "      <th>2010-01-01</th>\n",
       "      <td>1.43327</td>\n",
       "      <td>1.43356</td>\n",
       "      <td>1.43207</td>\n",
       "      <td>1.43335</td>\n",
       "      <td>39761.000053</td>\n",
       "      <td>1.43141</td>\n",
       "    </tr>\n",
       "    <tr>\n",
       "      <th>2010-01-03</th>\n",
       "      <td>1.43024</td>\n",
       "      <td>1.43359</td>\n",
       "      <td>1.42951</td>\n",
       "      <td>1.43141</td>\n",
       "      <td>3001.600003</td>\n",
       "      <td>1.44244</td>\n",
       "    </tr>\n",
       "    <tr>\n",
       "      <th>2010-01-04</th>\n",
       "      <td>1.43143</td>\n",
       "      <td>1.44556</td>\n",
       "      <td>1.42559</td>\n",
       "      <td>1.44244</td>\n",
       "      <td>80019.400094</td>\n",
       "      <td>1.43634</td>\n",
       "    </tr>\n",
       "    <tr>\n",
       "      <th>2010-01-05</th>\n",
       "      <td>1.44238</td>\n",
       "      <td>1.44834</td>\n",
       "      <td>1.43445</td>\n",
       "      <td>1.43634</td>\n",
       "      <td>79887.100067</td>\n",
       "      <td>1.44005</td>\n",
       "    </tr>\n",
       "    <tr>\n",
       "      <th>2010-01-06</th>\n",
       "      <td>1.43638</td>\n",
       "      <td>1.44342</td>\n",
       "      <td>1.42807</td>\n",
       "      <td>1.44005</td>\n",
       "      <td>80971.800085</td>\n",
       "      <td>1.43155</td>\n",
       "    </tr>\n",
       "  </tbody>\n",
       "</table>\n",
       "</div>"
      ],
      "text/plain": [
       "                   open     high      low    close        volume    label\n",
       "Date_Timestamp                                                           \n",
       "2010-01-01      1.43327  1.43356  1.43207  1.43335  39761.000053  1.43141\n",
       "2010-01-03      1.43024  1.43359  1.42951  1.43141   3001.600003  1.44244\n",
       "2010-01-04      1.43143  1.44556  1.42559  1.44244  80019.400094  1.43634\n",
       "2010-01-05      1.44238  1.44834  1.43445  1.43634  79887.100067  1.44005\n",
       "2010-01-06      1.43638  1.44342  1.42807  1.44005  80971.800085  1.43155"
      ]
     },
     "execution_count": 7,
     "metadata": {},
     "output_type": "execute_result"
    }
   ],
   "source": [
    "dataframe.head(5)"
   ]
  },
  {
   "cell_type": "markdown",
   "metadata": {},
   "source": [
    "### STEP 2: ADD FEATURES TO DATAFRAME"
   ]
  },
  {
   "cell_type": "code",
   "execution_count": 8,
   "metadata": {},
   "outputs": [],
   "source": [
    "dataset = features.add(dataframe, config['features'])"
   ]
  },
  {
   "cell_type": "code",
   "execution_count": 9,
   "metadata": {},
   "outputs": [
    {
     "data": {
      "text/html": [
       "<div>\n",
       "<style scoped>\n",
       "    .dataframe tbody tr th:only-of-type {\n",
       "        vertical-align: middle;\n",
       "    }\n",
       "\n",
       "    .dataframe tbody tr th {\n",
       "        vertical-align: top;\n",
       "    }\n",
       "\n",
       "    .dataframe thead th {\n",
       "        text-align: right;\n",
       "    }\n",
       "</style>\n",
       "<table border=\"1\" class=\"dataframe\">\n",
       "  <thead>\n",
       "    <tr style=\"text-align: right;\">\n",
       "      <th></th>\n",
       "      <th>close</th>\n",
       "      <th>momentum</th>\n",
       "      <th>sd</th>\n",
       "      <th>label</th>\n",
       "    </tr>\n",
       "    <tr>\n",
       "      <th>Date_Timestamp</th>\n",
       "      <th></th>\n",
       "      <th></th>\n",
       "      <th></th>\n",
       "      <th></th>\n",
       "    </tr>\n",
       "  </thead>\n",
       "  <tbody>\n",
       "    <tr>\n",
       "      <th>2010-02-01</th>\n",
       "      <td>1.39200</td>\n",
       "      <td>-0.04649</td>\n",
       "      <td>14.842308</td>\n",
       "      <td>1.39737</td>\n",
       "    </tr>\n",
       "    <tr>\n",
       "      <th>2010-02-02</th>\n",
       "      <td>1.39737</td>\n",
       "      <td>-0.03928</td>\n",
       "      <td>13.972612</td>\n",
       "      <td>1.38969</td>\n",
       "    </tr>\n",
       "    <tr>\n",
       "      <th>2010-02-03</th>\n",
       "      <td>1.38969</td>\n",
       "      <td>-0.05070</td>\n",
       "      <td>11.302307</td>\n",
       "      <td>1.37395</td>\n",
       "    </tr>\n",
       "    <tr>\n",
       "      <th>2010-02-04</th>\n",
       "      <td>1.37395</td>\n",
       "      <td>-0.05393</td>\n",
       "      <td>11.014429</td>\n",
       "      <td>1.36763</td>\n",
       "    </tr>\n",
       "    <tr>\n",
       "      <th>2010-02-05</th>\n",
       "      <td>1.36763</td>\n",
       "      <td>-0.04356</td>\n",
       "      <td>11.636518</td>\n",
       "      <td>1.36409</td>\n",
       "    </tr>\n",
       "  </tbody>\n",
       "</table>\n",
       "</div>"
      ],
      "text/plain": [
       "                  close  momentum         sd    label\n",
       "Date_Timestamp                                       \n",
       "2010-02-01      1.39200  -0.04649  14.842308  1.39737\n",
       "2010-02-02      1.39737  -0.03928  13.972612  1.38969\n",
       "2010-02-03      1.38969  -0.05070  11.302307  1.37395\n",
       "2010-02-04      1.37395  -0.05393  11.014429  1.36763\n",
       "2010-02-05      1.36763  -0.04356  11.636518  1.36409"
      ]
     },
     "execution_count": 9,
     "metadata": {},
     "output_type": "execute_result"
    }
   ],
   "source": [
    "dataset.head(5)"
   ]
  },
  {
   "cell_type": "markdown",
   "metadata": {},
   "source": [
    "### STEP 3: SPLIT & SCALE PRIMARY DATASET"
   ]
  },
  {
   "cell_type": "code",
   "execution_count": 10,
   "metadata": {},
   "outputs": [],
   "source": [
    "features = dataset.loc[:, dataset.columns != 'label'].to_numpy()"
   ]
  },
  {
   "cell_type": "code",
   "execution_count": 11,
   "metadata": {},
   "outputs": [],
   "source": [
    "labels = dataset[['label']].to_numpy()"
   ]
  },
  {
   "cell_type": "code",
   "execution_count": 12,
   "metadata": {},
   "outputs": [],
   "source": [
    "primary, scaler = splitting.primary(features, labels, config['splitting']['train_split'])"
   ]
  },
  {
   "cell_type": "markdown",
   "metadata": {},
   "source": [
    "### STEP 4: CROSS VALIDATION FOLD SPLITTING"
   ]
  },
  {
   "cell_type": "code",
   "execution_count": 13,
   "metadata": {},
   "outputs": [],
   "source": [
    "folds = splitting.timeseries(primary['train'], config['splitting']['validation_folds'])"
   ]
  },
  {
   "cell_type": "markdown",
   "metadata": {},
   "source": [
    "### STEP 5: TRAIN REGRESSION MODELS USING CROSS VALIDATION"
   ]
  },
  {
   "cell_type": "code",
   "execution_count": 14,
   "metadata": {},
   "outputs": [],
   "source": [
    "ensemble = [None] * len(config['ensemble']['models'])"
   ]
  },
  {
   "cell_type": "code",
   "execution_count": 15,
   "metadata": {},
   "outputs": [
    {
     "name": "stdout",
     "output_type": "stream",
     "text": [
      "WARNING:tensorflow:From C:\\Users\\35840\\Anaconda3\\lib\\site-packages\\tensorflow_core\\python\\ops\\resource_variable_ops.py:1630: calling BaseResourceVariable.__init__ (from tensorflow.python.ops.resource_variable_ops) with constraint is deprecated and will be removed in a future version.\n",
      "Instructions for updating:\n",
      "If using Keras pass *_constraint arguments to layers.\n",
      "WARNING:tensorflow:From C:\\Users\\35840\\Anaconda3\\lib\\site-packages\\tensorflow_core\\python\\ops\\math_grad.py:1424: where (from tensorflow.python.ops.array_ops) is deprecated and will be removed in a future version.\n",
      "Instructions for updating:\n",
      "Use tf.where in 2.0, which has the same broadcast rule as np.where\n",
      "Train on 415 samples\n",
      "Epoch 1/5\n",
      "415/415 [==============================] - 1s 1ms/sample - loss: 0.8013\n",
      "Epoch 2/5\n",
      "415/415 [==============================] - 0s 237us/sample - loss: 0.0288\n",
      "Epoch 3/5\n",
      "415/415 [==============================] - 0s 232us/sample - loss: 0.0116\n",
      "Epoch 4/5\n",
      "415/415 [==============================] - 0s 236us/sample - loss: 0.0057\n",
      "Epoch 5/5\n",
      "415/415 [==============================] - 0s 231us/sample - loss: 0.0035\n",
      "Train on 828 samples\n",
      "Epoch 1/5\n",
      "828/828 [==============================] - 1s 882us/sample - loss: 0.4152\n",
      "Epoch 2/5\n",
      "828/828 [==============================] - 0s 241us/sample - loss: 0.0079\n",
      "Epoch 3/5\n",
      "828/828 [==============================] - 0s 240us/sample - loss: 0.0033\n",
      "Epoch 4/5\n",
      "828/828 [==============================] - 0s 246us/sample - loss: 0.0027\n",
      "Epoch 5/5\n",
      "828/828 [==============================] - 0s 245us/sample - loss: 0.0025\n",
      "Train on 1241 samples\n",
      "Epoch 1/5\n",
      "1241/1241 [==============================] - 1s 710us/sample - loss: 0.2082\n",
      "Epoch 2/5\n",
      "1241/1241 [==============================] - 0s 235us/sample - loss: 0.0035\n",
      "Epoch 3/5\n",
      "1241/1241 [==============================] - 0s 239us/sample - loss: 0.0025\n",
      "Epoch 4/5\n",
      "1241/1241 [==============================] - 0s 239us/sample - loss: 0.0020\n",
      "Epoch 5/5\n",
      "1241/1241 [==============================] - 0s 236us/sample - loss: 0.0016\n",
      "Train on 1654 samples\n",
      "Epoch 1/5\n",
      "1654/1654 [==============================] - 1s 648us/sample - loss: 0.1243\n",
      "Epoch 2/5\n",
      "1654/1654 [==============================] - 0s 237us/sample - loss: 0.0027\n",
      "Epoch 3/5\n",
      "1654/1654 [==============================] - 0s 240us/sample - loss: 0.0021\n",
      "Epoch 4/5\n",
      "1654/1654 [==============================] - 0s 238us/sample - loss: 0.0016\n",
      "Epoch 5/5\n",
      "1654/1654 [==============================] - 0s 239us/sample - loss: 0.0013\n",
      "Train on 2067 samples\n",
      "Epoch 1/5\n",
      "2067/2067 [==============================] - 1s 607us/sample - loss: 0.1435\n",
      "Epoch 2/5\n",
      "2067/2067 [==============================] - 0s 242us/sample - loss: 0.0024\n",
      "Epoch 3/5\n",
      "2067/2067 [==============================] - 1s 248us/sample - loss: 0.0016\n",
      "Epoch 4/5\n",
      "2067/2067 [==============================] - 1s 244us/sample - loss: 0.0013\n",
      "Epoch 5/5\n",
      "2067/2067 [==============================] - 0s 241us/sample - loss: 0.0011\n"
     ]
    }
   ],
   "source": [
    "# LOOP THROUGH REQUESTED MOEDLS\n",
    "for index, item in enumerate(config['ensemble']['models']):\n",
    "    \n",
    "    # MODEL PROPS\n",
    "    name = list(item)[0]\n",
    "    settings = item[name]\n",
    "    \n",
    "    # FOLD PREDICTIONS\n",
    "    temp_predictions = []\n",
    "    temp_labels = []\n",
    "    \n",
    "    # TRAIN & PREDICT WITH EACH FOLD\n",
    "    for fold in folds:\n",
    "        predictions = training.start(fold, name, settings)\n",
    "        \n",
    "        # APPEND TO COLLECTIONS\n",
    "        temp_predictions.append(predictions)\n",
    "        temp_labels.append(fold['test']['labels'])\n",
    "        \n",
    "    # APPEND RESULTS TO ENSEMBLE\n",
    "    ensemble[index] = {\n",
    "        'name': name + '_' + str(index),\n",
    "        'predictions': np.concatenate(temp_predictions),\n",
    "        'labels': np.concatenate(temp_labels)\n",
    "    }"
   ]
  },
  {
   "cell_type": "markdown",
   "metadata": {},
   "source": [
    "### STEP 6: CONSTRUCT TABLE FOR ENSEMBLE PREDICTIONS"
   ]
  },
  {
   "cell_type": "code",
   "execution_count": 16,
   "metadata": {},
   "outputs": [],
   "source": [
    "ensemble_table = table.ensemble(ensemble)"
   ]
  },
  {
   "cell_type": "code",
   "execution_count": 17,
   "metadata": {},
   "outputs": [
    {
     "data": {
      "text/html": [
       "<div>\n",
       "<style scoped>\n",
       "    .dataframe tbody tr th:only-of-type {\n",
       "        vertical-align: middle;\n",
       "    }\n",
       "\n",
       "    .dataframe tbody tr th {\n",
       "        vertical-align: top;\n",
       "    }\n",
       "\n",
       "    .dataframe thead th {\n",
       "        text-align: right;\n",
       "    }\n",
       "</style>\n",
       "<table border=\"1\" class=\"dataframe\">\n",
       "  <thead>\n",
       "    <tr style=\"text-align: right;\">\n",
       "      <th></th>\n",
       "      <th>linreg_0</th>\n",
       "      <th>linreg_1</th>\n",
       "      <th>linreg_2</th>\n",
       "      <th>linreg_3</th>\n",
       "      <th>linreg_4</th>\n",
       "      <th>lstm_5</th>\n",
       "      <th>label</th>\n",
       "    </tr>\n",
       "  </thead>\n",
       "  <tbody>\n",
       "    <tr>\n",
       "      <th>2060</th>\n",
       "      <td>1.199858</td>\n",
       "      <td>1.199858</td>\n",
       "      <td>1.199858</td>\n",
       "      <td>1.199858</td>\n",
       "      <td>1.199858</td>\n",
       "      <td>1.191003</td>\n",
       "      <td>1.20106</td>\n",
       "    </tr>\n",
       "    <tr>\n",
       "      <th>2061</th>\n",
       "      <td>1.201056</td>\n",
       "      <td>1.201056</td>\n",
       "      <td>1.201056</td>\n",
       "      <td>1.201056</td>\n",
       "      <td>1.201056</td>\n",
       "      <td>1.191208</td>\n",
       "      <td>1.20614</td>\n",
       "    </tr>\n",
       "    <tr>\n",
       "      <th>2062</th>\n",
       "      <td>1.206117</td>\n",
       "      <td>1.206117</td>\n",
       "      <td>1.206117</td>\n",
       "      <td>1.206117</td>\n",
       "      <td>1.206117</td>\n",
       "      <td>1.195975</td>\n",
       "      <td>1.20107</td>\n",
       "    </tr>\n",
       "    <tr>\n",
       "      <th>2063</th>\n",
       "      <td>1.201070</td>\n",
       "      <td>1.201070</td>\n",
       "      <td>1.201070</td>\n",
       "      <td>1.201070</td>\n",
       "      <td>1.201070</td>\n",
       "      <td>1.192323</td>\n",
       "      <td>1.20664</td>\n",
       "    </tr>\n",
       "    <tr>\n",
       "      <th>2064</th>\n",
       "      <td>1.206629</td>\n",
       "      <td>1.206629</td>\n",
       "      <td>1.206629</td>\n",
       "      <td>1.206629</td>\n",
       "      <td>1.206629</td>\n",
       "      <td>1.197794</td>\n",
       "      <td>1.20304</td>\n",
       "    </tr>\n",
       "  </tbody>\n",
       "</table>\n",
       "</div>"
      ],
      "text/plain": [
       "      linreg_0  linreg_1  linreg_2  linreg_3  linreg_4    lstm_5    label\n",
       "2060  1.199858  1.199858  1.199858  1.199858  1.199858  1.191003  1.20106\n",
       "2061  1.201056  1.201056  1.201056  1.201056  1.201056  1.191208  1.20614\n",
       "2062  1.206117  1.206117  1.206117  1.206117  1.206117  1.195975  1.20107\n",
       "2063  1.201070  1.201070  1.201070  1.201070  1.201070  1.192323  1.20664\n",
       "2064  1.206629  1.206629  1.206629  1.206629  1.206629  1.197794  1.20304"
      ]
     },
     "execution_count": 17,
     "metadata": {},
     "output_type": "execute_result"
    }
   ],
   "source": [
    "ensemble_table.tail(5)"
   ]
  },
  {
   "cell_type": "markdown",
   "metadata": {},
   "source": [
    "### STEP 7: CLASSIFY LABELS"
   ]
  },
  {
   "cell_type": "code",
   "execution_count": 18,
   "metadata": {},
   "outputs": [],
   "source": [
    "label_names = {\n",
    "    'buy': 0,\n",
    "    'sell': 1,\n",
    "    'hold': 2\n",
    "}"
   ]
  },
  {
   "cell_type": "code",
   "execution_count": 19,
   "metadata": {},
   "outputs": [],
   "source": [
    "threshold = 0.003"
   ]
  },
  {
   "cell_type": "code",
   "execution_count": 20,
   "metadata": {},
   "outputs": [],
   "source": [
    "classification_dataset = decide.label({\n",
    "    'predictions': ensemble_table,\n",
    "    'label_names': label_names,\n",
    "    'threshold': threshold\n",
    "})"
   ]
  },
  {
   "cell_type": "markdown",
   "metadata": {},
   "source": [
    "#### DECISION BREAKDOWN"
   ]
  },
  {
   "cell_type": "code",
   "execution_count": 21,
   "metadata": {},
   "outputs": [
    {
     "data": {
      "text/plain": [
       "3    0.548668\n",
       "2    0.232930\n",
       "1    0.218402\n",
       "Name: label, dtype: float64"
      ]
     },
     "execution_count": 21,
     "metadata": {},
     "output_type": "execute_result"
    }
   ],
   "source": [
    "classification_dataset['label'].value_counts(normalize=True)"
   ]
  },
  {
   "cell_type": "code",
   "execution_count": 22,
   "metadata": {},
   "outputs": [
    {
     "data": {
      "text/html": [
       "<div>\n",
       "<style scoped>\n",
       "    .dataframe tbody tr th:only-of-type {\n",
       "        vertical-align: middle;\n",
       "    }\n",
       "\n",
       "    .dataframe tbody tr th {\n",
       "        vertical-align: top;\n",
       "    }\n",
       "\n",
       "    .dataframe thead th {\n",
       "        text-align: right;\n",
       "    }\n",
       "</style>\n",
       "<table border=\"1\" class=\"dataframe\">\n",
       "  <thead>\n",
       "    <tr style=\"text-align: right;\">\n",
       "      <th></th>\n",
       "      <th>linreg_0</th>\n",
       "      <th>linreg_1</th>\n",
       "      <th>linreg_2</th>\n",
       "      <th>linreg_3</th>\n",
       "      <th>linreg_4</th>\n",
       "      <th>lstm_5</th>\n",
       "      <th>label</th>\n",
       "    </tr>\n",
       "  </thead>\n",
       "  <tbody>\n",
       "    <tr>\n",
       "      <th>0</th>\n",
       "      <td>1.440334</td>\n",
       "      <td>1.440334</td>\n",
       "      <td>1.440334</td>\n",
       "      <td>1.440334</td>\n",
       "      <td>1.440334</td>\n",
       "      <td>1.534178</td>\n",
       "      <td>3</td>\n",
       "    </tr>\n",
       "    <tr>\n",
       "      <th>1</th>\n",
       "      <td>1.432932</td>\n",
       "      <td>1.432932</td>\n",
       "      <td>1.432932</td>\n",
       "      <td>1.432932</td>\n",
       "      <td>1.432932</td>\n",
       "      <td>1.505156</td>\n",
       "      <td>1</td>\n",
       "    </tr>\n",
       "    <tr>\n",
       "      <th>2</th>\n",
       "      <td>1.447101</td>\n",
       "      <td>1.447101</td>\n",
       "      <td>1.447101</td>\n",
       "      <td>1.447101</td>\n",
       "      <td>1.447101</td>\n",
       "      <td>1.520116</td>\n",
       "      <td>1</td>\n",
       "    </tr>\n",
       "    <tr>\n",
       "      <th>3</th>\n",
       "      <td>1.461763</td>\n",
       "      <td>1.461763</td>\n",
       "      <td>1.461763</td>\n",
       "      <td>1.461763</td>\n",
       "      <td>1.461763</td>\n",
       "      <td>1.548405</td>\n",
       "      <td>3</td>\n",
       "    </tr>\n",
       "    <tr>\n",
       "      <th>4</th>\n",
       "      <td>1.463757</td>\n",
       "      <td>1.463757</td>\n",
       "      <td>1.463757</td>\n",
       "      <td>1.463757</td>\n",
       "      <td>1.463757</td>\n",
       "      <td>1.541343</td>\n",
       "      <td>2</td>\n",
       "    </tr>\n",
       "  </tbody>\n",
       "</table>\n",
       "</div>"
      ],
      "text/plain": [
       "   linreg_0  linreg_1  linreg_2  linreg_3  linreg_4    lstm_5  label\n",
       "0  1.440334  1.440334  1.440334  1.440334  1.440334  1.534178      3\n",
       "1  1.432932  1.432932  1.432932  1.432932  1.432932  1.505156      1\n",
       "2  1.447101  1.447101  1.447101  1.447101  1.447101  1.520116      1\n",
       "3  1.461763  1.461763  1.461763  1.461763  1.461763  1.548405      3\n",
       "4  1.463757  1.463757  1.463757  1.463757  1.463757  1.541343      2"
      ]
     },
     "execution_count": 22,
     "metadata": {},
     "output_type": "execute_result"
    }
   ],
   "source": [
    "classification_dataset.head(5)"
   ]
  },
  {
   "cell_type": "markdown",
   "metadata": {},
   "source": [
    "#### DSFDSF"
   ]
  },
  {
   "cell_type": "code",
   "execution_count": 23,
   "metadata": {},
   "outputs": [],
   "source": [
    "xaxa = classification_dataset[['linreg_0', 'linreg_1', 'linreg_2', 'linreg_3']].to_numpy()"
   ]
  },
  {
   "cell_type": "code",
   "execution_count": 24,
   "metadata": {},
   "outputs": [
    {
     "data": {
      "text/plain": [
       "array([[1.44033369, 1.44033369, 1.44033369, 1.44033369],\n",
       "       [1.4329319 , 1.4329319 , 1.4329319 , 1.4329319 ],\n",
       "       [1.44710112, 1.44710112, 1.44710112, 1.44710112],\n",
       "       ...,\n",
       "       [1.20611703, 1.20611703, 1.20611703, 1.20611703],\n",
       "       [1.20107019, 1.20107019, 1.20107019, 1.20107019],\n",
       "       [1.20662924, 1.20662924, 1.20662924, 1.20662924]])"
      ]
     },
     "execution_count": 24,
     "metadata": {},
     "output_type": "execute_result"
    }
   ],
   "source": [
    "xaxa"
   ]
  },
  {
   "cell_type": "code",
   "execution_count": 25,
   "metadata": {},
   "outputs": [
    {
     "data": {
      "text/plain": [
       "(2065, 4)"
      ]
     },
     "execution_count": 25,
     "metadata": {},
     "output_type": "execute_result"
    }
   ],
   "source": [
    "xaxa.shape"
   ]
  },
  {
   "cell_type": "code",
   "execution_count": 26,
   "metadata": {
    "scrolled": false
   },
   "outputs": [],
   "source": [
    "    reshaped = xaxa.reshape(xaxa.shape[0], 1, xaxa.shape[1])"
   ]
  },
  {
   "cell_type": "code",
   "execution_count": 27,
   "metadata": {},
   "outputs": [
    {
     "data": {
      "text/plain": [
       "(2065, 1, 4)"
      ]
     },
     "execution_count": 27,
     "metadata": {},
     "output_type": "execute_result"
    }
   ],
   "source": [
    "reshaped.shape"
   ]
  },
  {
   "cell_type": "markdown",
   "metadata": {},
   "source": [
    "#### FOO"
   ]
  },
  {
   "cell_type": "code",
   "execution_count": 28,
   "metadata": {},
   "outputs": [],
   "source": [
    "import math\n",
    "from sklearn.preprocessing import MinMaxScaler"
   ]
  },
  {
   "cell_type": "code",
   "execution_count": 29,
   "metadata": {},
   "outputs": [
    {
     "ename": "KeyError",
     "evalue": "\"None of [Index(['predictions'], dtype='object')] are in the [columns]\"",
     "output_type": "error",
     "traceback": [
      "\u001b[1;31m---------------------------------------------------------------------------\u001b[0m",
      "\u001b[1;31mKeyError\u001b[0m                                  Traceback (most recent call last)",
      "\u001b[1;32m<ipython-input-29-ad50faefac3c>\u001b[0m in \u001b[0;36m<module>\u001b[1;34m\u001b[0m\n\u001b[1;32m----> 1\u001b[1;33m \u001b[0mfeatures\u001b[0m \u001b[1;33m=\u001b[0m \u001b[0mclassification_dataset\u001b[0m\u001b[1;33m[\u001b[0m\u001b[1;33m[\u001b[0m\u001b[1;34m'predictions'\u001b[0m\u001b[1;33m]\u001b[0m\u001b[1;33m]\u001b[0m\u001b[1;33m\u001b[0m\u001b[1;33m\u001b[0m\u001b[0m\n\u001b[0m",
      "\u001b[1;32m~\\Anaconda3\\lib\\site-packages\\pandas\\core\\frame.py\u001b[0m in \u001b[0;36m__getitem__\u001b[1;34m(self, key)\u001b[0m\n\u001b[0;32m   2906\u001b[0m             \u001b[1;32mif\u001b[0m \u001b[0mis_iterator\u001b[0m\u001b[1;33m(\u001b[0m\u001b[0mkey\u001b[0m\u001b[1;33m)\u001b[0m\u001b[1;33m:\u001b[0m\u001b[1;33m\u001b[0m\u001b[1;33m\u001b[0m\u001b[0m\n\u001b[0;32m   2907\u001b[0m                 \u001b[0mkey\u001b[0m \u001b[1;33m=\u001b[0m \u001b[0mlist\u001b[0m\u001b[1;33m(\u001b[0m\u001b[0mkey\u001b[0m\u001b[1;33m)\u001b[0m\u001b[1;33m\u001b[0m\u001b[1;33m\u001b[0m\u001b[0m\n\u001b[1;32m-> 2908\u001b[1;33m             \u001b[0mindexer\u001b[0m \u001b[1;33m=\u001b[0m \u001b[0mself\u001b[0m\u001b[1;33m.\u001b[0m\u001b[0mloc\u001b[0m\u001b[1;33m.\u001b[0m\u001b[0m_get_listlike_indexer\u001b[0m\u001b[1;33m(\u001b[0m\u001b[0mkey\u001b[0m\u001b[1;33m,\u001b[0m \u001b[0maxis\u001b[0m\u001b[1;33m=\u001b[0m\u001b[1;36m1\u001b[0m\u001b[1;33m,\u001b[0m \u001b[0mraise_missing\u001b[0m\u001b[1;33m=\u001b[0m\u001b[1;32mTrue\u001b[0m\u001b[1;33m)\u001b[0m\u001b[1;33m[\u001b[0m\u001b[1;36m1\u001b[0m\u001b[1;33m]\u001b[0m\u001b[1;33m\u001b[0m\u001b[1;33m\u001b[0m\u001b[0m\n\u001b[0m\u001b[0;32m   2909\u001b[0m \u001b[1;33m\u001b[0m\u001b[0m\n\u001b[0;32m   2910\u001b[0m         \u001b[1;31m# take() does not accept boolean indexers\u001b[0m\u001b[1;33m\u001b[0m\u001b[1;33m\u001b[0m\u001b[1;33m\u001b[0m\u001b[0m\n",
      "\u001b[1;32m~\\Anaconda3\\lib\\site-packages\\pandas\\core\\indexing.py\u001b[0m in \u001b[0;36m_get_listlike_indexer\u001b[1;34m(self, key, axis, raise_missing)\u001b[0m\n\u001b[0;32m   1252\u001b[0m             \u001b[0mkeyarr\u001b[0m\u001b[1;33m,\u001b[0m \u001b[0mindexer\u001b[0m\u001b[1;33m,\u001b[0m \u001b[0mnew_indexer\u001b[0m \u001b[1;33m=\u001b[0m \u001b[0max\u001b[0m\u001b[1;33m.\u001b[0m\u001b[0m_reindex_non_unique\u001b[0m\u001b[1;33m(\u001b[0m\u001b[0mkeyarr\u001b[0m\u001b[1;33m)\u001b[0m\u001b[1;33m\u001b[0m\u001b[1;33m\u001b[0m\u001b[0m\n\u001b[0;32m   1253\u001b[0m \u001b[1;33m\u001b[0m\u001b[0m\n\u001b[1;32m-> 1254\u001b[1;33m         \u001b[0mself\u001b[0m\u001b[1;33m.\u001b[0m\u001b[0m_validate_read_indexer\u001b[0m\u001b[1;33m(\u001b[0m\u001b[0mkeyarr\u001b[0m\u001b[1;33m,\u001b[0m \u001b[0mindexer\u001b[0m\u001b[1;33m,\u001b[0m \u001b[0maxis\u001b[0m\u001b[1;33m,\u001b[0m \u001b[0mraise_missing\u001b[0m\u001b[1;33m=\u001b[0m\u001b[0mraise_missing\u001b[0m\u001b[1;33m)\u001b[0m\u001b[1;33m\u001b[0m\u001b[1;33m\u001b[0m\u001b[0m\n\u001b[0m\u001b[0;32m   1255\u001b[0m         \u001b[1;32mreturn\u001b[0m \u001b[0mkeyarr\u001b[0m\u001b[1;33m,\u001b[0m \u001b[0mindexer\u001b[0m\u001b[1;33m\u001b[0m\u001b[1;33m\u001b[0m\u001b[0m\n\u001b[0;32m   1256\u001b[0m \u001b[1;33m\u001b[0m\u001b[0m\n",
      "\u001b[1;32m~\\Anaconda3\\lib\\site-packages\\pandas\\core\\indexing.py\u001b[0m in \u001b[0;36m_validate_read_indexer\u001b[1;34m(self, key, indexer, axis, raise_missing)\u001b[0m\n\u001b[0;32m   1296\u001b[0m             \u001b[1;32mif\u001b[0m \u001b[0mmissing\u001b[0m \u001b[1;33m==\u001b[0m \u001b[0mlen\u001b[0m\u001b[1;33m(\u001b[0m\u001b[0mindexer\u001b[0m\u001b[1;33m)\u001b[0m\u001b[1;33m:\u001b[0m\u001b[1;33m\u001b[0m\u001b[1;33m\u001b[0m\u001b[0m\n\u001b[0;32m   1297\u001b[0m                 \u001b[0maxis_name\u001b[0m \u001b[1;33m=\u001b[0m \u001b[0mself\u001b[0m\u001b[1;33m.\u001b[0m\u001b[0mobj\u001b[0m\u001b[1;33m.\u001b[0m\u001b[0m_get_axis_name\u001b[0m\u001b[1;33m(\u001b[0m\u001b[0maxis\u001b[0m\u001b[1;33m)\u001b[0m\u001b[1;33m\u001b[0m\u001b[1;33m\u001b[0m\u001b[0m\n\u001b[1;32m-> 1298\u001b[1;33m                 \u001b[1;32mraise\u001b[0m \u001b[0mKeyError\u001b[0m\u001b[1;33m(\u001b[0m\u001b[1;34mf\"None of [{key}] are in the [{axis_name}]\"\u001b[0m\u001b[1;33m)\u001b[0m\u001b[1;33m\u001b[0m\u001b[1;33m\u001b[0m\u001b[0m\n\u001b[0m\u001b[0;32m   1299\u001b[0m \u001b[1;33m\u001b[0m\u001b[0m\n\u001b[0;32m   1300\u001b[0m             \u001b[1;31m# We (temporarily) allow for some missing keys with .loc, except in\u001b[0m\u001b[1;33m\u001b[0m\u001b[1;33m\u001b[0m\u001b[1;33m\u001b[0m\u001b[0m\n",
      "\u001b[1;31mKeyError\u001b[0m: \"None of [Index(['predictions'], dtype='object')] are in the [columns]\""
     ]
    }
   ],
   "source": [
    "features = classification_dataset[['predictions']]"
   ]
  },
  {
   "cell_type": "code",
   "execution_count": null,
   "metadata": {},
   "outputs": [],
   "source": [
    "labels = classification_dataset['label'].to_numpy()"
   ]
  },
  {
   "cell_type": "code",
   "execution_count": null,
   "metadata": {},
   "outputs": [],
   "source": [
    "scaler = MinMaxScaler(feature_range=(0, 1))"
   ]
  },
  {
   "cell_type": "code",
   "execution_count": null,
   "metadata": {},
   "outputs": [],
   "source": [
    "limit = math.ceil(len(features) * 0.8)"
   ]
  },
  {
   "cell_type": "code",
   "execution_count": null,
   "metadata": {
    "scrolled": false
   },
   "outputs": [],
   "source": [
    "x_train = scaler.fit_transform(features[:limit])\n",
    "y_train = labels[:limit].ravel()"
   ]
  },
  {
   "cell_type": "code",
   "execution_count": null,
   "metadata": {},
   "outputs": [],
   "source": [
    "y_train[:50]"
   ]
  },
  {
   "cell_type": "code",
   "execution_count": null,
   "metadata": {},
   "outputs": [],
   "source": [
    "x_test = scaler.transform(features[limit:])\n",
    "y_test = labels[limit:].ravel()"
   ]
  },
  {
   "cell_type": "code",
   "execution_count": null,
   "metadata": {},
   "outputs": [],
   "source": [
    "from sklearn.svm import SVC\n",
    "from sklearn.linear_model import LogisticRegression\n",
    "import numpy as np"
   ]
  },
  {
   "cell_type": "code",
   "execution_count": null,
   "metadata": {},
   "outputs": [],
   "source": [
    "model = LogisticRegression(random_state=0, class_weight='balanced')\n",
    "model.fit(x_train, y_train)"
   ]
  },
  {
   "cell_type": "code",
   "execution_count": null,
   "metadata": {},
   "outputs": [],
   "source": [
    "model.score(x_test, y_test)"
   ]
  },
  {
   "cell_type": "code",
   "execution_count": null,
   "metadata": {},
   "outputs": [],
   "source": [
    "predictions = model.predict(x_test)"
   ]
  },
  {
   "cell_type": "code",
   "execution_count": null,
   "metadata": {},
   "outputs": [],
   "source": [
    "predictions"
   ]
  },
  {
   "cell_type": "code",
   "execution_count": null,
   "metadata": {},
   "outputs": [],
   "source": [
    "np.array(y_test)"
   ]
  },
  {
   "cell_type": "code",
   "execution_count": null,
   "metadata": {},
   "outputs": [],
   "source": []
  },
  {
   "cell_type": "code",
   "execution_count": null,
   "metadata": {},
   "outputs": [],
   "source": []
  },
  {
   "cell_type": "code",
   "execution_count": null,
   "metadata": {},
   "outputs": [],
   "source": []
  },
  {
   "cell_type": "code",
   "execution_count": null,
   "metadata": {},
   "outputs": [],
   "source": []
  },
  {
   "cell_type": "code",
   "execution_count": null,
   "metadata": {},
   "outputs": [],
   "source": []
  },
  {
   "cell_type": "code",
   "execution_count": null,
   "metadata": {},
   "outputs": [],
   "source": []
  },
  {
   "cell_type": "code",
   "execution_count": null,
   "metadata": {},
   "outputs": [],
   "source": []
  },
  {
   "cell_type": "code",
   "execution_count": null,
   "metadata": {},
   "outputs": [],
   "source": []
  },
  {
   "cell_type": "code",
   "execution_count": null,
   "metadata": {},
   "outputs": [],
   "source": []
  },
  {
   "cell_type": "code",
   "execution_count": null,
   "metadata": {},
   "outputs": [],
   "source": []
  },
  {
   "cell_type": "code",
   "execution_count": null,
   "metadata": {},
   "outputs": [],
   "source": []
  },
  {
   "cell_type": "code",
   "execution_count": null,
   "metadata": {},
   "outputs": [],
   "source": []
  },
  {
   "cell_type": "code",
   "execution_count": null,
   "metadata": {},
   "outputs": [],
   "source": []
  }
 ],
 "metadata": {
  "kernelspec": {
   "display_name": "Python 3",
   "language": "python",
   "name": "python3"
  },
  "language_info": {
   "codemirror_mode": {
    "name": "ipython",
    "version": 3
   },
   "file_extension": ".py",
   "mimetype": "text/x-python",
   "name": "python",
   "nbconvert_exporter": "python",
   "pygments_lexer": "ipython3",
   "version": "3.7.9"
  }
 },
 "nbformat": 4,
 "nbformat_minor": 4
}
