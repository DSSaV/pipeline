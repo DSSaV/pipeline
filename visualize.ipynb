{
 "cells": [
  {
   "cell_type": "code",
   "execution_count": 3,
   "metadata": {},
   "outputs": [],
   "source": [
    "import plotly.graph_objs as go"
   ]
  },
  {
   "cell_type": "code",
   "execution_count": 4,
   "metadata": {},
   "outputs": [],
   "source": [
    "def differences(dataframe):\n",
    "    \n",
    "    # COLOR SELECTIONS\n",
    "    colors = ['#ff6666', '#1c8c44', '#5e5ba4', '#8b3c9d', '#767468', '#ffc500', '#ff9400']\n",
    "    \n",
    "    # PLACEHOLDER CONTAINER\n",
    "    structure = []\n",
    "    \n",
    "    # CREATE LINE FOR EACH COLUMN IN THE DATAFRAME\n",
    "    for index, name in enumerate(dataframe.columns):\n",
    "        structure.append(go.Scatter(\n",
    "            mode='lines',\n",
    "            x=dataframe.index,\n",
    "            y=dataframe[name],\n",
    "            line=dict(width=1),\n",
    "            marker=dict(color = colors[index]),\n",
    "            opacity=0.8,\n",
    "            yaxis = 'y2',\n",
    "            name = name\n",
    "        ))\n",
    "\n",
    "    # LAYOUT PARAMS\n",
    "    layout = go.Layout(\n",
    "        yaxis = dict(domain = [0, 0.2], showticklabels = False),\n",
    "        yaxis2 = dict(domain = [0.2, 1.0])\n",
    "    )\n",
    "    \n",
    "    # CREATE THE FIGURE\n",
    "    fig = go.Figure(data = structure, layout = layout)\n",
    "    \n",
    "    # ADD BUTTON MAP\n",
    "    fig.update_layout(\n",
    "        xaxis=dict(\n",
    "            rangeselector=dict(\n",
    "                buttons=list([\n",
    "                    dict(count=1,\n",
    "                         label=\"1m\",\n",
    "                         step=\"month\",\n",
    "                         stepmode=\"backward\"),\n",
    "                    dict(count=6,\n",
    "                         label=\"6m\",\n",
    "                         step=\"month\",\n",
    "                         stepmode=\"backward\"),\n",
    "                    dict(count=1,\n",
    "                         label=\"YTD\",\n",
    "                         step=\"year\",\n",
    "                         stepmode=\"todate\"),\n",
    "                    dict(count=1,\n",
    "                         label=\"1y\",\n",
    "                         step=\"year\",\n",
    "                         stepmode=\"backward\"),\n",
    "                    dict(step=\"all\")\n",
    "                ])\n",
    "            ),\n",
    "            rangeslider=dict(\n",
    "                visible=True\n",
    "            ),\n",
    "            type=\"date\"\n",
    "        )\n",
    "    )\n",
    "    \n",
    "    # FINALLY SHOW THE GRAPH\n",
    "    fig.show()"
   ]
  },
  {
   "cell_type": "code",
   "execution_count": null,
   "metadata": {},
   "outputs": [],
   "source": []
  }
 ],
 "metadata": {
  "kernelspec": {
   "display_name": "Python 3",
   "language": "python",
   "name": "python3"
  },
  "language_info": {
   "codemirror_mode": {
    "name": "ipython",
    "version": 3
   },
   "file_extension": ".py",
   "mimetype": "text/x-python",
   "name": "python",
   "nbconvert_exporter": "python",
   "pygments_lexer": "ipython3",
   "version": "3.7.9"
  }
 },
 "nbformat": 4,
 "nbformat_minor": 4
}
