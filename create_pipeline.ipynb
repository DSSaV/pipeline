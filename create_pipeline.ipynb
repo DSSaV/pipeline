{
 "cells": [
  {
   "cell_type": "markdown",
   "metadata": {},
   "source": [
    "### IMPORTS"
   ]
  },
  {
   "cell_type": "code",
   "execution_count": 1,
   "metadata": {},
   "outputs": [],
   "source": [
    "import ipynb.fs.full.processing as processing\n",
    "import ipynb.fs.full.training as training\n",
    "import ipynb.fs.full.storage as storage\n",
    "import ipynb.fs.full.misc as misc\n",
    "import ipynb.fs.full.splitting as splitting\n",
    "import ipynb.fs.full.features as features\n",
    "import ipynb.fs.full.ensemble as ensemble"
   ]
  },
  {
   "cell_type": "markdown",
   "metadata": {},
   "source": [
    "### SERIALIZE THE YAML CONFIG"
   ]
  },
  {
   "cell_type": "code",
   "execution_count": 2,
   "metadata": {},
   "outputs": [],
   "source": [
    "config = storage.load_yaml('extra/config.yaml')"
   ]
  },
  {
   "cell_type": "code",
   "execution_count": 3,
   "metadata": {},
   "outputs": [
    {
     "data": {
      "text/plain": [
       "{'data': 'extra/dataset.csv',\n",
       " 'processing': {'resample': True,\n",
       "  'time': 'D',\n",
       "  'aggregate': {'Open': 'first',\n",
       "   'High': 'max',\n",
       "   'Low': 'min',\n",
       "   'Close': 'last',\n",
       "   'Volume': 'sum'},\n",
       "  'label': {'from': 'Close', 'shift': 1}},\n",
       " 'features': {'category': 'all', 'window': 14},\n",
       " 'splitting': {'train_split': 0.8, 'validation_folds': 5},\n",
       " 'regression_ensemble': {'models': [{'linreg': None},\n",
       "   {'lstm': {'morph': {'window': 4, 'batch': 30},\n",
       "     'layers': [{'lstm': {'units': 120}},\n",
       "      {'dropout': {'rate': 0.15}},\n",
       "      {'dense': {'units': 50, 'activation': 'relu'}},\n",
       "      {'dense': {'units': 1}}],\n",
       "     'epochs': 15,\n",
       "     'loss': 'mean_squared_error',\n",
       "     'optimizer': 'rmsprop'}},\n",
       "   {'tcn': {'morph': {'window': 4, 'batch': 30},\n",
       "     'layers': [{'tcn': {'nb_filters': 64,\n",
       "        'nb_stacks': 1,\n",
       "        'dilations': [1, 2, 4, 8, 16, 32],\n",
       "        'padding': 'causal',\n",
       "        'use_skip_connections': False,\n",
       "        'dropout_rate': 0.1,\n",
       "        'return_sequences': False,\n",
       "        'activation': 'relu'}},\n",
       "      {'dropout': {'rate': 0.05}},\n",
       "      {'dense': {'units': 50, 'activation': 'relu'}},\n",
       "      {'dense': {'units': 1}}],\n",
       "     'epochs': 3,\n",
       "     'loss': 'mean_squared_error',\n",
       "     'optimizer': 'adam'}}]},\n",
       " 'classification_ensemble': {'decision': {'upper': 0.75, 'lower': 0.25},\n",
       "  'models': [{'logreg': {'static': {'random_state': 0,\n",
       "      'class_weight': 'balanced'}}},\n",
       "   {'svc': {'static': {'decision_function_shape': 'ovo'},\n",
       "     'grid_search': {'kernel': ['linear', 'rbf'], 'C': [1, 150]}}}]}}"
      ]
     },
     "execution_count": 3,
     "metadata": {},
     "output_type": "execute_result"
    }
   ],
   "source": [
    "config"
   ]
  },
  {
   "cell_type": "markdown",
   "metadata": {},
   "source": [
    "### STEP 1: PROCESS RAW DATA TO DATAFRAME"
   ]
  },
  {
   "cell_type": "code",
   "execution_count": 4,
   "metadata": {},
   "outputs": [],
   "source": [
    "dataframe = processing.create_dataframe(config)"
   ]
  },
  {
   "cell_type": "code",
   "execution_count": 5,
   "metadata": {},
   "outputs": [
    {
     "data": {
      "text/html": [
       "<div>\n",
       "<style scoped>\n",
       "    .dataframe tbody tr th:only-of-type {\n",
       "        vertical-align: middle;\n",
       "    }\n",
       "\n",
       "    .dataframe tbody tr th {\n",
       "        vertical-align: top;\n",
       "    }\n",
       "\n",
       "    .dataframe thead th {\n",
       "        text-align: right;\n",
       "    }\n",
       "</style>\n",
       "<table border=\"1\" class=\"dataframe\">\n",
       "  <thead>\n",
       "    <tr style=\"text-align: right;\">\n",
       "      <th></th>\n",
       "      <th>Open</th>\n",
       "      <th>High</th>\n",
       "      <th>Low</th>\n",
       "      <th>Close</th>\n",
       "      <th>Volume</th>\n",
       "      <th>label</th>\n",
       "    </tr>\n",
       "    <tr>\n",
       "      <th>Date_Timestamp</th>\n",
       "      <th></th>\n",
       "      <th></th>\n",
       "      <th></th>\n",
       "      <th></th>\n",
       "      <th></th>\n",
       "      <th></th>\n",
       "    </tr>\n",
       "  </thead>\n",
       "  <tbody>\n",
       "    <tr>\n",
       "      <th>2010-01-01</th>\n",
       "      <td>1.43327</td>\n",
       "      <td>1.43356</td>\n",
       "      <td>1.43207</td>\n",
       "      <td>1.43335</td>\n",
       "      <td>39761.000053</td>\n",
       "      <td>1.43141</td>\n",
       "    </tr>\n",
       "    <tr>\n",
       "      <th>2010-01-03</th>\n",
       "      <td>1.43024</td>\n",
       "      <td>1.43359</td>\n",
       "      <td>1.42951</td>\n",
       "      <td>1.43141</td>\n",
       "      <td>3001.600003</td>\n",
       "      <td>1.44244</td>\n",
       "    </tr>\n",
       "    <tr>\n",
       "      <th>2010-01-04</th>\n",
       "      <td>1.43143</td>\n",
       "      <td>1.44556</td>\n",
       "      <td>1.42559</td>\n",
       "      <td>1.44244</td>\n",
       "      <td>80019.400094</td>\n",
       "      <td>1.43634</td>\n",
       "    </tr>\n",
       "    <tr>\n",
       "      <th>2010-01-05</th>\n",
       "      <td>1.44238</td>\n",
       "      <td>1.44834</td>\n",
       "      <td>1.43445</td>\n",
       "      <td>1.43634</td>\n",
       "      <td>79887.100067</td>\n",
       "      <td>1.44005</td>\n",
       "    </tr>\n",
       "    <tr>\n",
       "      <th>2010-01-06</th>\n",
       "      <td>1.43638</td>\n",
       "      <td>1.44342</td>\n",
       "      <td>1.42807</td>\n",
       "      <td>1.44005</td>\n",
       "      <td>80971.800085</td>\n",
       "      <td>1.43155</td>\n",
       "    </tr>\n",
       "  </tbody>\n",
       "</table>\n",
       "</div>"
      ],
      "text/plain": [
       "                   Open     High      Low    Close        Volume    label\n",
       "Date_Timestamp                                                           \n",
       "2010-01-01      1.43327  1.43356  1.43207  1.43335  39761.000053  1.43141\n",
       "2010-01-03      1.43024  1.43359  1.42951  1.43141   3001.600003  1.44244\n",
       "2010-01-04      1.43143  1.44556  1.42559  1.44244  80019.400094  1.43634\n",
       "2010-01-05      1.44238  1.44834  1.43445  1.43634  79887.100067  1.44005\n",
       "2010-01-06      1.43638  1.44342  1.42807  1.44005  80971.800085  1.43155"
      ]
     },
     "execution_count": 5,
     "metadata": {},
     "output_type": "execute_result"
    }
   ],
   "source": [
    "dataframe.head(5)"
   ]
  },
  {
   "cell_type": "markdown",
   "metadata": {},
   "source": [
    "### STEP 2: ADD FEATURES TO DATAFRAME"
   ]
  },
  {
   "cell_type": "code",
   "execution_count": 6,
   "metadata": {},
   "outputs": [],
   "source": [
    "regression_dataset = features.add(dataframe, config['features'])"
   ]
  },
  {
   "cell_type": "code",
   "execution_count": 7,
   "metadata": {},
   "outputs": [
    {
     "data": {
      "text/html": [
       "<div>\n",
       "<style scoped>\n",
       "    .dataframe tbody tr th:only-of-type {\n",
       "        vertical-align: middle;\n",
       "    }\n",
       "\n",
       "    .dataframe tbody tr th {\n",
       "        vertical-align: top;\n",
       "    }\n",
       "\n",
       "    .dataframe thead th {\n",
       "        text-align: right;\n",
       "    }\n",
       "</style>\n",
       "<table border=\"1\" class=\"dataframe\">\n",
       "  <thead>\n",
       "    <tr style=\"text-align: right;\">\n",
       "      <th></th>\n",
       "      <th>open</th>\n",
       "      <th>high</th>\n",
       "      <th>low</th>\n",
       "      <th>close</th>\n",
       "      <th>volume</th>\n",
       "      <th>label</th>\n",
       "      <th>stock</th>\n",
       "      <th>stocd</th>\n",
       "      <th>stocsd</th>\n",
       "      <th>momentum</th>\n",
       "      <th>...</th>\n",
       "      <th>rsi</th>\n",
       "      <th>obv</th>\n",
       "      <th>ma</th>\n",
       "      <th>bias6</th>\n",
       "      <th>psy12</th>\n",
       "      <th>asy5</th>\n",
       "      <th>asy4</th>\n",
       "      <th>asy3</th>\n",
       "      <th>asy2</th>\n",
       "      <th>asy1</th>\n",
       "    </tr>\n",
       "    <tr>\n",
       "      <th>Date_Timestamp</th>\n",
       "      <th></th>\n",
       "      <th></th>\n",
       "      <th></th>\n",
       "      <th></th>\n",
       "      <th></th>\n",
       "      <th></th>\n",
       "      <th></th>\n",
       "      <th></th>\n",
       "      <th></th>\n",
       "      <th></th>\n",
       "      <th></th>\n",
       "      <th></th>\n",
       "      <th></th>\n",
       "      <th></th>\n",
       "      <th></th>\n",
       "      <th></th>\n",
       "      <th></th>\n",
       "      <th></th>\n",
       "      <th></th>\n",
       "      <th></th>\n",
       "      <th></th>\n",
       "    </tr>\n",
       "  </thead>\n",
       "  <tbody>\n",
       "    <tr>\n",
       "      <th>2010-01-21</th>\n",
       "      <td>1.41115</td>\n",
       "      <td>1.41422</td>\n",
       "      <td>1.40247</td>\n",
       "      <td>1.40979</td>\n",
       "      <td>78980.100041</td>\n",
       "      <td>1.41361</td>\n",
       "      <td>13.189189</td>\n",
       "      <td>9.578919</td>\n",
       "      <td>19.849579</td>\n",
       "      <td>-0.02655</td>\n",
       "      <td>...</td>\n",
       "      <td>29.873956</td>\n",
       "      <td>-159980.600046</td>\n",
       "      <td>1.425180</td>\n",
       "      <td>-0.012336</td>\n",
       "      <td>41.7</td>\n",
       "      <td>-0.403064</td>\n",
       "      <td>-0.471831</td>\n",
       "      <td>-0.715772</td>\n",
       "      <td>-0.637503</td>\n",
       "      <td>-0.099256</td>\n",
       "    </tr>\n",
       "    <tr>\n",
       "      <th>2010-01-22</th>\n",
       "      <td>1.40977</td>\n",
       "      <td>1.41805</td>\n",
       "      <td>1.40837</td>\n",
       "      <td>1.41361</td>\n",
       "      <td>76660.300037</td>\n",
       "      <td>1.41517</td>\n",
       "      <td>20.072072</td>\n",
       "      <td>13.339429</td>\n",
       "      <td>14.445538</td>\n",
       "      <td>-0.02644</td>\n",
       "      <td>...</td>\n",
       "      <td>33.983332</td>\n",
       "      <td>-83320.300009</td>\n",
       "      <td>1.420572</td>\n",
       "      <td>-0.006774</td>\n",
       "      <td>41.7</td>\n",
       "      <td>-0.323346</td>\n",
       "      <td>-0.469180</td>\n",
       "      <td>-0.334804</td>\n",
       "      <td>0.085670</td>\n",
       "      <td>0.270596</td>\n",
       "    </tr>\n",
       "    <tr>\n",
       "      <th>2010-01-24</th>\n",
       "      <td>1.41557</td>\n",
       "      <td>1.41705</td>\n",
       "      <td>1.41396</td>\n",
       "      <td>1.41517</td>\n",
       "      <td>3128.600004</td>\n",
       "      <td>1.41458</td>\n",
       "      <td>22.882883</td>\n",
       "      <td>18.714715</td>\n",
       "      <td>13.877688</td>\n",
       "      <td>-0.01638</td>\n",
       "      <td>...</td>\n",
       "      <td>35.641946</td>\n",
       "      <td>-80191.700005</td>\n",
       "      <td>1.415528</td>\n",
       "      <td>-0.003171</td>\n",
       "      <td>33.3</td>\n",
       "      <td>-0.353285</td>\n",
       "      <td>-0.223529</td>\n",
       "      <td>0.093878</td>\n",
       "      <td>0.190445</td>\n",
       "      <td>0.110295</td>\n",
       "    </tr>\n",
       "    <tr>\n",
       "      <th>2010-01-25</th>\n",
       "      <td>1.41498</td>\n",
       "      <td>1.41939</td>\n",
       "      <td>1.41248</td>\n",
       "      <td>1.41458</td>\n",
       "      <td>79577.200048</td>\n",
       "      <td>1.40808</td>\n",
       "      <td>21.819820</td>\n",
       "      <td>21.591592</td>\n",
       "      <td>17.881912</td>\n",
       "      <td>-0.02625</td>\n",
       "      <td>...</td>\n",
       "      <td>35.280916</td>\n",
       "      <td>-159768.900053</td>\n",
       "      <td>1.412868</td>\n",
       "      <td>-0.000558</td>\n",
       "      <td>33.3</td>\n",
       "      <td>-0.187163</td>\n",
       "      <td>0.059984</td>\n",
       "      <td>0.113064</td>\n",
       "      <td>0.034298</td>\n",
       "      <td>-0.041700</td>\n",
       "    </tr>\n",
       "    <tr>\n",
       "      <th>2010-01-26</th>\n",
       "      <td>1.41454</td>\n",
       "      <td>1.41780</td>\n",
       "      <td>1.40397</td>\n",
       "      <td>1.40808</td>\n",
       "      <td>79232.600053</td>\n",
       "      <td>1.40280</td>\n",
       "      <td>10.108108</td>\n",
       "      <td>18.270270</td>\n",
       "      <td>19.525526</td>\n",
       "      <td>-0.03823</td>\n",
       "      <td>...</td>\n",
       "      <td>31.495786</td>\n",
       "      <td>-239001.500106</td>\n",
       "      <td>1.412246</td>\n",
       "      <td>-0.002826</td>\n",
       "      <td>25.0</td>\n",
       "      <td>-0.044125</td>\n",
       "      <td>-0.030342</td>\n",
       "      <td>-0.130655</td>\n",
       "      <td>-0.251130</td>\n",
       "      <td>-0.460559</td>\n",
       "    </tr>\n",
       "  </tbody>\n",
       "</table>\n",
       "<p>5 rows × 26 columns</p>\n",
       "</div>"
      ],
      "text/plain": [
       "                   open     high      low    close        volume    label  \\\n",
       "Date_Timestamp                                                              \n",
       "2010-01-21      1.41115  1.41422  1.40247  1.40979  78980.100041  1.41361   \n",
       "2010-01-22      1.40977  1.41805  1.40837  1.41361  76660.300037  1.41517   \n",
       "2010-01-24      1.41557  1.41705  1.41396  1.41517   3128.600004  1.41458   \n",
       "2010-01-25      1.41498  1.41939  1.41248  1.41458  79577.200048  1.40808   \n",
       "2010-01-26      1.41454  1.41780  1.40397  1.40808  79232.600053  1.40280   \n",
       "\n",
       "                    stock      stocd     stocsd  momentum  ...        rsi  \\\n",
       "Date_Timestamp                                             ...              \n",
       "2010-01-21      13.189189   9.578919  19.849579  -0.02655  ...  29.873956   \n",
       "2010-01-22      20.072072  13.339429  14.445538  -0.02644  ...  33.983332   \n",
       "2010-01-24      22.882883  18.714715  13.877688  -0.01638  ...  35.641946   \n",
       "2010-01-25      21.819820  21.591592  17.881912  -0.02625  ...  35.280916   \n",
       "2010-01-26      10.108108  18.270270  19.525526  -0.03823  ...  31.495786   \n",
       "\n",
       "                          obv        ma     bias6  psy12      asy5      asy4  \\\n",
       "Date_Timestamp                                                                 \n",
       "2010-01-21     -159980.600046  1.425180 -0.012336   41.7 -0.403064 -0.471831   \n",
       "2010-01-22      -83320.300009  1.420572 -0.006774   41.7 -0.323346 -0.469180   \n",
       "2010-01-24      -80191.700005  1.415528 -0.003171   33.3 -0.353285 -0.223529   \n",
       "2010-01-25     -159768.900053  1.412868 -0.000558   33.3 -0.187163  0.059984   \n",
       "2010-01-26     -239001.500106  1.412246 -0.002826   25.0 -0.044125 -0.030342   \n",
       "\n",
       "                    asy3      asy2      asy1  \n",
       "Date_Timestamp                                \n",
       "2010-01-21     -0.715772 -0.637503 -0.099256  \n",
       "2010-01-22     -0.334804  0.085670  0.270596  \n",
       "2010-01-24      0.093878  0.190445  0.110295  \n",
       "2010-01-25      0.113064  0.034298 -0.041700  \n",
       "2010-01-26     -0.130655 -0.251130 -0.460559  \n",
       "\n",
       "[5 rows x 26 columns]"
      ]
     },
     "execution_count": 7,
     "metadata": {},
     "output_type": "execute_result"
    }
   ],
   "source": [
    "regression_dataset.head(5)"
   ]
  },
  {
   "cell_type": "markdown",
   "metadata": {},
   "source": [
    "### STEP 3: SPLIT PRIMARY DATA INTO TRAIN & TEST SECTIONS"
   ]
  },
  {
   "cell_type": "code",
   "execution_count": 8,
   "metadata": {},
   "outputs": [],
   "source": [
    "primary_dataset = splitting.general(\n",
    "    regression_dataset,\n",
    "    config['splitting']['train_split']\n",
    ")"
   ]
  },
  {
   "cell_type": "markdown",
   "metadata": {},
   "source": [
    "### STEP 4: CREATE CROSS VALIDATION FOLDS & TRAIN REGRESSION MODELS"
   ]
  },
  {
   "cell_type": "code",
   "execution_count": 9,
   "metadata": {
    "scrolled": false
   },
   "outputs": [
    {
     "name": "stdout",
     "output_type": "stream",
     "text": [
      "TRAINING LINREG_0 FOLD #1\n",
      "0.9818276029994876\n",
      "TRAINING LINREG_0 FOLD #2\n",
      "0.9841819362289451\n",
      "TRAINING LINREG_0 FOLD #3\n",
      "0.9822320809607052\n",
      "TRAINING LINREG_0 FOLD #4\n",
      "0.99152444407493\n",
      "TRAINING LINREG_0 FOLD #5\n",
      "0.995815624905762\n",
      "\n",
      "TRAINING LSTM_1 FOLD #1\n",
      "TRAINING LSTM_1 FOLD #2\n",
      "TRAINING LSTM_1 FOLD #3\n",
      "TRAINING LSTM_1 FOLD #4\n",
      "TRAINING LSTM_1 FOLD #5\n",
      "\n",
      "TRAINING TCN_2 FOLD #1\n",
      "TRAINING TCN_2 FOLD #2\n",
      "TRAINING TCN_2 FOLD #3\n",
      "TRAINING TCN_2 FOLD #4\n",
      "TRAINING TCN_2 FOLD #5\n"
     ]
    }
   ],
   "source": [
    "regression_ensemble, regression_table = ensemble.regression(primary_dataset, config)"
   ]
  },
  {
   "cell_type": "code",
   "execution_count": 10,
   "metadata": {},
   "outputs": [
    {
     "data": {
      "text/html": [
       "<div>\n",
       "<style scoped>\n",
       "    .dataframe tbody tr th:only-of-type {\n",
       "        vertical-align: middle;\n",
       "    }\n",
       "\n",
       "    .dataframe tbody tr th {\n",
       "        vertical-align: top;\n",
       "    }\n",
       "\n",
       "    .dataframe thead th {\n",
       "        text-align: right;\n",
       "    }\n",
       "</style>\n",
       "<table border=\"1\" class=\"dataframe\">\n",
       "  <thead>\n",
       "    <tr style=\"text-align: right;\">\n",
       "      <th></th>\n",
       "      <th>linreg_0</th>\n",
       "      <th>lstm_1</th>\n",
       "      <th>tcn_2</th>\n",
       "      <th>label</th>\n",
       "    </tr>\n",
       "  </thead>\n",
       "  <tbody>\n",
       "    <tr>\n",
       "      <th>0</th>\n",
       "      <td>1.415416</td>\n",
       "      <td>1.386374</td>\n",
       "      <td>1.263464</td>\n",
       "      <td>1.40686</td>\n",
       "    </tr>\n",
       "    <tr>\n",
       "      <th>1</th>\n",
       "      <td>1.411079</td>\n",
       "      <td>1.385365</td>\n",
       "      <td>1.209025</td>\n",
       "      <td>1.41436</td>\n",
       "    </tr>\n",
       "    <tr>\n",
       "      <th>2</th>\n",
       "      <td>1.419329</td>\n",
       "      <td>1.384317</td>\n",
       "      <td>1.412967</td>\n",
       "      <td>1.43163</td>\n",
       "    </tr>\n",
       "    <tr>\n",
       "      <th>3</th>\n",
       "      <td>1.433976</td>\n",
       "      <td>1.391687</td>\n",
       "      <td>1.317682</td>\n",
       "      <td>1.42894</td>\n",
       "    </tr>\n",
       "    <tr>\n",
       "      <th>4</th>\n",
       "      <td>1.422778</td>\n",
       "      <td>1.386695</td>\n",
       "      <td>1.356287</td>\n",
       "      <td>1.43328</td>\n",
       "    </tr>\n",
       "  </tbody>\n",
       "</table>\n",
       "</div>"
      ],
      "text/plain": [
       "   linreg_0    lstm_1     tcn_2    label\n",
       "0  1.415416  1.386374  1.263464  1.40686\n",
       "1  1.411079  1.385365  1.209025  1.41436\n",
       "2  1.419329  1.384317  1.412967  1.43163\n",
       "3  1.433976  1.391687  1.317682  1.42894\n",
       "4  1.422778  1.386695  1.356287  1.43328"
      ]
     },
     "execution_count": 10,
     "metadata": {},
     "output_type": "execute_result"
    }
   ],
   "source": [
    "regression_table.head(5)"
   ]
  },
  {
   "cell_type": "markdown",
   "metadata": {},
   "source": [
    "### STEP 6: CREATE DECISION MACHINE & PUT LABELS THROUGH IT"
   ]
  },
  {
   "cell_type": "code",
   "execution_count": 11,
   "metadata": {},
   "outputs": [],
   "source": [
    "decision_machine = misc.decision_machine()"
   ]
  },
  {
   "cell_type": "code",
   "execution_count": 12,
   "metadata": {},
   "outputs": [],
   "source": [
    "regression_labels = decision_machine.calibrate(\n",
    "    regression_table,\n",
    "    config['classification_ensemble']['decision']\n",
    ")"
   ]
  },
  {
   "cell_type": "code",
   "execution_count": 13,
   "metadata": {},
   "outputs": [],
   "source": [
    "labeled_regression_table = misc.replace_labels(\n",
    "    regression_table,\n",
    "    regression_labels\n",
    ")"
   ]
  },
  {
   "cell_type": "code",
   "execution_count": 14,
   "metadata": {},
   "outputs": [],
   "source": [
    "# BUY   = 0\n",
    "# SELL  = 1\n",
    "# HOLD  = 2"
   ]
  },
  {
   "cell_type": "code",
   "execution_count": 15,
   "metadata": {},
   "outputs": [
    {
     "data": {
      "text/html": [
       "<div>\n",
       "<style scoped>\n",
       "    .dataframe tbody tr th:only-of-type {\n",
       "        vertical-align: middle;\n",
       "    }\n",
       "\n",
       "    .dataframe tbody tr th {\n",
       "        vertical-align: top;\n",
       "    }\n",
       "\n",
       "    .dataframe thead th {\n",
       "        text-align: right;\n",
       "    }\n",
       "</style>\n",
       "<table border=\"1\" class=\"dataframe\">\n",
       "  <thead>\n",
       "    <tr style=\"text-align: right;\">\n",
       "      <th></th>\n",
       "      <th>linreg_0</th>\n",
       "      <th>lstm_1</th>\n",
       "      <th>tcn_2</th>\n",
       "      <th>label</th>\n",
       "    </tr>\n",
       "  </thead>\n",
       "  <tbody>\n",
       "    <tr>\n",
       "      <th>0</th>\n",
       "      <td>1.415416</td>\n",
       "      <td>1.386374</td>\n",
       "      <td>1.263464</td>\n",
       "      <td>2</td>\n",
       "    </tr>\n",
       "    <tr>\n",
       "      <th>1</th>\n",
       "      <td>1.411079</td>\n",
       "      <td>1.385365</td>\n",
       "      <td>1.209025</td>\n",
       "      <td>1</td>\n",
       "    </tr>\n",
       "    <tr>\n",
       "      <th>2</th>\n",
       "      <td>1.419329</td>\n",
       "      <td>1.384317</td>\n",
       "      <td>1.412967</td>\n",
       "      <td>1</td>\n",
       "    </tr>\n",
       "    <tr>\n",
       "      <th>3</th>\n",
       "      <td>1.433976</td>\n",
       "      <td>1.391687</td>\n",
       "      <td>1.317682</td>\n",
       "      <td>2</td>\n",
       "    </tr>\n",
       "    <tr>\n",
       "      <th>4</th>\n",
       "      <td>1.422778</td>\n",
       "      <td>1.386695</td>\n",
       "      <td>1.356287</td>\n",
       "      <td>1</td>\n",
       "    </tr>\n",
       "  </tbody>\n",
       "</table>\n",
       "</div>"
      ],
      "text/plain": [
       "   linreg_0    lstm_1     tcn_2  label\n",
       "0  1.415416  1.386374  1.263464      2\n",
       "1  1.411079  1.385365  1.209025      1\n",
       "2  1.419329  1.384317  1.412967      1\n",
       "3  1.433976  1.391687  1.317682      2\n",
       "4  1.422778  1.386695  1.356287      1"
      ]
     },
     "execution_count": 15,
     "metadata": {},
     "output_type": "execute_result"
    }
   ],
   "source": [
    "labeled_regression_table.head(5)"
   ]
  },
  {
   "cell_type": "markdown",
   "metadata": {},
   "source": [
    "### DECISION BREAKDOWN"
   ]
  },
  {
   "cell_type": "code",
   "execution_count": 16,
   "metadata": {},
   "outputs": [
    {
     "data": {
      "text/plain": [
       "2    0.500483\n",
       "1    0.249758\n",
       "0    0.249758\n",
       "Name: label, dtype: float64"
      ]
     },
     "execution_count": 16,
     "metadata": {},
     "output_type": "execute_result"
    }
   ],
   "source": [
    "labeled_regression_table['label'].value_counts(normalize=True)"
   ]
  },
  {
   "cell_type": "markdown",
   "metadata": {},
   "source": [
    "### STEP 7: TRAIN THE CLASSIFIER ENSEMBLE"
   ]
  },
  {
   "cell_type": "code",
   "execution_count": 17,
   "metadata": {},
   "outputs": [
    {
     "name": "stdout",
     "output_type": "stream",
     "text": [
      "TRAINING LOGREG_0 MODEL\n",
      "0.3357487922705314\n",
      "TRAINING SVC_1 MODEL\n",
      "0.5004830917874397\n"
     ]
    }
   ],
   "source": [
    "classifier_ensemble = ensemble.classifier(\n",
    "    labeled_regression_table,\n",
    "    config\n",
    ")"
   ]
  },
  {
   "cell_type": "markdown",
   "metadata": {},
   "source": [
    "### STEP 8: REGRESSION PREDICT ON TEST DATASET"
   ]
  },
  {
   "cell_type": "code",
   "execution_count": 18,
   "metadata": {
    "scrolled": false
   },
   "outputs": [],
   "source": [
    "test = regression_ensemble.predict(primary_dataset['test'])"
   ]
  },
  {
   "cell_type": "code",
   "execution_count": 19,
   "metadata": {},
   "outputs": [
    {
     "data": {
      "text/html": [
       "<div>\n",
       "<style scoped>\n",
       "    .dataframe tbody tr th:only-of-type {\n",
       "        vertical-align: middle;\n",
       "    }\n",
       "\n",
       "    .dataframe tbody tr th {\n",
       "        vertical-align: top;\n",
       "    }\n",
       "\n",
       "    .dataframe thead th {\n",
       "        text-align: right;\n",
       "    }\n",
       "</style>\n",
       "<table border=\"1\" class=\"dataframe\">\n",
       "  <thead>\n",
       "    <tr style=\"text-align: right;\">\n",
       "      <th></th>\n",
       "      <th>linreg_0</th>\n",
       "      <th>lstm_1</th>\n",
       "      <th>tcn_2</th>\n",
       "    </tr>\n",
       "  </thead>\n",
       "  <tbody>\n",
       "    <tr>\n",
       "      <th>0</th>\n",
       "      <td>1.196712</td>\n",
       "      <td>1.175022</td>\n",
       "      <td>1.030726</td>\n",
       "    </tr>\n",
       "    <tr>\n",
       "      <th>1</th>\n",
       "      <td>1.200233</td>\n",
       "      <td>1.173229</td>\n",
       "      <td>1.003259</td>\n",
       "    </tr>\n",
       "    <tr>\n",
       "      <th>2</th>\n",
       "      <td>1.208944</td>\n",
       "      <td>1.179300</td>\n",
       "      <td>1.002972</td>\n",
       "    </tr>\n",
       "    <tr>\n",
       "      <th>3</th>\n",
       "      <td>1.220008</td>\n",
       "      <td>1.185321</td>\n",
       "      <td>1.072543</td>\n",
       "    </tr>\n",
       "    <tr>\n",
       "      <th>4</th>\n",
       "      <td>1.218342</td>\n",
       "      <td>1.200669</td>\n",
       "      <td>1.215853</td>\n",
       "    </tr>\n",
       "    <tr>\n",
       "      <th>5</th>\n",
       "      <td>1.225797</td>\n",
       "      <td>1.205068</td>\n",
       "      <td>1.175984</td>\n",
       "    </tr>\n",
       "    <tr>\n",
       "      <th>6</th>\n",
       "      <td>1.227252</td>\n",
       "      <td>1.215824</td>\n",
       "      <td>1.219763</td>\n",
       "    </tr>\n",
       "    <tr>\n",
       "      <th>7</th>\n",
       "      <td>1.218455</td>\n",
       "      <td>1.221752</td>\n",
       "      <td>1.147556</td>\n",
       "    </tr>\n",
       "    <tr>\n",
       "      <th>8</th>\n",
       "      <td>1.224784</td>\n",
       "      <td>1.216662</td>\n",
       "      <td>1.058602</td>\n",
       "    </tr>\n",
       "    <tr>\n",
       "      <th>9</th>\n",
       "      <td>1.223785</td>\n",
       "      <td>1.215060</td>\n",
       "      <td>1.114145</td>\n",
       "    </tr>\n",
       "  </tbody>\n",
       "</table>\n",
       "</div>"
      ],
      "text/plain": [
       "   linreg_0    lstm_1     tcn_2\n",
       "0  1.196712  1.175022  1.030726\n",
       "1  1.200233  1.173229  1.003259\n",
       "2  1.208944  1.179300  1.002972\n",
       "3  1.220008  1.185321  1.072543\n",
       "4  1.218342  1.200669  1.215853\n",
       "5  1.225797  1.205068  1.175984\n",
       "6  1.227252  1.215824  1.219763\n",
       "7  1.218455  1.221752  1.147556\n",
       "8  1.224784  1.216662  1.058602\n",
       "9  1.223785  1.215060  1.114145"
      ]
     },
     "execution_count": 19,
     "metadata": {},
     "output_type": "execute_result"
    }
   ],
   "source": [
    "test.head(10)"
   ]
  },
  {
   "cell_type": "markdown",
   "metadata": {},
   "source": [
    "### STEP 9: CLASSIFY PREDICT ON REGRESSION DATASET"
   ]
  },
  {
   "cell_type": "code",
   "execution_count": 20,
   "metadata": {},
   "outputs": [],
   "source": [
    "mash_dataset = {\n",
    "    'features': test.to_numpy(),\n",
    "    'labels': []\n",
    "}"
   ]
  },
  {
   "cell_type": "code",
   "execution_count": 21,
   "metadata": {},
   "outputs": [],
   "source": [
    "cls_dataset = classifier_ensemble.predict(mash_dataset, show_mean=True)"
   ]
  },
  {
   "cell_type": "code",
   "execution_count": 22,
   "metadata": {},
   "outputs": [
    {
     "data": {
      "text/html": [
       "<div>\n",
       "<style scoped>\n",
       "    .dataframe tbody tr th:only-of-type {\n",
       "        vertical-align: middle;\n",
       "    }\n",
       "\n",
       "    .dataframe tbody tr th {\n",
       "        vertical-align: top;\n",
       "    }\n",
       "\n",
       "    .dataframe thead th {\n",
       "        text-align: right;\n",
       "    }\n",
       "</style>\n",
       "<table border=\"1\" class=\"dataframe\">\n",
       "  <thead>\n",
       "    <tr style=\"text-align: right;\">\n",
       "      <th></th>\n",
       "      <th>logreg_0</th>\n",
       "      <th>svc_1</th>\n",
       "      <th>mean</th>\n",
       "    </tr>\n",
       "  </thead>\n",
       "  <tbody>\n",
       "    <tr>\n",
       "      <th>0</th>\n",
       "      <td>1</td>\n",
       "      <td>2</td>\n",
       "      <td>1.5</td>\n",
       "    </tr>\n",
       "    <tr>\n",
       "      <th>1</th>\n",
       "      <td>1</td>\n",
       "      <td>2</td>\n",
       "      <td>1.5</td>\n",
       "    </tr>\n",
       "    <tr>\n",
       "      <th>2</th>\n",
       "      <td>1</td>\n",
       "      <td>2</td>\n",
       "      <td>1.5</td>\n",
       "    </tr>\n",
       "    <tr>\n",
       "      <th>3</th>\n",
       "      <td>1</td>\n",
       "      <td>2</td>\n",
       "      <td>1.5</td>\n",
       "    </tr>\n",
       "    <tr>\n",
       "      <th>4</th>\n",
       "      <td>0</td>\n",
       "      <td>2</td>\n",
       "      <td>1.0</td>\n",
       "    </tr>\n",
       "    <tr>\n",
       "      <th>5</th>\n",
       "      <td>0</td>\n",
       "      <td>2</td>\n",
       "      <td>1.0</td>\n",
       "    </tr>\n",
       "    <tr>\n",
       "      <th>6</th>\n",
       "      <td>0</td>\n",
       "      <td>2</td>\n",
       "      <td>1.0</td>\n",
       "    </tr>\n",
       "    <tr>\n",
       "      <th>7</th>\n",
       "      <td>0</td>\n",
       "      <td>2</td>\n",
       "      <td>1.0</td>\n",
       "    </tr>\n",
       "    <tr>\n",
       "      <th>8</th>\n",
       "      <td>2</td>\n",
       "      <td>2</td>\n",
       "      <td>2.0</td>\n",
       "    </tr>\n",
       "    <tr>\n",
       "      <th>9</th>\n",
       "      <td>0</td>\n",
       "      <td>2</td>\n",
       "      <td>1.0</td>\n",
       "    </tr>\n",
       "  </tbody>\n",
       "</table>\n",
       "</div>"
      ],
      "text/plain": [
       "   logreg_0  svc_1  mean\n",
       "0         1      2   1.5\n",
       "1         1      2   1.5\n",
       "2         1      2   1.5\n",
       "3         1      2   1.5\n",
       "4         0      2   1.0\n",
       "5         0      2   1.0\n",
       "6         0      2   1.0\n",
       "7         0      2   1.0\n",
       "8         2      2   2.0\n",
       "9         0      2   1.0"
      ]
     },
     "execution_count": 22,
     "metadata": {},
     "output_type": "execute_result"
    }
   ],
   "source": [
    "cls_dataset.head(10)"
   ]
  },
  {
   "cell_type": "markdown",
   "metadata": {},
   "source": [
    "### STEP X: SAVE EVERYTHING"
   ]
  },
  {
   "cell_type": "code",
   "execution_count": 23,
   "metadata": {},
   "outputs": [],
   "source": [
    "storage.save_pipeline({\n",
    "    'regression_ensemble': regression_ensemble,\n",
    "    'regression_training': regression_table,\n",
    "    'classifier_ensemble': classifier_ensemble,\n",
    "    'config': config\n",
    "})"
   ]
  },
  {
   "cell_type": "code",
   "execution_count": null,
   "metadata": {},
   "outputs": [],
   "source": []
  }
 ],
 "metadata": {
  "kernelspec": {
   "display_name": "Python 3",
   "language": "python",
   "name": "python3"
  },
  "language_info": {
   "codemirror_mode": {
    "name": "ipython",
    "version": 3
   },
   "file_extension": ".py",
   "mimetype": "text/x-python",
   "name": "python",
   "nbconvert_exporter": "python",
   "pygments_lexer": "ipython3",
   "version": "3.7.9"
  }
 },
 "nbformat": 4,
 "nbformat_minor": 4
}
