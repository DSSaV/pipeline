{
 "cells": [
  {
   "cell_type": "markdown",
   "metadata": {},
   "source": [
    "### IMPORTS"
   ]
  },
  {
   "cell_type": "code",
   "execution_count": 1,
   "metadata": {},
   "outputs": [],
   "source": [
    "import ipynb.fs.full.processing as processing\n",
    "import ipynb.fs.full.training as training\n",
    "import ipynb.fs.full.storage as storage\n",
    "import ipynb.fs.full.misc as misc\n",
    "import ipynb.fs.full.splitting as splitting\n",
    "import ipynb.fs.full.features as features\n",
    "import ipynb.fs.full.ensemble as ensemble"
   ]
  },
  {
   "cell_type": "code",
   "execution_count": 2,
   "metadata": {},
   "outputs": [],
   "source": [
    "import json"
   ]
  },
  {
   "cell_type": "markdown",
   "metadata": {},
   "source": [
    "### SERIALIZE THE YAML CONFIG"
   ]
  },
  {
   "cell_type": "code",
   "execution_count": 3,
   "metadata": {
    "scrolled": false
   },
   "outputs": [],
   "source": [
    "config = storage.load_yaml('extra/config.yaml')"
   ]
  },
  {
   "cell_type": "code",
   "execution_count": 4,
   "metadata": {},
   "outputs": [
    {
     "data": {
      "text/plain": [
       "{'data': 'extra/dataset.csv',\n",
       " 'processing': {'resample': True,\n",
       "  'time': 'D',\n",
       "  'aggregate': {'Open': 'first',\n",
       "   'High': 'max',\n",
       "   'Low': 'min',\n",
       "   'Close': 'last',\n",
       "   'Volume': 'sum'},\n",
       "  'label': {'from': 'Close', 'shift': 1}},\n",
       " 'features': {'category': 'all', 'window': 14},\n",
       " 'splitting': {'train_split': 0.8, 'validation_folds': 5},\n",
       " 'regression_ensemble': {'models': [{'linreg': None},\n",
       "   {'lstm': {'morph': {'window': 4, 'batch': 30},\n",
       "     'layers': [{'lstm': {'units': 120}},\n",
       "      {'dropout': {'rate': 0.15}},\n",
       "      {'dense': {'units': 50, 'activation': 'relu'}},\n",
       "      {'dense': {'units': 1}}],\n",
       "     'epochs': 15,\n",
       "     'loss': 'mean_squared_error',\n",
       "     'optimizer': 'rmsprop'}},\n",
       "   {'tcn': {'morph': {'window': 4, 'batch': 30},\n",
       "     'layers': [{'tcn': {'nb_filters': 64,\n",
       "        'nb_stacks': 1,\n",
       "        'dilations': [1, 2, 4, 8, 16, 32],\n",
       "        'padding': 'causal',\n",
       "        'use_skip_connections': False,\n",
       "        'dropout_rate': 0.1,\n",
       "        'return_sequences': False}},\n",
       "      {'dropout': {'rate': 0.05}},\n",
       "      {'dense': {'units': 50, 'activation': 'relu'}},\n",
       "      {'dense': {'units': 1}}],\n",
       "     'epochs': 15,\n",
       "     'loss': 'mean_squared_error',\n",
       "     'optimizer': 'adam'}}]},\n",
       " 'classification_ensemble': {'decision': {'upper': 0.75, 'lower': 0.25},\n",
       "  'models': [{'randforest': {'grid_search': {'n_estimators': [10,\n",
       "       50,\n",
       "       100,\n",
       "       300],\n",
       "      'max_features': ['log2', 'sqrt'],\n",
       "      'max_depth': [10, 100, 'None'],\n",
       "      'min_samples_split': [3, 10],\n",
       "      'min_samples_leaf': [2, 4],\n",
       "      'bootstrap': [True, False],\n",
       "      'class_weight': ['balanced']}}},\n",
       "   {'logreg': {'static': {'random_state': 0, 'class_weight': 'balanced'}}},\n",
       "   {'svc': {'static': {'decision_function_shape': 'ovo'},\n",
       "     'grid_search': {'kernel': ['linear', 'rbf'], 'C': [1, 150]}}}]}}"
      ]
     },
     "execution_count": 4,
     "metadata": {},
     "output_type": "execute_result"
    }
   ],
   "source": [
    "config"
   ]
  },
  {
   "cell_type": "markdown",
   "metadata": {},
   "source": [
    "### STEP 1: PROCESS RAW DATA TO DATAFRAME"
   ]
  },
  {
   "cell_type": "code",
   "execution_count": 5,
   "metadata": {},
   "outputs": [],
   "source": [
    "dataframe = processing.create_dataframe(config)"
   ]
  },
  {
   "cell_type": "code",
   "execution_count": 6,
   "metadata": {},
   "outputs": [
    {
     "data": {
      "text/html": [
       "<div>\n",
       "<style scoped>\n",
       "    .dataframe tbody tr th:only-of-type {\n",
       "        vertical-align: middle;\n",
       "    }\n",
       "\n",
       "    .dataframe tbody tr th {\n",
       "        vertical-align: top;\n",
       "    }\n",
       "\n",
       "    .dataframe thead th {\n",
       "        text-align: right;\n",
       "    }\n",
       "</style>\n",
       "<table border=\"1\" class=\"dataframe\">\n",
       "  <thead>\n",
       "    <tr style=\"text-align: right;\">\n",
       "      <th></th>\n",
       "      <th>Open</th>\n",
       "      <th>High</th>\n",
       "      <th>Low</th>\n",
       "      <th>Close</th>\n",
       "      <th>Volume</th>\n",
       "      <th>label</th>\n",
       "    </tr>\n",
       "    <tr>\n",
       "      <th>Date_Timestamp</th>\n",
       "      <th></th>\n",
       "      <th></th>\n",
       "      <th></th>\n",
       "      <th></th>\n",
       "      <th></th>\n",
       "      <th></th>\n",
       "    </tr>\n",
       "  </thead>\n",
       "  <tbody>\n",
       "    <tr>\n",
       "      <th>2010-01-01</th>\n",
       "      <td>1.43327</td>\n",
       "      <td>1.43356</td>\n",
       "      <td>1.43207</td>\n",
       "      <td>1.43335</td>\n",
       "      <td>39761.000053</td>\n",
       "      <td>1.43141</td>\n",
       "    </tr>\n",
       "    <tr>\n",
       "      <th>2010-01-03</th>\n",
       "      <td>1.43024</td>\n",
       "      <td>1.43359</td>\n",
       "      <td>1.42951</td>\n",
       "      <td>1.43141</td>\n",
       "      <td>3001.600003</td>\n",
       "      <td>1.44244</td>\n",
       "    </tr>\n",
       "    <tr>\n",
       "      <th>2010-01-04</th>\n",
       "      <td>1.43143</td>\n",
       "      <td>1.44556</td>\n",
       "      <td>1.42559</td>\n",
       "      <td>1.44244</td>\n",
       "      <td>80019.400094</td>\n",
       "      <td>1.43634</td>\n",
       "    </tr>\n",
       "    <tr>\n",
       "      <th>2010-01-05</th>\n",
       "      <td>1.44238</td>\n",
       "      <td>1.44834</td>\n",
       "      <td>1.43445</td>\n",
       "      <td>1.43634</td>\n",
       "      <td>79887.100067</td>\n",
       "      <td>1.44005</td>\n",
       "    </tr>\n",
       "    <tr>\n",
       "      <th>2010-01-06</th>\n",
       "      <td>1.43638</td>\n",
       "      <td>1.44342</td>\n",
       "      <td>1.42807</td>\n",
       "      <td>1.44005</td>\n",
       "      <td>80971.800085</td>\n",
       "      <td>1.43155</td>\n",
       "    </tr>\n",
       "  </tbody>\n",
       "</table>\n",
       "</div>"
      ],
      "text/plain": [
       "                   Open     High      Low    Close        Volume    label\n",
       "Date_Timestamp                                                           \n",
       "2010-01-01      1.43327  1.43356  1.43207  1.43335  39761.000053  1.43141\n",
       "2010-01-03      1.43024  1.43359  1.42951  1.43141   3001.600003  1.44244\n",
       "2010-01-04      1.43143  1.44556  1.42559  1.44244  80019.400094  1.43634\n",
       "2010-01-05      1.44238  1.44834  1.43445  1.43634  79887.100067  1.44005\n",
       "2010-01-06      1.43638  1.44342  1.42807  1.44005  80971.800085  1.43155"
      ]
     },
     "execution_count": 6,
     "metadata": {},
     "output_type": "execute_result"
    }
   ],
   "source": [
    "dataframe.head(5)"
   ]
  },
  {
   "cell_type": "markdown",
   "metadata": {},
   "source": [
    "### STEP 2: ADD FEATURES TO DATAFRAME"
   ]
  },
  {
   "cell_type": "code",
   "execution_count": 7,
   "metadata": {},
   "outputs": [],
   "source": [
    "regression_dataset = features.add(dataframe, config['features'])"
   ]
  },
  {
   "cell_type": "code",
   "execution_count": 8,
   "metadata": {},
   "outputs": [
    {
     "data": {
      "text/html": [
       "<div>\n",
       "<style scoped>\n",
       "    .dataframe tbody tr th:only-of-type {\n",
       "        vertical-align: middle;\n",
       "    }\n",
       "\n",
       "    .dataframe tbody tr th {\n",
       "        vertical-align: top;\n",
       "    }\n",
       "\n",
       "    .dataframe thead th {\n",
       "        text-align: right;\n",
       "    }\n",
       "</style>\n",
       "<table border=\"1\" class=\"dataframe\">\n",
       "  <thead>\n",
       "    <tr style=\"text-align: right;\">\n",
       "      <th></th>\n",
       "      <th>open</th>\n",
       "      <th>high</th>\n",
       "      <th>low</th>\n",
       "      <th>close</th>\n",
       "      <th>volume</th>\n",
       "      <th>label</th>\n",
       "      <th>stock</th>\n",
       "      <th>stocd</th>\n",
       "      <th>stocsd</th>\n",
       "      <th>momentum</th>\n",
       "      <th>...</th>\n",
       "      <th>rsi</th>\n",
       "      <th>obv</th>\n",
       "      <th>ma</th>\n",
       "      <th>bias6</th>\n",
       "      <th>psy12</th>\n",
       "      <th>asy5</th>\n",
       "      <th>asy4</th>\n",
       "      <th>asy3</th>\n",
       "      <th>asy2</th>\n",
       "      <th>asy1</th>\n",
       "    </tr>\n",
       "    <tr>\n",
       "      <th>Date_Timestamp</th>\n",
       "      <th></th>\n",
       "      <th></th>\n",
       "      <th></th>\n",
       "      <th></th>\n",
       "      <th></th>\n",
       "      <th></th>\n",
       "      <th></th>\n",
       "      <th></th>\n",
       "      <th></th>\n",
       "      <th></th>\n",
       "      <th></th>\n",
       "      <th></th>\n",
       "      <th></th>\n",
       "      <th></th>\n",
       "      <th></th>\n",
       "      <th></th>\n",
       "      <th></th>\n",
       "      <th></th>\n",
       "      <th></th>\n",
       "      <th></th>\n",
       "      <th></th>\n",
       "    </tr>\n",
       "  </thead>\n",
       "  <tbody>\n",
       "    <tr>\n",
       "      <th>2010-01-21</th>\n",
       "      <td>1.41115</td>\n",
       "      <td>1.41422</td>\n",
       "      <td>1.40247</td>\n",
       "      <td>1.40979</td>\n",
       "      <td>78980.100041</td>\n",
       "      <td>1.41361</td>\n",
       "      <td>13.189189</td>\n",
       "      <td>9.578919</td>\n",
       "      <td>19.849579</td>\n",
       "      <td>-0.02655</td>\n",
       "      <td>...</td>\n",
       "      <td>29.873956</td>\n",
       "      <td>-159980.600046</td>\n",
       "      <td>1.425180</td>\n",
       "      <td>-0.012336</td>\n",
       "      <td>41.7</td>\n",
       "      <td>-0.403064</td>\n",
       "      <td>-0.471831</td>\n",
       "      <td>-0.715772</td>\n",
       "      <td>-0.637503</td>\n",
       "      <td>-0.099256</td>\n",
       "    </tr>\n",
       "    <tr>\n",
       "      <th>2010-01-22</th>\n",
       "      <td>1.40977</td>\n",
       "      <td>1.41805</td>\n",
       "      <td>1.40837</td>\n",
       "      <td>1.41361</td>\n",
       "      <td>76660.300037</td>\n",
       "      <td>1.41517</td>\n",
       "      <td>20.072072</td>\n",
       "      <td>13.339429</td>\n",
       "      <td>14.445538</td>\n",
       "      <td>-0.02644</td>\n",
       "      <td>...</td>\n",
       "      <td>33.983332</td>\n",
       "      <td>-83320.300009</td>\n",
       "      <td>1.420572</td>\n",
       "      <td>-0.006774</td>\n",
       "      <td>41.7</td>\n",
       "      <td>-0.323346</td>\n",
       "      <td>-0.469180</td>\n",
       "      <td>-0.334804</td>\n",
       "      <td>0.085670</td>\n",
       "      <td>0.270596</td>\n",
       "    </tr>\n",
       "    <tr>\n",
       "      <th>2010-01-24</th>\n",
       "      <td>1.41557</td>\n",
       "      <td>1.41705</td>\n",
       "      <td>1.41396</td>\n",
       "      <td>1.41517</td>\n",
       "      <td>3128.600004</td>\n",
       "      <td>1.41458</td>\n",
       "      <td>22.882883</td>\n",
       "      <td>18.714715</td>\n",
       "      <td>13.877688</td>\n",
       "      <td>-0.01638</td>\n",
       "      <td>...</td>\n",
       "      <td>35.641946</td>\n",
       "      <td>-80191.700005</td>\n",
       "      <td>1.415528</td>\n",
       "      <td>-0.003171</td>\n",
       "      <td>33.3</td>\n",
       "      <td>-0.353285</td>\n",
       "      <td>-0.223529</td>\n",
       "      <td>0.093878</td>\n",
       "      <td>0.190445</td>\n",
       "      <td>0.110295</td>\n",
       "    </tr>\n",
       "    <tr>\n",
       "      <th>2010-01-25</th>\n",
       "      <td>1.41498</td>\n",
       "      <td>1.41939</td>\n",
       "      <td>1.41248</td>\n",
       "      <td>1.41458</td>\n",
       "      <td>79577.200048</td>\n",
       "      <td>1.40808</td>\n",
       "      <td>21.819820</td>\n",
       "      <td>21.591592</td>\n",
       "      <td>17.881912</td>\n",
       "      <td>-0.02625</td>\n",
       "      <td>...</td>\n",
       "      <td>35.280916</td>\n",
       "      <td>-159768.900053</td>\n",
       "      <td>1.412868</td>\n",
       "      <td>-0.000558</td>\n",
       "      <td>33.3</td>\n",
       "      <td>-0.187163</td>\n",
       "      <td>0.059984</td>\n",
       "      <td>0.113064</td>\n",
       "      <td>0.034298</td>\n",
       "      <td>-0.041700</td>\n",
       "    </tr>\n",
       "    <tr>\n",
       "      <th>2010-01-26</th>\n",
       "      <td>1.41454</td>\n",
       "      <td>1.41780</td>\n",
       "      <td>1.40397</td>\n",
       "      <td>1.40808</td>\n",
       "      <td>79232.600053</td>\n",
       "      <td>1.40280</td>\n",
       "      <td>10.108108</td>\n",
       "      <td>18.270270</td>\n",
       "      <td>19.525526</td>\n",
       "      <td>-0.03823</td>\n",
       "      <td>...</td>\n",
       "      <td>31.495786</td>\n",
       "      <td>-239001.500106</td>\n",
       "      <td>1.412246</td>\n",
       "      <td>-0.002826</td>\n",
       "      <td>25.0</td>\n",
       "      <td>-0.044125</td>\n",
       "      <td>-0.030342</td>\n",
       "      <td>-0.130655</td>\n",
       "      <td>-0.251130</td>\n",
       "      <td>-0.460559</td>\n",
       "    </tr>\n",
       "  </tbody>\n",
       "</table>\n",
       "<p>5 rows × 26 columns</p>\n",
       "</div>"
      ],
      "text/plain": [
       "                   open     high      low    close        volume    label  \\\n",
       "Date_Timestamp                                                              \n",
       "2010-01-21      1.41115  1.41422  1.40247  1.40979  78980.100041  1.41361   \n",
       "2010-01-22      1.40977  1.41805  1.40837  1.41361  76660.300037  1.41517   \n",
       "2010-01-24      1.41557  1.41705  1.41396  1.41517   3128.600004  1.41458   \n",
       "2010-01-25      1.41498  1.41939  1.41248  1.41458  79577.200048  1.40808   \n",
       "2010-01-26      1.41454  1.41780  1.40397  1.40808  79232.600053  1.40280   \n",
       "\n",
       "                    stock      stocd     stocsd  momentum  ...        rsi  \\\n",
       "Date_Timestamp                                             ...              \n",
       "2010-01-21      13.189189   9.578919  19.849579  -0.02655  ...  29.873956   \n",
       "2010-01-22      20.072072  13.339429  14.445538  -0.02644  ...  33.983332   \n",
       "2010-01-24      22.882883  18.714715  13.877688  -0.01638  ...  35.641946   \n",
       "2010-01-25      21.819820  21.591592  17.881912  -0.02625  ...  35.280916   \n",
       "2010-01-26      10.108108  18.270270  19.525526  -0.03823  ...  31.495786   \n",
       "\n",
       "                          obv        ma     bias6  psy12      asy5      asy4  \\\n",
       "Date_Timestamp                                                                 \n",
       "2010-01-21     -159980.600046  1.425180 -0.012336   41.7 -0.403064 -0.471831   \n",
       "2010-01-22      -83320.300009  1.420572 -0.006774   41.7 -0.323346 -0.469180   \n",
       "2010-01-24      -80191.700005  1.415528 -0.003171   33.3 -0.353285 -0.223529   \n",
       "2010-01-25     -159768.900053  1.412868 -0.000558   33.3 -0.187163  0.059984   \n",
       "2010-01-26     -239001.500106  1.412246 -0.002826   25.0 -0.044125 -0.030342   \n",
       "\n",
       "                    asy3      asy2      asy1  \n",
       "Date_Timestamp                                \n",
       "2010-01-21     -0.715772 -0.637503 -0.099256  \n",
       "2010-01-22     -0.334804  0.085670  0.270596  \n",
       "2010-01-24      0.093878  0.190445  0.110295  \n",
       "2010-01-25      0.113064  0.034298 -0.041700  \n",
       "2010-01-26     -0.130655 -0.251130 -0.460559  \n",
       "\n",
       "[5 rows x 26 columns]"
      ]
     },
     "execution_count": 8,
     "metadata": {},
     "output_type": "execute_result"
    }
   ],
   "source": [
    "regression_dataset.head(5)"
   ]
  },
  {
   "cell_type": "markdown",
   "metadata": {},
   "source": [
    "### STEP 3: SPLIT PRIMARY DATA INTO TRAIN & TEST SECTIONS"
   ]
  },
  {
   "cell_type": "code",
   "execution_count": 9,
   "metadata": {},
   "outputs": [],
   "source": [
    "primary_dataset = splitting.general(\n",
    "    regression_dataset,\n",
    "    config['splitting']['train_split']\n",
    ")"
   ]
  },
  {
   "cell_type": "markdown",
   "metadata": {},
   "source": [
    "### STEP 4: CREATE CROSS VALIDATION FOLDS & TRAIN REGRESSION MODELS"
   ]
  },
  {
   "cell_type": "code",
   "execution_count": 10,
   "metadata": {
    "scrolled": false
   },
   "outputs": [
    {
     "name": "stdout",
     "output_type": "stream",
     "text": [
      "TRAINING LINREG_0 FOLD #1\n",
      "TRAINING LINREG_0 FOLD #2\n",
      "TRAINING LINREG_0 FOLD #3\n",
      "TRAINING LINREG_0 FOLD #4\n",
      "TRAINING LINREG_0 FOLD #5\n",
      "\n",
      "TRAINING LSTM_1 FOLD #1\n",
      "Epoch 1/15\n",
      "14/14 [==============================] - 0s 22ms/step - loss: 0.2953 - mean_squared_error: 0.2953\n",
      "Epoch 2/15\n",
      "14/14 [==============================] - 0s 22ms/step - loss: 0.0313 - mean_squared_error: 0.0313\n",
      "Epoch 3/15\n",
      "14/14 [==============================] - 0s 22ms/step - loss: 0.0265 - mean_squared_error: 0.0265\n",
      "Epoch 4/15\n",
      "14/14 [==============================] - 0s 23ms/step - loss: 0.0223 - mean_squared_error: 0.0223\n",
      "Epoch 5/15\n",
      "14/14 [==============================] - 0s 23ms/step - loss: 0.0123 - mean_squared_error: 0.0123\n",
      "Epoch 6/15\n",
      "14/14 [==============================] - 0s 22ms/step - loss: 0.0207 - mean_squared_error: 0.0207\n",
      "Epoch 7/15\n",
      "14/14 [==============================] - 0s 23ms/step - loss: 0.0145 - mean_squared_error: 0.0145\n",
      "Epoch 8/15\n",
      "14/14 [==============================] - 0s 23ms/step - loss: 0.0142 - mean_squared_error: 0.0142\n",
      "Epoch 9/15\n",
      "14/14 [==============================] - 0s 22ms/step - loss: 0.0182 - mean_squared_error: 0.0182\n",
      "Epoch 10/15\n",
      "14/14 [==============================] - 0s 23ms/step - loss: 0.0090 - mean_squared_error: 0.0090\n",
      "Epoch 11/15\n",
      "14/14 [==============================] - 0s 23ms/step - loss: 0.0167 - mean_squared_error: 0.0167\n",
      "Epoch 12/15\n",
      "14/14 [==============================] - 0s 22ms/step - loss: 0.0097 - mean_squared_error: 0.0097\n",
      "Epoch 13/15\n",
      "14/14 [==============================] - 0s 23ms/step - loss: 0.0136 - mean_squared_error: 0.0136\n",
      "Epoch 14/15\n",
      "14/14 [==============================] - 0s 23ms/step - loss: 0.0126 - mean_squared_error: 0.0126\n",
      "Epoch 15/15\n",
      "14/14 [==============================] - 0s 23ms/step - loss: 0.0096 - mean_squared_error: 0.0096\n",
      "TRAINING LSTM_1 FOLD #2\n",
      "Epoch 1/15\n",
      "28/28 [==============================] - 1s 24ms/step - loss: 0.1018 - mean_squared_error: 0.1018\n",
      "Epoch 2/15\n",
      "28/28 [==============================] - 1s 24ms/step - loss: 0.0229 - mean_squared_error: 0.0229\n",
      "Epoch 3/15\n",
      "28/28 [==============================] - 1s 23ms/step - loss: 0.0209 - mean_squared_error: 0.0209\n",
      "Epoch 4/15\n",
      "28/28 [==============================] - 1s 24ms/step - loss: 0.0158 - mean_squared_error: 0.0158\n",
      "Epoch 5/15\n",
      "28/28 [==============================] - 1s 24ms/step - loss: 0.0144 - mean_squared_error: 0.0144\n",
      "Epoch 6/15\n",
      "28/28 [==============================] - 1s 23ms/step - loss: 0.0140 - mean_squared_error: 0.0140\n",
      "Epoch 7/15\n",
      "28/28 [==============================] - 1s 24ms/step - loss: 0.0119 - mean_squared_error: 0.0119\n",
      "Epoch 8/15\n",
      "28/28 [==============================] - 1s 24ms/step - loss: 0.0108 - mean_squared_error: 0.0108\n",
      "Epoch 9/15\n",
      "28/28 [==============================] - 1s 23ms/step - loss: 0.0105 - mean_squared_error: 0.0105\n",
      "Epoch 10/15\n",
      "28/28 [==============================] - 1s 24ms/step - loss: 0.0094 - mean_squared_error: 0.0094\n",
      "Epoch 11/15\n",
      "28/28 [==============================] - 1s 24ms/step - loss: 0.0092 - mean_squared_error: 0.0092 0s - loss: 0.0081 - mean_squared_error\n",
      "Epoch 12/15\n",
      "28/28 [==============================] - 1s 23ms/step - loss: 0.0082 - mean_squared_error: 0.0082\n",
      "Epoch 13/15\n",
      "28/28 [==============================] - 1s 24ms/step - loss: 0.0089 - mean_squared_error: 0.0089\n",
      "Epoch 14/15\n",
      "28/28 [==============================] - 1s 24ms/step - loss: 0.0082 - mean_squared_error: 0.0082\n",
      "Epoch 15/15\n",
      "28/28 [==============================] - 1s 23ms/step - loss: 0.0084 - mean_squared_error: 0.0084\n",
      "TRAINING LSTM_1 FOLD #3\n",
      "Epoch 1/15\n",
      "42/42 [==============================] - 1s 24ms/step - loss: 0.1265 - mean_squared_error: 0.1265\n",
      "Epoch 2/15\n",
      "42/42 [==============================] - 1s 24ms/step - loss: 0.0167 - mean_squared_error: 0.0167\n",
      "Epoch 3/15\n",
      "42/42 [==============================] - 1s 24ms/step - loss: 0.0155 - mean_squared_error: 0.0155\n",
      "Epoch 4/15\n",
      "42/42 [==============================] - 1s 24ms/step - loss: 0.0123 - mean_squared_error: 0.0123\n",
      "Epoch 5/15\n",
      "42/42 [==============================] - 1s 24ms/step - loss: 0.0116 - mean_squared_error: 0.0116\n",
      "Epoch 6/15\n",
      "42/42 [==============================] - 1s 24ms/step - loss: 0.0098 - mean_squared_error: 0.0098\n",
      "Epoch 7/15\n",
      "42/42 [==============================] - 1s 24ms/step - loss: 0.0086 - mean_squared_error: 0.0086\n",
      "Epoch 8/15\n",
      "42/42 [==============================] - 1s 24ms/step - loss: 0.0077 - mean_squared_error: 0.0077\n",
      "Epoch 9/15\n",
      "42/42 [==============================] - 1s 24ms/step - loss: 0.0078 - mean_squared_error: 0.0078\n",
      "Epoch 10/15\n",
      "42/42 [==============================] - 1s 24ms/step - loss: 0.0079 - mean_squared_error: 0.0079\n",
      "Epoch 11/15\n",
      "42/42 [==============================] - 1s 23ms/step - loss: 0.0059 - mean_squared_error: 0.0059\n",
      "Epoch 12/15\n",
      "42/42 [==============================] - 1s 24ms/step - loss: 0.0059 - mean_squared_error: 0.0059\n",
      "Epoch 13/15\n",
      "42/42 [==============================] - 1s 23ms/step - loss: 0.0066 - mean_squared_error: 0.0066\n",
      "Epoch 14/15\n",
      "42/42 [==============================] - 1s 24ms/step - loss: 0.0053 - mean_squared_error: 0.0053\n",
      "Epoch 15/15\n",
      "42/42 [==============================] - 1s 24ms/step - loss: 0.0059 - mean_squared_error: 0.0059\n",
      "TRAINING LSTM_1 FOLD #4\n",
      "Epoch 1/15\n",
      "56/56 [==============================] - 1s 23ms/step - loss: 0.0560 - mean_squared_error: 0.0560\n",
      "Epoch 2/15\n",
      "56/56 [==============================] - 1s 23ms/step - loss: 0.0154 - mean_squared_error: 0.0154\n",
      "Epoch 3/15\n",
      "56/56 [==============================] - 1s 23ms/step - loss: 0.0124 - mean_squared_error: 0.0124\n",
      "Epoch 4/15\n",
      "56/56 [==============================] - 1s 24ms/step - loss: 0.0105 - mean_squared_error: 0.0105\n",
      "Epoch 5/15\n",
      "56/56 [==============================] - 1s 25ms/step - loss: 0.0098 - mean_squared_error: 0.0098\n",
      "Epoch 6/15\n",
      "56/56 [==============================] - 1s 25ms/step - loss: 0.0075 - mean_squared_error: 0.0075\n",
      "Epoch 7/15\n",
      "56/56 [==============================] - 1s 24ms/step - loss: 0.0081 - mean_squared_error: 0.0081\n",
      "Epoch 8/15\n",
      "56/56 [==============================] - 1s 24ms/step - loss: 0.0074 - mean_squared_error: 0.0074\n",
      "Epoch 9/15\n",
      "56/56 [==============================] - 1s 24ms/step - loss: 0.0067 - mean_squared_error: 0.0067\n",
      "Epoch 10/15\n",
      "56/56 [==============================] - 1s 24ms/step - loss: 0.0058 - mean_squared_error: 0.0058\n",
      "Epoch 11/15\n",
      "56/56 [==============================] - 1s 24ms/step - loss: 0.0058 - mean_squared_error: 0.0058\n",
      "Epoch 12/15\n",
      "56/56 [==============================] - 1s 23ms/step - loss: 0.0055 - mean_squared_error: 0.0055\n",
      "Epoch 13/15\n",
      "56/56 [==============================] - 1s 23ms/step - loss: 0.0053 - mean_squared_error: 0.0053\n",
      "Epoch 14/15\n",
      "56/56 [==============================] - 1s 24ms/step - loss: 0.0054 - mean_squared_error: 0.0054\n",
      "Epoch 15/15\n",
      "56/56 [==============================] - 1s 23ms/step - loss: 0.0043 - mean_squared_error: 0.0043\n",
      "TRAINING LSTM_1 FOLD #5\n",
      "Epoch 1/15\n",
      "69/69 [==============================] - 2s 23ms/step - loss: 0.0472 - mean_squared_error: 0.0472\n",
      "Epoch 2/15\n",
      "69/69 [==============================] - 2s 23ms/step - loss: 0.0135 - mean_squared_error: 0.0135\n",
      "Epoch 3/15\n",
      "69/69 [==============================] - 2s 23ms/step - loss: 0.0109 - mean_squared_error: 0.0109\n",
      "Epoch 4/15\n",
      "69/69 [==============================] - 2s 24ms/step - loss: 0.0081 - mean_squared_error: 0.0081\n",
      "Epoch 5/15\n",
      "69/69 [==============================] - 2s 24ms/step - loss: 0.0077 - mean_squared_error: 0.0077\n",
      "Epoch 6/15\n",
      "69/69 [==============================] - 2s 25ms/step - loss: 0.0068 - mean_squared_error: 0.0068\n",
      "Epoch 7/15\n",
      "69/69 [==============================] - 2s 24ms/step - loss: 0.0067 - mean_squared_error: 0.0067\n",
      "Epoch 8/15\n",
      "69/69 [==============================] - 2s 24ms/step - loss: 0.0058 - mean_squared_error: 0.0058\n",
      "Epoch 9/15\n",
      "69/69 [==============================] - 2s 23ms/step - loss: 0.0054 - mean_squared_error: 0.0054\n",
      "Epoch 10/15\n",
      "69/69 [==============================] - 2s 23ms/step - loss: 0.0052 - mean_squared_error: 0.0052\n",
      "Epoch 11/15\n",
      "69/69 [==============================] - 2s 23ms/step - loss: 0.0049 - mean_squared_error: 0.0049\n",
      "Epoch 12/15\n",
      "69/69 [==============================] - 2s 24ms/step - loss: 0.0046 - mean_squared_error: 0.0046\n",
      "Epoch 13/15\n"
     ]
    },
    {
     "name": "stdout",
     "output_type": "stream",
     "text": [
      "69/69 [==============================] - 2s 24ms/step - loss: 0.0043 - mean_squared_error: 0.0043\n",
      "Epoch 14/15\n",
      "69/69 [==============================] - 2s 24ms/step - loss: 0.0040 - mean_squared_error: 0.0040\n",
      "Epoch 15/15\n",
      "69/69 [==============================] - 2s 24ms/step - loss: 0.0040 - mean_squared_error: 0.0040\n",
      "\n",
      "TRAINING TCN_2 FOLD #1\n",
      "Epoch 1/15\n",
      "14/14 [==============================] - 0s 4ms/step - loss: 6.1714 - mean_squared_error: 6.1714\n",
      "Epoch 2/15\n",
      "14/14 [==============================] - 0s 5ms/step - loss: 0.9336 - mean_squared_error: 0.9336\n",
      "Epoch 3/15\n",
      "14/14 [==============================] - 0s 5ms/step - loss: 0.4145 - mean_squared_error: 0.4145\n",
      "Epoch 4/15\n",
      "14/14 [==============================] - 0s 5ms/step - loss: 0.2440 - mean_squared_error: 0.2440\n",
      "Epoch 5/15\n",
      "14/14 [==============================] - 0s 4ms/step - loss: 0.2668 - mean_squared_error: 0.2668\n",
      "Epoch 6/15\n",
      "14/14 [==============================] - 0s 4ms/step - loss: 0.1840 - mean_squared_error: 0.1840\n",
      "Epoch 7/15\n",
      "14/14 [==============================] - 0s 4ms/step - loss: 0.1540 - mean_squared_error: 0.1540\n",
      "Epoch 8/15\n",
      "14/14 [==============================] - 0s 4ms/step - loss: 0.1300 - mean_squared_error: 0.1300\n",
      "Epoch 9/15\n",
      "14/14 [==============================] - 0s 5ms/step - loss: 0.1108 - mean_squared_error: 0.1108\n",
      "Epoch 10/15\n",
      "14/14 [==============================] - 0s 4ms/step - loss: 0.1173 - mean_squared_error: 0.1173\n",
      "Epoch 11/15\n",
      "14/14 [==============================] - 0s 4ms/step - loss: 0.0914 - mean_squared_error: 0.0914\n",
      "Epoch 12/15\n",
      "14/14 [==============================] - 0s 4ms/step - loss: 0.0987 - mean_squared_error: 0.0987\n",
      "Epoch 13/15\n",
      "14/14 [==============================] - 0s 4ms/step - loss: 0.0854 - mean_squared_error: 0.0854\n",
      "Epoch 14/15\n",
      "14/14 [==============================] - 0s 4ms/step - loss: 0.0843 - mean_squared_error: 0.0843\n",
      "Epoch 15/15\n",
      "14/14 [==============================] - 0s 4ms/step - loss: 0.0760 - mean_squared_error: 0.0760\n",
      "TRAINING TCN_2 FOLD #2\n",
      "Epoch 1/15\n",
      "28/28 [==============================] - 0s 4ms/step - loss: 1.8910 - mean_squared_error: 1.8910\n",
      "Epoch 2/15\n",
      "28/28 [==============================] - 0s 4ms/step - loss: 0.1536 - mean_squared_error: 0.1536\n",
      "Epoch 3/15\n",
      "28/28 [==============================] - 0s 4ms/step - loss: 0.1017 - mean_squared_error: 0.1017\n",
      "Epoch 4/15\n",
      "28/28 [==============================] - 0s 4ms/step - loss: 0.0748 - mean_squared_error: 0.0748\n",
      "Epoch 5/15\n",
      "28/28 [==============================] - 0s 4ms/step - loss: 0.0590 - mean_squared_error: 0.0590\n",
      "Epoch 6/15\n",
      "28/28 [==============================] - 0s 4ms/step - loss: 0.0576 - mean_squared_error: 0.0576\n",
      "Epoch 7/15\n",
      "28/28 [==============================] - 0s 4ms/step - loss: 0.0454 - mean_squared_error: 0.0454\n",
      "Epoch 8/15\n",
      "28/28 [==============================] - 0s 4ms/step - loss: 0.0389 - mean_squared_error: 0.0389\n",
      "Epoch 9/15\n",
      "28/28 [==============================] - 0s 4ms/step - loss: 0.0349 - mean_squared_error: 0.0349\n",
      "Epoch 10/15\n",
      "28/28 [==============================] - 0s 4ms/step - loss: 0.0333 - mean_squared_error: 0.0333\n",
      "Epoch 11/15\n",
      "28/28 [==============================] - 0s 4ms/step - loss: 0.0302 - mean_squared_error: 0.0302\n",
      "Epoch 12/15\n",
      "28/28 [==============================] - 0s 4ms/step - loss: 0.0249 - mean_squared_error: 0.0249\n",
      "Epoch 13/15\n",
      "28/28 [==============================] - 0s 4ms/step - loss: 0.0209 - mean_squared_error: 0.0209\n",
      "Epoch 14/15\n",
      "28/28 [==============================] - 0s 4ms/step - loss: 0.0214 - mean_squared_error: 0.0214\n",
      "Epoch 15/15\n",
      "28/28 [==============================] - 0s 4ms/step - loss: 0.0198 - mean_squared_error: 0.0198\n",
      "TRAINING TCN_2 FOLD #3\n",
      "Epoch 1/15\n",
      "42/42 [==============================] - 0s 4ms/step - loss: 1.3323 - mean_squared_error: 1.3323\n",
      "Epoch 2/15\n",
      "42/42 [==============================] - 0s 5ms/step - loss: 0.1398 - mean_squared_error: 0.1398\n",
      "Epoch 3/15\n",
      "42/42 [==============================] - 0s 4ms/step - loss: 0.0907 - mean_squared_error: 0.0907\n",
      "Epoch 4/15\n",
      "42/42 [==============================] - 0s 4ms/step - loss: 0.0643 - mean_squared_error: 0.0643\n",
      "Epoch 5/15\n",
      "42/42 [==============================] - 0s 4ms/step - loss: 0.0514 - mean_squared_error: 0.0514\n",
      "Epoch 6/15\n",
      "42/42 [==============================] - 0s 4ms/step - loss: 0.0407 - mean_squared_error: 0.0407\n",
      "Epoch 7/15\n",
      "42/42 [==============================] - 0s 4ms/step - loss: 0.0366 - mean_squared_error: 0.0366\n",
      "Epoch 8/15\n",
      "42/42 [==============================] - 0s 4ms/step - loss: 0.0298 - mean_squared_error: 0.0298\n",
      "Epoch 9/15\n",
      "42/42 [==============================] - 0s 4ms/step - loss: 0.0256 - mean_squared_error: 0.0256\n",
      "Epoch 10/15\n",
      "42/42 [==============================] - 0s 4ms/step - loss: 0.0215 - mean_squared_error: 0.0215\n",
      "Epoch 11/15\n",
      "42/42 [==============================] - 0s 4ms/step - loss: 0.0196 - mean_squared_error: 0.0196\n",
      "Epoch 12/15\n",
      "42/42 [==============================] - 0s 4ms/step - loss: 0.0175 - mean_squared_error: 0.0175\n",
      "Epoch 13/15\n",
      "42/42 [==============================] - 0s 4ms/step - loss: 0.0151 - mean_squared_error: 0.0151\n",
      "Epoch 14/15\n",
      "42/42 [==============================] - 0s 4ms/step - loss: 0.0136 - mean_squared_error: 0.0136\n",
      "Epoch 15/15\n",
      "42/42 [==============================] - 0s 5ms/step - loss: 0.0122 - mean_squared_error: 0.0122\n",
      "TRAINING TCN_2 FOLD #4\n",
      "Epoch 1/15\n",
      "56/56 [==============================] - 0s 5ms/step - loss: 0.3424 - mean_squared_error: 0.3424\n",
      "Epoch 2/15\n",
      "56/56 [==============================] - 0s 5ms/step - loss: 0.0497 - mean_squared_error: 0.0497\n",
      "Epoch 3/15\n",
      "56/56 [==============================] - 0s 5ms/step - loss: 0.0309 - mean_squared_error: 0.0309\n",
      "Epoch 4/15\n",
      "56/56 [==============================] - 0s 6ms/step - loss: 0.0224 - mean_squared_error: 0.0224\n",
      "Epoch 5/15\n",
      "56/56 [==============================] - 0s 5ms/step - loss: 0.0173 - mean_squared_error: 0.0173\n",
      "Epoch 6/15\n",
      "56/56 [==============================] - 0s 5ms/step - loss: 0.0160 - mean_squared_error: 0.0160\n",
      "Epoch 7/15\n",
      "56/56 [==============================] - 0s 5ms/step - loss: 0.0121 - mean_squared_error: 0.0121\n",
      "Epoch 8/15\n",
      "56/56 [==============================] - 0s 5ms/step - loss: 0.0109 - mean_squared_error: 0.0109\n",
      "Epoch 9/15\n",
      "56/56 [==============================] - 0s 5ms/step - loss: 0.0101 - mean_squared_error: 0.0101\n",
      "Epoch 10/15\n",
      "56/56 [==============================] - 0s 7ms/step - loss: 0.0093 - mean_squared_error: 0.0093\n",
      "Epoch 11/15\n",
      "56/56 [==============================] - 0s 5ms/step - loss: 0.0069 - mean_squared_error: 0.0069\n",
      "Epoch 12/15\n",
      "56/56 [==============================] - 0s 5ms/step - loss: 0.0069 - mean_squared_error: 0.0069\n",
      "Epoch 13/15\n",
      "56/56 [==============================] - 0s 4ms/step - loss: 0.0057 - mean_squared_error: 0.0057\n",
      "Epoch 14/15\n",
      "56/56 [==============================] - 0s 5ms/step - loss: 0.0053 - mean_squared_error: 0.0053\n",
      "Epoch 15/15\n",
      "56/56 [==============================] - 0s 6ms/step - loss: 0.0050 - mean_squared_error: 0.0050\n",
      "TRAINING TCN_2 FOLD #5\n",
      "Epoch 1/15\n",
      "69/69 [==============================] - 0s 5ms/step - loss: 0.4123 - mean_squared_error: 0.4123\n",
      "Epoch 2/15\n",
      "69/69 [==============================] - 0s 5ms/step - loss: 0.0503 - mean_squared_error: 0.0503\n",
      "Epoch 3/15\n",
      "69/69 [==============================] - 0s 5ms/step - loss: 0.0312 - mean_squared_error: 0.0312\n",
      "Epoch 4/15\n",
      "69/69 [==============================] - 0s 5ms/step - loss: 0.0246 - mean_squared_error: 0.0246\n",
      "Epoch 5/15\n",
      "69/69 [==============================] - 0s 5ms/step - loss: 0.0189 - mean_squared_error: 0.0189\n",
      "Epoch 6/15\n",
      "69/69 [==============================] - 0s 5ms/step - loss: 0.0144 - mean_squared_error: 0.0144\n",
      "Epoch 7/15\n",
      "69/69 [==============================] - 0s 6ms/step - loss: 0.0123 - mean_squared_error: 0.0123\n",
      "Epoch 8/15\n",
      "69/69 [==============================] - 0s 5ms/step - loss: 0.0103 - mean_squared_error: 0.0103\n",
      "Epoch 9/15\n",
      "69/69 [==============================] - 0s 5ms/step - loss: 0.0089 - mean_squared_error: 0.0089\n",
      "Epoch 10/15\n",
      "69/69 [==============================] - 0s 5ms/step - loss: 0.0075 - mean_squared_error: 0.0075\n",
      "Epoch 11/15\n",
      "69/69 [==============================] - 0s 5ms/step - loss: 0.0064 - mean_squared_error: 0.0064\n",
      "Epoch 12/15\n"
     ]
    },
    {
     "name": "stdout",
     "output_type": "stream",
     "text": [
      "69/69 [==============================] - 0s 5ms/step - loss: 0.0057 - mean_squared_error: 0.0057\n",
      "Epoch 13/15\n",
      "69/69 [==============================] - 0s 4ms/step - loss: 0.0053 - mean_squared_error: 0.0053\n",
      "Epoch 14/15\n",
      "69/69 [==============================] - 0s 5ms/step - loss: 0.0050 - mean_squared_error: 0.0050\n",
      "Epoch 15/15\n",
      "69/69 [==============================] - 0s 5ms/step - loss: 0.0043 - mean_squared_error: 0.0043\n"
     ]
    }
   ],
   "source": [
    "regression_ensemble, regression_table = ensemble.regression(primary_dataset, config)"
   ]
  },
  {
   "cell_type": "code",
   "execution_count": 11,
   "metadata": {},
   "outputs": [
    {
     "data": {
      "text/html": [
       "<div>\n",
       "<style scoped>\n",
       "    .dataframe tbody tr th:only-of-type {\n",
       "        vertical-align: middle;\n",
       "    }\n",
       "\n",
       "    .dataframe tbody tr th {\n",
       "        vertical-align: top;\n",
       "    }\n",
       "\n",
       "    .dataframe thead th {\n",
       "        text-align: right;\n",
       "    }\n",
       "</style>\n",
       "<table border=\"1\" class=\"dataframe\">\n",
       "  <thead>\n",
       "    <tr style=\"text-align: right;\">\n",
       "      <th></th>\n",
       "      <th>linreg_0</th>\n",
       "      <th>lstm_1</th>\n",
       "      <th>tcn_2</th>\n",
       "      <th>label</th>\n",
       "    </tr>\n",
       "  </thead>\n",
       "  <tbody>\n",
       "    <tr>\n",
       "      <th>0</th>\n",
       "      <td>1.415414</td>\n",
       "      <td>1.290080</td>\n",
       "      <td>1.182397</td>\n",
       "      <td>1.40686</td>\n",
       "    </tr>\n",
       "    <tr>\n",
       "      <th>1</th>\n",
       "      <td>1.411078</td>\n",
       "      <td>1.285593</td>\n",
       "      <td>1.195333</td>\n",
       "      <td>1.41436</td>\n",
       "    </tr>\n",
       "    <tr>\n",
       "      <th>2</th>\n",
       "      <td>1.419328</td>\n",
       "      <td>1.285042</td>\n",
       "      <td>1.260293</td>\n",
       "      <td>1.43163</td>\n",
       "    </tr>\n",
       "    <tr>\n",
       "      <th>3</th>\n",
       "      <td>1.433976</td>\n",
       "      <td>1.294058</td>\n",
       "      <td>1.396100</td>\n",
       "      <td>1.42894</td>\n",
       "    </tr>\n",
       "    <tr>\n",
       "      <th>4</th>\n",
       "      <td>1.422776</td>\n",
       "      <td>1.288351</td>\n",
       "      <td>1.548195</td>\n",
       "      <td>1.43328</td>\n",
       "    </tr>\n",
       "  </tbody>\n",
       "</table>\n",
       "</div>"
      ],
      "text/plain": [
       "   linreg_0    lstm_1     tcn_2    label\n",
       "0  1.415414  1.290080  1.182397  1.40686\n",
       "1  1.411078  1.285593  1.195333  1.41436\n",
       "2  1.419328  1.285042  1.260293  1.43163\n",
       "3  1.433976  1.294058  1.396100  1.42894\n",
       "4  1.422776  1.288351  1.548195  1.43328"
      ]
     },
     "execution_count": 11,
     "metadata": {},
     "output_type": "execute_result"
    }
   ],
   "source": [
    "regression_table.head(5)"
   ]
  },
  {
   "cell_type": "markdown",
   "metadata": {},
   "source": [
    "### STEP 6: CREATE DECISION MACHINE & PUT LABELS THROUGH IT"
   ]
  },
  {
   "cell_type": "code",
   "execution_count": 12,
   "metadata": {},
   "outputs": [],
   "source": [
    "decision_machine = misc.decision_machine()"
   ]
  },
  {
   "cell_type": "code",
   "execution_count": 13,
   "metadata": {},
   "outputs": [],
   "source": [
    "regression_labels = decision_machine.calibrate(\n",
    "    regression_table,\n",
    "    config['classification_ensemble']['decision']\n",
    ")"
   ]
  },
  {
   "cell_type": "code",
   "execution_count": 14,
   "metadata": {},
   "outputs": [],
   "source": [
    "labeled_regression_table = misc.replace_labels(\n",
    "    regression_table,\n",
    "    regression_labels\n",
    ")"
   ]
  },
  {
   "cell_type": "code",
   "execution_count": 15,
   "metadata": {},
   "outputs": [],
   "source": [
    "# BUY   = 0\n",
    "# SELL  = 1\n",
    "# HOLD  = 2"
   ]
  },
  {
   "cell_type": "code",
   "execution_count": 16,
   "metadata": {},
   "outputs": [
    {
     "data": {
      "text/html": [
       "<div>\n",
       "<style scoped>\n",
       "    .dataframe tbody tr th:only-of-type {\n",
       "        vertical-align: middle;\n",
       "    }\n",
       "\n",
       "    .dataframe tbody tr th {\n",
       "        vertical-align: top;\n",
       "    }\n",
       "\n",
       "    .dataframe thead th {\n",
       "        text-align: right;\n",
       "    }\n",
       "</style>\n",
       "<table border=\"1\" class=\"dataframe\">\n",
       "  <thead>\n",
       "    <tr style=\"text-align: right;\">\n",
       "      <th></th>\n",
       "      <th>linreg_0</th>\n",
       "      <th>lstm_1</th>\n",
       "      <th>tcn_2</th>\n",
       "      <th>label</th>\n",
       "    </tr>\n",
       "  </thead>\n",
       "  <tbody>\n",
       "    <tr>\n",
       "      <th>0</th>\n",
       "      <td>1.415414</td>\n",
       "      <td>1.290080</td>\n",
       "      <td>1.182397</td>\n",
       "      <td>2</td>\n",
       "    </tr>\n",
       "    <tr>\n",
       "      <th>1</th>\n",
       "      <td>1.411078</td>\n",
       "      <td>1.285593</td>\n",
       "      <td>1.195333</td>\n",
       "      <td>1</td>\n",
       "    </tr>\n",
       "    <tr>\n",
       "      <th>2</th>\n",
       "      <td>1.419328</td>\n",
       "      <td>1.285042</td>\n",
       "      <td>1.260293</td>\n",
       "      <td>1</td>\n",
       "    </tr>\n",
       "    <tr>\n",
       "      <th>3</th>\n",
       "      <td>1.433976</td>\n",
       "      <td>1.294058</td>\n",
       "      <td>1.396100</td>\n",
       "      <td>2</td>\n",
       "    </tr>\n",
       "    <tr>\n",
       "      <th>4</th>\n",
       "      <td>1.422776</td>\n",
       "      <td>1.288351</td>\n",
       "      <td>1.548195</td>\n",
       "      <td>1</td>\n",
       "    </tr>\n",
       "  </tbody>\n",
       "</table>\n",
       "</div>"
      ],
      "text/plain": [
       "   linreg_0    lstm_1     tcn_2  label\n",
       "0  1.415414  1.290080  1.182397      2\n",
       "1  1.411078  1.285593  1.195333      1\n",
       "2  1.419328  1.285042  1.260293      1\n",
       "3  1.433976  1.294058  1.396100      2\n",
       "4  1.422776  1.288351  1.548195      1"
      ]
     },
     "execution_count": 16,
     "metadata": {},
     "output_type": "execute_result"
    }
   ],
   "source": [
    "labeled_regression_table.head(5)"
   ]
  },
  {
   "cell_type": "markdown",
   "metadata": {},
   "source": [
    "### DECISION BREAKDOWN"
   ]
  },
  {
   "cell_type": "code",
   "execution_count": 17,
   "metadata": {},
   "outputs": [
    {
     "data": {
      "text/plain": [
       "2    0.500483\n",
       "1    0.249758\n",
       "0    0.249758\n",
       "Name: label, dtype: float64"
      ]
     },
     "execution_count": 17,
     "metadata": {},
     "output_type": "execute_result"
    }
   ],
   "source": [
    "labeled_regression_table['label'].value_counts(normalize=True)"
   ]
  },
  {
   "cell_type": "code",
   "execution_count": 18,
   "metadata": {},
   "outputs": [],
   "source": [
    "storage.save_pickle(labeled_regression_table, 'extra/cls-train.pickle')"
   ]
  },
  {
   "cell_type": "markdown",
   "metadata": {},
   "source": [
    "### STEP 7: TRAIN THE CLASSIFIER ENSEMBLE"
   ]
  },
  {
   "cell_type": "code",
   "execution_count": 19,
   "metadata": {
    "scrolled": false
   },
   "outputs": [
    {
     "name": "stdout",
     "output_type": "stream",
     "text": [
      "TRAINING RANDFOREST_0 MODEL\n",
      "TRAINING LOGREG_1 MODEL\n",
      "TRAINING SVC_2 MODEL\n"
     ]
    }
   ],
   "source": [
    "classifier_ensemble = ensemble.classifier(\n",
    "    labeled_regression_table,\n",
    "    config\n",
    ")"
   ]
  },
  {
   "cell_type": "markdown",
   "metadata": {},
   "source": [
    "### STEP 8: REGRESSION PREDICT ON TEST DATASET"
   ]
  },
  {
   "cell_type": "code",
   "execution_count": 20,
   "metadata": {
    "scrolled": false
   },
   "outputs": [],
   "source": [
    "test_predictions = regression_ensemble.predict(primary_dataset['test'])"
   ]
  },
  {
   "cell_type": "code",
   "execution_count": 21,
   "metadata": {},
   "outputs": [
    {
     "data": {
      "text/html": [
       "<div>\n",
       "<style scoped>\n",
       "    .dataframe tbody tr th:only-of-type {\n",
       "        vertical-align: middle;\n",
       "    }\n",
       "\n",
       "    .dataframe tbody tr th {\n",
       "        vertical-align: top;\n",
       "    }\n",
       "\n",
       "    .dataframe thead th {\n",
       "        text-align: right;\n",
       "    }\n",
       "</style>\n",
       "<table border=\"1\" class=\"dataframe\">\n",
       "  <thead>\n",
       "    <tr style=\"text-align: right;\">\n",
       "      <th></th>\n",
       "      <th>linreg_0</th>\n",
       "      <th>lstm_1</th>\n",
       "      <th>tcn_2</th>\n",
       "    </tr>\n",
       "  </thead>\n",
       "  <tbody>\n",
       "    <tr>\n",
       "      <th>0</th>\n",
       "      <td>1.196712</td>\n",
       "      <td>1.120126</td>\n",
       "      <td>1.148302</td>\n",
       "    </tr>\n",
       "    <tr>\n",
       "      <th>1</th>\n",
       "      <td>1.200233</td>\n",
       "      <td>1.117770</td>\n",
       "      <td>1.144689</td>\n",
       "    </tr>\n",
       "    <tr>\n",
       "      <th>2</th>\n",
       "      <td>1.208944</td>\n",
       "      <td>1.121186</td>\n",
       "      <td>1.161010</td>\n",
       "    </tr>\n",
       "    <tr>\n",
       "      <th>3</th>\n",
       "      <td>1.220007</td>\n",
       "      <td>1.129053</td>\n",
       "      <td>1.131946</td>\n",
       "    </tr>\n",
       "    <tr>\n",
       "      <th>4</th>\n",
       "      <td>1.218342</td>\n",
       "      <td>1.147335</td>\n",
       "      <td>1.203475</td>\n",
       "    </tr>\n",
       "  </tbody>\n",
       "</table>\n",
       "</div>"
      ],
      "text/plain": [
       "   linreg_0    lstm_1     tcn_2\n",
       "0  1.196712  1.120126  1.148302\n",
       "1  1.200233  1.117770  1.144689\n",
       "2  1.208944  1.121186  1.161010\n",
       "3  1.220007  1.129053  1.131946\n",
       "4  1.218342  1.147335  1.203475"
      ]
     },
     "execution_count": 21,
     "metadata": {},
     "output_type": "execute_result"
    }
   ],
   "source": [
    "test_predictions.head(5)"
   ]
  },
  {
   "cell_type": "markdown",
   "metadata": {},
   "source": [
    "### STEP 10: ADD LABELS TO TEST PREDICTIONS"
   ]
  },
  {
   "cell_type": "code",
   "execution_count": 25,
   "metadata": {},
   "outputs": [],
   "source": [
    "test_results = test_predictions.copy()"
   ]
  },
  {
   "cell_type": "code",
   "execution_count": 26,
   "metadata": {},
   "outputs": [],
   "source": [
    "test_results['label'] = primary_dataset['test']['labels'][-len(test_results):]"
   ]
  },
  {
   "cell_type": "code",
   "execution_count": 39,
   "metadata": {},
   "outputs": [
    {
     "data": {
      "text/html": [
       "<div>\n",
       "<style scoped>\n",
       "    .dataframe tbody tr th:only-of-type {\n",
       "        vertical-align: middle;\n",
       "    }\n",
       "\n",
       "    .dataframe tbody tr th {\n",
       "        vertical-align: top;\n",
       "    }\n",
       "\n",
       "    .dataframe thead th {\n",
       "        text-align: right;\n",
       "    }\n",
       "</style>\n",
       "<table border=\"1\" class=\"dataframe\">\n",
       "  <thead>\n",
       "    <tr style=\"text-align: right;\">\n",
       "      <th></th>\n",
       "      <th>linreg_0</th>\n",
       "      <th>lstm_1</th>\n",
       "      <th>tcn_2</th>\n",
       "      <th>label</th>\n",
       "    </tr>\n",
       "  </thead>\n",
       "  <tbody>\n",
       "    <tr>\n",
       "      <th>0</th>\n",
       "      <td>1.196712</td>\n",
       "      <td>1.120126</td>\n",
       "      <td>1.148302</td>\n",
       "      <td>1.19558</td>\n",
       "    </tr>\n",
       "    <tr>\n",
       "      <th>1</th>\n",
       "      <td>1.200233</td>\n",
       "      <td>1.117770</td>\n",
       "      <td>1.144689</td>\n",
       "      <td>1.20427</td>\n",
       "    </tr>\n",
       "    <tr>\n",
       "      <th>2</th>\n",
       "      <td>1.208944</td>\n",
       "      <td>1.121186</td>\n",
       "      <td>1.161010</td>\n",
       "      <td>1.21993</td>\n",
       "    </tr>\n",
       "    <tr>\n",
       "      <th>3</th>\n",
       "      <td>1.220007</td>\n",
       "      <td>1.129053</td>\n",
       "      <td>1.131946</td>\n",
       "      <td>1.21919</td>\n",
       "    </tr>\n",
       "    <tr>\n",
       "      <th>4</th>\n",
       "      <td>1.218342</td>\n",
       "      <td>1.147335</td>\n",
       "      <td>1.203475</td>\n",
       "      <td>1.22665</td>\n",
       "    </tr>\n",
       "  </tbody>\n",
       "</table>\n",
       "</div>"
      ],
      "text/plain": [
       "   linreg_0    lstm_1     tcn_2    label\n",
       "0  1.196712  1.120126  1.148302  1.19558\n",
       "1  1.200233  1.117770  1.144689  1.20427\n",
       "2  1.208944  1.121186  1.161010  1.21993\n",
       "3  1.220007  1.129053  1.131946  1.21919\n",
       "4  1.218342  1.147335  1.203475  1.22665"
      ]
     },
     "execution_count": 39,
     "metadata": {},
     "output_type": "execute_result"
    }
   ],
   "source": [
    "test_results.head(5)"
   ]
  },
  {
   "cell_type": "markdown",
   "metadata": {},
   "source": [
    "### STEP 9: CLASSIFY PREDICT ON REGRESSION DATASET"
   ]
  },
  {
   "cell_type": "code",
   "execution_count": 22,
   "metadata": {},
   "outputs": [],
   "source": [
    "mash_dataset = {\n",
    "    'features': test_predictions.to_numpy(),\n",
    "    'labels': []\n",
    "}"
   ]
  },
  {
   "cell_type": "code",
   "execution_count": 23,
   "metadata": {},
   "outputs": [],
   "source": [
    "cls_dataset = classifier_ensemble.predict(mash_dataset)"
   ]
  },
  {
   "cell_type": "code",
   "execution_count": 24,
   "metadata": {},
   "outputs": [
    {
     "data": {
      "text/html": [
       "<div>\n",
       "<style scoped>\n",
       "    .dataframe tbody tr th:only-of-type {\n",
       "        vertical-align: middle;\n",
       "    }\n",
       "\n",
       "    .dataframe tbody tr th {\n",
       "        vertical-align: top;\n",
       "    }\n",
       "\n",
       "    .dataframe thead th {\n",
       "        text-align: right;\n",
       "    }\n",
       "</style>\n",
       "<table border=\"1\" class=\"dataframe\">\n",
       "  <thead>\n",
       "    <tr style=\"text-align: right;\">\n",
       "      <th></th>\n",
       "      <th>randforest_0</th>\n",
       "      <th>logreg_1</th>\n",
       "      <th>svc_2</th>\n",
       "    </tr>\n",
       "  </thead>\n",
       "  <tbody>\n",
       "    <tr>\n",
       "      <th>0</th>\n",
       "      <td>0</td>\n",
       "      <td>1</td>\n",
       "      <td>2</td>\n",
       "    </tr>\n",
       "    <tr>\n",
       "      <th>1</th>\n",
       "      <td>0</td>\n",
       "      <td>1</td>\n",
       "      <td>2</td>\n",
       "    </tr>\n",
       "    <tr>\n",
       "      <th>2</th>\n",
       "      <td>0</td>\n",
       "      <td>1</td>\n",
       "      <td>2</td>\n",
       "    </tr>\n",
       "    <tr>\n",
       "      <th>3</th>\n",
       "      <td>0</td>\n",
       "      <td>1</td>\n",
       "      <td>2</td>\n",
       "    </tr>\n",
       "    <tr>\n",
       "      <th>4</th>\n",
       "      <td>2</td>\n",
       "      <td>0</td>\n",
       "      <td>2</td>\n",
       "    </tr>\n",
       "  </tbody>\n",
       "</table>\n",
       "</div>"
      ],
      "text/plain": [
       "   randforest_0  logreg_1  svc_2\n",
       "0             0         1      2\n",
       "1             0         1      2\n",
       "2             0         1      2\n",
       "3             0         1      2\n",
       "4             2         0      2"
      ]
     },
     "execution_count": 24,
     "metadata": {},
     "output_type": "execute_result"
    }
   ],
   "source": [
    "cls_dataset.head(5)"
   ]
  },
  {
   "cell_type": "markdown",
   "metadata": {},
   "source": [
    "### STEP 10: ADD CLASSIFIED LABELS TO IT"
   ]
  },
  {
   "cell_type": "code",
   "execution_count": 37,
   "metadata": {},
   "outputs": [],
   "source": [
    "classified_labels = decision_machine.convert(test_results)"
   ]
  },
  {
   "cell_type": "code",
   "execution_count": 41,
   "metadata": {},
   "outputs": [],
   "source": [
    "cls_dataset['label'] = classified_labels"
   ]
  },
  {
   "cell_type": "code",
   "execution_count": 48,
   "metadata": {},
   "outputs": [
    {
     "data": {
      "text/html": [
       "<div>\n",
       "<style scoped>\n",
       "    .dataframe tbody tr th:only-of-type {\n",
       "        vertical-align: middle;\n",
       "    }\n",
       "\n",
       "    .dataframe tbody tr th {\n",
       "        vertical-align: top;\n",
       "    }\n",
       "\n",
       "    .dataframe thead th {\n",
       "        text-align: right;\n",
       "    }\n",
       "</style>\n",
       "<table border=\"1\" class=\"dataframe\">\n",
       "  <thead>\n",
       "    <tr style=\"text-align: right;\">\n",
       "      <th></th>\n",
       "      <th>randforest_0</th>\n",
       "      <th>logreg_1</th>\n",
       "      <th>svc_2</th>\n",
       "      <th>label</th>\n",
       "    </tr>\n",
       "  </thead>\n",
       "  <tbody>\n",
       "    <tr>\n",
       "      <th>0</th>\n",
       "      <td>0</td>\n",
       "      <td>1</td>\n",
       "      <td>2</td>\n",
       "      <td>2</td>\n",
       "    </tr>\n",
       "    <tr>\n",
       "      <th>1</th>\n",
       "      <td>0</td>\n",
       "      <td>1</td>\n",
       "      <td>2</td>\n",
       "      <td>1</td>\n",
       "    </tr>\n",
       "    <tr>\n",
       "      <th>2</th>\n",
       "      <td>0</td>\n",
       "      <td>1</td>\n",
       "      <td>2</td>\n",
       "      <td>1</td>\n",
       "    </tr>\n",
       "    <tr>\n",
       "      <th>3</th>\n",
       "      <td>0</td>\n",
       "      <td>1</td>\n",
       "      <td>2</td>\n",
       "      <td>2</td>\n",
       "    </tr>\n",
       "    <tr>\n",
       "      <th>4</th>\n",
       "      <td>2</td>\n",
       "      <td>0</td>\n",
       "      <td>2</td>\n",
       "      <td>1</td>\n",
       "    </tr>\n",
       "  </tbody>\n",
       "</table>\n",
       "</div>"
      ],
      "text/plain": [
       "   randforest_0  logreg_1  svc_2  label\n",
       "0             0         1      2      2\n",
       "1             0         1      2      1\n",
       "2             0         1      2      1\n",
       "3             0         1      2      2\n",
       "4             2         0      2      1"
      ]
     },
     "execution_count": 48,
     "metadata": {},
     "output_type": "execute_result"
    }
   ],
   "source": [
    "cls_dataset.head(5)"
   ]
  },
  {
   "cell_type": "markdown",
   "metadata": {},
   "source": [
    "### CONFUSION MATRIX TESTING"
   ]
  },
  {
   "cell_type": "code",
   "execution_count": 67,
   "metadata": {},
   "outputs": [],
   "source": [
    "from sklearn.metrics import confusion_matrix"
   ]
  },
  {
   "cell_type": "code",
   "execution_count": 68,
   "metadata": {},
   "outputs": [],
   "source": [
    "second = cls_dataset['logreg_1'].to_numpy()"
   ]
  },
  {
   "cell_type": "code",
   "execution_count": 69,
   "metadata": {},
   "outputs": [],
   "source": [
    "conf_matrix = confusion_matrix(first, second)"
   ]
  },
  {
   "cell_type": "code",
   "execution_count": 70,
   "metadata": {},
   "outputs": [
    {
     "data": {
      "text/plain": [
       "array([[ 55,  61,   3],\n",
       "       [ 48,  58,   8],\n",
       "       [198, 174,  13]], dtype=int64)"
      ]
     },
     "execution_count": 70,
     "metadata": {},
     "output_type": "execute_result"
    }
   ],
   "source": [
    "conf_matrix"
   ]
  },
  {
   "cell_type": "markdown",
   "metadata": {},
   "source": [
    "### STEP 11: STITCH TOGETHER REGRESSION FITTINGS"
   ]
  },
  {
   "cell_type": "code",
   "execution_count": 27,
   "metadata": {},
   "outputs": [],
   "source": [
    "regression_fitting = {}"
   ]
  },
  {
   "cell_type": "code",
   "execution_count": 28,
   "metadata": {},
   "outputs": [],
   "source": [
    "for blob in regression_ensemble.models:\n",
    "    collection = {}\n",
    "    for index, model in enumerate(blob):\n",
    "        collection['fold_' + str(index)] = model.score\n",
    "        \n",
    "    regression_fitting[model.name] = collection"
   ]
  },
  {
   "cell_type": "markdown",
   "metadata": {},
   "source": [
    "### STEP 12: STITCH TOGETHER CLASSIFIER FITTINGS"
   ]
  },
  {
   "cell_type": "code",
   "execution_count": 29,
   "metadata": {},
   "outputs": [],
   "source": [
    "classifier_fitting = {}"
   ]
  },
  {
   "cell_type": "code",
   "execution_count": 30,
   "metadata": {},
   "outputs": [],
   "source": [
    "for model in classifier_ensemble.models:\n",
    "    classifier_fitting[model.name] = model.score"
   ]
  },
  {
   "cell_type": "markdown",
   "metadata": {},
   "source": [
    "### STEP X: SAVE EVERYTHING"
   ]
  },
  {
   "cell_type": "code",
   "execution_count": 31,
   "metadata": {},
   "outputs": [],
   "source": [
    "storage.save_pipeline({\n",
    "    'config': config,\n",
    "    'regression_ensemble': regression_ensemble,\n",
    "    'classifier_ensemble': classifier_ensemble,\n",
    "    'predictions': {\n",
    "        'training': json.loads(regression_table.to_json()),\n",
    "        'validation': json.loads(test_results.to_json())\n",
    "    },\n",
    "    'fittings': {\n",
    "        'regression': regression_fitting,\n",
    "        'classifier': classifier_fitting\n",
    "    }\n",
    "})"
   ]
  },
  {
   "cell_type": "code",
   "execution_count": null,
   "metadata": {},
   "outputs": [],
   "source": []
  }
 ],
 "metadata": {
  "kernelspec": {
   "display_name": "Python 3",
   "language": "python",
   "name": "python3"
  },
  "language_info": {
   "codemirror_mode": {
    "name": "ipython",
    "version": 3
   },
   "file_extension": ".py",
   "mimetype": "text/x-python",
   "name": "python",
   "nbconvert_exporter": "python",
   "pygments_lexer": "ipython3",
   "version": "3.7.9"
  }
 },
 "nbformat": 4,
 "nbformat_minor": 4
}
