{
 "cells": [
  {
   "cell_type": "code",
   "execution_count": 1,
   "metadata": {},
   "outputs": [],
   "source": [
    "import numpy as np"
   ]
  },
  {
   "cell_type": "markdown",
   "metadata": {},
   "source": [
    "### HELPERS"
   ]
  },
  {
   "cell_type": "code",
   "execution_count": 6,
   "metadata": {},
   "outputs": [],
   "source": [
    "# BUY   = 0\n",
    "# SELL  = 1\n",
    "# HOLD  = 2"
   ]
  },
  {
   "cell_type": "code",
   "execution_count": 9,
   "metadata": {},
   "outputs": [],
   "source": [
    "def threshold_vote(labels, settings):\n",
    "    container = []\n",
    "    \n",
    "    # THRESHOLD DECIMAL\n",
    "    threshold = settings['threshold']\n",
    "    \n",
    "    # LOOP THROUGH LABELS\n",
    "    for label in labels:\n",
    "        \n",
    "        # BUY\n",
    "        if label > threshold:\n",
    "            container.append(0)\n",
    "            \n",
    "        # SELL\n",
    "        elif label < -threshold:\n",
    "            container.append(1)\n",
    "            \n",
    "        # HOLD\n",
    "        else:\n",
    "            container.append(2)\n",
    "            \n",
    "    return container"
   ]
  },
  {
   "cell_type": "code",
   "execution_count": 11,
   "metadata": {},
   "outputs": [],
   "source": [
    "def quantile_vote(labels, settings):\n",
    "    container = []\n",
    "    \n",
    "    # QUANTILE THRESHOLDS\n",
    "    lower_threshold = labels.quantile(settings['lower'])\n",
    "    upper_threshold = labels.quantile(settings['upper'])\n",
    "    \n",
    "    # LOOP THROUGH LABELS\n",
    "    for label in labels:\n",
    "        \n",
    "        # BUY\n",
    "        if (label < lower_threshold):\n",
    "            container.append(0)\n",
    "            \n",
    "        # SELL\n",
    "        elif label > upper_threshold:\n",
    "            container.append(1)\n",
    "            \n",
    "        # HOLD\n",
    "        else:\n",
    "            container.append(2)\n",
    "            \n",
    "    return container"
   ]
  },
  {
   "cell_type": "markdown",
   "metadata": {},
   "source": [
    "### PRIMARY"
   ]
  },
  {
   "cell_type": "code",
   "execution_count": 8,
   "metadata": {},
   "outputs": [],
   "source": [
    "def label(params):\n",
    "    \n",
    "    # DECONSTRUCT PARAMS\n",
    "    original = params['predictions']\n",
    "    settings = params['settings']\n",
    "    \n",
    "    # CLONE THE ORIGINAL\n",
    "    dataframe = original.copy()\n",
    "    \n",
    "    # GET LOG RETURN FROM LABEL COLUMN\n",
    "    labels = np.log(dataframe['label'] / dataframe['label'].shift(1))\n",
    "    \n",
    "    # LABEL VOTE CONTAINER\n",
    "    votes = []\n",
    "        \n",
    "    # VOTE VIA THRESHOLD\n",
    "    if settings['name'] == 'threshold':\n",
    "        votes = threshold_vote(labels, settings)\n",
    "\n",
    "    # VOTE VIA QUANTILE - TBA\n",
    "    elif settings['name'] == 'quantile':\n",
    "        votes = quantile_vote(labels, settings)\n",
    "    \n",
    "    # REPLACE THE OLD LABELS\n",
    "    dataframe['label'] = votes\n",
    "    \n",
    "    return dataframe"
   ]
  },
  {
   "cell_type": "code",
   "execution_count": null,
   "metadata": {},
   "outputs": [],
   "source": []
  }
 ],
 "metadata": {
  "kernelspec": {
   "display_name": "Python 3",
   "language": "python",
   "name": "python3"
  },
  "language_info": {
   "codemirror_mode": {
    "name": "ipython",
    "version": 3
   },
   "file_extension": ".py",
   "mimetype": "text/x-python",
   "name": "python",
   "nbconvert_exporter": "python",
   "pygments_lexer": "ipython3",
   "version": "3.7.9"
  }
 },
 "nbformat": 4,
 "nbformat_minor": 4
}
